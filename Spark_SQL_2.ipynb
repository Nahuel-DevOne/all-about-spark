{
  "cells": [
    {
      "cell_type": "markdown",
      "metadata": {
        "id": "IhqAQ_OOKTXl"
      },
      "source": [
        "# **Spark SQL Avanzado**"
      ]
    },
    {
      "cell_type": "markdown",
      "metadata": {
        "id": "_zJeZZqpJu73"
      },
      "source": [
        "## Introducción"
      ]
    },
    {
      "cell_type": "markdown",
      "metadata": {
        "id": "Ojkkv5J5rwg-"
      },
      "source": [
        "### `Ventajas y desventajas de trabajar con Spark en Google Colab`"
      ]
    },
    {
      "cell_type": "markdown",
      "metadata": {
        "id": "AzJLfwssmyU6"
      },
      "source": [
        "Ventajas:\n",
        "- Fácil acceso\n",
        "- Ejecutar Spark en prácticamente cualquier dispositivo, los recursos están en la nube.\n",
        "- Como los recursos están la nube, no hay que preocuparse por los recursos de hardware\n",
        "- Trabajo en equipo, más sencillo el trabajo colaborativo. Varias personas pueden trabajar sobre un mismo notebook.\n",
        "\n",
        "\n",
        "Desventajas:\n",
        "- No se guardan las configuraciones de Spark luego de un tiempo\n",
        "> No obstante el notebook permanece intacto. Se puede volver a ejecutar las líneas de código para tener la configuración nuevamente.\n",
        "- Escalabilidad, como el servicio es gratuito, los recursos son limitados.\n",
        "> Para llevarlo a ambientes productivos, necesitamos una infraestructura capaz de brindarnos estas especificaciones."
      ]
    },
    {
      "cell_type": "markdown",
      "metadata": {
        "id": "CqjAFIHMJoQc"
      },
      "source": [
        "## Instalaciones Necesarias para trabajar con Spark en Colab"
      ]
    },
    {
      "cell_type": "markdown",
      "metadata": {
        "id": "LccNQX8WMBtl"
      },
      "source": [
        "### `Descarga e instalación de Apache Spark en Colab`\n",
        "Se explica celda por celda las instalaciones necesarias. Para fines prácticos, utilizar la celda de abajo que instala todo junto."
      ]
    },
    {
      "cell_type": "code",
      "execution_count": null,
      "metadata": {
        "id": "JPNdekO7KHTp"
      },
      "outputs": [],
      "source": [
        "# Instalar SDK Java 8\n",
        "!apt-get install openjdk-8-jdk-headless -qq > /dev/null"
      ]
    },
    {
      "cell_type": "code",
      "execution_count": null,
      "metadata": {
        "id": "peqw7BfRKjHE"
      },
      "outputs": [],
      "source": [
        "# Descargar Spark 3.2.4\n",
        "!wget -q https://archive.apache.org/dist/spark/spark-3.2.4/spark-3.2.4-bin-hadoop3.2.tgz"
      ]
    },
    {
      "cell_type": "code",
      "execution_count": null,
      "metadata": {
        "id": "wIsOwRkJKjEi"
      },
      "outputs": [],
      "source": [
        "# Descomprimir el archivo descargado de Spark\n",
        "!tar xf spark-3.2.4-bin-hadoop3.2.tgz"
      ]
    },
    {
      "cell_type": "code",
      "execution_count": null,
      "metadata": {
        "id": "sUtXLbwuKjBH"
      },
      "outputs": [],
      "source": [
        "# Establecer las variables de entorno\n",
        "import os\n",
        "\n",
        "os.environ[\"JAVA_HOME\"] = \"/usr/lib/jvm/java-8-openjdk-amd64\"\n",
        "os.environ[\"SPARK_HOME\"] = \"/content/spark-3.2.4-bin-hadoop3.2\""
      ]
    },
    {
      "cell_type": "code",
      "execution_count": null,
      "metadata": {
        "id": "oMM5SJEPKi_X"
      },
      "outputs": [],
      "source": [
        "# Instalar la librería findspark\n",
        "!pip install -q findspark"
      ]
    },
    {
      "cell_type": "code",
      "execution_count": null,
      "metadata": {
        "colab": {
          "base_uri": "https://localhost:8080/"
        },
        "id": "51AZCLcVKi9x",
        "outputId": "f9126ed1-b460-4e91-ea89-35223d84a511"
      },
      "outputs": [
        {
          "name": "stdout",
          "output_type": "stream",
          "text": [
            "\u001b[2K     \u001b[90m━━━━━━━━━━━━━━━━━━━━━━━━━━━━━━━━━━━━━━━━\u001b[0m \u001b[32m316.9/316.9 MB\u001b[0m \u001b[31m2.3 MB/s\u001b[0m eta \u001b[36m0:00:00\u001b[0m\n",
            "\u001b[?25h  Preparing metadata (setup.py) ... \u001b[?25l\u001b[?25hdone\n",
            "  Building wheel for pyspark (setup.py) ... \u001b[?25l\u001b[?25hdone\n"
          ]
        }
      ],
      "source": [
        "# Instalar pyspark\n",
        "!pip install -q pyspark"
      ]
    },
    {
      "cell_type": "code",
      "execution_count": null,
      "metadata": {
        "id": "2AMEAXrbKi8o"
      },
      "outputs": [],
      "source": [
        "### verificar la instalación ###\n",
        "import findspark\n",
        "findspark.init()\n",
        "\n",
        "from pyspark.sql import SparkSession\n",
        "spark = SparkSession.builder.master(\"local[*]\").getOrCreate()"
      ]
    },
    {
      "cell_type": "code",
      "execution_count": null,
      "metadata": {
        "colab": {
          "base_uri": "https://localhost:8080/"
        },
        "id": "QivCkbKRKi6g",
        "outputId": "09e383c5-012f-421b-bb97-d329a12167b4"
      },
      "outputs": [
        {
          "name": "stdout",
          "output_type": "stream",
          "text": [
            "+-----+\n",
            "| Hola|\n",
            "+-----+\n",
            "|Mundo|\n",
            "|Mundo|\n",
            "|Mundo|\n",
            "|Mundo|\n",
            "|Mundo|\n",
            "|Mundo|\n",
            "|Mundo|\n",
            "|Mundo|\n",
            "|Mundo|\n",
            "|Mundo|\n",
            "+-----+\n",
            "\n"
          ]
        }
      ],
      "source": [
        "# Probando la sesión de Spark\n",
        "df = spark.createDataFrame([{\"Hola\": \"Mundo\"} for x in range(10)])\n",
        "# df.show(10, False)\n",
        "df.show()"
      ]
    },
    {
      "cell_type": "markdown",
      "metadata": {
        "id": "U_xdI5-TOhbo"
      },
      "source": [
        "### `Descarga e instalación de Apache Spark en una sola celda (Utilizar esta opción)`\n",
        "Para fines prácticos, toda la instalación está en una celda, así luego de ejecutarse ya se puede trabajar con Spark."
      ]
    },
    {
      "cell_type": "code",
      "execution_count": null,
      "metadata": {
        "colab": {
          "base_uri": "https://localhost:8080/"
        },
        "id": "wEvprYN0Ot1l",
        "outputId": "a7fc4e4a-9194-4d3b-e819-06b5ac07b466"
      },
      "outputs": [
        {
          "name": "stdout",
          "output_type": "stream",
          "text": [
            "\u001b[2K     \u001b[90m━━━━━━━━━━━━━━━━━━━━━━━━━━━━━━━━━━━━━━━━\u001b[0m \u001b[32m317.3/317.3 MB\u001b[0m \u001b[31m1.5 MB/s\u001b[0m eta \u001b[36m0:00:00\u001b[0m\n",
            "\u001b[?25h  Preparing metadata (setup.py) ... \u001b[?25l\u001b[?25hdone\n",
            "  Building wheel for pyspark (setup.py) ... \u001b[?25l\u001b[?25hdone\n",
            "+-----+\n",
            "| Hola|\n",
            "+-----+\n",
            "|Mundo|\n",
            "|Mundo|\n",
            "|Mundo|\n",
            "|Mundo|\n",
            "|Mundo|\n",
            "|Mundo|\n",
            "|Mundo|\n",
            "|Mundo|\n",
            "|Mundo|\n",
            "|Mundo|\n",
            "+-----+\n",
            "\n"
          ]
        }
      ],
      "source": [
        "# Instalar SDK Java 8\n",
        "!apt-get install openjdk-8-jdk-headless -qq > /dev/null\n",
        "\n",
        "# Descargar Spark 3.2.4\n",
        "!wget -q https://archive.apache.org/dist/spark/spark-3.2.4/spark-3.2.4-bin-hadoop3.2.tgz\n",
        "\n",
        "# Descomprimir el archivo descargado de Spark\n",
        "!tar xf spark-3.2.4-bin-hadoop3.2.tgz\n",
        "\n",
        "# Establecer las variables de entorno\n",
        "import os\n",
        "\n",
        "os.environ[\"JAVA_HOME\"] = \"/usr/lib/jvm/java-8-openjdk-amd64\"\n",
        "os.environ[\"SPARK_HOME\"] = \"/content/spark-3.2.4-bin-hadoop3.2\"\n",
        "\n",
        "# Instalar la librería findspark\n",
        "!pip install -q findspark\n",
        "\n",
        "# Instalar pyspark\n",
        "!pip install -q pyspark\n",
        "\n",
        "### verificar la instalación ###\n",
        "import findspark\n",
        "findspark.init()\n",
        "\n",
        "from pyspark.sql import SparkSession\n",
        "spark = SparkSession.builder.master(\"local[*]\").getOrCreate()\n",
        "\n",
        "# Probando la sesión de Spark\n",
        "df = spark.createDataFrame([{\"Hola\": \"Mundo\"} for x in range(10)])\n",
        "# df.show(10, False)\n",
        "df.show()"
      ]
    },
    {
      "cell_type": "markdown",
      "metadata": {
        "id": "Jz_8wAjF-CZL"
      },
      "source": [
        "## `Importante: Carga de archivos en Google Colab`\n",
        "\n",
        "Dos formas de cargar los archivos para resolver los ejercicios:\n",
        "\n",
        "1. **Montando el drive para acceder a los contenidos** de la unidad.\n",
        "\n",
        "  Utilizar esta opción si los datos para los ejercicios se cargan en una carpeta del drive y se quiere acceder a ella.\n",
        "\n",
        "2. **Utilizando el cuadro de archivos**, donde se carga el archivo que se quiere trabajar. Se guarda temporalmente.\n",
        "> Esta es la forma que voy a estar utizando"
      ]
    },
    {
      "cell_type": "code",
      "execution_count": null,
      "metadata": {
        "id": "f-J8eWCz-Fei"
      },
      "outputs": [],
      "source": [
        "# Levantar una sesión de Spark\n",
        "import findspark\n",
        "findspark.init()\n",
        "from pyspark.sql import SparkSession\n",
        "\n",
        "spark = SparkSession.builder.appName('Cap2').master('local(*)').getOrCreate()\n",
        "spark"
      ]
    },
    {
      "cell_type": "markdown",
      "metadata": {
        "id": "QXy8YNeO-Jau"
      },
      "source": [
        "### 1. Utilizando el montado al drive y yendo hacia la carpeta donde se encuentra el archivo."
      ]
    },
    {
      "cell_type": "code",
      "execution_count": null,
      "metadata": {
        "id": "pmN9OdbH-KM9"
      },
      "outputs": [],
      "source": [
        "from google.colab import drive\n",
        "drive.mount('/content/drive')"
      ]
    },
    {
      "cell_type": "code",
      "execution_count": null,
      "metadata": {
        "id": "o79J5JOS-QN2"
      },
      "outputs": [],
      "source": [
        "rdd_texto = sc.wholeTextFiles('/content/drive/MyDrive/Spark/data-ej-PySpark-RDD/el_valor_del_big_data.txt')\n",
        "rdd_texto.collect()"
      ]
    },
    {
      "cell_type": "markdown",
      "metadata": {
        "id": "NAHsX9e2-Kxs"
      },
      "source": [
        "### 2. Utilizando el cuadro de archivos, donde se carga el archivo que se quiere trabajar. Se guarda temporalmente.\n",
        "\n",
        "Esta es la que voy a estar utizando a lo largo de todos los notebooks.\n"
      ]
    },
    {
      "cell_type": "code",
      "execution_count": null,
      "metadata": {
        "id": "Lr2_B-R0-LeE"
      },
      "outputs": [],
      "source": [
        "rdd_texto = sc.wholeTextFiles('./el_valor_del_big_data.txt')\n",
        "rdd_texto.collect()"
      ]
    },
    {
      "cell_type": "markdown",
      "metadata": {
        "id": "q5eOVSiKAhWl"
      },
      "source": [
        "## Spark UI en Colab"
      ]
    },
    {
      "cell_type": "code",
      "execution_count": null,
      "metadata": {
        "colab": {
          "base_uri": "https://localhost:8080/",
          "height": 34
        },
        "id": "H1IQB2NmAleg",
        "outputId": "1dddf7c5-10f6-4930-bafe-4ccec733b3be"
      },
      "outputs": [
        {
          "data": {
            "application/javascript": "(async (port, path, text, element) => {\n    if (!google.colab.kernel.accessAllowed) {\n      return;\n    }\n    element.appendChild(document.createTextNode(''));\n    const url = await google.colab.kernel.proxyPort(port);\n    const anchor = document.createElement('a');\n    anchor.href = new URL(path, url).toString();\n    anchor.target = '_blank';\n    anchor.setAttribute('data-href', url + path);\n    anchor.textContent = text;\n    element.appendChild(anchor);\n  })(4050, \"/jobs/index.html\", \"https://localhost:4050/jobs/index.html\", window.element)",
            "text/plain": [
              "<IPython.core.display.Javascript object>"
            ]
          },
          "metadata": {},
          "output_type": "display_data"
        }
      ],
      "source": [
        "# Instalar SDK java 8\n",
        "!apt-get install openjdk-8-jdk-headless -qq > /dev/null\n",
        "\n",
        "# Descargar Spark\n",
        "!wget -q https://archive.apache.org/dist/spark/spark-3.3.4/spark-3.3.4-bin-hadoop3.tgz\n",
        "\n",
        "# Descomprimir la version de Spark\n",
        "!tar xf spark-3.3.4-bin-hadoop3.tgz\n",
        "\n",
        "# Establecer las variables de entorno\n",
        "import os\n",
        "\n",
        "os.environ[\"JAVA_HOME\"] = \"/usr/lib/jvm/java-8-openjdk-amd64\"\n",
        "os.environ[\"SPARK_HOME\"] = \"/content/spark-3.3.4-bin-hadoop3\"\n",
        "\n",
        "# Descargar findspark\n",
        "!pip install -q findspark\n",
        "\n",
        "# Crear la sesión de Spark\n",
        "import findspark\n",
        "findspark.init()\n",
        "from pyspark.sql import SparkSession\n",
        "\n",
        "spark = (\n",
        "    SparkSession.builder\n",
        "    .config('spark.ui.port', '4050')\n",
        "    .getOrCreate()\n",
        ")\n",
        "\n",
        "from google.colab import output\n",
        "output.serve_kernel_port_as_window(4050, path='/jobs/index.html')\n",
        "from pyspark.sql.functions import col\n",
        "\n",
        "spark.range(10000).toDF(\"id\").filter(col('id') / 2 == 0).write.mode('overwrite').parquet('/output')"
      ]
    },
    {
      "cell_type": "markdown",
      "metadata": {
        "id": "vw6VZXSpSNZA"
      },
      "source": [
        "## Spark SQL Avanzado"
      ]
    },
    {
      "cell_type": "markdown",
      "metadata": {
        "id": "KkpLftPxe3bN"
      },
      "source": [
        "### Agregaciones"
      ]
    },
    {
      "cell_type": "code",
      "execution_count": null,
      "metadata": {
        "colab": {
          "base_uri": "https://localhost:8080/"
        },
        "id": "J8Pg82cqSUci",
        "outputId": "1195586c-9892-4c9f-b8c2-8a94c369ebaa"
      },
      "outputs": [
        {
          "name": "stdout",
          "output_type": "stream",
          "text": [
            "root\n",
            " |-- YEAR: integer (nullable = true)\n",
            " |-- MONTH: integer (nullable = true)\n",
            " |-- DAY: integer (nullable = true)\n",
            " |-- DAY_OF_WEEK: integer (nullable = true)\n",
            " |-- AIRLINE: string (nullable = true)\n",
            " |-- FLIGHT_NUMBER: integer (nullable = true)\n",
            " |-- TAIL_NUMBER: string (nullable = true)\n",
            " |-- ORIGIN_AIRPORT: string (nullable = true)\n",
            " |-- DESTINATION_AIRPORT: string (nullable = true)\n",
            " |-- SCHEDULED_DEPARTURE: integer (nullable = true)\n",
            " |-- DEPARTURE_TIME: integer (nullable = true)\n",
            " |-- DEPARTURE_DELAY: integer (nullable = true)\n",
            " |-- TAXI_OUT: integer (nullable = true)\n",
            " |-- WHEELS_OFF: integer (nullable = true)\n",
            " |-- SCHEDULED_TIME: integer (nullable = true)\n",
            " |-- ELAPSED_TIME: integer (nullable = true)\n",
            " |-- AIR_TIME: integer (nullable = true)\n",
            " |-- DISTANCE: integer (nullable = true)\n",
            " |-- WHEELS_ON: integer (nullable = true)\n",
            " |-- TAXI_IN: integer (nullable = true)\n",
            " |-- SCHEDULED_ARRIVAL: integer (nullable = true)\n",
            " |-- ARRIVAL_TIME: integer (nullable = true)\n",
            " |-- ARRIVAL_DELAY: integer (nullable = true)\n",
            " |-- DIVERTED: integer (nullable = true)\n",
            " |-- CANCELLED: integer (nullable = true)\n",
            " |-- CANCELLATION_REASON: string (nullable = true)\n",
            " |-- AIR_SYSTEM_DELAY: integer (nullable = true)\n",
            " |-- SECURITY_DELAY: integer (nullable = true)\n",
            " |-- AIRLINE_DELAY: integer (nullable = true)\n",
            " |-- LATE_AIRCRAFT_DELAY: integer (nullable = true)\n",
            " |-- WEATHER_DELAY: integer (nullable = true)\n",
            "\n",
            "+----+-----+---+-----------+-------+-------------+-----------+--------------+-------------------+-------------------+--------------+---------------+--------+----------+--------------+------------+--------+--------+---------+-------+-----------------+------------+-------------+--------+---------+-------------------+----------------+--------------+-------------+-------------------+-------------+\n",
            "|YEAR|MONTH|DAY|DAY_OF_WEEK|AIRLINE|FLIGHT_NUMBER|TAIL_NUMBER|ORIGIN_AIRPORT|DESTINATION_AIRPORT|SCHEDULED_DEPARTURE|DEPARTURE_TIME|DEPARTURE_DELAY|TAXI_OUT|WHEELS_OFF|SCHEDULED_TIME|ELAPSED_TIME|AIR_TIME|DISTANCE|WHEELS_ON|TAXI_IN|SCHEDULED_ARRIVAL|ARRIVAL_TIME|ARRIVAL_DELAY|DIVERTED|CANCELLED|CANCELLATION_REASON|AIR_SYSTEM_DELAY|SECURITY_DELAY|AIRLINE_DELAY|LATE_AIRCRAFT_DELAY|WEATHER_DELAY|\n",
            "+----+-----+---+-----------+-------+-------------+-----------+--------------+-------------------+-------------------+--------------+---------------+--------+----------+--------------+------------+--------+--------+---------+-------+-----------------+------------+-------------+--------+---------+-------------------+----------------+--------------+-------------+-------------------+-------------+\n",
            "|2015|1    |1  |4          |AS     |98           |N407AS     |ANC           |SEA                |5                  |2354          |-11            |21      |15        |205           |194         |169     |1448    |404      |4      |430              |408         |-22          |0       |0        |null               |null            |null          |null         |null               |null         |\n",
            "|2015|1    |1  |4          |AA     |2336         |N3KUAA     |LAX           |PBI                |10                 |2             |-8             |12      |14        |280           |279         |263     |2330    |737      |4      |750              |741         |-9           |0       |0        |null               |null            |null          |null         |null               |null         |\n",
            "|2015|1    |1  |4          |US     |840          |N171US     |SFO           |CLT                |20                 |18            |-2             |16      |34        |286           |293         |266     |2296    |800      |11     |806              |811         |5            |0       |0        |null               |null            |null          |null         |null               |null         |\n",
            "|2015|1    |1  |4          |AA     |258          |N3HYAA     |LAX           |MIA                |20                 |15            |-5             |15      |30        |285           |281         |258     |2342    |748      |8      |805              |756         |-9           |0       |0        |null               |null            |null          |null         |null               |null         |\n",
            "|2015|1    |1  |4          |AS     |135          |N527AS     |SEA           |ANC                |25                 |24            |-1             |11      |35        |235           |215         |199     |1448    |254      |5      |320              |259         |-21          |0       |0        |null               |null            |null          |null         |null               |null         |\n",
            "|2015|1    |1  |4          |DL     |806          |N3730B     |SFO           |MSP                |25                 |20            |-5             |18      |38        |217           |230         |206     |1589    |604      |6      |602              |610         |8            |0       |0        |null               |null            |null          |null         |null               |null         |\n",
            "|2015|1    |1  |4          |NK     |612          |N635NK     |LAS           |MSP                |25                 |19            |-6             |11      |30        |181           |170         |154     |1299    |504      |5      |526              |509         |-17          |0       |0        |null               |null            |null          |null         |null               |null         |\n",
            "|2015|1    |1  |4          |US     |2013         |N584UW     |LAX           |CLT                |30                 |44            |14             |13      |57        |273           |249         |228     |2125    |745      |8      |803              |753         |-10          |0       |0        |null               |null            |null          |null         |null               |null         |\n",
            "|2015|1    |1  |4          |AA     |1112         |N3LAAA     |SFO           |DFW                |30                 |19            |-11            |17      |36        |195           |193         |173     |1464    |529      |3      |545              |532         |-13          |0       |0        |null               |null            |null          |null         |null               |null         |\n",
            "|2015|1    |1  |4          |DL     |1173         |N826DN     |LAS           |ATL                |30                 |33            |3              |12      |45        |221           |203         |186     |1747    |651      |5      |711              |656         |-15          |0       |0        |null               |null            |null          |null         |null               |null         |\n",
            "|2015|1    |1  |4          |DL     |2336         |N958DN     |DEN           |ATL                |30                 |24            |-6             |12      |36        |173           |149         |133     |1199    |449      |4      |523              |453         |-30          |0       |0        |null               |null            |null          |null         |null               |null         |\n",
            "|2015|1    |1  |4          |AA     |1674         |N853AA     |LAS           |MIA                |35                 |27            |-8             |21      |48        |268           |266         |238     |2174    |746      |7      |803              |753         |-10          |0       |0        |null               |null            |null          |null         |null               |null         |\n",
            "|2015|1    |1  |4          |DL     |1434         |N547US     |LAX           |MSP                |35                 |35            |0              |18      |53        |214           |210         |188     |1535    |601      |4      |609              |605         |-4           |0       |0        |null               |null            |null          |null         |null               |null         |\n",
            "|2015|1    |1  |4          |DL     |2324         |N3751B     |SLC           |ATL                |40                 |34            |-6             |18      |52        |215           |199         |176     |1590    |548      |5      |615              |553         |-22          |0       |0        |null               |null            |null          |null         |null               |null         |\n",
            "|2015|1    |1  |4          |DL     |2440         |N651DL     |SEA           |MSP                |40                 |39            |-1             |28      |107       |189           |198         |166     |1399    |553      |4      |549              |557         |8            |0       |0        |null               |null            |null          |null         |null               |null         |\n",
            "|2015|1    |1  |4          |AS     |108          |N309AS     |ANC           |SEA                |45                 |41            |-4             |17      |58        |204           |194         |173     |1448    |451      |4      |509              |455         |-14          |0       |0        |null               |null            |null          |null         |null               |null         |\n",
            "|2015|1    |1  |4          |DL     |1560         |N3743H     |ANC           |SEA                |45                 |31            |-14            |25      |56        |210           |200         |171     |1448    |447      |4      |515              |451         |-24          |0       |0        |null               |null            |null          |null         |null               |null         |\n",
            "|2015|1    |1  |4          |UA     |1197         |N78448     |SFO           |IAH                |48                 |42            |-6             |11      |53        |218           |217         |199     |1635    |612      |7      |626              |619         |-7           |0       |0        |null               |null            |null          |null         |null               |null         |\n",
            "|2015|1    |1  |4          |AS     |122          |N413AS     |ANC           |PDX                |50                 |46            |-4             |11      |57        |215           |201         |187     |1542    |504      |3      |525              |507         |-18          |0       |0        |null               |null            |null          |null         |null               |null         |\n",
            "|2015|1    |1  |4          |DL     |1670         |N806DN     |PDX           |MSP                |50                 |45            |-5             |9       |54        |193           |186         |171     |1426    |545      |6      |603              |551         |-12          |0       |0        |null               |null            |null          |null         |null               |null         |\n",
            "+----+-----+---+-----------+-------+-------------+-----------+--------------+-------------------+-------------------+--------------+---------------+--------+----------+--------------+------------+--------+--------+---------+-------+-----------------+------------+-------------+--------+---------+-------------------+----------------+--------------+-------------+-------------------+-------------+\n",
            "only showing top 20 rows\n",
            "\n"
          ]
        }
      ],
      "source": [
        "# Explorando los datos\n",
        "\n",
        "import findspark\n",
        "findspark.init()\n",
        "from pyspark.sql import SparkSession\n",
        "\n",
        "spark = SparkSession.builder.getOrCreate()\n",
        "\n",
        "df = spark.read.parquet('vuelos.parquet')\n",
        "\n",
        "df.printSchema()\n",
        "\n",
        "df.show(20, truncate=False)\n"
      ]
    },
    {
      "cell_type": "markdown",
      "metadata": {
        "id": "H0jb1v27XL8o"
      },
      "source": [
        "### Funciones"
      ]
    },
    {
      "cell_type": "code",
      "execution_count": null,
      "metadata": {
        "colab": {
          "base_uri": "https://localhost:8080/"
        },
        "id": "eEZPWbEVXNlf",
        "outputId": "c1ba7755-4b69-48e8-d4d9-b984ccb7cf31"
      },
      "outputs": [
        {
          "name": "stdout",
          "output_type": "stream",
          "text": [
            "root\n",
            " |-- nombre: string (nullable = true)\n",
            " |-- color: string (nullable = true)\n",
            " |-- cantidad: long (nullable = true)\n",
            "\n",
            "+------+-----+--------+\n",
            "|nombre|color|cantidad|\n",
            "+------+-----+--------+\n",
            "|  Jose| azul|    1900|\n",
            "|  null| null|    1700|\n",
            "|  null| rojo|    1300|\n",
            "|  Juan| rojo|    1500|\n",
            "+------+-----+--------+\n",
            "\n"
          ]
        }
      ],
      "source": [
        "# Funciones count, countDistinct y approx_count_distinct\n",
        "import findspark\n",
        "findspark.init()\n",
        "from pyspark.sql import SparkSession\n",
        "\n",
        "spark = SparkSession.builder.getOrCreate()\n",
        "\n",
        "df = spark.read.parquet('dataframe.parquet')\n",
        "\n",
        "df.printSchema()\n",
        "\n",
        "df.show()\n"
      ]
    },
    {
      "cell_type": "markdown",
      "metadata": {
        "id": "0zJIVCCwe8Ba"
      },
      "source": [
        "#### Función count"
      ]
    },
    {
      "cell_type": "code",
      "execution_count": null,
      "metadata": {
        "colab": {
          "base_uri": "https://localhost:8080/"
        },
        "id": "T3Z9A3yzSVUt",
        "outputId": "22395891-005f-481a-e55c-27117ebff9c0"
      },
      "outputs": [
        {
          "name": "stdout",
          "output_type": "stream",
          "text": [
            "+-------------+------------+\n",
            "|conteo_nombre|conteo_color|\n",
            "+-------------+------------+\n",
            "|            2|           3|\n",
            "+-------------+------------+\n",
            "\n",
            "+-------------+------------+--------------+\n",
            "|conteo_nombre|conteo_color|conteo_general|\n",
            "+-------------+------------+--------------+\n",
            "|            2|           3|             4|\n",
            "+-------------+------------+--------------+\n",
            "\n"
          ]
        }
      ],
      "source": [
        "# count\n",
        "from pyspark.sql.functions import count\n",
        "\n",
        "df.select(\n",
        "    count('nombre').alias('conteo_nombre'),\n",
        "    count('color').alias('conteo_color')\n",
        ").show()\n",
        "\n",
        "df.select(\n",
        "    count('nombre').alias('conteo_nombre'),\n",
        "    count('color').alias('conteo_color'),\n",
        "    count('*').alias('conteo_general')\n",
        ").show()"
      ]
    },
    {
      "cell_type": "markdown",
      "metadata": {
        "id": "WCC4U5fbW15B"
      },
      "source": [
        "#### Función countDistinct"
      ]
    },
    {
      "cell_type": "code",
      "execution_count": null,
      "metadata": {
        "colab": {
          "base_uri": "https://localhost:8080/"
        },
        "id": "ZqN6KnkYW4QI",
        "outputId": "3ddf5901-69d7-4f29-e989-f21db57c2f96"
      },
      "outputs": [
        {
          "name": "stdout",
          "output_type": "stream",
          "text": [
            "+-----------+\n",
            "|colores_dif|\n",
            "+-----------+\n",
            "|          2|\n",
            "+-----------+\n",
            "\n"
          ]
        }
      ],
      "source": [
        "# countDistinct\n",
        "from pyspark.sql.functions import countDistinct\n",
        "\n",
        "df.select(\n",
        "    countDistinct('color').alias('colores_dif')\n",
        ").show()"
      ]
    },
    {
      "cell_type": "markdown",
      "metadata": {
        "id": "tgm82cAiW4nW"
      },
      "source": [
        "#### Función approx_count_distinct"
      ]
    },
    {
      "cell_type": "code",
      "execution_count": null,
      "metadata": {
        "colab": {
          "base_uri": "https://localhost:8080/"
        },
        "id": "kfULpOzaW9tl",
        "outputId": "b94415d4-9538-4457-f682-7433ad0314ae"
      },
      "outputs": [
        {
          "name": "stdout",
          "output_type": "stream",
          "text": [
            "root\n",
            " |-- YEAR: integer (nullable = true)\n",
            " |-- MONTH: integer (nullable = true)\n",
            " |-- DAY: integer (nullable = true)\n",
            " |-- DAY_OF_WEEK: integer (nullable = true)\n",
            " |-- AIRLINE: string (nullable = true)\n",
            " |-- FLIGHT_NUMBER: integer (nullable = true)\n",
            " |-- TAIL_NUMBER: string (nullable = true)\n",
            " |-- ORIGIN_AIRPORT: string (nullable = true)\n",
            " |-- DESTINATION_AIRPORT: string (nullable = true)\n",
            " |-- SCHEDULED_DEPARTURE: integer (nullable = true)\n",
            " |-- DEPARTURE_TIME: integer (nullable = true)\n",
            " |-- DEPARTURE_DELAY: integer (nullable = true)\n",
            " |-- TAXI_OUT: integer (nullable = true)\n",
            " |-- WHEELS_OFF: integer (nullable = true)\n",
            " |-- SCHEDULED_TIME: integer (nullable = true)\n",
            " |-- ELAPSED_TIME: integer (nullable = true)\n",
            " |-- AIR_TIME: integer (nullable = true)\n",
            " |-- DISTANCE: integer (nullable = true)\n",
            " |-- WHEELS_ON: integer (nullable = true)\n",
            " |-- TAXI_IN: integer (nullable = true)\n",
            " |-- SCHEDULED_ARRIVAL: integer (nullable = true)\n",
            " |-- ARRIVAL_TIME: integer (nullable = true)\n",
            " |-- ARRIVAL_DELAY: integer (nullable = true)\n",
            " |-- DIVERTED: integer (nullable = true)\n",
            " |-- CANCELLED: integer (nullable = true)\n",
            " |-- CANCELLATION_REASON: string (nullable = true)\n",
            " |-- AIR_SYSTEM_DELAY: integer (nullable = true)\n",
            " |-- SECURITY_DELAY: integer (nullable = true)\n",
            " |-- AIRLINE_DELAY: integer (nullable = true)\n",
            " |-- LATE_AIRCRAFT_DELAY: integer (nullable = true)\n",
            " |-- WEATHER_DELAY: integer (nullable = true)\n",
            "\n",
            "+-----------------------+------------------------------+\n",
            "|count(DISTINCT AIRLINE)|approx_count_distinct(AIRLINE)|\n",
            "+-----------------------+------------------------------+\n",
            "|                     14|                            13|\n",
            "+-----------------------+------------------------------+\n",
            "\n"
          ]
        }
      ],
      "source": [
        "# approx_count_distinct\n",
        "from pyspark.sql.functions import approx_count_distinct\n",
        "\n",
        "dataframe = spark.read.parquet('vuelos.parquet')\n",
        "\n",
        "dataframe.printSchema()\n",
        "\n",
        "dataframe.select(\n",
        "    countDistinct('AIRLINE'),\n",
        "    approx_count_distinct('AIRLINE')\n",
        ").show()"
      ]
    },
    {
      "cell_type": "markdown",
      "metadata": {
        "id": "g1z5xso0e90P"
      },
      "source": [
        "#### Funciones min y max"
      ]
    },
    {
      "cell_type": "code",
      "execution_count": null,
      "metadata": {
        "colab": {
          "base_uri": "https://localhost:8080/"
        },
        "id": "s0B2ZOlCSVTB",
        "outputId": "1cb32446-cbad-452a-d7d4-a67f451d57f3"
      },
      "outputs": [
        {
          "name": "stdout",
          "output_type": "stream",
          "text": [
            "root\n",
            " |-- YEAR: integer (nullable = true)\n",
            " |-- MONTH: integer (nullable = true)\n",
            " |-- DAY: integer (nullable = true)\n",
            " |-- DAY_OF_WEEK: integer (nullable = true)\n",
            " |-- AIRLINE: string (nullable = true)\n",
            " |-- FLIGHT_NUMBER: integer (nullable = true)\n",
            " |-- TAIL_NUMBER: string (nullable = true)\n",
            " |-- ORIGIN_AIRPORT: string (nullable = true)\n",
            " |-- DESTINATION_AIRPORT: string (nullable = true)\n",
            " |-- SCHEDULED_DEPARTURE: integer (nullable = true)\n",
            " |-- DEPARTURE_TIME: integer (nullable = true)\n",
            " |-- DEPARTURE_DELAY: integer (nullable = true)\n",
            " |-- TAXI_OUT: integer (nullable = true)\n",
            " |-- WHEELS_OFF: integer (nullable = true)\n",
            " |-- SCHEDULED_TIME: integer (nullable = true)\n",
            " |-- ELAPSED_TIME: integer (nullable = true)\n",
            " |-- AIR_TIME: integer (nullable = true)\n",
            " |-- DISTANCE: integer (nullable = true)\n",
            " |-- WHEELS_ON: integer (nullable = true)\n",
            " |-- TAXI_IN: integer (nullable = true)\n",
            " |-- SCHEDULED_ARRIVAL: integer (nullable = true)\n",
            " |-- ARRIVAL_TIME: integer (nullable = true)\n",
            " |-- ARRIVAL_DELAY: integer (nullable = true)\n",
            " |-- DIVERTED: integer (nullable = true)\n",
            " |-- CANCELLED: integer (nullable = true)\n",
            " |-- CANCELLATION_REASON: string (nullable = true)\n",
            " |-- AIR_SYSTEM_DELAY: integer (nullable = true)\n",
            " |-- SECURITY_DELAY: integer (nullable = true)\n",
            " |-- AIRLINE_DELAY: integer (nullable = true)\n",
            " |-- LATE_AIRCRAFT_DELAY: integer (nullable = true)\n",
            " |-- WEATHER_DELAY: integer (nullable = true)\n",
            "\n"
          ]
        }
      ],
      "source": [
        "import findspark\n",
        "findspark.init()\n",
        "from pyspark.sql import SparkSession\n",
        "\n",
        "spark = SparkSession.builder.getOrCreate()\n",
        "\n",
        "vuelos = spark.read.parquet('vuelos.parquet')\n",
        "\n",
        "vuelos.printSchema()"
      ]
    },
    {
      "cell_type": "code",
      "execution_count": null,
      "metadata": {
        "colab": {
          "base_uri": "https://localhost:8080/"
        },
        "id": "Sf2u4Q3UYA6u",
        "outputId": "1e8a590d-d87c-4186-a03e-ec5987eebb77"
      },
      "outputs": [
        {
          "name": "stdout",
          "output_type": "stream",
          "text": [
            "+------------+------------+\n",
            "|menor_timepo|mayor_tiempo|\n",
            "+------------+------------+\n",
            "|           7|         690|\n",
            "+------------+------------+\n",
            "\n",
            "+------------------+------------------+\n",
            "|min(AIRLINE_DELAY)|max(AIRLINE_DELAY)|\n",
            "+------------------+------------------+\n",
            "|                 0|              1971|\n",
            "+------------------+------------------+\n",
            "\n"
          ]
        }
      ],
      "source": [
        "# Funciones min y max\n",
        "from pyspark.sql.functions import min, max, col\n",
        "\n",
        "vuelos.select(\n",
        "    min('AIR_TIME').alias('menor_timepo'),\n",
        "    max('AIR_TIME').alias('mayor_tiempo')\n",
        ").show()\n",
        "\n",
        "vuelos.select(\n",
        "    min('AIRLINE_DELAY'),\n",
        "    max('AIRLINE_DELAY')\n",
        ").show()"
      ]
    },
    {
      "cell_type": "markdown",
      "metadata": {
        "id": "p4Qqkqe5fBhq"
      },
      "source": [
        "#### Funciones sum, sumDistinct y avg"
      ]
    },
    {
      "cell_type": "code",
      "execution_count": null,
      "metadata": {
        "colab": {
          "base_uri": "https://localhost:8080/"
        },
        "id": "v1xQbT4kSVRG",
        "outputId": "d5271fab-cb2e-44bd-d3a8-34ba2015f1d4"
      },
      "outputs": [
        {
          "name": "stdout",
          "output_type": "stream",
          "text": [
            "root\n",
            " |-- YEAR: integer (nullable = true)\n",
            " |-- MONTH: integer (nullable = true)\n",
            " |-- DAY: integer (nullable = true)\n",
            " |-- DAY_OF_WEEK: integer (nullable = true)\n",
            " |-- AIRLINE: string (nullable = true)\n",
            " |-- FLIGHT_NUMBER: integer (nullable = true)\n",
            " |-- TAIL_NUMBER: string (nullable = true)\n",
            " |-- ORIGIN_AIRPORT: string (nullable = true)\n",
            " |-- DESTINATION_AIRPORT: string (nullable = true)\n",
            " |-- SCHEDULED_DEPARTURE: integer (nullable = true)\n",
            " |-- DEPARTURE_TIME: integer (nullable = true)\n",
            " |-- DEPARTURE_DELAY: integer (nullable = true)\n",
            " |-- TAXI_OUT: integer (nullable = true)\n",
            " |-- WHEELS_OFF: integer (nullable = true)\n",
            " |-- SCHEDULED_TIME: integer (nullable = true)\n",
            " |-- ELAPSED_TIME: integer (nullable = true)\n",
            " |-- AIR_TIME: integer (nullable = true)\n",
            " |-- DISTANCE: integer (nullable = true)\n",
            " |-- WHEELS_ON: integer (nullable = true)\n",
            " |-- TAXI_IN: integer (nullable = true)\n",
            " |-- SCHEDULED_ARRIVAL: integer (nullable = true)\n",
            " |-- ARRIVAL_TIME: integer (nullable = true)\n",
            " |-- ARRIVAL_DELAY: integer (nullable = true)\n",
            " |-- DIVERTED: integer (nullable = true)\n",
            " |-- CANCELLED: integer (nullable = true)\n",
            " |-- CANCELLATION_REASON: string (nullable = true)\n",
            " |-- AIR_SYSTEM_DELAY: integer (nullable = true)\n",
            " |-- SECURITY_DELAY: integer (nullable = true)\n",
            " |-- AIRLINE_DELAY: integer (nullable = true)\n",
            " |-- LATE_AIRCRAFT_DELAY: integer (nullable = true)\n",
            " |-- WEATHER_DELAY: integer (nullable = true)\n",
            "\n"
          ]
        }
      ],
      "source": [
        "# Funciones sum, sumDistinct y avg\n",
        "import findspark\n",
        "findspark.init()\n",
        "from pyspark.sql import SparkSession\n",
        "from pyspark.sql.functions import sum, sumDistinct,sum_distinct , avg, count\n",
        "\n",
        "spark = SparkSession.builder.getOrCreate()\n",
        "\n",
        "vuelos = spark.read.parquet('vuelos.parquet')\n",
        "vuelos.printSchema()"
      ]
    },
    {
      "cell_type": "code",
      "execution_count": null,
      "metadata": {
        "colab": {
          "base_uri": "https://localhost:8080/"
        },
        "id": "w7W2aBmSYvkJ",
        "outputId": "6f2eaba9-4a9f-40ee-d13c-d3033dfffa76"
      },
      "outputs": [
        {
          "name": "stdout",
          "output_type": "stream",
          "text": [
            "+----------+\n",
            "|   sum_dis|\n",
            "+----------+\n",
            "|4785357409|\n",
            "+----------+\n",
            "\n"
          ]
        }
      ],
      "source": [
        "# sum\n",
        "vuelos.select(\n",
        "    sum('DISTANCE').alias('sum_dis')\n",
        ").show()"
      ]
    },
    {
      "cell_type": "code",
      "execution_count": null,
      "metadata": {
        "colab": {
          "base_uri": "https://localhost:8080/"
        },
        "id": "Xz6APXDFYvfU",
        "outputId": "3f486d24-4ea8-44f0-a14f-f6655f448e58"
      },
      "outputs": [
        {
          "name": "stderr",
          "output_type": "stream",
          "text": [
            "/content/spark-3.2.4-bin-hadoop3.2/python/pyspark/sql/functions.py:215: FutureWarning: Deprecated in 3.2, use sum_distinct instead.\n",
            "  warnings.warn(\"Deprecated in 3.2, use sum_distinct instead.\", FutureWarning)\n"
          ]
        },
        {
          "name": "stdout",
          "output_type": "stream",
          "text": [
            "+-----------+\n",
            "|sum_dis_dif|\n",
            "+-----------+\n",
            "|    1442300|\n",
            "+-----------+\n",
            "\n",
            "+-----------+\n",
            "|sum_dis_dif|\n",
            "+-----------+\n",
            "|    1442300|\n",
            "+-----------+\n",
            "\n"
          ]
        }
      ],
      "source": [
        "# sumDistinct, warning de deprecated\n",
        "vuelos.select(\n",
        "    sumDistinct('DISTANCE').alias('sum_dis_dif')\n",
        ").show()\n",
        "# opción sugerida sum_distinct\n",
        "vuelos.select(\n",
        "    sum_distinct('DISTANCE').alias('sum_dis_dif')\n",
        ").show()"
      ]
    },
    {
      "cell_type": "code",
      "execution_count": null,
      "metadata": {
        "colab": {
          "base_uri": "https://localhost:8080/"
        },
        "id": "aY4Dz0uuYvXu",
        "outputId": "f597df69-4a03-483d-9f2c-a1fb1c3aef56"
      },
      "outputs": [
        {
          "name": "stdout",
          "output_type": "stream",
          "text": [
            "+------------------+------------------+\n",
            "|     promedio_aire|       prom_manual|\n",
            "+------------------+------------------+\n",
            "|113.51162809012519|113.51162809012519|\n",
            "+------------------+------------------+\n",
            "\n"
          ]
        }
      ],
      "source": [
        "# avg\n",
        "vuelos.select(\n",
        "    avg('AIR_TIME').alias('promedio_aire'),\n",
        "    (sum('AIR_TIME') / count('AIR_TIME')).alias('prom_manual')\n",
        ").show()"
      ]
    },
    {
      "cell_type": "markdown",
      "metadata": {
        "id": "sEqgOplGf6rT"
      },
      "source": [
        "### Agregación con agrupación"
      ]
    },
    {
      "cell_type": "code",
      "execution_count": null,
      "metadata": {
        "colab": {
          "base_uri": "https://localhost:8080/"
        },
        "id": "ToBOY8kQTIQt",
        "outputId": "67c6894c-b270-43ab-cdba-82491edfb372"
      },
      "outputs": [
        {
          "name": "stdout",
          "output_type": "stream",
          "text": [
            "root\n",
            " |-- YEAR: integer (nullable = true)\n",
            " |-- MONTH: integer (nullable = true)\n",
            " |-- DAY: integer (nullable = true)\n",
            " |-- DAY_OF_WEEK: integer (nullable = true)\n",
            " |-- AIRLINE: string (nullable = true)\n",
            " |-- FLIGHT_NUMBER: integer (nullable = true)\n",
            " |-- TAIL_NUMBER: string (nullable = true)\n",
            " |-- ORIGIN_AIRPORT: string (nullable = true)\n",
            " |-- DESTINATION_AIRPORT: string (nullable = true)\n",
            " |-- SCHEDULED_DEPARTURE: integer (nullable = true)\n",
            " |-- DEPARTURE_TIME: integer (nullable = true)\n",
            " |-- DEPARTURE_DELAY: integer (nullable = true)\n",
            " |-- TAXI_OUT: integer (nullable = true)\n",
            " |-- WHEELS_OFF: integer (nullable = true)\n",
            " |-- SCHEDULED_TIME: integer (nullable = true)\n",
            " |-- ELAPSED_TIME: integer (nullable = true)\n",
            " |-- AIR_TIME: integer (nullable = true)\n",
            " |-- DISTANCE: integer (nullable = true)\n",
            " |-- WHEELS_ON: integer (nullable = true)\n",
            " |-- TAXI_IN: integer (nullable = true)\n",
            " |-- SCHEDULED_ARRIVAL: integer (nullable = true)\n",
            " |-- ARRIVAL_TIME: integer (nullable = true)\n",
            " |-- ARRIVAL_DELAY: integer (nullable = true)\n",
            " |-- DIVERTED: integer (nullable = true)\n",
            " |-- CANCELLED: integer (nullable = true)\n",
            " |-- CANCELLATION_REASON: string (nullable = true)\n",
            " |-- AIR_SYSTEM_DELAY: integer (nullable = true)\n",
            " |-- SECURITY_DELAY: integer (nullable = true)\n",
            " |-- AIRLINE_DELAY: integer (nullable = true)\n",
            " |-- LATE_AIRCRAFT_DELAY: integer (nullable = true)\n",
            " |-- WEATHER_DELAY: integer (nullable = true)\n",
            "\n"
          ]
        }
      ],
      "source": [
        "# Agregación con agrupación\n",
        "import findspark\n",
        "findspark.init()\n",
        "from pyspark.sql import SparkSession\n",
        "from pyspark.sql.functions import desc\n",
        "\n",
        "spark = SparkSession.builder.getOrCreate()\n",
        "\n",
        "vuelos = spark.read.parquet('vuelos.parquet')\n",
        "\n",
        "vuelos.printSchema()"
      ]
    },
    {
      "cell_type": "code",
      "execution_count": null,
      "metadata": {
        "colab": {
          "base_uri": "https://localhost:8080/"
        },
        "id": "ARVF5U7nZyZc",
        "outputId": "a8c52b5d-d358-42f4-eedc-7a3c2647100a"
      },
      "outputs": [
        {
          "name": "stdout",
          "output_type": "stream",
          "text": [
            "+--------------+------+\n",
            "|ORIGIN_AIRPORT| count|\n",
            "+--------------+------+\n",
            "|           ATL|346836|\n",
            "|           ORD|285884|\n",
            "|           DFW|239551|\n",
            "|           DEN|196055|\n",
            "|           LAX|194673|\n",
            "|           SFO|148008|\n",
            "|           PHX|146815|\n",
            "|           IAH|146622|\n",
            "|           LAS|133181|\n",
            "|           MSP|112117|\n",
            "|           MCO|110982|\n",
            "|           SEA|110899|\n",
            "|           DTW|108500|\n",
            "|           BOS|107847|\n",
            "|           EWR|101772|\n",
            "|           CLT|100324|\n",
            "|           LGA| 99605|\n",
            "|           SLC| 97210|\n",
            "|           JFK| 93811|\n",
            "|           BWI| 86079|\n",
            "+--------------+------+\n",
            "only showing top 20 rows\n",
            "\n"
          ]
        }
      ],
      "source": [
        "(vuelos.groupBy('ORIGIN_AIRPORT')\n",
        "    .count()\n",
        "    .orderBy(desc('count'))\n",
        ").show()"
      ]
    },
    {
      "cell_type": "code",
      "execution_count": null,
      "metadata": {
        "colab": {
          "base_uri": "https://localhost:8080/"
        },
        "id": "Aur-25YdZySl",
        "outputId": "9c5d6cda-b699-48af-9eb6-81e3ffff7d4d"
      },
      "outputs": [
        {
          "name": "stdout",
          "output_type": "stream",
          "text": [
            "+--------------+-------------------+-----+\n",
            "|ORIGIN_AIRPORT|DESTINATION_AIRPORT|count|\n",
            "+--------------+-------------------+-----+\n",
            "|           SFO|                LAX|13744|\n",
            "|           LAX|                SFO|13457|\n",
            "|           JFK|                LAX|12016|\n",
            "|           LAX|                JFK|12015|\n",
            "|           LAS|                LAX| 9715|\n",
            "|           LGA|                ORD| 9639|\n",
            "|           LAX|                LAS| 9594|\n",
            "|           ORD|                LGA| 9575|\n",
            "|           SFO|                JFK| 8440|\n",
            "|           JFK|                SFO| 8437|\n",
            "|           OGG|                HNL| 8313|\n",
            "|           HNL|                OGG| 8282|\n",
            "|           LAX|                ORD| 8256|\n",
            "|           ATL|                LGA| 8234|\n",
            "|           LGA|                ATL| 8215|\n",
            "|           ATL|                MCO| 8202|\n",
            "|           MCO|                ATL| 8202|\n",
            "|           SFO|                LAS| 7995|\n",
            "|           ORD|                LAX| 7941|\n",
            "|           LAS|                SFO| 7870|\n",
            "+--------------+-------------------+-----+\n",
            "only showing top 20 rows\n",
            "\n"
          ]
        }
      ],
      "source": [
        "(vuelos.groupBy('ORIGIN_AIRPORT', 'DESTINATION_AIRPORT')\n",
        "    .count()\n",
        "    .orderBy(desc('count'))\n",
        ").show()"
      ]
    },
    {
      "cell_type": "markdown",
      "metadata": {
        "id": "CWDte3lOf-KC"
      },
      "source": [
        "### Varias agregaciones por grupo"
      ]
    },
    {
      "cell_type": "code",
      "execution_count": null,
      "metadata": {
        "colab": {
          "base_uri": "https://localhost:8080/"
        },
        "id": "bSSxwk-hTIOY",
        "outputId": "05f972b4-59db-471c-e914-c5b317a95d51"
      },
      "outputs": [
        {
          "name": "stdout",
          "output_type": "stream",
          "text": [
            "+----+-----+---+-----------+-------+-------------+-----------+--------------+-------------------+-------------------+--------------+---------------+--------+----------+--------------+------------+--------+--------+---------+-------+-----------------+------------+-------------+--------+---------+-------------------+----------------+--------------+-------------+-------------------+-------------+\n",
            "|YEAR|MONTH|DAY|DAY_OF_WEEK|AIRLINE|FLIGHT_NUMBER|TAIL_NUMBER|ORIGIN_AIRPORT|DESTINATION_AIRPORT|SCHEDULED_DEPARTURE|DEPARTURE_TIME|DEPARTURE_DELAY|TAXI_OUT|WHEELS_OFF|SCHEDULED_TIME|ELAPSED_TIME|AIR_TIME|DISTANCE|WHEELS_ON|TAXI_IN|SCHEDULED_ARRIVAL|ARRIVAL_TIME|ARRIVAL_DELAY|DIVERTED|CANCELLED|CANCELLATION_REASON|AIR_SYSTEM_DELAY|SECURITY_DELAY|AIRLINE_DELAY|LATE_AIRCRAFT_DELAY|WEATHER_DELAY|\n",
            "+----+-----+---+-----------+-------+-------------+-----------+--------------+-------------------+-------------------+--------------+---------------+--------+----------+--------------+------------+--------+--------+---------+-------+-----------------+------------+-------------+--------+---------+-------------------+----------------+--------------+-------------+-------------------+-------------+\n",
            "|2015|    1|  1|          4|     AS|           98|     N407AS|           ANC|                SEA|                  5|          2354|            -11|      21|        15|           205|         194|     169|    1448|      404|      4|              430|         408|          -22|       0|        0|               null|            null|          null|         null|               null|         null|\n",
            "|2015|    1|  1|          4|     AA|         2336|     N3KUAA|           LAX|                PBI|                 10|             2|             -8|      12|        14|           280|         279|     263|    2330|      737|      4|              750|         741|           -9|       0|        0|               null|            null|          null|         null|               null|         null|\n",
            "|2015|    1|  1|          4|     US|          840|     N171US|           SFO|                CLT|                 20|            18|             -2|      16|        34|           286|         293|     266|    2296|      800|     11|              806|         811|            5|       0|        0|               null|            null|          null|         null|               null|         null|\n",
            "|2015|    1|  1|          4|     AA|          258|     N3HYAA|           LAX|                MIA|                 20|            15|             -5|      15|        30|           285|         281|     258|    2342|      748|      8|              805|         756|           -9|       0|        0|               null|            null|          null|         null|               null|         null|\n",
            "|2015|    1|  1|          4|     AS|          135|     N527AS|           SEA|                ANC|                 25|            24|             -1|      11|        35|           235|         215|     199|    1448|      254|      5|              320|         259|          -21|       0|        0|               null|            null|          null|         null|               null|         null|\n",
            "+----+-----+---+-----------+-------+-------------+-----------+--------------+-------------------+-------------------+--------------+---------------+--------+----------+--------------+------------+--------+--------+---------+-------+-----------------+------------+-------------+--------+---------+-------------------+----------------+--------------+-------------+-------------------+-------------+\n",
            "only showing top 5 rows\n",
            "\n"
          ]
        }
      ],
      "source": [
        "# Varias agregaciones por grupo\n",
        "import findspark\n",
        "findspark.init()\n",
        "from pyspark.sql import SparkSession\n",
        "from pyspark.sql.functions import count, min, max, desc, avg\n",
        "\n",
        "spark = SparkSession.builder.getOrCreate()\n",
        "\n",
        "vuelos = spark.read.parquet('vuelos.parquet')\n",
        "vuelos.show(5)"
      ]
    },
    {
      "cell_type": "code",
      "execution_count": null,
      "metadata": {
        "colab": {
          "base_uri": "https://localhost:8080/"
        },
        "id": "GPhMtfpBaFRe",
        "outputId": "ee33ac0a-abfe-4901-ac55-a0fb6083ed0d"
      },
      "outputs": [
        {
          "name": "stdout",
          "output_type": "stream",
          "text": [
            "+--------------+-----------+---+---+\n",
            "|ORIGIN_AIRPORT|tiempo_aire|min|max|\n",
            "+--------------+-----------+---+---+\n",
            "|           ATL|     343506| 15|614|\n",
            "|           ORD|     276554| 13|571|\n",
            "|           DFW|     232647| 11|534|\n",
            "|           DEN|     193402| 12|493|\n",
            "|           LAX|     192003| 14|409|\n",
            "|           PHX|     145552| 19|444|\n",
            "|           SFO|     145491|  8|389|\n",
            "|           IAH|     144019| 15|524|\n",
            "|           LAS|     131937| 25|429|\n",
            "|           MSP|     111055| 14|537|\n",
            "|           SEA|     110178| 17|412|\n",
            "|           MCO|     109532| 25|395|\n",
            "|           DTW|     106992| 15|341|\n",
            "|           BOS|     104804| 16|432|\n",
            "|           CLT|      99052| 17|379|\n",
            "|           EWR|      98341| 21|683|\n",
            "|           SLC|      96505| 18|419|\n",
            "|           LGA|      94834| 19|311|\n",
            "|           JFK|      91663| 29|690|\n",
            "|           BWI|      84329| 19|398|\n",
            "+--------------+-----------+---+---+\n",
            "only showing top 20 rows\n",
            "\n"
          ]
        }
      ],
      "source": [
        "vuelos.groupBy('ORIGIN_AIRPORT').agg(\n",
        "    count('AIR_TIME').alias('tiempo_aire'),\n",
        "    min('AIR_TIME').alias('min'),\n",
        "    max('AIR_TIME').alias('max')\n",
        ").orderBy(desc('tiempo_aire')).show()"
      ]
    },
    {
      "cell_type": "code",
      "execution_count": null,
      "metadata": {
        "colab": {
          "base_uri": "https://localhost:8080/"
        },
        "id": "TvJcyrU0aFKk",
        "outputId": "137266b7-0493-4035-ea99-27f8efd9974f"
      },
      "outputs": [
        {
          "name": "stdout",
          "output_type": "stream",
          "text": [
            "+-----+------------------+-----------------+\n",
            "|MONTH|conteo_de_retrasos|        prom_dist|\n",
            "+-----+------------------+-----------------+\n",
            "|    7|            514384|841.4772794487611|\n",
            "|    8|            503956|834.8244276603413|\n",
            "|    6|            492847|835.6302716626612|\n",
            "|    3|            492138|816.0553268611494|\n",
            "|    5|            489641|823.3230588760807|\n",
            "|   10|            482878|816.4436127652134|\n",
            "|    4|            479251|817.0060476016745|\n",
            "|   12|            469717|837.8018926194103|\n",
            "|   11|            462367|820.2482434846529|\n",
            "|    9|            462153|815.8487523282274|\n",
            "|    1|            457013|803.2612794913696|\n",
            "|    2|            407663| 800.785449834689|\n",
            "+-----+------------------+-----------------+\n",
            "\n"
          ]
        }
      ],
      "source": [
        "vuelos.groupBy('MONTH').agg(\n",
        "    count('ARRIVAL_DELAY').alias('conteo_de_retrasos'),\n",
        "    avg('DISTANCE').alias('prom_dist')\n",
        ").orderBy(desc('conteo_de_retrasos')).show()"
      ]
    },
    {
      "cell_type": "markdown",
      "metadata": {
        "id": "YiptC7kTgCM6"
      },
      "source": [
        "### Agregación con pivote"
      ]
    },
    {
      "cell_type": "code",
      "execution_count": null,
      "metadata": {
        "colab": {
          "base_uri": "https://localhost:8080/"
        },
        "id": "6YZx8tb1TIME",
        "outputId": "35ff1a47-5c56-44ce-aafd-18105151f5f2"
      },
      "outputs": [
        {
          "name": "stdout",
          "output_type": "stream",
          "text": [
            "+------+----+----+----------+\n",
            "|nombre|sexo|peso|graduacion|\n",
            "+------+----+----+----------+\n",
            "|  Jose|   M|  80|      2000|\n",
            "| Hilda|   F|  50|      2000|\n",
            "|  Juan|   M|  75|      2000|\n",
            "| Pedro|   M|  76|      2001|\n",
            "|Katia+|   F|  65|      2001|\n",
            "+------+----+----+----------+\n",
            "\n"
          ]
        }
      ],
      "source": [
        "# Agregación con pivote\n",
        "\n",
        "import findspark\n",
        "findspark.init()\n",
        "from pyspark.sql import SparkSession\n",
        "from pyspark.sql.functions import min, max, avg, col\n",
        "\n",
        "spark = SparkSession.builder.getOrCreate()\n",
        "\n",
        "estudiantes = spark.read.parquet('estudiantes.parquet')\n",
        "estudiantes.show()"
      ]
    },
    {
      "cell_type": "code",
      "execution_count": null,
      "metadata": {
        "colab": {
          "base_uri": "https://localhost:8080/"
        },
        "id": "Xa356Q-zai-e",
        "outputId": "ed34d7be-a7c9-4816-9d25-7c9240a4fe51"
      },
      "outputs": [
        {
          "name": "stdout",
          "output_type": "stream",
          "text": [
            "+----------+----+----+\n",
            "|graduacion|   F|   M|\n",
            "+----------+----+----+\n",
            "|      2001|65.0|76.0|\n",
            "|      2000|50.0|77.5|\n",
            "+----------+----+----+\n",
            "\n"
          ]
        }
      ],
      "source": [
        "estudiantes.groupBy('graduacion').pivot('sexo').agg(avg('peso')).show()"
      ]
    },
    {
      "cell_type": "code",
      "execution_count": null,
      "metadata": {
        "colab": {
          "base_uri": "https://localhost:8080/"
        },
        "id": "vCAdZA7map5z",
        "outputId": "dca0df5f-5265-4b0f-9cb9-04162309b290"
      },
      "outputs": [
        {
          "name": "stdout",
          "output_type": "stream",
          "text": [
            "+----------+-----------+-----------+-----------+-----------+-----------+-----------+\n",
            "|graduacion|F_avg(peso)|F_min(peso)|F_max(peso)|M_avg(peso)|M_min(peso)|M_max(peso)|\n",
            "+----------+-----------+-----------+-----------+-----------+-----------+-----------+\n",
            "|      2001|       65.0|         65|         65|       76.0|         76|         76|\n",
            "|      2000|       50.0|         50|         50|       77.5|         75|         80|\n",
            "+----------+-----------+-----------+-----------+-----------+-----------+-----------+\n",
            "\n"
          ]
        }
      ],
      "source": [
        "estudiantes.groupBy('graduacion').pivot('sexo').agg(avg('peso'), min('peso'), max('peso')).show()"
      ]
    },
    {
      "cell_type": "code",
      "execution_count": null,
      "metadata": {
        "colab": {
          "base_uri": "https://localhost:8080/"
        },
        "id": "KfmFULyjapwt",
        "outputId": "164b722d-cf87-4e1a-a4c8-977632985ece"
      },
      "outputs": [
        {
          "name": "stdout",
          "output_type": "stream",
          "text": [
            "+----------+-----------+-----------+-----------+\n",
            "|graduacion|M_avg(peso)|M_min(peso)|M_max(peso)|\n",
            "+----------+-----------+-----------+-----------+\n",
            "|      2001|       76.0|         76|         76|\n",
            "|      2000|       77.5|         75|         80|\n",
            "+----------+-----------+-----------+-----------+\n",
            "\n"
          ]
        }
      ],
      "source": [
        "estudiantes.groupBy('graduacion').pivot('sexo', ['M']).agg(avg('peso'), min('peso'), max('peso')).show()"
      ]
    },
    {
      "cell_type": "code",
      "execution_count": null,
      "metadata": {
        "colab": {
          "base_uri": "https://localhost:8080/"
        },
        "id": "lz0lG5CzapqD",
        "outputId": "36e4eb29-731a-481f-95b9-b863845d86e1"
      },
      "outputs": [
        {
          "name": "stdout",
          "output_type": "stream",
          "text": [
            "+----------+-----------+-----------+-----------+\n",
            "|graduacion|F_avg(peso)|F_min(peso)|F_max(peso)|\n",
            "+----------+-----------+-----------+-----------+\n",
            "|      2001|       65.0|         65|         65|\n",
            "|      2000|       50.0|         50|         50|\n",
            "+----------+-----------+-----------+-----------+\n",
            "\n"
          ]
        }
      ],
      "source": [
        "estudiantes.groupBy('graduacion').pivot('sexo', ['F']).agg(avg('peso'), min('peso'), max('peso')).show()"
      ]
    },
    {
      "cell_type": "markdown",
      "metadata": {
        "id": "11-zUlu3lMEK"
      },
      "source": [
        "### Joins en Spark\n"
      ]
    },
    {
      "cell_type": "markdown",
      "metadata": {
        "id": "fI15mskyn41B"
      },
      "source": [
        "#### Tipos de Joins en Spark\n",
        "\n",
        "- inner join:\\\n",
        "Devuelve filas de ambos conjuntos de datos cuando la expresión de join se evalúa como verdadera.\n",
        "- left outer join:\\\n",
        "Devuelve filas del conjunto de datos de la izquierda incluso cuando la expresión de join se evalúa como falsa.\n",
        "- right outer join:\\\n",
        "Devuelve filas del conjunto de datos de la derecha incluso cuando la expresión de join se evalúa como falsa.\n",
        "- outer join:\\\n",
        "Devuelve filas de ambos conjuntos de datos incluso cuando la expresión de join se evalúa como falsa.\n",
        "- left anti join:\\\n",
        "Devuelve filas solo del conjuntos de datos de la izquierda cuando la expresión de join se evalúa como falsa.\n",
        "- left semi join:\\\n",
        "Devuelve filas solo del conjuntos de datos de la izquierda cuando la expresión de join se evalúa como verdadera.\n",
        "- cross:\\\n",
        "Devuelve filas combinando cada fila del conjunto de datos de la izquierda con cada fila del conjunto de datos de la derecha"
      ]
    },
    {
      "cell_type": "markdown",
      "metadata": {
        "id": "cLpY1rmEgPet"
      },
      "source": [
        "#### Inner Join"
      ]
    },
    {
      "cell_type": "code",
      "execution_count": null,
      "metadata": {
        "colab": {
          "base_uri": "https://localhost:8080/"
        },
        "id": "_waX_gIIgP3q",
        "outputId": "9d9cb3b6-c999-46cf-8c8f-3c6697c2d8dc"
      },
      "outputs": [
        {
          "name": "stdout",
          "output_type": "stream",
          "text": [
            "Empleados\n",
            "+------+--------+\n",
            "|nombre|num_dpto|\n",
            "+------+--------+\n",
            "|  Luis|      33|\n",
            "| Katia|      33|\n",
            "|  Raul|      34|\n",
            "| Pedro|       0|\n",
            "| Laura|      34|\n",
            "|Sandro|      31|\n",
            "+------+--------+\n",
            "\n",
            "Departamentos\n",
            "+---+-----------+\n",
            "| id|nombre_dpto|\n",
            "+---+-----------+\n",
            "| 31|     letras|\n",
            "| 33|    derecho|\n",
            "| 34| matemática|\n",
            "| 35|informática|\n",
            "+---+-----------+\n",
            "\n"
          ]
        }
      ],
      "source": [
        "# Inner Join\n",
        "import findspark\n",
        "findspark.init()\n",
        "from pyspark.sql import SparkSession\n",
        "from pyspark.sql.functions import col\n",
        "\n",
        "spark = SparkSession.builder.getOrCreate()\n",
        "\n",
        "empleados = spark.read.parquet('empleados.parquet')\n",
        "departamentos = spark.read.parquet('departamentos.parquet')\n",
        "\n",
        "print(\"Empleados\")\n",
        "empleados.show()\n",
        "print(\"Departamentos\")\n",
        "departamentos.show()"
      ]
    },
    {
      "cell_type": "code",
      "execution_count": null,
      "metadata": {
        "colab": {
          "base_uri": "https://localhost:8080/"
        },
        "id": "3Hx_pYclbCme",
        "outputId": "07ef0cab-db92-487c-ab05-531ee9ad9b01"
      },
      "outputs": [
        {
          "name": "stdout",
          "output_type": "stream",
          "text": [
            "+------+--------+---+-----------+\n",
            "|nombre|num_dpto| id|nombre_dpto|\n",
            "+------+--------+---+-----------+\n",
            "|  Luis|      33| 33|    derecho|\n",
            "| Katia|      33| 33|    derecho|\n",
            "|  Raul|      34| 34| matemática|\n",
            "| Laura|      34| 34| matemática|\n",
            "|Sandro|      31| 31|     letras|\n",
            "+------+--------+---+-----------+\n",
            "\n"
          ]
        }
      ],
      "source": [
        "join_df = empleados.join(departamentos, col('num_dpto') == col('id'))\n",
        "join_df.show()"
      ]
    },
    {
      "cell_type": "code",
      "execution_count": null,
      "metadata": {
        "colab": {
          "base_uri": "https://localhost:8080/"
        },
        "id": "kG-CJ3yobCg7",
        "outputId": "febe9019-a86d-4c24-8b0c-d78c01b529d3"
      },
      "outputs": [
        {
          "name": "stdout",
          "output_type": "stream",
          "text": [
            "+------+--------+---+-----------+\n",
            "|nombre|num_dpto| id|nombre_dpto|\n",
            "+------+--------+---+-----------+\n",
            "|  Luis|      33| 33|    derecho|\n",
            "| Katia|      33| 33|    derecho|\n",
            "|  Raul|      34| 34| matemática|\n",
            "| Laura|      34| 34| matemática|\n",
            "|Sandro|      31| 31|     letras|\n",
            "+------+--------+---+-----------+\n",
            "\n"
          ]
        }
      ],
      "source": [
        "join_df = empleados.join(departamentos, col('num_dpto') == col('id'), 'inner')\n",
        "join_df.show()"
      ]
    },
    {
      "cell_type": "code",
      "execution_count": null,
      "metadata": {
        "colab": {
          "base_uri": "https://localhost:8080/"
        },
        "id": "0O0QMfi6bCaq",
        "outputId": "56cc1d04-07e9-4972-d45c-bb88e959afa4"
      },
      "outputs": [
        {
          "name": "stdout",
          "output_type": "stream",
          "text": [
            "+------+--------+---+-----------+\n",
            "|nombre|num_dpto| id|nombre_dpto|\n",
            "+------+--------+---+-----------+\n",
            "|  Luis|      33| 33|    derecho|\n",
            "| Katia|      33| 33|    derecho|\n",
            "|  Raul|      34| 34| matemática|\n",
            "| Laura|      34| 34| matemática|\n",
            "|Sandro|      31| 31|     letras|\n",
            "+------+--------+---+-----------+\n",
            "\n"
          ]
        }
      ],
      "source": [
        "join_df = empleados.join(departamentos).where(col('num_dpto') == col('id'))\n",
        "join_df.show()"
      ]
    },
    {
      "cell_type": "markdown",
      "metadata": {
        "id": "7KfvGnhbgQZy"
      },
      "source": [
        "#### Left Outer Join"
      ]
    },
    {
      "cell_type": "code",
      "execution_count": null,
      "metadata": {
        "colab": {
          "base_uri": "https://localhost:8080/"
        },
        "id": "fT6syaongQuo",
        "outputId": "bd2ca322-95cd-4c02-bd18-9cf7df7b3e65"
      },
      "outputs": [
        {
          "name": "stdout",
          "output_type": "stream",
          "text": [
            "Empleados\n",
            "+------+--------+\n",
            "|nombre|num_dpto|\n",
            "+------+--------+\n",
            "|  Luis|      33|\n",
            "| Katia|      33|\n",
            "|  Raul|      34|\n",
            "| Pedro|       0|\n",
            "| Laura|      34|\n",
            "|Sandro|      31|\n",
            "+------+--------+\n",
            "\n",
            "Departamentos\n",
            "+---+-----------+\n",
            "| id|nombre_dpto|\n",
            "+---+-----------+\n",
            "| 31|     letras|\n",
            "| 33|    derecho|\n",
            "| 34| matemática|\n",
            "| 35|informática|\n",
            "+---+-----------+\n",
            "\n"
          ]
        }
      ],
      "source": [
        "# Left Outer Join\n",
        "import findspark\n",
        "findspark.init()\n",
        "from pyspark.sql import SparkSession\n",
        "from pyspark.sql.functions import col\n",
        "\n",
        "spark = SparkSession.builder.getOrCreate()\n",
        "\n",
        "empleados = spark.read.parquet('empleados.parquet')\n",
        "departamentos = spark.read.parquet('departamentos.parquet')\n",
        "\n",
        "print(\"Empleados\")\n",
        "empleados.show()\n",
        "print(\"Departamentos\")\n",
        "departamentos.show()"
      ]
    },
    {
      "cell_type": "code",
      "execution_count": null,
      "metadata": {
        "colab": {
          "base_uri": "https://localhost:8080/"
        },
        "id": "4jDAv3YRb1Np",
        "outputId": "cf7b481e-ce70-4c64-ca4b-daf7ed8111c7"
      },
      "outputs": [
        {
          "name": "stdout",
          "output_type": "stream",
          "text": [
            "+------+--------+----+-----------+\n",
            "|nombre|num_dpto|  id|nombre_dpto|\n",
            "+------+--------+----+-----------+\n",
            "|  Luis|      33|  33|    derecho|\n",
            "| Katia|      33|  33|    derecho|\n",
            "|  Raul|      34|  34| matemática|\n",
            "| Pedro|       0|null|       null|\n",
            "| Laura|      34|  34| matemática|\n",
            "|Sandro|      31|  31|     letras|\n",
            "+------+--------+----+-----------+\n",
            "\n"
          ]
        }
      ],
      "source": [
        "empleados.join(departamentos, col('num_dpto') == col('id'), 'leftouter').show()"
      ]
    },
    {
      "cell_type": "code",
      "execution_count": null,
      "metadata": {
        "colab": {
          "base_uri": "https://localhost:8080/"
        },
        "id": "PicxHXHHb1Ch",
        "outputId": "42c3429e-9842-425f-e875-4f05aa371462"
      },
      "outputs": [
        {
          "name": "stdout",
          "output_type": "stream",
          "text": [
            "+------+--------+----+-----------+\n",
            "|nombre|num_dpto|  id|nombre_dpto|\n",
            "+------+--------+----+-----------+\n",
            "|  Luis|      33|  33|    derecho|\n",
            "| Katia|      33|  33|    derecho|\n",
            "|  Raul|      34|  34| matemática|\n",
            "| Pedro|       0|null|       null|\n",
            "| Laura|      34|  34| matemática|\n",
            "|Sandro|      31|  31|     letras|\n",
            "+------+--------+----+-----------+\n",
            "\n"
          ]
        }
      ],
      "source": [
        "empleados.join(departamentos, col('num_dpto') == col('id'), 'left_outer').show()"
      ]
    },
    {
      "cell_type": "code",
      "execution_count": null,
      "metadata": {
        "colab": {
          "base_uri": "https://localhost:8080/"
        },
        "id": "9JguWyKob09R",
        "outputId": "cdea9441-9fe5-470d-c190-108442da0e22"
      },
      "outputs": [
        {
          "name": "stdout",
          "output_type": "stream",
          "text": [
            "+------+--------+----+-----------+\n",
            "|nombre|num_dpto|  id|nombre_dpto|\n",
            "+------+--------+----+-----------+\n",
            "|  Luis|      33|  33|    derecho|\n",
            "| Katia|      33|  33|    derecho|\n",
            "|  Raul|      34|  34| matemática|\n",
            "| Pedro|       0|null|       null|\n",
            "| Laura|      34|  34| matemática|\n",
            "|Sandro|      31|  31|     letras|\n",
            "+------+--------+----+-----------+\n",
            "\n"
          ]
        }
      ],
      "source": [
        "empleados.join(departamentos, col('num_dpto') == col('id'), 'left').show()"
      ]
    },
    {
      "cell_type": "markdown",
      "metadata": {
        "id": "yw4AEEhRgRJ8"
      },
      "source": [
        "#### Right Outer Join"
      ]
    },
    {
      "cell_type": "code",
      "execution_count": null,
      "metadata": {
        "colab": {
          "base_uri": "https://localhost:8080/"
        },
        "id": "MPV0x9RKgRie",
        "outputId": "dab4e636-5895-4a12-b585-5f75922fe6a3"
      },
      "outputs": [
        {
          "name": "stdout",
          "output_type": "stream",
          "text": [
            "Empleados\n",
            "+------+--------+\n",
            "|nombre|num_dpto|\n",
            "+------+--------+\n",
            "|  Luis|      33|\n",
            "| Katia|      33|\n",
            "|  Raul|      34|\n",
            "| Pedro|       0|\n",
            "| Laura|      34|\n",
            "|Sandro|      31|\n",
            "+------+--------+\n",
            "\n",
            "Departamentos\n",
            "+---+-----------+\n",
            "| id|nombre_dpto|\n",
            "+---+-----------+\n",
            "| 31|     letras|\n",
            "| 33|    derecho|\n",
            "| 34| matemática|\n",
            "| 35|informática|\n",
            "+---+-----------+\n",
            "\n"
          ]
        }
      ],
      "source": [
        "# Right Outer Join\n",
        "import findspark\n",
        "findspark.init()\n",
        "from pyspark.sql import SparkSession\n",
        "from pyspark.sql.functions import col\n",
        "\n",
        "spark = SparkSession.builder.getOrCreate()\n",
        "\n",
        "empleados = spark.read.parquet('empleados.parquet')\n",
        "departamentos = spark.read.parquet('departamentos.parquet')\n",
        "\n",
        "print(\"Empleados\")\n",
        "empleados.show()\n",
        "print(\"Departamentos\")\n",
        "departamentos.show()"
      ]
    },
    {
      "cell_type": "code",
      "execution_count": null,
      "metadata": {
        "colab": {
          "base_uri": "https://localhost:8080/"
        },
        "id": "v1OmiS32cJ3Z",
        "outputId": "b930c5a5-8c49-40fc-ce79-f3333a59672a"
      },
      "outputs": [
        {
          "name": "stdout",
          "output_type": "stream",
          "text": [
            "+------+--------+---+-----------+\n",
            "|nombre|num_dpto| id|nombre_dpto|\n",
            "+------+--------+---+-----------+\n",
            "|Sandro|      31| 31|     letras|\n",
            "| Katia|      33| 33|    derecho|\n",
            "|  Luis|      33| 33|    derecho|\n",
            "| Laura|      34| 34| matemática|\n",
            "|  Raul|      34| 34| matemática|\n",
            "|  null|    null| 35|informática|\n",
            "+------+--------+---+-----------+\n",
            "\n"
          ]
        }
      ],
      "source": [
        "empleados.join(departamentos, col('num_dpto') == col('id'), 'rightouter').show()"
      ]
    },
    {
      "cell_type": "code",
      "execution_count": null,
      "metadata": {
        "colab": {
          "base_uri": "https://localhost:8080/"
        },
        "id": "oYieMMd2cJt9",
        "outputId": "e92a3f6e-c81a-4775-8c43-7f6a8b160f5b"
      },
      "outputs": [
        {
          "name": "stdout",
          "output_type": "stream",
          "text": [
            "+------+--------+---+-----------+\n",
            "|nombre|num_dpto| id|nombre_dpto|\n",
            "+------+--------+---+-----------+\n",
            "|Sandro|      31| 31|     letras|\n",
            "| Katia|      33| 33|    derecho|\n",
            "|  Luis|      33| 33|    derecho|\n",
            "| Laura|      34| 34| matemática|\n",
            "|  Raul|      34| 34| matemática|\n",
            "|  null|    null| 35|informática|\n",
            "+------+--------+---+-----------+\n",
            "\n"
          ]
        }
      ],
      "source": [
        "empleados.join(departamentos, col('num_dpto') == col('id'), 'right_outer').show()"
      ]
    },
    {
      "cell_type": "code",
      "execution_count": null,
      "metadata": {
        "colab": {
          "base_uri": "https://localhost:8080/"
        },
        "id": "32_XnEWocJro",
        "outputId": "c3c5ab29-19eb-41dd-e76d-0e73206b3694"
      },
      "outputs": [
        {
          "name": "stdout",
          "output_type": "stream",
          "text": [
            "+------+--------+---+-----------+\n",
            "|nombre|num_dpto| id|nombre_dpto|\n",
            "+------+--------+---+-----------+\n",
            "|Sandro|      31| 31|     letras|\n",
            "| Katia|      33| 33|    derecho|\n",
            "|  Luis|      33| 33|    derecho|\n",
            "| Laura|      34| 34| matemática|\n",
            "|  Raul|      34| 34| matemática|\n",
            "|  null|    null| 35|informática|\n",
            "+------+--------+---+-----------+\n",
            "\n"
          ]
        }
      ],
      "source": [
        "empleados.join(departamentos, col('num_dpto') == col('id'), 'right').show()"
      ]
    },
    {
      "cell_type": "markdown",
      "metadata": {
        "id": "_9ZcZL6XgfSK"
      },
      "source": [
        "#### Full Outer Join"
      ]
    },
    {
      "cell_type": "markdown",
      "metadata": {
        "id": "y8DbBI1YsFjC"
      },
      "source": [
        "Es el equivalente a un left outer y right outer combinados."
      ]
    },
    {
      "cell_type": "code",
      "execution_count": null,
      "metadata": {
        "colab": {
          "base_uri": "https://localhost:8080/"
        },
        "id": "S20OuGOfgfm9",
        "outputId": "78289d1d-514d-47e1-e0ec-9ab64293ef2f"
      },
      "outputs": [
        {
          "name": "stdout",
          "output_type": "stream",
          "text": [
            "Empleados\n",
            "+------+--------+\n",
            "|nombre|num_dpto|\n",
            "+------+--------+\n",
            "|  Luis|      33|\n",
            "| Katia|      33|\n",
            "|  Raul|      34|\n",
            "| Pedro|       0|\n",
            "| Laura|      34|\n",
            "|Sandro|      31|\n",
            "+------+--------+\n",
            "\n",
            "Departamentos\n",
            "+---+-----------+\n",
            "| id|nombre_dpto|\n",
            "+---+-----------+\n",
            "| 31|     letras|\n",
            "| 33|    derecho|\n",
            "| 34| matemática|\n",
            "| 35|informática|\n",
            "+---+-----------+\n",
            "\n"
          ]
        }
      ],
      "source": [
        "# Full Outer Join\n",
        "import findspark\n",
        "findspark.init()\n",
        "from pyspark.sql import SparkSession\n",
        "from pyspark.sql.functions import col\n",
        "\n",
        "spark = SparkSession.builder.getOrCreate()\n",
        "\n",
        "empleados = spark.read.parquet('empleados.parquet')\n",
        "departamentos = spark.read.parquet('departamentos.parquet')\n",
        "\n",
        "print(\"Empleados\")\n",
        "empleados.show()\n",
        "print(\"Departamentos\")\n",
        "departamentos.show()"
      ]
    },
    {
      "cell_type": "code",
      "execution_count": null,
      "metadata": {
        "colab": {
          "base_uri": "https://localhost:8080/"
        },
        "id": "EU1Eu28mdO1_",
        "outputId": "50edf3f0-6af9-4935-f183-88e7faebec2e"
      },
      "outputs": [
        {
          "name": "stdout",
          "output_type": "stream",
          "text": [
            "+------+--------+----+-----------+\n",
            "|nombre|num_dpto|  id|nombre_dpto|\n",
            "+------+--------+----+-----------+\n",
            "| Pedro|       0|null|       null|\n",
            "|Sandro|      31|  31|     letras|\n",
            "|  Luis|      33|  33|    derecho|\n",
            "| Katia|      33|  33|    derecho|\n",
            "|  Raul|      34|  34| matemática|\n",
            "| Laura|      34|  34| matemática|\n",
            "|  null|    null|  35|informática|\n",
            "+------+--------+----+-----------+\n",
            "\n"
          ]
        }
      ],
      "source": [
        "empleados.join(departamentos, col('num_dpto') == col('id'), 'outer').show()"
      ]
    },
    {
      "cell_type": "markdown",
      "metadata": {
        "id": "8J-s9XH4ggHo"
      },
      "source": [
        "#### Left Anti Join"
      ]
    },
    {
      "cell_type": "markdown",
      "metadata": {
        "id": "Xx6sllnLsQHB"
      },
      "source": [
        "Permite averiguar que filas del conjunto de datos de la izquierda no tiene filas coincidentes en el conjunto de datos de la derecha.\\\n",
        "El conjunto de datos resultantes contendrá sólo las columnas del conjunto de datos de la izquierda."
      ]
    },
    {
      "cell_type": "code",
      "execution_count": null,
      "metadata": {
        "colab": {
          "base_uri": "https://localhost:8080/"
        },
        "id": "mgjIJmo7gglZ",
        "outputId": "98bc63e4-0f5f-422a-d0f8-3f3deddaee7c"
      },
      "outputs": [
        {
          "name": "stdout",
          "output_type": "stream",
          "text": [
            "Empleados\n",
            "+------+--------+\n",
            "|nombre|num_dpto|\n",
            "+------+--------+\n",
            "|  Luis|      33|\n",
            "| Katia|      33|\n",
            "|  Raul|      34|\n",
            "| Pedro|       0|\n",
            "| Laura|      34|\n",
            "|Sandro|      31|\n",
            "+------+--------+\n",
            "\n",
            "Departamentos\n",
            "+---+-----------+\n",
            "| id|nombre_dpto|\n",
            "+---+-----------+\n",
            "| 31|     letras|\n",
            "| 33|    derecho|\n",
            "| 34| matemática|\n",
            "| 35|informática|\n",
            "+---+-----------+\n",
            "\n"
          ]
        }
      ],
      "source": [
        "# Left Anti Join\n",
        "import findspark\n",
        "findspark.init()\n",
        "from pyspark.sql import SparkSession\n",
        "from pyspark.sql.functions import col\n",
        "\n",
        "spark = SparkSession.builder.getOrCreate()\n",
        "\n",
        "empleados = spark.read.parquet('empleados.parquet')\n",
        "departamentos = spark.read.parquet('departamentos.parquet')\n",
        "\n",
        "print(\"Empleados\")\n",
        "empleados.show()\n",
        "print(\"Departamentos\")\n",
        "departamentos.show()"
      ]
    },
    {
      "cell_type": "code",
      "execution_count": null,
      "metadata": {
        "colab": {
          "base_uri": "https://localhost:8080/"
        },
        "id": "Lx573ZgOefUh",
        "outputId": "e6eafe02-cf86-4ac0-fa0b-c36f4389273f"
      },
      "outputs": [
        {
          "name": "stdout",
          "output_type": "stream",
          "text": [
            "+------+--------+\n",
            "|nombre|num_dpto|\n",
            "+------+--------+\n",
            "| Pedro|       0|\n",
            "+------+--------+\n",
            "\n"
          ]
        }
      ],
      "source": [
        "empleados.join(departamentos, col('num_dpto') == col('id'), 'left_anti').show()"
      ]
    },
    {
      "cell_type": "code",
      "execution_count": null,
      "metadata": {
        "colab": {
          "base_uri": "https://localhost:8080/"
        },
        "id": "dEBL_UrXefO7",
        "outputId": "784d4eab-bdf3-443f-f3ce-3db60cd384df"
      },
      "outputs": [
        {
          "name": "stdout",
          "output_type": "stream",
          "text": [
            "+---+-----------+\n",
            "| id|nombre_dpto|\n",
            "+---+-----------+\n",
            "| 35|informática|\n",
            "+---+-----------+\n",
            "\n"
          ]
        }
      ],
      "source": [
        "departamentos.join(empleados, col('num_dpto') == col('id'), 'left_anti').show()"
      ]
    },
    {
      "cell_type": "markdown",
      "metadata": {
        "id": "sEmAsVQvgiLr"
      },
      "source": [
        "#### Left Semi Join"
      ]
    },
    {
      "cell_type": "markdown",
      "metadata": {
        "id": "W-jYcZZcTdeF"
      },
      "source": [
        "Es similar al inner join, excepto que el conjunto de datos resultante, no incluy las columnas del conjunto de datos de la derecha.\n",
        "Es el comportamiento opuesto al left anti join."
      ]
    },
    {
      "cell_type": "code",
      "execution_count": null,
      "metadata": {
        "colab": {
          "base_uri": "https://localhost:8080/"
        },
        "id": "UcQ0Xsj1gjCc",
        "outputId": "61756779-7a71-4131-c047-41da46fc5be6"
      },
      "outputs": [
        {
          "name": "stdout",
          "output_type": "stream",
          "text": [
            "Empleados\n",
            "+------+--------+\n",
            "|nombre|num_dpto|\n",
            "+------+--------+\n",
            "|  Luis|      33|\n",
            "| Katia|      33|\n",
            "|  Raul|      34|\n",
            "| Pedro|       0|\n",
            "| Laura|      34|\n",
            "|Sandro|      31|\n",
            "+------+--------+\n",
            "\n",
            "Departamentos\n",
            "+---+-----------+\n",
            "| id|nombre_dpto|\n",
            "+---+-----------+\n",
            "| 31|     letras|\n",
            "| 33|    derecho|\n",
            "| 34| matemática|\n",
            "| 35|informática|\n",
            "+---+-----------+\n",
            "\n"
          ]
        }
      ],
      "source": [
        "# Left Semi Join\n",
        "import findspark\n",
        "findspark.init()\n",
        "from pyspark.sql import SparkSession\n",
        "from pyspark.sql.functions import col\n",
        "\n",
        "spark = SparkSession.builder.getOrCreate()\n",
        "\n",
        "empleados = spark.read.parquet('empleados.parquet')\n",
        "departamentos = spark.read.parquet('departamentos.parquet')\n",
        "\n",
        "print(\"Empleados\")\n",
        "empleados.show()\n",
        "print(\"Departamentos\")\n",
        "departamentos.show()"
      ]
    },
    {
      "cell_type": "code",
      "execution_count": null,
      "metadata": {
        "colab": {
          "base_uri": "https://localhost:8080/"
        },
        "id": "beyH2w60ev1D",
        "outputId": "cc0581f6-5839-42a1-a8a6-ed738498a038"
      },
      "outputs": [
        {
          "name": "stdout",
          "output_type": "stream",
          "text": [
            "+------+--------+\n",
            "|nombre|num_dpto|\n",
            "+------+--------+\n",
            "|  Luis|      33|\n",
            "| Katia|      33|\n",
            "|  Raul|      34|\n",
            "| Laura|      34|\n",
            "|Sandro|      31|\n",
            "+------+--------+\n",
            "\n"
          ]
        }
      ],
      "source": [
        "empleados.join(departamentos, col('num_dpto') == col('id'), 'left_semi').show()"
      ]
    },
    {
      "cell_type": "markdown",
      "metadata": {
        "id": "vvfgFSC9gjao"
      },
      "source": [
        "#### Cross Join"
      ]
    },
    {
      "cell_type": "markdown",
      "metadata": {
        "id": "ugBUgm7AULMy"
      },
      "source": [
        "Comportamiento peligroso:\\\n",
        "Une cada fila de datos del conjunto de la izquierda con cada fila del conjunto de datos de la derecha.\\\n",
        "Tiene una función dedicada."
      ]
    },
    {
      "cell_type": "code",
      "execution_count": null,
      "metadata": {
        "colab": {
          "base_uri": "https://localhost:8080/"
        },
        "id": "di9GHBeFgjzD",
        "outputId": "d3e977db-6952-47ed-a0f7-672ec5d49ea1"
      },
      "outputs": [
        {
          "name": "stdout",
          "output_type": "stream",
          "text": [
            "Empleados\n",
            "+------+--------+\n",
            "|nombre|num_dpto|\n",
            "+------+--------+\n",
            "|  Luis|      33|\n",
            "| Katia|      33|\n",
            "|  Raul|      34|\n",
            "| Pedro|       0|\n",
            "| Laura|      34|\n",
            "|Sandro|      31|\n",
            "+------+--------+\n",
            "\n",
            "Departamentos\n",
            "+---+-----------+\n",
            "| id|nombre_dpto|\n",
            "+---+-----------+\n",
            "| 31|     letras|\n",
            "| 33|    derecho|\n",
            "| 34| matemática|\n",
            "| 35|informática|\n",
            "+---+-----------+\n",
            "\n"
          ]
        }
      ],
      "source": [
        "# Cross Join\n",
        "import findspark\n",
        "findspark.init()\n",
        "from pyspark.sql import SparkSession\n",
        "from pyspark.sql.functions import col\n",
        "\n",
        "spark = SparkSession.builder.getOrCreate()\n",
        "\n",
        "empleados = spark.read.parquet('empleados.parquet')\n",
        "departamentos = spark.read.parquet('departamentos.parquet')\n",
        "\n",
        "print(\"Empleados\")\n",
        "empleados.show()\n",
        "print(\"Departamentos\")\n",
        "departamentos.show()"
      ]
    },
    {
      "cell_type": "code",
      "execution_count": null,
      "metadata": {
        "colab": {
          "base_uri": "https://localhost:8080/"
        },
        "id": "9KHAepcne-n2",
        "outputId": "e4a23e67-bde2-4996-aeff-447bf40fa92b"
      },
      "outputs": [
        {
          "name": "stdout",
          "output_type": "stream",
          "text": [
            "+------+--------+---+-----------+\n",
            "|nombre|num_dpto| id|nombre_dpto|\n",
            "+------+--------+---+-----------+\n",
            "|  Luis|      33| 31|     letras|\n",
            "|  Luis|      33| 33|    derecho|\n",
            "|  Luis|      33| 34| matemática|\n",
            "|  Luis|      33| 35|informática|\n",
            "| Katia|      33| 31|     letras|\n",
            "| Katia|      33| 33|    derecho|\n",
            "| Katia|      33| 34| matemática|\n",
            "| Katia|      33| 35|informática|\n",
            "|  Raul|      34| 31|     letras|\n",
            "|  Raul|      34| 33|    derecho|\n",
            "|  Raul|      34| 34| matemática|\n",
            "|  Raul|      34| 35|informática|\n",
            "| Pedro|       0| 31|     letras|\n",
            "| Pedro|       0| 33|    derecho|\n",
            "| Pedro|       0| 34| matemática|\n",
            "| Pedro|       0| 35|informática|\n",
            "| Laura|      34| 31|     letras|\n",
            "| Laura|      34| 33|    derecho|\n",
            "| Laura|      34| 34| matemática|\n",
            "| Laura|      34| 35|informática|\n",
            "+------+--------+---+-----------+\n",
            "only showing top 20 rows\n",
            "\n"
          ]
        },
        {
          "data": {
            "text/plain": [
              "24"
            ]
          },
          "execution_count": 54,
          "metadata": {},
          "output_type": "execute_result"
        }
      ],
      "source": [
        "df = empleados.crossJoin(departamentos)\n",
        "df.show()\n",
        "df.count()"
      ]
    },
    {
      "cell_type": "markdown",
      "metadata": {
        "id": "DBCbKPrZgkJh"
      },
      "source": [
        "### Manejo de nombres de columnas duplicados"
      ]
    },
    {
      "cell_type": "code",
      "execution_count": null,
      "metadata": {
        "colab": {
          "base_uri": "https://localhost:8080/"
        },
        "id": "FncyxGK5gk32",
        "outputId": "d2837686-ec0b-43f7-9553-377ab6ae0864"
      },
      "outputs": [
        {
          "name": "stdout",
          "output_type": "stream",
          "text": [
            "Empleados\n",
            "+------+--------+\n",
            "|nombre|num_dpto|\n",
            "+------+--------+\n",
            "|  Luis|      33|\n",
            "| Katia|      33|\n",
            "|  Raul|      34|\n",
            "| Pedro|       0|\n",
            "| Laura|      34|\n",
            "|Sandro|      31|\n",
            "+------+--------+\n",
            "\n",
            "Departamentos\n",
            "+---+-----------+\n",
            "| id|nombre_dpto|\n",
            "+---+-----------+\n",
            "| 31|     letras|\n",
            "| 33|    derecho|\n",
            "| 34| matemática|\n",
            "| 35|informática|\n",
            "+---+-----------+\n",
            "\n"
          ]
        }
      ],
      "source": [
        "# Manejo de nombres de columnas duplicados\n",
        "import findspark\n",
        "findspark.init()\n",
        "from pyspark.sql import SparkSession\n",
        "from pyspark.sql.functions import col\n",
        "\n",
        "spark = SparkSession.builder.getOrCreate()\n",
        "\n",
        "empleados = spark.read.parquet('empleados.parquet')\n",
        "departamentos = spark.read.parquet('departamentos.parquet')\n",
        "\n",
        "print(\"Empleados\")\n",
        "empleados.show()\n",
        "print(\"Departamentos\")\n",
        "departamentos.show()"
      ]
    },
    {
      "cell_type": "code",
      "execution_count": null,
      "metadata": {
        "colab": {
          "base_uri": "https://localhost:8080/"
        },
        "id": "OVM0dwK7fSR9",
        "outputId": "616f8a45-ff25-4c0a-a70b-2080b271cbca"
      },
      "outputs": [
        {
          "name": "stdout",
          "output_type": "stream",
          "text": [
            "root\n",
            " |-- id: long (nullable = true)\n",
            " |-- nombre_dpto: string (nullable = true)\n",
            " |-- num_dpto: long (nullable = true)\n",
            "\n",
            "root\n",
            " |-- nombre: string (nullable = true)\n",
            " |-- num_dpto: long (nullable = true)\n",
            "\n"
          ]
        }
      ],
      "source": [
        "depa = departamentos.withColumn('num_dpto', col('id'))\n",
        "depa.printSchema()\n",
        "\n",
        "empleados.printSchema()"
      ]
    },
    {
      "cell_type": "code",
      "execution_count": null,
      "metadata": {
        "colab": {
          "base_uri": "https://localhost:8080/",
          "height": 314
        },
        "id": "iGErwbN9fSKB",
        "outputId": "514a291b-ad30-4212-8e98-800765f8278e"
      },
      "outputs": [
        {
          "ename": "AnalysisException",
          "evalue": "Reference 'num_dpto' is ambiguous, could be: num_dpto, num_dpto.",
          "output_type": "error",
          "traceback": [
            "\u001b[0;31m---------------------------------------------------------------------------\u001b[0m",
            "\u001b[0;31mAnalysisException\u001b[0m                         Traceback (most recent call last)",
            "\u001b[0;32m<ipython-input-57-2a9df8b2d44b>\u001b[0m in \u001b[0;36m<cell line: 2>\u001b[0;34m()\u001b[0m\n\u001b[1;32m      1\u001b[0m \u001b[0;31m# Devuelve un error\u001b[0m\u001b[0;34m\u001b[0m\u001b[0;34m\u001b[0m\u001b[0m\n\u001b[0;32m----> 2\u001b[0;31m \u001b[0mempleados\u001b[0m\u001b[0;34m.\u001b[0m\u001b[0mjoin\u001b[0m\u001b[0;34m(\u001b[0m\u001b[0mdepa\u001b[0m\u001b[0;34m,\u001b[0m \u001b[0mcol\u001b[0m\u001b[0;34m(\u001b[0m\u001b[0;34m'num_dpto'\u001b[0m\u001b[0;34m)\u001b[0m \u001b[0;34m==\u001b[0m \u001b[0mcol\u001b[0m\u001b[0;34m(\u001b[0m\u001b[0;34m'num_dpto'\u001b[0m\u001b[0;34m)\u001b[0m\u001b[0;34m)\u001b[0m\u001b[0;34m\u001b[0m\u001b[0;34m\u001b[0m\u001b[0m\n\u001b[0m",
            "\u001b[0;32m/content/spark-3.2.4-bin-hadoop3.2/python/pyspark/sql/dataframe.py\u001b[0m in \u001b[0;36mjoin\u001b[0;34m(self, other, on, how)\u001b[0m\n\u001b[1;32m   1353\u001b[0m                 \u001b[0mon\u001b[0m \u001b[0;34m=\u001b[0m \u001b[0mself\u001b[0m\u001b[0;34m.\u001b[0m\u001b[0m_jseq\u001b[0m\u001b[0;34m(\u001b[0m\u001b[0;34m[\u001b[0m\u001b[0;34m]\u001b[0m\u001b[0;34m)\u001b[0m\u001b[0;34m\u001b[0m\u001b[0;34m\u001b[0m\u001b[0m\n\u001b[1;32m   1354\u001b[0m             \u001b[0;32massert\u001b[0m \u001b[0misinstance\u001b[0m\u001b[0;34m(\u001b[0m\u001b[0mhow\u001b[0m\u001b[0;34m,\u001b[0m \u001b[0mstr\u001b[0m\u001b[0;34m)\u001b[0m\u001b[0;34m,\u001b[0m \u001b[0;34m\"how should be a string\"\u001b[0m\u001b[0;34m\u001b[0m\u001b[0;34m\u001b[0m\u001b[0m\n\u001b[0;32m-> 1355\u001b[0;31m             \u001b[0mjdf\u001b[0m \u001b[0;34m=\u001b[0m \u001b[0mself\u001b[0m\u001b[0;34m.\u001b[0m\u001b[0m_jdf\u001b[0m\u001b[0;34m.\u001b[0m\u001b[0mjoin\u001b[0m\u001b[0;34m(\u001b[0m\u001b[0mother\u001b[0m\u001b[0;34m.\u001b[0m\u001b[0m_jdf\u001b[0m\u001b[0;34m,\u001b[0m \u001b[0mon\u001b[0m\u001b[0;34m,\u001b[0m \u001b[0mhow\u001b[0m\u001b[0;34m)\u001b[0m\u001b[0;34m\u001b[0m\u001b[0;34m\u001b[0m\u001b[0m\n\u001b[0m\u001b[1;32m   1356\u001b[0m         \u001b[0;32mreturn\u001b[0m \u001b[0mDataFrame\u001b[0m\u001b[0;34m(\u001b[0m\u001b[0mjdf\u001b[0m\u001b[0;34m,\u001b[0m \u001b[0mself\u001b[0m\u001b[0;34m.\u001b[0m\u001b[0msql_ctx\u001b[0m\u001b[0;34m)\u001b[0m\u001b[0;34m\u001b[0m\u001b[0;34m\u001b[0m\u001b[0m\n\u001b[1;32m   1357\u001b[0m \u001b[0;34m\u001b[0m\u001b[0m\n",
            "\u001b[0;32m/content/spark-3.2.4-bin-hadoop3.2/python/lib/py4j-0.10.9.5-src.zip/py4j/java_gateway.py\u001b[0m in \u001b[0;36m__call__\u001b[0;34m(self, *args)\u001b[0m\n\u001b[1;32m   1319\u001b[0m \u001b[0;34m\u001b[0m\u001b[0m\n\u001b[1;32m   1320\u001b[0m         \u001b[0manswer\u001b[0m \u001b[0;34m=\u001b[0m \u001b[0mself\u001b[0m\u001b[0;34m.\u001b[0m\u001b[0mgateway_client\u001b[0m\u001b[0;34m.\u001b[0m\u001b[0msend_command\u001b[0m\u001b[0;34m(\u001b[0m\u001b[0mcommand\u001b[0m\u001b[0;34m)\u001b[0m\u001b[0;34m\u001b[0m\u001b[0;34m\u001b[0m\u001b[0m\n\u001b[0;32m-> 1321\u001b[0;31m         return_value = get_return_value(\n\u001b[0m\u001b[1;32m   1322\u001b[0m             answer, self.gateway_client, self.target_id, self.name)\n\u001b[1;32m   1323\u001b[0m \u001b[0;34m\u001b[0m\u001b[0m\n",
            "\u001b[0;32m/content/spark-3.2.4-bin-hadoop3.2/python/pyspark/sql/utils.py\u001b[0m in \u001b[0;36mdeco\u001b[0;34m(*a, **kw)\u001b[0m\n\u001b[1;32m    115\u001b[0m                 \u001b[0;31m# Hide where the exception came from that shows a non-Pythonic\u001b[0m\u001b[0;34m\u001b[0m\u001b[0;34m\u001b[0m\u001b[0m\n\u001b[1;32m    116\u001b[0m                 \u001b[0;31m# JVM exception message.\u001b[0m\u001b[0;34m\u001b[0m\u001b[0;34m\u001b[0m\u001b[0m\n\u001b[0;32m--> 117\u001b[0;31m                 \u001b[0;32mraise\u001b[0m \u001b[0mconverted\u001b[0m \u001b[0;32mfrom\u001b[0m \u001b[0;32mNone\u001b[0m\u001b[0;34m\u001b[0m\u001b[0;34m\u001b[0m\u001b[0m\n\u001b[0m\u001b[1;32m    118\u001b[0m             \u001b[0;32melse\u001b[0m\u001b[0;34m:\u001b[0m\u001b[0;34m\u001b[0m\u001b[0;34m\u001b[0m\u001b[0m\n\u001b[1;32m    119\u001b[0m                 \u001b[0;32mraise\u001b[0m\u001b[0;34m\u001b[0m\u001b[0;34m\u001b[0m\u001b[0m\n",
            "\u001b[0;31mAnalysisException\u001b[0m: Reference 'num_dpto' is ambiguous, could be: num_dpto, num_dpto."
          ]
        }
      ],
      "source": [
        "# Devuelve un error\n",
        "empleados.join(depa, col('num_dpto') == col('num_dpto'))"
      ]
    },
    {
      "cell_type": "code",
      "execution_count": null,
      "metadata": {
        "colab": {
          "base_uri": "https://localhost:8080/"
        },
        "id": "n_H4rB8IfSFz",
        "outputId": "f3dbe678-2403-4e38-ff81-37089daa41d0"
      },
      "outputs": [
        {
          "name": "stdout",
          "output_type": "stream",
          "text": [
            "root\n",
            " |-- nombre: string (nullable = true)\n",
            " |-- num_dpto: long (nullable = true)\n",
            " |-- id: long (nullable = true)\n",
            " |-- nombre_dpto: string (nullable = true)\n",
            " |-- num_dpto: long (nullable = true)\n",
            "\n"
          ]
        }
      ],
      "source": [
        "# Forma correcta\n",
        "df_con_duplicados = empleados.join(depa, empleados['num_dpto'] == depa['num_dpto'])\n",
        "df_con_duplicados.printSchema()"
      ]
    },
    {
      "cell_type": "code",
      "execution_count": null,
      "metadata": {
        "colab": {
          "base_uri": "https://localhost:8080/"
        },
        "id": "KyYaavjgf4jg",
        "outputId": "098b5894-5fc4-4bd8-fcc6-6b10b436a4f1"
      },
      "outputs": [
        {
          "name": "stdout",
          "output_type": "stream",
          "text": [
            "+--------+\n",
            "|num_dpto|\n",
            "+--------+\n",
            "|      33|\n",
            "|      33|\n",
            "|      34|\n",
            "|      34|\n",
            "|      31|\n",
            "+--------+\n",
            "\n"
          ]
        }
      ],
      "source": [
        "df_con_duplicados.select(empleados['num_dpto']).show()"
      ]
    },
    {
      "cell_type": "code",
      "execution_count": null,
      "metadata": {
        "colab": {
          "base_uri": "https://localhost:8080/"
        },
        "id": "x-xROvIufvB6",
        "outputId": "288fdb12-d392-4613-9527-e7e6d58ab68d"
      },
      "outputs": [
        {
          "name": "stdout",
          "output_type": "stream",
          "text": [
            "root\n",
            " |-- num_dpto: long (nullable = true)\n",
            " |-- nombre: string (nullable = true)\n",
            " |-- id: long (nullable = true)\n",
            " |-- nombre_dpto: string (nullable = true)\n",
            "\n"
          ]
        }
      ],
      "source": [
        "df2 = empleados.join(depa, 'num_dpto')\n",
        "df2.printSchema()"
      ]
    },
    {
      "cell_type": "code",
      "execution_count": null,
      "metadata": {
        "colab": {
          "base_uri": "https://localhost:8080/"
        },
        "id": "F5L37PWnfuwI",
        "outputId": "2f20beab-9c56-4614-8013-c963399ddce5"
      },
      "outputs": [
        {
          "name": "stdout",
          "output_type": "stream",
          "text": [
            "root\n",
            " |-- num_dpto: long (nullable = true)\n",
            " |-- nombre: string (nullable = true)\n",
            " |-- id: long (nullable = true)\n",
            " |-- nombre_dpto: string (nullable = true)\n",
            "\n"
          ]
        }
      ],
      "source": [
        "empleados.join(depa, ['num_dpto']).printSchema()"
      ]
    },
    {
      "cell_type": "markdown",
      "metadata": {
        "id": "7-9rwntjglSm"
      },
      "source": [
        "### Shuffle, hash join y broadcast hash join"
      ]
    },
    {
      "cell_type": "markdown",
      "metadata": {
        "id": "MpHyAWKpk803"
      },
      "source": [
        "Los join son una de las operaciones más costosas de Spark, por eso se implementan estrategias que se basan en el tamaño del conjunto de los datos.\n",
        "\n",
        "Estrategias que usa Spark para unir dos conjuntos de datos:\n",
        "\n",
        "- Shuffle Hash Join:\n",
        "Ambos conjuntos de datos es grande\n",
        "- Broadcast Hash Join:\n",
        "Los dos o uno de los conjuntos de datos es pequeño, lo suficiente como para que entre en la memoria de los ejecutores."
      ]
    },
    {
      "cell_type": "code",
      "execution_count": null,
      "metadata": {
        "colab": {
          "base_uri": "https://localhost:8080/"
        },
        "id": "MM0cQYctglpe",
        "outputId": "5b1f2db4-1a20-4234-b1bb-c47e66f3ede9"
      },
      "outputs": [
        {
          "name": "stdout",
          "output_type": "stream",
          "text": [
            "Empleados\n",
            "+------+--------+\n",
            "|nombre|num_dpto|\n",
            "+------+--------+\n",
            "|  Luis|      33|\n",
            "| Katia|      33|\n",
            "|  Raul|      34|\n",
            "| Pedro|       0|\n",
            "| Laura|      34|\n",
            "|Sandro|      31|\n",
            "+------+--------+\n",
            "\n",
            "Departamentos\n",
            "+---+-----------+\n",
            "| id|nombre_dpto|\n",
            "+---+-----------+\n",
            "| 31|     letras|\n",
            "| 33|    derecho|\n",
            "| 34| matemática|\n",
            "| 35|informática|\n",
            "+---+-----------+\n",
            "\n"
          ]
        }
      ],
      "source": [
        "# Shuffle Hash Join y Broadcast Hash Join\n",
        "import findspark\n",
        "findspark.init()\n",
        "from pyspark.sql import SparkSession\n",
        "from pyspark.sql.functions import col, broadcast\n",
        "\n",
        "spark = SparkSession.builder.getOrCreate()\n",
        "\n",
        "empleados = spark.read.parquet('empleados.parquet')\n",
        "departamentos = spark.read.parquet('departamentos.parquet')\n",
        "\n",
        "print(\"Empleados\")\n",
        "empleados.show()\n",
        "print(\"Departamentos\")\n",
        "departamentos.show()"
      ]
    },
    {
      "cell_type": "code",
      "execution_count": null,
      "metadata": {
        "colab": {
          "base_uri": "https://localhost:8080/"
        },
        "id": "PzC6znTRgX11",
        "outputId": "d5ca63da-b020-4a94-c7bb-8eee0d155873"
      },
      "outputs": [
        {
          "name": "stdout",
          "output_type": "stream",
          "text": [
            "+------+--------+---+-----------+\n",
            "|nombre|num_dpto| id|nombre_dpto|\n",
            "+------+--------+---+-----------+\n",
            "|  Luis|      33| 33|    derecho|\n",
            "| Katia|      33| 33|    derecho|\n",
            "|  Raul|      34| 34| matemática|\n",
            "| Laura|      34| 34| matemática|\n",
            "|Sandro|      31| 31|     letras|\n",
            "+------+--------+---+-----------+\n",
            "\n"
          ]
        }
      ],
      "source": [
        "empleados.join(broadcast(departamentos), col('num_dpto') == col('id')).show()"
      ]
    },
    {
      "cell_type": "code",
      "execution_count": null,
      "metadata": {
        "colab": {
          "base_uri": "https://localhost:8080/"
        },
        "id": "uSaokrhOgXtc",
        "outputId": "141a5c43-110b-4aea-ea92-83be5ce9c3de"
      },
      "outputs": [
        {
          "name": "stdout",
          "output_type": "stream",
          "text": [
            "== Physical Plan ==\n",
            "AdaptiveSparkPlan isFinalPlan=false\n",
            "+- BroadcastHashJoin [num_dpto#5893L], [id#5896L], Inner, BuildRight, false\n",
            "   :- Filter isnotnull(num_dpto#5893L)\n",
            "   :  +- FileScan parquet [nombre#5892,num_dpto#5893L] Batched: true, DataFilters: [isnotnull(num_dpto#5893L)], Format: Parquet, Location: InMemoryFileIndex(1 paths)[file:/content/empleados.parquet], PartitionFilters: [], PushedFilters: [IsNotNull(num_dpto)], ReadSchema: struct<nombre:string,num_dpto:bigint>\n",
            "   +- BroadcastExchange HashedRelationBroadcastMode(List(input[0, bigint, false]),false), [plan_id=3516]\n",
            "      +- Filter isnotnull(id#5896L)\n",
            "         +- FileScan parquet [id#5896L,nombre_dpto#5897] Batched: true, DataFilters: [isnotnull(id#5896L)], Format: Parquet, Location: InMemoryFileIndex(1 paths)[file:/content/departamentos.parquet], PartitionFilters: [], PushedFilters: [IsNotNull(id)], ReadSchema: struct<id:bigint,nombre_dpto:string>\n",
            "\n",
            "\n"
          ]
        }
      ],
      "source": [
        "empleados.join(broadcast(departamentos), col('num_dpto') == col('id')).explain()"
      ]
    },
    {
      "cell_type": "markdown",
      "metadata": {
        "id": "oFfGOHPVgmP_"
      },
      "source": [
        "### Ejercicios"
      ]
    },
    {
      "cell_type": "markdown",
      "metadata": {
        "id": "H82mMVH_obkH"
      },
      "source": [
        "Los datos para hacer estos ejercicios forman parte de la base de datos Football Data from Transfermarkt de Kaggle.\\\n",
        "El conjunto de datos se compone de varios archivos CSV con información sobre competiciones, juegos, clubes, jugadores y apariciones.\n",
        "\n",
        "1. Determinar los tres países con mayor número de jugadores(jugadores nacidos en ese país). El resultado debe estar ordenado de forma descendente.\n",
        "\n",
        "2. Obtener la lista de jugadores con tarjeta roja. La salida debe contener dos columnas, el nombre de pila del jugador y la cantidad de tarjetas rojas que tiene.\n",
        "\n",
        "3. ¿Cuántos juegos se jugaron en la Premier League? La salida debe contener dos columnas, el nombre de la liga y la cantidad de juegos que se jugaron en ella.\n",
        "\n",
        "4. Obtener las tres ligas con mayor número de asistencia de público teniendo en cuenta todos los juegos que se jugaron en ellas. El resultado debe estar ordenado de forma descendente y tener dos columnas, el nombre de la liga y la asistencia total."
      ]
    },
    {
      "cell_type": "markdown",
      "metadata": {
        "id": "YPh1rtXQtjmh"
      },
      "source": [
        "#### Levantando una sesión de Spark"
      ]
    },
    {
      "cell_type": "code",
      "execution_count": null,
      "metadata": {
        "id": "iqcG8TJcgmlh"
      },
      "outputs": [],
      "source": [
        "import findspark\n",
        "findspark.init()\n",
        "from pyspark.sql import SparkSession\n",
        "\n",
        "spark = SparkSession.builder.getOrCreate()"
      ]
    },
    {
      "cell_type": "markdown",
      "metadata": {
        "id": "6JJXJ9IVtgYu"
      },
      "source": [
        "#### Lectura de los archivos necesarios"
      ]
    },
    {
      "cell_type": "code",
      "execution_count": null,
      "metadata": {
        "id": "DlbFxAjNs_Zo"
      },
      "outputs": [],
      "source": [
        "players = spark.read.option('header', 'true').option('inferSchema', 'true').csv('players.csv')\n",
        "apps = spark.read.option('header', 'true').option('inferSchema', 'true').csv('appearances.csv')\n",
        "competition = spark.read.option('header', 'true').option('inferSchema', 'true').csv('competitions.csv')\n",
        "games = spark.read.option('header', 'true').option('inferSchema', 'true').csv('games.csv')"
      ]
    },
    {
      "cell_type": "code",
      "execution_count": null,
      "metadata": {
        "colab": {
          "base_uri": "https://localhost:8080/"
        },
        "id": "Qji0t3YXuXR1",
        "outputId": "3d342242-3a15-47ad-f273-926dc90c5d77"
      },
      "outputs": [
        {
          "name": "stdout",
          "output_type": "stream",
          "text": [
            "+---------+---------------+-------------------+-------------------+----------------+----------------------+-------------+----------+--------------+-----+------------+-------------------+---------------------------+--------------------+\n",
            "|player_id|current_club_id|               name|        pretty_name|country_of_birth|country_of_citizenship|date_of_birth|  position|  sub_position| foot|height_in_cm|market_value_in_gbp|highest_market_value_in_gbp|                 url|\n",
            "+---------+---------------+-------------------+-------------------+----------------+----------------------+-------------+----------+--------------+-----+------------+-------------------+---------------------------+--------------------+\n",
            "|    38790|          28095|     dmitri-golubov|     Dmitri Golubov|           UdSSR|                Russia|   1985-06-24|    Attack|Centre-Forward| Both|         178|               null|                   675000.0|https://www.trans...|\n",
            "|   106539|          28095| aleksandr-vasiljev| Aleksandr Vasiljev|          Russia|                Russia|   1992-01-23|    Attack|  Right Winger|Right|         182|               null|                   225000.0|https://www.trans...|\n",
            "|   164389|           2288|      rory-donnelly|      Rory Donnelly|Northern Ireland|      Northern Ireland|   1992-02-18|    Attack|Centre-Forward|Right|         188|           113000.0|                   225000.0|https://www.trans...|\n",
            "|    45247|           1162|     damien-perquis|     Damien Perquis|          France|                France|   1986-03-08|Goalkeeper|    Goalkeeper|Right|         186|               null|                   900000.0|https://www.trans...|\n",
            "|    97205|          28095|nikita-bezlikhotnov|Nikita Bezlikhotnov|           UdSSR|                Russia|   1990-08-19|    Attack|  Right Winger|Right|         179|               null|                   675000.0|https://www.trans...|\n",
            "+---------+---------------+-------------------+-------------------+----------------+----------------------+-------------+----------+--------------+-----+------------+-------------------+---------------------------+--------------------+\n",
            "only showing top 5 rows\n",
            "\n",
            "root\n",
            " |-- player_id: integer (nullable = true)\n",
            " |-- current_club_id: integer (nullable = true)\n",
            " |-- name: string (nullable = true)\n",
            " |-- pretty_name: string (nullable = true)\n",
            " |-- country_of_birth: string (nullable = true)\n",
            " |-- country_of_citizenship: string (nullable = true)\n",
            " |-- date_of_birth: string (nullable = true)\n",
            " |-- position: string (nullable = true)\n",
            " |-- sub_position: string (nullable = true)\n",
            " |-- foot: string (nullable = true)\n",
            " |-- height_in_cm: integer (nullable = true)\n",
            " |-- market_value_in_gbp: double (nullable = true)\n",
            " |-- highest_market_value_in_gbp: double (nullable = true)\n",
            " |-- url: string (nullable = true)\n",
            "\n"
          ]
        }
      ],
      "source": [
        "players.show(5)\n",
        "players.printSchema()"
      ]
    },
    {
      "cell_type": "code",
      "execution_count": null,
      "metadata": {
        "colab": {
          "base_uri": "https://localhost:8080/"
        },
        "id": "rFNgczrXub4L",
        "outputId": "4a79d448-42e1-435f-85fa-f0c807d47c74"
      },
      "outputs": [
        {
          "name": "stdout",
          "output_type": "stream",
          "text": [
            "+---------+-------+-------------+--------------+--------------+-----+-------+--------------+------------+---------+\n",
            "|player_id|game_id|appearance_id|competition_id|player_club_id|goals|assists|minutes_played|yellow_cards|red_cards|\n",
            "+---------+-------+-------------+--------------+--------------+-----+-------+--------------+------------+---------+\n",
            "|    52453|2483937|2483937_52453|           RU1|         28095|    0|      0|            90|           0|        0|\n",
            "|    67064|2479929|2479929_67064|           RU1|         28095|    0|      0|            90|           0|        0|\n",
            "|    67064|2483937|2483937_67064|           RU1|         28095|    0|      0|            90|           0|        0|\n",
            "|    67064|2484582|2484582_67064|           RU1|         28095|    0|      0|            55|           0|        0|\n",
            "|    67064|2485965|2485965_67064|           RU1|         28095|    0|      0|            90|           0|        0|\n",
            "+---------+-------+-------------+--------------+--------------+-----+-------+--------------+------------+---------+\n",
            "only showing top 5 rows\n",
            "\n",
            "root\n",
            " |-- player_id: integer (nullable = true)\n",
            " |-- game_id: integer (nullable = true)\n",
            " |-- appearance_id: string (nullable = true)\n",
            " |-- competition_id: string (nullable = true)\n",
            " |-- player_club_id: integer (nullable = true)\n",
            " |-- goals: integer (nullable = true)\n",
            " |-- assists: integer (nullable = true)\n",
            " |-- minutes_played: integer (nullable = true)\n",
            " |-- yellow_cards: integer (nullable = true)\n",
            " |-- red_cards: integer (nullable = true)\n",
            "\n"
          ]
        }
      ],
      "source": [
        "apps.show(5)\n",
        "apps.printSchema()"
      ]
    },
    {
      "cell_type": "code",
      "execution_count": null,
      "metadata": {
        "colab": {
          "base_uri": "https://localhost:8080/"
        },
        "id": "i6uT8tbsucLc",
        "outputId": "a1e04c37-c63f-4502-fc30-f502f283a70c"
      },
      "outputs": [
        {
          "name": "stdout",
          "output_type": "stream",
          "text": [
            "+--------------+---------------+------------------+----------+------------+--------------------+-------------+--------------------+\n",
            "|competition_id|           name|              type|country_id|country_name|domestic_league_code|confederation|                 url|\n",
            "+--------------+---------------+------------------+----------+------------+--------------------+-------------+--------------------+\n",
            "|            L1|     bundesliga|        first_tier|        40|     Germany|                  L1|       europa|https://www.trans...|\n",
            "|           DFB|      dfb-pokal|      domestic_cup|        40|     Germany|                  L1|       europa|https://www.trans...|\n",
            "|           DFL|   dfl-supercup|domestic_super_cup|        40|     Germany|                  L1|       europa|https://www.trans...|\n",
            "|           NL1|     eredivisie|        first_tier|       122| Netherlands|                 NL1|       europa|https://www.trans...|\n",
            "|           NLP|toto-knvb-beker|      domestic_cup|       122| Netherlands|                 NL1|       europa|https://www.trans...|\n",
            "+--------------+---------------+------------------+----------+------------+--------------------+-------------+--------------------+\n",
            "only showing top 5 rows\n",
            "\n",
            "root\n",
            " |-- competition_id: string (nullable = true)\n",
            " |-- name: string (nullable = true)\n",
            " |-- type: string (nullable = true)\n",
            " |-- country_id: integer (nullable = true)\n",
            " |-- country_name: string (nullable = true)\n",
            " |-- domestic_league_code: string (nullable = true)\n",
            " |-- confederation: string (nullable = true)\n",
            " |-- url: string (nullable = true)\n",
            "\n"
          ]
        }
      ],
      "source": [
        "competition.show(5)\n",
        "competition.printSchema()"
      ]
    },
    {
      "cell_type": "code",
      "execution_count": null,
      "metadata": {
        "colab": {
          "base_uri": "https://localhost:8080/"
        },
        "id": "5p77xluvuXJE",
        "outputId": "5448539a-a064-4dfc-ba05-ad25fd75980f"
      },
      "outputs": [
        {
          "name": "stdout",
          "output_type": "stream",
          "text": [
            "+-------+----------------+------+-------------+----------+------------+------------+---------------+---------------+------------------+------------------+--------------------+----------+-----------------+--------------------+\n",
            "|game_id|competition_code|season|        round|      date|home_club_id|away_club_id|home_club_goals|away_club_goals|home_club_position|away_club_position|             stadium|attendance|          referee|                 url|\n",
            "+-------+----------------+------+-------------+----------+------------+------------+---------------+---------------+------------------+------------------+--------------------+----------+-----------------+--------------------+\n",
            "|2457642|            NLSC|  2014|        Final|2014-08-03|        1269|         610|              1|              0|              null|              null| Johan Cruijff ArenA|     42000|   Danny Makkelie|https://www.trans...|\n",
            "|2639088|            BESC|  2013|        Final|2014-07-20|          58|         498|              2|              1|              null|              null|Constant Vanden S...|     13733|  Jonathan Lardot|https://www.trans...|\n",
            "|2481145|             SUC|  2014|final 1st leg|2014-08-19|         418|          13|              1|              1|              null|              null|   Santiago Bernabéu|     75897|Estrada Fernández|https://www.trans...|\n",
            "|2484338|            POSU|  2014|        Final|2014-08-10|         294|        2425|              3|              2|              null|              null|Estádio Municipal...|     30000|     Duarte Gomes|https://www.trans...|\n",
            "|2502472|            FRCH|  2014|        Final|2014-08-02|         583|         855|              2|              0|              null|              null|     Workers Stadium|     39752|   Clément Turpin|https://www.trans...|\n",
            "+-------+----------------+------+-------------+----------+------------+------------+---------------+---------------+------------------+------------------+--------------------+----------+-----------------+--------------------+\n",
            "only showing top 5 rows\n",
            "\n",
            "root\n",
            " |-- game_id: integer (nullable = true)\n",
            " |-- competition_code: string (nullable = true)\n",
            " |-- season: integer (nullable = true)\n",
            " |-- round: string (nullable = true)\n",
            " |-- date: string (nullable = true)\n",
            " |-- home_club_id: integer (nullable = true)\n",
            " |-- away_club_id: integer (nullable = true)\n",
            " |-- home_club_goals: integer (nullable = true)\n",
            " |-- away_club_goals: integer (nullable = true)\n",
            " |-- home_club_position: integer (nullable = true)\n",
            " |-- away_club_position: integer (nullable = true)\n",
            " |-- stadium: string (nullable = true)\n",
            " |-- attendance: integer (nullable = true)\n",
            " |-- referee: string (nullable = true)\n",
            " |-- url: string (nullable = true)\n",
            "\n"
          ]
        }
      ],
      "source": [
        "games.show(5)\n",
        "games.printSchema()"
      ]
    },
    {
      "cell_type": "code",
      "execution_count": null,
      "metadata": {
        "colab": {
          "base_uri": "https://localhost:8080/"
        },
        "id": "7QDjaH9ouXCc",
        "outputId": "71e11272-bde3-45be-8cb6-985ca0f26e95"
      },
      "outputs": [
        {
          "name": "stdout",
          "output_type": "stream",
          "text": [
            "+-----------------+-----+\n",
            "| country_of_birth|count|\n",
            "+-----------------+-----+\n",
            "|           France| 1694|\n",
            "|             null| 1602|\n",
            "|            Spain| 1388|\n",
            "|            Italy| 1312|\n",
            "|          England| 1273|\n",
            "|          Germany| 1154|\n",
            "|      Netherlands| 1137|\n",
            "|           Brazil| 1087|\n",
            "|           Turkey| 1085|\n",
            "|         Portugal|  803|\n",
            "|           Greece|  725|\n",
            "|            UdSSR|  721|\n",
            "|          Ukraine|  671|\n",
            "|           Russia|  634|\n",
            "|         Scotland|  594|\n",
            "|          Belgium|  580|\n",
            "|          Denmark|  444|\n",
            "|        Argentina|  432|\n",
            "|Jugoslawien (SFR)|  354|\n",
            "|           Sweden|  186|\n",
            "+-----------------+-----+\n",
            "only showing top 20 rows\n",
            "\n"
          ]
        }
      ],
      "source": [
        "# 1. Determinar los tres países con mayor número de jugadores(jugadores nacidos en ese país).\n",
        "# El resultado debe estar ordenado de forma descendente.\n",
        "from pyspark.sql.functions import col, desc\n",
        "\n",
        "players.groupBy('country_of_birth').count().orderBy(desc('count')).show()"
      ]
    },
    {
      "cell_type": "code",
      "execution_count": null,
      "metadata": {
        "colab": {
          "base_uri": "https://localhost:8080/"
        },
        "id": "eXfZLrAauW65",
        "outputId": "a2316dc5-5685-4af6-b805-f5f761027235"
      },
      "outputs": [
        {
          "name": "stdout",
          "output_type": "stream",
          "text": [
            "+----------------+-----+\n",
            "|country_of_birth|count|\n",
            "+----------------+-----+\n",
            "|          France| 1694|\n",
            "|           Spain| 1388|\n",
            "|           Italy| 1312|\n",
            "+----------------+-----+\n",
            "\n"
          ]
        }
      ],
      "source": [
        "players.groupBy('country_of_birth').count().orderBy(desc('count')).filter(col('country_of_birth').isNotNull()).limit(3).show()"
      ]
    },
    {
      "cell_type": "code",
      "execution_count": null,
      "metadata": {
        "colab": {
          "base_uri": "https://localhost:8080/"
        },
        "id": "Je63ajHeLAe0",
        "outputId": "2f802f5d-060b-4ade-e307-340c17ea6759"
      },
      "outputs": [
        {
          "name": "stdout",
          "output_type": "stream",
          "text": [
            "+--------------------+-----------+\n",
            "|         pretty_name|total_rojas|\n",
            "+--------------------+-----------+\n",
            "|          Thomas Lam|          5|\n",
            "|     Mario Balotelli|          5|\n",
            "|        Granit Xhaka|          5|\n",
            "|    Domenico Berardi|          5|\n",
            "|              Hilton|          5|\n",
            "|     Damien Da Silva|          4|\n",
            "|   Kalidou Koulibaly|          4|\n",
            "|   Olarenwaju Kayode|          4|\n",
            "|        Jordan Amavi|          4|\n",
            "|       Ramon Leeuwin|          4|\n",
            "|         Jaume Costa|          4|\n",
            "|     Yannick Cahuzac|          4|\n",
            "|       Heung Min Son|          4|\n",
            "|     Rodrigo De Paul|          4|\n",
            "|Timothee Kolodzie...|          4|\n",
            "|         Ivan Ordets|          4|\n",
            "|       Fallou Diagne|          4|\n",
            "|          Ante Rebic|          4|\n",
            "|          Jordi Amat|          4|\n",
            "|          David Luiz|          4|\n",
            "+--------------------+-----------+\n",
            "only showing top 20 rows\n",
            "\n"
          ]
        }
      ],
      "source": [
        "# 2. Obtener la lista de jugadores con tarjeta roja.\n",
        "# La salida debe contener dos columnas, el nombre de pila del jugador y la cantidad de tarjetas rojas que tiene.\n",
        "# Nota importante\n",
        "# Existen jugadores con el mismo pretty_name pero con diferentes player_id. Por lo tanto hay que agrupar por la\n",
        "# columna player_id que es la que identifica unívocamente a cada jugador.\n",
        "\n",
        "from pyspark.sql.functions import sum, desc, col\n",
        "\n",
        "(apps.groupBy('player_id')\n",
        "  .agg(sum(col('red_cards')).alias('total_rojas'))\n",
        "  .orderBy(col('total_rojas').desc())\n",
        "  .join(players, ['player_id'], 'left')\n",
        "  .select(\n",
        "      col('pretty_name'),\n",
        "      col('total_rojas')\n",
        "  )\n",
        ").show()"
      ]
    },
    {
      "cell_type": "code",
      "execution_count": null,
      "metadata": {
        "colab": {
          "base_uri": "https://localhost:8080/"
        },
        "id": "s2ZHrCMTLAcI",
        "outputId": "8b45469c-349f-41ac-c765-3298900c5036"
      },
      "outputs": [
        {
          "name": "stdout",
          "output_type": "stream",
          "text": [
            "+--------------+---------------+------------------+----------+------------+--------------------+-------------+-------------------------------------------------------------------------+\n",
            "|competition_id|name           |type              |country_id|country_name|domestic_league_code|confederation|url                                                                      |\n",
            "+--------------+---------------+------------------+----------+------------+--------------------+-------------+-------------------------------------------------------------------------+\n",
            "|L1            |bundesliga     |first_tier        |40        |Germany     |L1                  |europa       |https://www.transfermarkt.co.uk/bundesliga/startseite/wettbewerb/L1      |\n",
            "|DFB           |dfb-pokal      |domestic_cup      |40        |Germany     |L1                  |europa       |https://www.transfermarkt.co.uk/dfb-pokal/startseite/wettbewerb/DFB      |\n",
            "|DFL           |dfl-supercup   |domestic_super_cup|40        |Germany     |L1                  |europa       |https://www.transfermarkt.co.uk/dfl-supercup/startseite/wettbewerb/DFL   |\n",
            "|NL1           |eredivisie     |first_tier        |122       |Netherlands |NL1                 |europa       |https://www.transfermarkt.co.uk/eredivisie/startseite/wettbewerb/NL1     |\n",
            "|NLP           |toto-knvb-beker|domestic_cup      |122       |Netherlands |NL1                 |europa       |https://www.transfermarkt.co.uk/toto-knvb-beker/startseite/wettbewerb/NLP|\n",
            "+--------------+---------------+------------------+----------+------------+--------------------+-------------+-------------------------------------------------------------------------+\n",
            "only showing top 5 rows\n",
            "\n",
            "+-------+----------------+------+-------------+----------+------------+------------+---------------+---------------+------------------+------------------+-----------------------------+----------+-----------------+-----------------------------------------------------------------------+\n",
            "|game_id|competition_code|season|round        |date      |home_club_id|away_club_id|home_club_goals|away_club_goals|home_club_position|away_club_position|stadium                      |attendance|referee          |url                                                                    |\n",
            "+-------+----------------+------+-------------+----------+------------+------------+---------------+---------------+------------------+------------------+-----------------------------+----------+-----------------+-----------------------------------------------------------------------+\n",
            "|2457642|NLSC            |2014  |Final        |2014-08-03|1269        |610         |1              |0              |null              |null              |Johan Cruijff ArenA          |42000     |Danny Makkelie   |https://www.transfermarkt.co.uk/spielbericht/index/spielbericht/2457642|\n",
            "|2639088|BESC            |2013  |Final        |2014-07-20|58          |498         |2              |1              |null              |null              |Constant Vanden Stock Stadion|13733     |Jonathan Lardot  |https://www.transfermarkt.co.uk/spielbericht/index/spielbericht/2639088|\n",
            "|2481145|SUC             |2014  |final 1st leg|2014-08-19|418         |13          |1              |1              |null              |null              |Santiago Bernabéu            |75897     |Estrada Fernández|https://www.transfermarkt.co.uk/spielbericht/index/spielbericht/2481145|\n",
            "|2484338|POSU            |2014  |Final        |2014-08-10|294         |2425        |3              |2              |null              |null              |Estádio Municipal de Aveiro  |30000     |Duarte Gomes     |https://www.transfermarkt.co.uk/spielbericht/index/spielbericht/2484338|\n",
            "|2502472|FRCH            |2014  |Final        |2014-08-02|583         |855         |2              |0              |null              |null              |Workers Stadium              |39752     |Clément Turpin   |https://www.transfermarkt.co.uk/spielbericht/index/spielbericht/2502472|\n",
            "+-------+----------------+------+-------------+----------+------------+------------+---------------+---------------+------------------+------------------+-----------------------------+----------+-----------------+-----------------------------------------------------------------------+\n",
            "only showing top 5 rows\n",
            "\n"
          ]
        }
      ],
      "source": [
        "# 3. ¿Cuántos juegos se jugaron en la Premier League?\n",
        "# La salida debe contener dos columnas, el nombre de la liga y la cantidad de juegos que se jugaron en ella.\n",
        "\n",
        "competition.show(5, truncate=False)\n",
        "games.show(5, truncate=False)"
      ]
    },
    {
      "cell_type": "code",
      "execution_count": null,
      "metadata": {
        "colab": {
          "base_uri": "https://localhost:8080/"
        },
        "id": "WBpi8perLAX_",
        "outputId": "e144bf81-01a1-42d4-a02b-3df2253716d6"
      },
      "outputs": [
        {
          "name": "stdout",
          "output_type": "stream",
          "text": [
            "+-------+----------------+------+-------------+----------+------------+------------+---------------+---------------+------------------+------------------+-----------------------------+----------+-----------------+-----------------------------------------------------------------------+--------------+-----------------------------+------------------+----------+------------+--------------------+-------------+----------------------------------------------------------------------------------------+\n",
            "|game_id|competition_code|season|round        |date      |home_club_id|away_club_id|home_club_goals|away_club_goals|home_club_position|away_club_position|stadium                      |attendance|referee          |url                                                                    |competition_id|name                         |type              |country_id|country_name|domestic_league_code|confederation|url                                                                                     |\n",
            "+-------+----------------+------+-------------+----------+------------+------------+---------------+---------------+------------------+------------------+-----------------------------+----------+-----------------+-----------------------------------------------------------------------+--------------+-----------------------------+------------------+----------+------------+--------------------+-------------+----------------------------------------------------------------------------------------+\n",
            "|2457642|NLSC            |2014  |Final        |2014-08-03|1269        |610         |1              |0              |null              |null              |Johan Cruijff ArenA          |42000     |Danny Makkelie   |https://www.transfermarkt.co.uk/spielbericht/index/spielbericht/2457642|NLSC          |johan-cruijff-schaal         |domestic_super_cup|122       |Netherlands |NL1                 |europa       |https://www.transfermarkt.co.uk/johan-cruijff-schaal/startseite/wettbewerb/NLSC         |\n",
            "|2639088|BESC            |2013  |Final        |2014-07-20|58          |498         |2              |1              |null              |null              |Constant Vanden Stock Stadion|13733     |Jonathan Lardot  |https://www.transfermarkt.co.uk/spielbericht/index/spielbericht/2639088|BESC          |belgian-supercup             |domestic_super_cup|19        |Belgium     |BE1                 |europa       |https://www.transfermarkt.co.uk/belgian-supercup/startseite/wettbewerb/BESC             |\n",
            "|2481145|SUC             |2014  |final 1st leg|2014-08-19|418         |13          |1              |1              |null              |null              |Santiago Bernabéu            |75897     |Estrada Fernández|https://www.transfermarkt.co.uk/spielbericht/index/spielbericht/2481145|SUC           |supercopa                    |domestic_super_cup|157       |Spain       |ES1                 |europa       |https://www.transfermarkt.co.uk/supercopa/startseite/wettbewerb/SUC                     |\n",
            "|2484338|POSU            |2014  |Final        |2014-08-10|294         |2425        |3              |2              |null              |null              |Estádio Municipal de Aveiro  |30000     |Duarte Gomes     |https://www.transfermarkt.co.uk/spielbericht/index/spielbericht/2484338|POSU          |supertaca-candido-de-oliveira|domestic_super_cup|136       |Portugal    |PO1                 |europa       |https://www.transfermarkt.co.uk/supertaca-candido-de-oliveira/startseite/wettbewerb/POSU|\n",
            "|2502472|FRCH            |2014  |Final        |2014-08-02|583         |855         |2              |0              |null              |null              |Workers Stadium              |39752     |Clément Turpin   |https://www.transfermarkt.co.uk/spielbericht/index/spielbericht/2502472|FRCH          |trophee-des-champions        |domestic_super_cup|50        |France      |FR1                 |europa       |https://www.transfermarkt.co.uk/trophee-des-champions/startseite/wettbewerb/FRCH        |\n",
            "+-------+----------------+------+-------------+----------+------------+------------+---------------+---------------+------------------+------------------+-----------------------------+----------+-----------------+-----------------------------------------------------------------------+--------------+-----------------------------+------------------+----------+------------+--------------------+-------------+----------------------------------------------------------------------------------------+\n",
            "only showing top 5 rows\n",
            "\n"
          ]
        }
      ],
      "source": [
        "data1 = games.join(competition, col('competition_id') == col('competition_code'), 'left')\n",
        "data1.show(5, truncate=False)"
      ]
    },
    {
      "cell_type": "code",
      "execution_count": null,
      "metadata": {
        "colab": {
          "base_uri": "https://localhost:8080/"
        },
        "id": "ONvnWXjZOgxk",
        "outputId": "69aee718-ad82-425d-c33c-1b333400061a"
      },
      "outputs": [
        {
          "name": "stdout",
          "output_type": "stream",
          "text": [
            "+--------------+-----+\n",
            "|          name|count|\n",
            "+--------------+-----+\n",
            "|premier-league| 2809|\n",
            "+--------------+-----+\n",
            "\n"
          ]
        }
      ],
      "source": [
        "data1.groupBy('name').count().filter(col('name') == 'premier-league').show()"
      ]
    },
    {
      "cell_type": "code",
      "execution_count": null,
      "metadata": {
        "colab": {
          "base_uri": "https://localhost:8080/"
        },
        "id": "nVxnbZf-Ob7-",
        "outputId": "69479269-63ec-47ac-e564-8dbc876d0a98"
      },
      "outputs": [
        {
          "name": "stdout",
          "output_type": "stream",
          "text": [
            "+--------------------+----------+\n",
            "|                name|asistencia|\n",
            "+--------------------+----------+\n",
            "|      premier-league|  86964852|\n",
            "|          bundesliga|  78102473|\n",
            "|              laliga|  62943533|\n",
            "|             serie-a|  53475147|\n",
            "|             ligue-1|  51593963|\n",
            "|uefa-champions-le...|  35154225|\n",
            "|          eredivisie|  34572418|\n",
            "|       europa-league|  28710888|\n",
            "|        premier-liga|  25823581|\n",
            "|  liga-portugal-bwin|  20072843|\n",
            "|  jupiler-pro-league|  17817099|\n",
            "|           super-lig|  17455236|\n",
            "|scottish-premiership|  17379753|\n",
            "|europa-league-qua...|  12810167|\n",
            "|uefa-champions-le...|   9479701|\n",
            "|             efl-cup|   9162166|\n",
            "|           dfb-pokal|   8404075|\n",
            "|         superligaen|   7945555|\n",
            "|        copa-del-rey|   7052640|\n",
            "|      super-league-1|   6417136|\n",
            "+--------------------+----------+\n",
            "only showing top 20 rows\n",
            "\n"
          ]
        }
      ],
      "source": [
        "# 4. Obtener las tres ligas con mayor número de asistencia de público teniendo en cuenta todos los juegos que se jugaron en ellas.\n",
        "# El resultado debe estar ordenado de forma descendente y tener dos columnas, el nombre de la liga y la asistencia total.\n",
        "\n",
        "from pyspark.sql.functions import sum\n",
        "\n",
        "data1.groupBy('name').agg(sum('attendance').alias('asistencia')).orderBy(desc('asistencia')).show()"
      ]
    },
    {
      "cell_type": "markdown",
      "metadata": {
        "id": "d93Xay9kA95I"
      },
      "source": [
        "-----------\n",
        "## Fin Notebook\n",
        "-----------"
      ]
    }
  ],
  "metadata": {
    "colab": {
      "collapsed_sections": [
        "_zJeZZqpJu73",
        "LccNQX8WMBtl",
        "Jz_8wAjF-CZL",
        "q5eOVSiKAhWl",
        "KkpLftPxe3bN",
        "H0jb1v27XL8o",
        "sEqgOplGf6rT",
        "CWDte3lOf-KC",
        "YiptC7kTgCM6",
        "11-zUlu3lMEK",
        "DBCbKPrZgkJh",
        "7-9rwntjglSm",
        "oFfGOHPVgmP_"
      ],
      "provenance": []
    },
    "kernelspec": {
      "display_name": "Python 3",
      "name": "python3"
    },
    "language_info": {
      "name": "python"
    }
  },
  "nbformat": 4,
  "nbformat_minor": 0
}
