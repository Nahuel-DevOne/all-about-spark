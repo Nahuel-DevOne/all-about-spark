{
  "cells": [
    {
      "cell_type": "markdown",
      "metadata": {
        "id": "IhqAQ_OOKTXl"
      },
      "source": [
        "# **Spark SQL Básico**"
      ]
    },
    {
      "cell_type": "markdown",
      "metadata": {
        "id": "_zJeZZqpJu73"
      },
      "source": [
        "## Introducción"
      ]
    },
    {
      "cell_type": "markdown",
      "metadata": {
        "id": "Ojkkv5J5rwg-"
      },
      "source": [
        "### `Ventajas y desventajas de trabajar con Spark en Google Colab`"
      ]
    },
    {
      "cell_type": "markdown",
      "metadata": {
        "id": "AzJLfwssmyU6"
      },
      "source": [
        "Ventajas:\n",
        "- Fácil acceso\n",
        "- Ejecutar Spark en prácticamente cualquier dispositivo, los recursos están en la nube.\n",
        "- Como los recursos están la nube, no hay que preocuparse por los recursos de hardware\n",
        "- Trabajo en equipo, más sencillo el trabajo colaborativo. Varias personas pueden trabajar sobre un mismo notebook.\n",
        "\n",
        "\n",
        "Desventajas:\n",
        "- No se guardan las configuraciones de Spark luego de un tiempo\n",
        "> No obstante el notebook permanece intacto. Se puede volver a ejecutar las líneas de código para tener la configuración nuevamente.\n",
        "- Escalabilidad, como el servicio es gratuito, los recursos son limitados.\n",
        "> Para llevarlo a ambientes productivos, necesitamos una infraestructura capaz de brindarnos estas especificaciones."
      ]
    },
    {
      "cell_type": "markdown",
      "metadata": {
        "id": "CqjAFIHMJoQc"
      },
      "source": [
        "## Instalaciones Necesarias para trabajar con Spark en Colab"
      ]
    },
    {
      "cell_type": "markdown",
      "metadata": {
        "id": "LccNQX8WMBtl"
      },
      "source": [
        "### `Descarga e instalación de Apache Spark en Colab`\n",
        "Se explica celda por celda las instalaciones necesarias. Para fines prácticos, utilizar la celda de abajo que instala todo junto."
      ]
    },
    {
      "cell_type": "code",
      "execution_count": null,
      "metadata": {
        "id": "JPNdekO7KHTp"
      },
      "outputs": [],
      "source": [
        "# Instalar SDK Java 8\n",
        "!apt-get install openjdk-8-jdk-headless -qq > /dev/null"
      ]
    },
    {
      "cell_type": "code",
      "execution_count": null,
      "metadata": {
        "id": "peqw7BfRKjHE"
      },
      "outputs": [],
      "source": [
        "# Descargar Spark 3.2.4\n",
        "!wget -q https://archive.apache.org/dist/spark/spark-3.2.4/spark-3.2.4-bin-hadoop3.2.tgz"
      ]
    },
    {
      "cell_type": "code",
      "execution_count": null,
      "metadata": {
        "id": "wIsOwRkJKjEi"
      },
      "outputs": [],
      "source": [
        "# Descomprimir el archivo descargado de Spark\n",
        "!tar xf spark-3.2.4-bin-hadoop3.2.tgz"
      ]
    },
    {
      "cell_type": "code",
      "execution_count": null,
      "metadata": {
        "id": "sUtXLbwuKjBH"
      },
      "outputs": [],
      "source": [
        "# Establecer las variables de entorno\n",
        "import os\n",
        "\n",
        "os.environ[\"JAVA_HOME\"] = \"/usr/lib/jvm/java-8-openjdk-amd64\"\n",
        "os.environ[\"SPARK_HOME\"] = \"/content/spark-3.2.4-bin-hadoop3.2\""
      ]
    },
    {
      "cell_type": "code",
      "execution_count": null,
      "metadata": {
        "id": "oMM5SJEPKi_X"
      },
      "outputs": [],
      "source": [
        "# Instalar la librería findspark\n",
        "!pip install -q findspark"
      ]
    },
    {
      "cell_type": "code",
      "execution_count": null,
      "metadata": {
        "colab": {
          "base_uri": "https://localhost:8080/"
        },
        "id": "51AZCLcVKi9x",
        "outputId": "f9126ed1-b460-4e91-ea89-35223d84a511"
      },
      "outputs": [
        {
          "name": "stdout",
          "output_type": "stream",
          "text": [
            "\u001b[2K     \u001b[90m━━━━━━━━━━━━━━━━━━━━━━━━━━━━━━━━━━━━━━━━\u001b[0m \u001b[32m316.9/316.9 MB\u001b[0m \u001b[31m2.3 MB/s\u001b[0m eta \u001b[36m0:00:00\u001b[0m\n",
            "\u001b[?25h  Preparing metadata (setup.py) ... \u001b[?25l\u001b[?25hdone\n",
            "  Building wheel for pyspark (setup.py) ... \u001b[?25l\u001b[?25hdone\n"
          ]
        }
      ],
      "source": [
        "# Instalar pyspark\n",
        "!pip install -q pyspark"
      ]
    },
    {
      "cell_type": "code",
      "execution_count": null,
      "metadata": {
        "id": "2AMEAXrbKi8o"
      },
      "outputs": [],
      "source": [
        "### verificar la instalación ###\n",
        "import findspark\n",
        "findspark.init()\n",
        "\n",
        "from pyspark.sql import SparkSession\n",
        "spark = SparkSession.builder.master(\"local[*]\").getOrCreate()"
      ]
    },
    {
      "cell_type": "code",
      "execution_count": null,
      "metadata": {
        "colab": {
          "base_uri": "https://localhost:8080/"
        },
        "id": "QivCkbKRKi6g",
        "outputId": "09e383c5-012f-421b-bb97-d329a12167b4"
      },
      "outputs": [
        {
          "name": "stdout",
          "output_type": "stream",
          "text": [
            "+-----+\n",
            "| Hola|\n",
            "+-----+\n",
            "|Mundo|\n",
            "|Mundo|\n",
            "|Mundo|\n",
            "|Mundo|\n",
            "|Mundo|\n",
            "|Mundo|\n",
            "|Mundo|\n",
            "|Mundo|\n",
            "|Mundo|\n",
            "|Mundo|\n",
            "+-----+\n",
            "\n"
          ]
        }
      ],
      "source": [
        "# Probando la sesión de Spark\n",
        "df = spark.createDataFrame([{\"Hola\": \"Mundo\"} for x in range(10)])\n",
        "# df.show(10, False)\n",
        "df.show()"
      ]
    },
    {
      "cell_type": "markdown",
      "metadata": {
        "id": "U_xdI5-TOhbo"
      },
      "source": [
        "### `Descarga e instalación de Apache Spark en una sola celda (Utilizar esta opción)`\n",
        "Para fines prácticos, toda la instalación está en una celda, así luego de ejecutarse ya se puede trabajar con Spark."
      ]
    },
    {
      "cell_type": "code",
      "execution_count": null,
      "metadata": {
        "colab": {
          "base_uri": "https://localhost:8080/"
        },
        "id": "wEvprYN0Ot1l",
        "outputId": "a716373d-946d-4d22-c4e8-b9e4844be23a"
      },
      "outputs": [
        {
          "output_type": "stream",
          "name": "stdout",
          "text": [
            "\u001b[2K     \u001b[90m━━━━━━━━━━━━━━━━━━━━━━━━━━━━━━━━━━━━━━━━\u001b[0m \u001b[32m317.3/317.3 MB\u001b[0m \u001b[31m1.3 MB/s\u001b[0m eta \u001b[36m0:00:00\u001b[0m\n",
            "\u001b[?25h  Preparing metadata (setup.py) ... \u001b[?25l\u001b[?25hdone\n",
            "  Building wheel for pyspark (setup.py) ... \u001b[?25l\u001b[?25hdone\n",
            "+-----+\n",
            "| Hola|\n",
            "+-----+\n",
            "|Mundo|\n",
            "|Mundo|\n",
            "|Mundo|\n",
            "|Mundo|\n",
            "|Mundo|\n",
            "|Mundo|\n",
            "|Mundo|\n",
            "|Mundo|\n",
            "|Mundo|\n",
            "|Mundo|\n",
            "+-----+\n",
            "\n"
          ]
        }
      ],
      "source": [
        "# Instalar SDK Java 8\n",
        "!apt-get install openjdk-8-jdk-headless -qq > /dev/null\n",
        "\n",
        "# Descargar Spark 3.2.4\n",
        "!wget -q https://archive.apache.org/dist/spark/spark-3.2.4/spark-3.2.4-bin-hadoop3.2.tgz\n",
        "\n",
        "# Descomprimir el archivo descargado de Spark\n",
        "!tar xf spark-3.2.4-bin-hadoop3.2.tgz\n",
        "\n",
        "# Establecer las variables de entorno\n",
        "import os\n",
        "\n",
        "os.environ[\"JAVA_HOME\"] = \"/usr/lib/jvm/java-8-openjdk-amd64\"\n",
        "os.environ[\"SPARK_HOME\"] = \"/content/spark-3.2.4-bin-hadoop3.2\"\n",
        "\n",
        "# Instalar la librería findspark\n",
        "!pip install -q findspark\n",
        "\n",
        "# Instalar pyspark\n",
        "!pip install -q pyspark\n",
        "\n",
        "### verificar la instalación ###\n",
        "import findspark\n",
        "findspark.init()\n",
        "\n",
        "from pyspark.sql import SparkSession\n",
        "spark = SparkSession.builder.master(\"local[*]\").getOrCreate()\n",
        "\n",
        "# Probando la sesión de Spark\n",
        "df = spark.createDataFrame([{\"Hola\": \"Mundo\"} for x in range(10)])\n",
        "# df.show(10, False)\n",
        "df.show()"
      ]
    },
    {
      "cell_type": "markdown",
      "source": [
        "## `Importante: Carga de archivos en Google Colab`\n",
        "\n",
        "Dos formas de cargar los archivos para resolver los ejercicios:\n",
        "\n",
        "1. **Montando el drive para acceder a los contenidos** de la unidad.\n",
        "\n",
        "  Utilizar esta opción si los datos para los ejercicios se cargan en una carpeta del drive y se quiere acceder a ella.\n",
        "\n",
        "2. **Utilizando el cuadro de archivos**, donde se carga el archivo que se quiere trabajar. Se guarda temporalmente.\n",
        "> Esta es la forma que voy a estar utizando"
      ],
      "metadata": {
        "id": "Jz_8wAjF-CZL"
      }
    },
    {
      "cell_type": "code",
      "source": [
        "# Levantar una sesión de Spark\n",
        "import findspark\n",
        "findspark.init()\n",
        "from pyspark.sql import SparkSession\n",
        "\n",
        "spark = SparkSession.builder.appName('Cap2').master('local(*)').getOrCreate()\n",
        "spark"
      ],
      "metadata": {
        "id": "f-J8eWCz-Fei"
      },
      "execution_count": null,
      "outputs": []
    },
    {
      "cell_type": "markdown",
      "source": [
        "### 1. Utilizando el montado al drive y yendo hacia la carpeta donde se encuentra el archivo."
      ],
      "metadata": {
        "id": "QXy8YNeO-Jau"
      }
    },
    {
      "cell_type": "code",
      "source": [
        "from google.colab import drive\n",
        "drive.mount('/content/drive')"
      ],
      "metadata": {
        "id": "pmN9OdbH-KM9"
      },
      "execution_count": null,
      "outputs": []
    },
    {
      "cell_type": "code",
      "source": [
        "rdd_texto = sc.wholeTextFiles('/content/drive/MyDrive/Spark/data-ej-PySpark-RDD/el_valor_del_big_data.txt')\n",
        "rdd_texto.collect()"
      ],
      "metadata": {
        "id": "o79J5JOS-QN2"
      },
      "execution_count": null,
      "outputs": []
    },
    {
      "cell_type": "markdown",
      "source": [
        "### 2. Utilizando el cuadro de archivos, donde se carga el archivo que se quiere trabajar. Se guarda temporalmente.\n",
        "\n",
        "Esta es la que voy a estar utizando a lo largo de todos los notebooks.\n"
      ],
      "metadata": {
        "id": "NAHsX9e2-Kxs"
      }
    },
    {
      "cell_type": "code",
      "source": [
        "rdd_texto = sc.wholeTextFiles('./el_valor_del_big_data.txt')\n",
        "rdd_texto.collect()"
      ],
      "metadata": {
        "id": "Lr2_B-R0-LeE"
      },
      "execution_count": null,
      "outputs": []
    },
    {
      "cell_type": "markdown",
      "metadata": {
        "id": "q5eOVSiKAhWl"
      },
      "source": [
        "## Spark UI en Colab"
      ]
    },
    {
      "cell_type": "code",
      "execution_count": null,
      "metadata": {
        "id": "H1IQB2NmAleg",
        "colab": {
          "base_uri": "https://localhost:8080/",
          "height": 34
        },
        "outputId": "1dddf7c5-10f6-4930-bafe-4ccec733b3be"
      },
      "outputs": [
        {
          "output_type": "display_data",
          "data": {
            "text/plain": [
              "<IPython.core.display.Javascript object>"
            ],
            "application/javascript": [
              "(async (port, path, text, element) => {\n",
              "    if (!google.colab.kernel.accessAllowed) {\n",
              "      return;\n",
              "    }\n",
              "    element.appendChild(document.createTextNode(''));\n",
              "    const url = await google.colab.kernel.proxyPort(port);\n",
              "    const anchor = document.createElement('a');\n",
              "    anchor.href = new URL(path, url).toString();\n",
              "    anchor.target = '_blank';\n",
              "    anchor.setAttribute('data-href', url + path);\n",
              "    anchor.textContent = text;\n",
              "    element.appendChild(anchor);\n",
              "  })(4050, \"/jobs/index.html\", \"https://localhost:4050/jobs/index.html\", window.element)"
            ]
          },
          "metadata": {}
        }
      ],
      "source": [
        "# Instalar SDK java 8\n",
        "!apt-get install openjdk-8-jdk-headless -qq > /dev/null\n",
        "\n",
        "# Descargar Spark\n",
        "!wget -q https://archive.apache.org/dist/spark/spark-3.3.4/spark-3.3.4-bin-hadoop3.tgz\n",
        "\n",
        "# Descomprimir la version de Spark\n",
        "!tar xf spark-3.3.4-bin-hadoop3.tgz\n",
        "\n",
        "# Establecer las variables de entorno\n",
        "import os\n",
        "\n",
        "os.environ[\"JAVA_HOME\"] = \"/usr/lib/jvm/java-8-openjdk-amd64\"\n",
        "os.environ[\"SPARK_HOME\"] = \"/content/spark-3.3.4-bin-hadoop3\"\n",
        "\n",
        "# Descargar findspark\n",
        "!pip install -q findspark\n",
        "\n",
        "# Crear la sesión de Spark\n",
        "import findspark\n",
        "findspark.init()\n",
        "from pyspark.sql import SparkSession\n",
        "\n",
        "spark = (\n",
        "    SparkSession.builder\n",
        "    .config('spark.ui.port', '4050')\n",
        "    .getOrCreate()\n",
        ")\n",
        "\n",
        "from google.colab import output\n",
        "output.serve_kernel_port_as_window(4050, path='/jobs/index.html')\n",
        "from pyspark.sql.functions import col\n",
        "\n",
        "spark.range(10000).toDF(\"id\").filter(col('id') / 2 == 0).write.mode('overwrite').parquet('/output')"
      ]
    },
    {
      "cell_type": "markdown",
      "metadata": {
        "id": "4xTFXrXNSG_b"
      },
      "source": [
        "## Spark SQL Básico"
      ]
    },
    {
      "cell_type": "markdown",
      "source": [
        "- En Spark 1.6 se introdujo una nueva abstracción de programación llamada API Estructurada. Esta es la forma preferida para realizar el procesamiento de datos de la mayoría de los casos de uso.\n",
        "\n",
        "- En esta nueva forma de hacer el procesamiento de datos, los datos deben organizarse en un formato estructurado y la lógica de cálculo de datos debe seguir una determinada estructura.\n",
        "\n",
        "- Con estas dos piezas de información, Spark puede realizar optimizaciones para acelerar las aplicaciones de procesamiento de datos.\n",
        "\n",
        "- Dataframe -> Gran Volumen de datos -> Schema -> formato determinado\n",
        "\n",
        "- Spark SQL <----> formato determinado\n",
        "\n",
        "- Lectura <----> Escritura (Spark puede utilizarse como una herramienta de conversión de formato de datos)"
      ],
      "metadata": {
        "id": "HWwfKcsnqHlD"
      }
    },
    {
      "cell_type": "markdown",
      "metadata": {
        "id": "AONlSDOoxVza"
      },
      "source": [
        "### Dataframes: Parte I\n",
        "Creando dataframes, a partir de un RDD."
      ]
    },
    {
      "cell_type": "code",
      "execution_count": null,
      "metadata": {
        "id": "UA7iE-ksSL38",
        "colab": {
          "base_uri": "https://localhost:8080/"
        },
        "outputId": "8504877f-aed9-4821-d118-32277c3bfa3f"
      },
      "outputs": [
        {
          "output_type": "execute_result",
          "data": {
            "text/plain": [
              "[(0, 0),\n",
              " (1, 1),\n",
              " (2, 4),\n",
              " (3, 9),\n",
              " (4, 16),\n",
              " (5, 25),\n",
              " (6, 36),\n",
              " (7, 49),\n",
              " (8, 64),\n",
              " (9, 81)]"
            ]
          },
          "metadata": {},
          "execution_count": 3
        }
      ],
      "source": [
        "# Levantar una sesión de Spark\n",
        "import findspark\n",
        "findspark.init()\n",
        "from pyspark.sql import SparkSession\n",
        "\n",
        "spark = SparkSession.builder.getOrCreate()\n",
        "sc = spark.sparkContext\n",
        "\n",
        "rdd = sc.parallelize([item for item in range(10)]).map(lambda x: (x, x ** 2))\n",
        "rdd.collect()"
      ]
    },
    {
      "cell_type": "markdown",
      "source": [
        "#### 1. Creando un dataframe a partir de un RDD"
      ],
      "metadata": {
        "id": "sKQuuTM3s1ru"
      }
    },
    {
      "cell_type": "code",
      "source": [
        "df = rdd.toDF(['numero', 'cudrado'])\n",
        "df.printSchema()\n",
        "df.show()"
      ],
      "metadata": {
        "colab": {
          "base_uri": "https://localhost:8080/"
        },
        "id": "78PV9BZFs4zA",
        "outputId": "d4bad2c8-5f6a-4857-d917-8ca2cb65cbe2"
      },
      "execution_count": null,
      "outputs": [
        {
          "output_type": "stream",
          "name": "stdout",
          "text": [
            "root\n",
            " |-- numero: long (nullable = true)\n",
            " |-- cudrado: long (nullable = true)\n",
            "\n",
            "+------+-------+\n",
            "|numero|cudrado|\n",
            "+------+-------+\n",
            "|     0|      0|\n",
            "|     1|      1|\n",
            "|     2|      4|\n",
            "|     3|      9|\n",
            "|     4|     16|\n",
            "|     5|     25|\n",
            "|     6|     36|\n",
            "|     7|     49|\n",
            "|     8|     64|\n",
            "|     9|     81|\n",
            "+------+-------+\n",
            "\n"
          ]
        }
      ]
    },
    {
      "cell_type": "markdown",
      "source": [
        "#### Ver el Schema"
      ],
      "metadata": {
        "id": "8ipK8jKetQ7l"
      }
    },
    {
      "cell_type": "code",
      "source": [
        "df.printSchema()"
      ],
      "metadata": {
        "colab": {
          "base_uri": "https://localhost:8080/"
        },
        "id": "enBHgNMDtTtF",
        "outputId": "bde3f684-190a-4ed3-83c0-fcd514a99b29"
      },
      "execution_count": null,
      "outputs": [
        {
          "output_type": "stream",
          "name": "stdout",
          "text": [
            "root\n",
            " |-- numero: long (nullable = true)\n",
            " |-- cudrado: long (nullable = true)\n",
            "\n"
          ]
        }
      ]
    },
    {
      "cell_type": "markdown",
      "source": [
        "#### Ver una cierta cantidad de registros (por defecto se muestran 10)"
      ],
      "metadata": {
        "id": "LQoQWzKwtoZG"
      }
    },
    {
      "cell_type": "code",
      "source": [
        "df.show()"
      ],
      "metadata": {
        "colab": {
          "base_uri": "https://localhost:8080/"
        },
        "id": "E79Ej3L7tveK",
        "outputId": "b32c8f3b-6299-4ac3-9c94-a73a83eac1af"
      },
      "execution_count": null,
      "outputs": [
        {
          "output_type": "stream",
          "name": "stdout",
          "text": [
            "+------+-------+\n",
            "|numero|cudrado|\n",
            "+------+-------+\n",
            "|     0|      0|\n",
            "|     1|      1|\n",
            "|     2|      4|\n",
            "|     3|      9|\n",
            "|     4|     16|\n",
            "|     5|     25|\n",
            "|     6|     36|\n",
            "|     7|     49|\n",
            "|     8|     64|\n",
            "|     9|     81|\n",
            "+------+-------+\n",
            "\n"
          ]
        }
      ]
    },
    {
      "cell_type": "markdown",
      "source": [
        "#### 2. Creando un dataframe a partir de un RDD  con Schema"
      ],
      "metadata": {
        "id": "1p1IW6xgs_9X"
      }
    },
    {
      "cell_type": "code",
      "source": [
        "# Crear un DataFrame a partir de un RDD con schema\n",
        "from pyspark.sql.types import StructType, StructField, IntegerType, StringType, DoubleType\n",
        "\n",
        "rdd1 = sc.parallelize([(1, 'Jose', 35.5), (2, 'Teresa', 54.3), (3, 'Katia', 12.7)])"
      ],
      "metadata": {
        "id": "zEQ_ckLD2Vbo"
      },
      "execution_count": null,
      "outputs": []
    },
    {
      "cell_type": "code",
      "source": [
        "# Primera vía\n",
        "# nombre de la columna, tipo de dato, admite nulos o no\n",
        "esquema1 = StructType(\n",
        "    [\n",
        "     StructField('id', IntegerType(), True),\n",
        "     StructField('nombre', StringType(), True),\n",
        "     StructField('saldo', DoubleType(), True)\n",
        "    ]\n",
        ")\n",
        "\n",
        "df1 = spark.createDataFrame(rdd1, schema=esquema1)\n",
        "df1.printSchema()\n",
        "df1.show()"
      ],
      "metadata": {
        "colab": {
          "base_uri": "https://localhost:8080/"
        },
        "id": "5CT69EN-ssim",
        "outputId": "ea5bd93b-2b19-4632-c288-5b9e5e588738"
      },
      "execution_count": null,
      "outputs": [
        {
          "output_type": "stream",
          "name": "stdout",
          "text": [
            "root\n",
            " |-- id: integer (nullable = true)\n",
            " |-- nombre: string (nullable = true)\n",
            " |-- saldo: double (nullable = true)\n",
            "\n",
            "+---+------+-----+\n",
            "| id|nombre|saldo|\n",
            "+---+------+-----+\n",
            "|  1|  Jose| 35.5|\n",
            "|  2|Teresa| 54.3|\n",
            "|  3| Katia| 12.7|\n",
            "+---+------+-----+\n",
            "\n"
          ]
        }
      ]
    },
    {
      "cell_type": "code",
      "source": [
        "# Segunda vía\n",
        "# nombre de la columna, tipo de dato, admite nulos o no\n",
        "esquema2 = \"`id` INT, `nombre` STRING, `saldo` DOUBLE\"\n",
        "\n",
        "df2 = spark.createDataFrame(rdd1, schema=esquema2)\n",
        "df2.printSchema()\n",
        "df2.show()"
      ],
      "metadata": {
        "colab": {
          "base_uri": "https://localhost:8080/"
        },
        "id": "Bill50HY2hjm",
        "outputId": "e5b0c859-b8bf-4633-c2f4-e1a6e68d6e5e"
      },
      "execution_count": null,
      "outputs": [
        {
          "output_type": "stream",
          "name": "stdout",
          "text": [
            "root\n",
            " |-- id: integer (nullable = true)\n",
            " |-- nombre: string (nullable = true)\n",
            " |-- saldo: double (nullable = true)\n",
            "\n",
            "+---+------+-----+\n",
            "| id|nombre|saldo|\n",
            "+---+------+-----+\n",
            "|  1|  Jose| 35.5|\n",
            "|  2|Teresa| 54.3|\n",
            "|  3| Katia| 12.7|\n",
            "+---+------+-----+\n",
            "\n"
          ]
        }
      ]
    },
    {
      "cell_type": "markdown",
      "source": [
        "#### 3. Creando un dataframe a partir de un rango de números"
      ],
      "metadata": {
        "id": "kz_ugXS92sz0"
      }
    },
    {
      "cell_type": "code",
      "source": [
        "# Crear un DataFrame a partir de un rango de números\n",
        "spark.range(5).toDF('id').show()\n",
        "spark.range(3, 15).toDF('id').show()\n",
        "spark.range(0, 20, 2).toDF('id').show()"
      ],
      "metadata": {
        "colab": {
          "base_uri": "https://localhost:8080/"
        },
        "id": "kc2CbCkK2iKB",
        "outputId": "ecbd182d-d343-4277-f4fc-a59fb12813ad"
      },
      "execution_count": null,
      "outputs": [
        {
          "output_type": "stream",
          "name": "stdout",
          "text": [
            "+---+\n",
            "| id|\n",
            "+---+\n",
            "|  0|\n",
            "|  1|\n",
            "|  2|\n",
            "|  3|\n",
            "|  4|\n",
            "+---+\n",
            "\n",
            "+---+\n",
            "| id|\n",
            "+---+\n",
            "|  3|\n",
            "|  4|\n",
            "|  5|\n",
            "|  6|\n",
            "|  7|\n",
            "|  8|\n",
            "|  9|\n",
            "| 10|\n",
            "| 11|\n",
            "| 12|\n",
            "| 13|\n",
            "| 14|\n",
            "+---+\n",
            "\n",
            "+---+\n",
            "| id|\n",
            "+---+\n",
            "|  0|\n",
            "|  2|\n",
            "|  4|\n",
            "|  6|\n",
            "|  8|\n",
            "| 10|\n",
            "| 12|\n",
            "| 14|\n",
            "| 16|\n",
            "| 18|\n",
            "+---+\n",
            "\n"
          ]
        }
      ]
    },
    {
      "cell_type": "markdown",
      "metadata": {
        "id": "3HYKvYDfxkkF"
      },
      "source": [
        "### Dataframes: Parte II\n",
        "Creando dataframes, a partir de una fuente de datos."
      ]
    },
    {
      "cell_type": "markdown",
      "source": [
        "#### Spark SQL tiene dos clases principales para leer y escribir datos:"
      ],
      "metadata": {
        "id": "OMvFeqRfvYKZ"
      }
    },
    {
      "cell_type": "markdown",
      "source": [
        "- DataFrameReader\n",
        "- DataFrameWriter\n",
        "\n",
        "Una instancia de la clase DataFrameReader está disponible como read en la sesión de Spark.\n",
        "\n",
        "Spark.read\n",
        "\n",
        "El patrón común para interactuar con DataFrameReader es:\n",
        "\n",
        "Spark.read.format(...).option('key', 'value').schema(...).load()\n",
        "\n",
        "format no es opcional (hay que indicar si es cvs, parquet, json, etc), pero option y schema si lo son ya que option tiene opciones predeterminadas y schema por defecto infiere el tipo de dato."
      ],
      "metadata": {
        "id": "J7U6jlMSy5te"
      }
    },
    {
      "cell_type": "markdown",
      "source": [
        "#### Alternativas para leer datos:"
      ],
      "metadata": {
        "id": "aMowH838zAg-"
      }
    },
    {
      "cell_type": "markdown",
      "source": [
        "- spark.read.csv(\"path\")\n",
        "- spark.read.format(\"csv\")\n",
        "\n",
        "- spark.read.text(\"path\")\n",
        "- spark.read.format(\"text\")\n",
        "\n",
        "- spark.read.json(\"path\")\n",
        "- spark.read.format(\"json\")\n",
        "\n",
        "- spark.read.parquet(\"path\")\n",
        "- spark.read.format(\"parquet\")\n",
        "\n",
        "- spark.read.jdbc(\"path\")\n",
        "- spark.read.format(\"jdbc\")\n",
        "\n",
        "- spark.read.orc(\"path\")\n",
        "- spark.read.format(\"orc\")\n"
      ],
      "metadata": {
        "id": "zfHhYJrAyxH2"
      }
    },
    {
      "cell_type": "code",
      "execution_count": null,
      "metadata": {
        "id": "vVtpG6-GSMYe"
      },
      "outputs": [],
      "source": [
        "# Creando DataFrames\n",
        "\n",
        "import findspark\n",
        "findspark.init()\n",
        "from pyspark.sql import SparkSession\n",
        "\n",
        "spark = SparkSession.builder.getOrCreate()\n",
        "sc = spark.sparkContext\n",
        "\n",
        "rdd = sc.parallelize([item for item in range(10)]).map(lambda x: (x, x ** 2))\n",
        "\n",
        "rdd.collect()\n",
        "\n",
        "df = rdd.toDF(['numero', 'cudrado'])\n",
        "\n",
        "df.printSchema()\n",
        "\n",
        "df.show()\n",
        "\n",
        "# Crear un DataFrame a partir de un RDD con schema\n",
        "\n",
        "rdd1 = sc.parallelize([(1, 'Jose', 35.5), (2, 'Teresa', 54.3), (3, 'Katia', 12.7)])\n",
        "\n",
        "from pyspark.sql.types import StructType, StructField, IntegerType, StringType, DoubleType\n",
        "\n",
        "# Primera vía\n",
        "\n",
        "esquema1 = StructType(\n",
        "    [\n",
        "     StructField('id', IntegerType(), True),\n",
        "     StructField('nombre', StringType(), True),\n",
        "     StructField('saldo', DoubleType(), True)\n",
        "    ]\n",
        ")\n",
        "\n",
        "# Segunda vía\n",
        "\n",
        "esquema2 = \"`id` INT, `nombre` STRING, `saldo` DOUBLE\"\n",
        "\n",
        "df1 = spark.createDataFrame(rdd1, schema=esquema1)\n",
        "\n",
        "df1.printSchema()\n",
        "\n",
        "df1.show()\n",
        "\n",
        "df2 = spark.createDataFrame(rdd1, schema=esquema2)\n",
        "\n",
        "df2.printSchema()\n",
        "\n",
        "df2.show()\n",
        "\n",
        "# Crear un DataFrame a partir de un rango de números\n",
        "\n",
        "spark.range(5).toDF('id').show()\n",
        "\n",
        "spark.range(3, 15).toDF('id').show()\n",
        "\n",
        "spark.range(0, 20, 2).toDF('id').show()\n",
        "\n"
      ]
    },
    {
      "cell_type": "markdown",
      "metadata": {
        "id": "NtTo8TzaIfoU"
      },
      "source": [
        "#### Crear un dataframe mediante la lectura de un archivo de texto"
      ]
    },
    {
      "cell_type": "code",
      "execution_count": null,
      "metadata": {
        "id": "DKZHSUcKSMWp",
        "colab": {
          "base_uri": "https://localhost:8080/"
        },
        "outputId": "d49da957-0f92-4553-b6af-bb005d1b5b2c"
      },
      "outputs": [
        {
          "output_type": "stream",
          "name": "stdout",
          "text": [
            "+--------------------+\n",
            "|               value|\n",
            "+--------------------+\n",
            "|Estamos en el cur...|\n",
            "|En este capítulo ...|\n",
            "|En esta sección e...|\n",
            "|y en este ejemplo...|\n",
            "+--------------------+\n",
            "\n",
            "+-----------------------------------------------------------------------+\n",
            "|value                                                                  |\n",
            "+-----------------------------------------------------------------------+\n",
            "|Estamos en el curso de pyspark                                         |\n",
            "|En este capítulo estamos estudiando el API SQL de Saprk                |\n",
            "|En esta sección estamos creado dataframes a partir de fuentes de datos,|\n",
            "|y en este ejemplo creamos un dataframe a partir de un texto plano      |\n",
            "+-----------------------------------------------------------------------+\n",
            "\n"
          ]
        }
      ],
      "source": [
        "import findspark\n",
        "findspark.init()\n",
        "from pyspark.sql import SparkSession\n",
        "\n",
        "spark = SparkSession.builder.getOrCreate()\n",
        "\n",
        "# Crear un DataFrame mediante la lectura de un archivo de texto\n",
        "df = spark.read.text('dataTXT.txt')\n",
        "df.show()\n",
        "df.show(truncate=False)"
      ]
    },
    {
      "cell_type": "markdown",
      "source": [
        "#### Crear un DataFrame mediante la lectura de un archivo csv"
      ],
      "metadata": {
        "id": "pEkCgGOW1WF3"
      }
    },
    {
      "cell_type": "code",
      "source": [
        "# Crear un DataFrame mediante la lectura de un archivo csv\n",
        "df1 = spark.read.csv('dataCSV.csv')\n",
        "df1.show()"
      ],
      "metadata": {
        "id": "juvP0Wko1NZ3",
        "colab": {
          "base_uri": "https://localhost:8080/"
        },
        "outputId": "255b3106-0f15-4f44-ac62-086ecf8b6fc6"
      },
      "execution_count": null,
      "outputs": [
        {
          "output_type": "stream",
          "name": "stdout",
          "text": [
            "+-----------+-------------+--------------------+--------------------+-----------+--------------------+--------------------+-------+------+--------+-------------+--------------------+-----------------+----------------+--------------------+--------------------+\n",
            "|        _c0|          _c1|                 _c2|                 _c3|        _c4|                 _c5|                 _c6|    _c7|   _c8|     _c9|         _c10|                _c11|             _c12|            _c13|                _c14|                _c15|\n",
            "+-----------+-------------+--------------------+--------------------+-----------+--------------------+--------------------+-------+------+--------+-------------+--------------------+-----------------+----------------+--------------------+--------------------+\n",
            "|   video_id|trending_date|               title|       channel_title|category_id|        publish_time|                tags|  views| likes|dislikes|comment_count|      thumbnail_link|comments_disabled|ratings_disabled|video_error_or_re...|         description|\n",
            "|2kyS6SvSYSE|     17.14.11|WE WANT TO TALK A...|        CaseyNeistat|         22|2017-11-13T17:13:...|     SHANtell martin| 748374| 57527|    2966|        15954|https://i.ytimg.c...|            False|           False|               False|SHANTELL'S CHANNE...|\n",
            "|1ZAPwfrtAFY|     17.14.11|The Trump Preside...|     LastWeekTonight|         24|2017-11-13T07:30:...|\"last week tonigh...|2418783| 97185|    6146|        12703|https://i.ytimg.c...|            False|           False|               False|One year after th...|\n",
            "|5qpjK5DgCt4|     17.14.11|Racist Superman |...|        Rudy Mancuso|         23|2017-11-12T19:05:...|\"racist superman\"...|3191434|146033|    5339|         8181|https://i.ytimg.c...|            False|           False|               False|WATCH MY PREVIOUS...|\n",
            "|puqaWrEC7tY|     17.14.11|Nickelback Lyrics...|Good Mythical Mor...|         24|2017-11-13T11:00:...|\"rhett and link\"|...| 343168| 10172|     666|         2146|https://i.ytimg.c...|            False|           False|               False|Today we find out...|\n",
            "|d380meD0W0M|     17.14.11|I Dare You: GOING...|            nigahiga|         24|2017-11-12T18:01:...|\"ryan\"|\"higa\"|\"hi...|2095731|132235|    1989|        17518|https://i.ytimg.c...|            False|           False|               False|I know it's been ...|\n",
            "|gHZ1Qz0KiKM|     17.14.11|2 Weeks with iPho...|            iJustine|         28|2017-11-13T19:07:...|\"ijustine\"|\"week ...| 119180|  9763|     511|         1434|https://i.ytimg.c...|            False|           False|               False|Using the iPhone ...|\n",
            "|39idVpFF7NQ|     17.14.11|Roy Moore & Jeff ...| Saturday Night Live|         24|2017-11-12T05:37:...|\"SNL\"|\"Saturday N...|2103417| 15993|    2445|         1970|https://i.ytimg.c...|            False|           False|               False|Embattled Alabama...|\n",
            "|nc99ccSXST0|     17.14.11|5 Ice Cream Gadge...|  CrazyRussianHacker|         28|2017-11-12T21:50:...|\"5 Ice Cream Gadg...| 817732| 23663|     778|         3432|https://i.ytimg.c...|            False|           False|               False|Ice Cream Pint Co...|\n",
            "|jr9QtXwC9vc|     17.14.11|The Greatest Show...|    20th Century Fox|          1|2017-11-13T14:00:...|\"Trailer\"|\"Hugh J...| 826059|  3543|     119|          340|https://i.ytimg.c...|            False|           False|               False|Inspired by the i...|\n",
            "|TUmyygCMMGA|     17.14.11|Why the rise of t...|                 Vox|         25|2017-11-13T13:45:...|\"vox.com\"|\"vox\"|\"...| 256426| 12654|    1363|         2368|https://i.ytimg.c...|            False|           False|               False|For now, at least...|\n",
            "|9wRQljFNDW8|     17.14.11|Dion Lewis' 103-Y...|                 NFL|         17|2017-11-13T02:05:...|\"NFL\"|\"Football\"|...|  81377|   655|      25|          177|https://i.ytimg.c...|            False|           False|               False|New England Patri...|\n",
            "|VifQlJit6A0|     17.14.11|(SPOILERS) 'Shiva...|                 amc|         24|2017-11-13T03:00:...|\"The Walking Dead...| 104578|  1576|     303|         1279|https://i.ytimg.c...|            False|           False|               False|Shiva arrives jus...|\n",
            "|5E4ZBSInqUU|     17.14.11|Marshmello - Bloc...|          marshmello|         10|2017-11-13T17:00:...|\"marshmello\"|\"blo...| 687582|114188|    1333|         8371|https://i.ytimg.c...|            False|           False|               False|WATCH SILENCE MUS...|\n",
            "|GgVmn66oK_A|     17.14.11|Which Countries A...|       NowThis World|         25|2017-11-12T14:00:...|\"nowthis\"|\"nowthi...| 544770|  7848|    1171|         3981|https://i.ytimg.c...|            False|           False|               False|The world at larg...|\n",
            "|TaTleo4cOs8|     17.14.11|SHOPPING FOR NEW ...|     The king of DIY|         15|2017-11-12T18:30:...|\"shopping for new...| 207532|  7473|     246|         2120|https://i.ytimg.c...|            False|           False|               False|Today we go shopp...|\n",
            "|kgaO45SyaO4|     17.14.11|    The New SpotMini|      BostonDynamics|         28|2017-11-13T20:09:...|\"Robots\"|\"Boston ...|  75752|  9419|      52|         1230|https://i.ytimg.c...|            False|           False|               False|For more informat...|\n",
            "|ZAQs-ctOqXQ|     17.14.11|One Change That W...|             Cracked|         23|2017-11-12T17:00:...|\"pacific rim\"|\"pa...| 295639|  8011|     638|         1256|https://i.ytimg.c...|            False|           False|               False|Pacific Rim was s...|\n",
            "|YVfyYrEmzgM|     17.14.11|How does your bod...|              TED-Ed|         27|2017-11-13T16:00:...|\"TED\"|\"TED-Ed\"|\"T...|  78044|  5398|      53|          385|https://i.ytimg.c...|            False|           False|               False|Check out our Pat...|\n",
            "|eNSN6qet1kE|     17.14.11|HomeMade Electric...|         PeterSripol|         28|2017-11-13T15:30:...|\"ultralight\"|\"air...|  97007| 11963|      36|         2211|https://i.ytimg.c...|            False|           False|               False|aaaannnd now to f...|\n",
            "+-----------+-------------+--------------------+--------------------+-----------+--------------------+--------------------+-------+------+--------+-------------+--------------------+-----------------+----------------+--------------------+--------------------+\n",
            "only showing top 20 rows\n",
            "\n"
          ]
        }
      ]
    },
    {
      "cell_type": "code",
      "source": [
        "df1 = spark.read.option('header', 'true').csv('dataCSV.csv')\n",
        "df1.show()"
      ],
      "metadata": {
        "id": "UyqkMnsZ1dI0",
        "colab": {
          "base_uri": "https://localhost:8080/"
        },
        "outputId": "3b1f25fc-c434-4cbe-d4e9-7afacd399869"
      },
      "execution_count": null,
      "outputs": [
        {
          "output_type": "stream",
          "name": "stdout",
          "text": [
            "+-----------+-------------+--------------------+--------------------+-----------+--------------------+--------------------+-------+------+--------+-------------+--------------------+-----------------+----------------+----------------------+--------------------+\n",
            "|   video_id|trending_date|               title|       channel_title|category_id|        publish_time|                tags|  views| likes|dislikes|comment_count|      thumbnail_link|comments_disabled|ratings_disabled|video_error_or_removed|         description|\n",
            "+-----------+-------------+--------------------+--------------------+-----------+--------------------+--------------------+-------+------+--------+-------------+--------------------+-----------------+----------------+----------------------+--------------------+\n",
            "|2kyS6SvSYSE|     17.14.11|WE WANT TO TALK A...|        CaseyNeistat|         22|2017-11-13T17:13:...|     SHANtell martin| 748374| 57527|    2966|        15954|https://i.ytimg.c...|            False|           False|                 False|SHANTELL'S CHANNE...|\n",
            "|1ZAPwfrtAFY|     17.14.11|The Trump Preside...|     LastWeekTonight|         24|2017-11-13T07:30:...|\"last week tonigh...|2418783| 97185|    6146|        12703|https://i.ytimg.c...|            False|           False|                 False|One year after th...|\n",
            "|5qpjK5DgCt4|     17.14.11|Racist Superman |...|        Rudy Mancuso|         23|2017-11-12T19:05:...|\"racist superman\"...|3191434|146033|    5339|         8181|https://i.ytimg.c...|            False|           False|                 False|WATCH MY PREVIOUS...|\n",
            "|puqaWrEC7tY|     17.14.11|Nickelback Lyrics...|Good Mythical Mor...|         24|2017-11-13T11:00:...|\"rhett and link\"|...| 343168| 10172|     666|         2146|https://i.ytimg.c...|            False|           False|                 False|Today we find out...|\n",
            "|d380meD0W0M|     17.14.11|I Dare You: GOING...|            nigahiga|         24|2017-11-12T18:01:...|\"ryan\"|\"higa\"|\"hi...|2095731|132235|    1989|        17518|https://i.ytimg.c...|            False|           False|                 False|I know it's been ...|\n",
            "|gHZ1Qz0KiKM|     17.14.11|2 Weeks with iPho...|            iJustine|         28|2017-11-13T19:07:...|\"ijustine\"|\"week ...| 119180|  9763|     511|         1434|https://i.ytimg.c...|            False|           False|                 False|Using the iPhone ...|\n",
            "|39idVpFF7NQ|     17.14.11|Roy Moore & Jeff ...| Saturday Night Live|         24|2017-11-12T05:37:...|\"SNL\"|\"Saturday N...|2103417| 15993|    2445|         1970|https://i.ytimg.c...|            False|           False|                 False|Embattled Alabama...|\n",
            "|nc99ccSXST0|     17.14.11|5 Ice Cream Gadge...|  CrazyRussianHacker|         28|2017-11-12T21:50:...|\"5 Ice Cream Gadg...| 817732| 23663|     778|         3432|https://i.ytimg.c...|            False|           False|                 False|Ice Cream Pint Co...|\n",
            "|jr9QtXwC9vc|     17.14.11|The Greatest Show...|    20th Century Fox|          1|2017-11-13T14:00:...|\"Trailer\"|\"Hugh J...| 826059|  3543|     119|          340|https://i.ytimg.c...|            False|           False|                 False|Inspired by the i...|\n",
            "|TUmyygCMMGA|     17.14.11|Why the rise of t...|                 Vox|         25|2017-11-13T13:45:...|\"vox.com\"|\"vox\"|\"...| 256426| 12654|    1363|         2368|https://i.ytimg.c...|            False|           False|                 False|For now, at least...|\n",
            "|9wRQljFNDW8|     17.14.11|Dion Lewis' 103-Y...|                 NFL|         17|2017-11-13T02:05:...|\"NFL\"|\"Football\"|...|  81377|   655|      25|          177|https://i.ytimg.c...|            False|           False|                 False|New England Patri...|\n",
            "|VifQlJit6A0|     17.14.11|(SPOILERS) 'Shiva...|                 amc|         24|2017-11-13T03:00:...|\"The Walking Dead...| 104578|  1576|     303|         1279|https://i.ytimg.c...|            False|           False|                 False|Shiva arrives jus...|\n",
            "|5E4ZBSInqUU|     17.14.11|Marshmello - Bloc...|          marshmello|         10|2017-11-13T17:00:...|\"marshmello\"|\"blo...| 687582|114188|    1333|         8371|https://i.ytimg.c...|            False|           False|                 False|WATCH SILENCE MUS...|\n",
            "|GgVmn66oK_A|     17.14.11|Which Countries A...|       NowThis World|         25|2017-11-12T14:00:...|\"nowthis\"|\"nowthi...| 544770|  7848|    1171|         3981|https://i.ytimg.c...|            False|           False|                 False|The world at larg...|\n",
            "|TaTleo4cOs8|     17.14.11|SHOPPING FOR NEW ...|     The king of DIY|         15|2017-11-12T18:30:...|\"shopping for new...| 207532|  7473|     246|         2120|https://i.ytimg.c...|            False|           False|                 False|Today we go shopp...|\n",
            "|kgaO45SyaO4|     17.14.11|    The New SpotMini|      BostonDynamics|         28|2017-11-13T20:09:...|\"Robots\"|\"Boston ...|  75752|  9419|      52|         1230|https://i.ytimg.c...|            False|           False|                 False|For more informat...|\n",
            "|ZAQs-ctOqXQ|     17.14.11|One Change That W...|             Cracked|         23|2017-11-12T17:00:...|\"pacific rim\"|\"pa...| 295639|  8011|     638|         1256|https://i.ytimg.c...|            False|           False|                 False|Pacific Rim was s...|\n",
            "|YVfyYrEmzgM|     17.14.11|How does your bod...|              TED-Ed|         27|2017-11-13T16:00:...|\"TED\"|\"TED-Ed\"|\"T...|  78044|  5398|      53|          385|https://i.ytimg.c...|            False|           False|                 False|Check out our Pat...|\n",
            "|eNSN6qet1kE|     17.14.11|HomeMade Electric...|         PeterSripol|         28|2017-11-13T15:30:...|\"ultralight\"|\"air...|  97007| 11963|      36|         2211|https://i.ytimg.c...|            False|           False|                 False|aaaannnd now to f...|\n",
            "|B5HORANmzHw|     17.14.11|Founding An Inbre...|             SciShow|         27|2017-11-12T22:00:...|\"SciShow\"|\"scienc...| 223871|  8421|     191|         1214|https://i.ytimg.c...|            False|           False|                 False|Thanks to 23AndMe...|\n",
            "+-----------+-------------+--------------------+--------------------+-----------+--------------------+--------------------+-------+------+--------+-------------+--------------------+-----------------+----------------+----------------------+--------------------+\n",
            "only showing top 20 rows\n",
            "\n"
          ]
        }
      ]
    },
    {
      "cell_type": "markdown",
      "source": [
        "#### Leer un archivo de texto con un delimitador diferente"
      ],
      "metadata": {
        "id": "fQFIkacK1q-p"
      }
    },
    {
      "cell_type": "code",
      "source": [
        "# Leer un archivo de texto con un delimitador diferente\n",
        "df2 = spark.read.option('header', 'true').option('delimiter', '|').csv('dataTab.txt')\n",
        "df2.show()"
      ],
      "metadata": {
        "id": "e3PILr-C1pox",
        "colab": {
          "base_uri": "https://localhost:8080/"
        },
        "outputId": "900abd9c-2607-4bc6-a9d1-de960567e4e6"
      },
      "execution_count": null,
      "outputs": [
        {
          "output_type": "stream",
          "name": "stdout",
          "text": [
            "+----+----+----------+-----+\n",
            "|pais|edad|     fecha|color|\n",
            "+----+----+----------+-----+\n",
            "|  MX|  23|2021-02-21| rojo|\n",
            "|  CA|  56|2021-06-10| azul|\n",
            "|  US|  32|2020-06-02|verde|\n",
            "+----+----+----------+-----+\n",
            "\n"
          ]
        }
      ]
    },
    {
      "cell_type": "markdown",
      "source": [
        "#### Crear un DataFrame a partir de un json proporcionando un schema"
      ],
      "metadata": {
        "id": "SGDsLACt11Cy"
      }
    },
    {
      "cell_type": "code",
      "source": [
        "# Crear un DataFrame a partir de un json proporcionando un schema\n",
        "from pyspark.sql.types import StructType, StructField, StringType, IntegerType, DateType\n",
        "\n",
        "json_schema =  StructType(\n",
        "    [\n",
        "     StructField('color', StringType(), True),\n",
        "     StructField('edad', IntegerType(), True),\n",
        "     StructField('fecha', DateType(), True),\n",
        "     StructField('pais', StringType(), True)\n",
        "    ]\n",
        ")\n",
        "\n",
        "df4 = spark.read.schema(json_schema).json('dataJSON.json')\n",
        "df4.show()\n",
        "df4.printSchema()"
      ],
      "metadata": {
        "id": "b2srWVcw10hW",
        "colab": {
          "base_uri": "https://localhost:8080/"
        },
        "outputId": "9642a861-fe8e-43e4-8c6e-8b3559d270f4"
      },
      "execution_count": null,
      "outputs": [
        {
          "output_type": "stream",
          "name": "stdout",
          "text": [
            "+-----+----+----------+----+\n",
            "|color|edad|     fecha|pais|\n",
            "+-----+----+----------+----+\n",
            "| rojo|null|2021-02-21|  MX|\n",
            "| azul|null|2021-06-10|  CA|\n",
            "|verde|null|2020-06-02|  US|\n",
            "+-----+----+----------+----+\n",
            "\n",
            "root\n",
            " |-- color: string (nullable = true)\n",
            " |-- edad: integer (nullable = true)\n",
            " |-- fecha: date (nullable = true)\n",
            " |-- pais: string (nullable = true)\n",
            "\n"
          ]
        }
      ]
    },
    {
      "cell_type": "markdown",
      "source": [
        "#### Crear un DataFrame a partir de un archivo parquet"
      ],
      "metadata": {
        "id": "PM5r13Xy2Jg2"
      }
    },
    {
      "cell_type": "code",
      "source": [
        "\n",
        "# Crear un DataFrame a partir de un archivo parquet\n",
        "df5 = spark.read.parquet('dataPARQUET.parquet')\n",
        "df5.show()\n",
        "\n",
        "# Otra alternativa para leer desde una fuente de datos parquet en este caso\n",
        "df6 = spark.read.format('parquet').load('dataPARQUET.parquet')\n",
        "df6.printSchema()"
      ],
      "metadata": {
        "id": "pnmLVWrY2I3l",
        "colab": {
          "base_uri": "https://localhost:8080/"
        },
        "outputId": "0c28dee8-9caa-4f10-95db-382a29d24161"
      },
      "execution_count": null,
      "outputs": [
        {
          "output_type": "stream",
          "name": "stdout",
          "text": [
            "+-----------+-------------+--------------------+--------------------+-----------+--------------------+--------------------+-------+------+--------+-------------+--------------------+-----------------+----------------+----------------------+--------------------+\n",
            "|   video_id|trending_date|               title|       channel_title|category_id|        publish_time|                tags|  views| likes|dislikes|comment_count|      thumbnail_link|comments_disabled|ratings_disabled|video_error_or_removed|         description|\n",
            "+-----------+-------------+--------------------+--------------------+-----------+--------------------+--------------------+-------+------+--------+-------------+--------------------+-----------------+----------------+----------------------+--------------------+\n",
            "|2kyS6SvSYSE|     17.14.11|WE WANT TO TALK A...|        CaseyNeistat|         22|2017-11-13T17:13:...|     SHANtell martin| 748374| 57527|    2966|        15954|https://i.ytimg.c...|            False|           False|                 False|SHANTELL'S CHANNE...|\n",
            "|1ZAPwfrtAFY|     17.14.11|The Trump Preside...|     LastWeekTonight|         24|2017-11-13T07:30:...|\"last week tonigh...|2418783| 97185|    6146|        12703|https://i.ytimg.c...|            False|           False|                 False|One year after th...|\n",
            "|5qpjK5DgCt4|     17.14.11|Racist Superman |...|        Rudy Mancuso|         23|2017-11-12T19:05:...|\"racist superman\"...|3191434|146033|    5339|         8181|https://i.ytimg.c...|            False|           False|                 False|WATCH MY PREVIOUS...|\n",
            "|puqaWrEC7tY|     17.14.11|Nickelback Lyrics...|Good Mythical Mor...|         24|2017-11-13T11:00:...|\"rhett and link\"|...| 343168| 10172|     666|         2146|https://i.ytimg.c...|            False|           False|                 False|Today we find out...|\n",
            "|d380meD0W0M|     17.14.11|I Dare You: GOING...|            nigahiga|         24|2017-11-12T18:01:...|\"ryan\"|\"higa\"|\"hi...|2095731|132235|    1989|        17518|https://i.ytimg.c...|            False|           False|                 False|I know it's been ...|\n",
            "|gHZ1Qz0KiKM|     17.14.11|2 Weeks with iPho...|            iJustine|         28|2017-11-13T19:07:...|\"ijustine\"|\"week ...| 119180|  9763|     511|         1434|https://i.ytimg.c...|            False|           False|                 False|Using the iPhone ...|\n",
            "|39idVpFF7NQ|     17.14.11|Roy Moore & Jeff ...| Saturday Night Live|         24|2017-11-12T05:37:...|\"SNL\"|\"Saturday N...|2103417| 15993|    2445|         1970|https://i.ytimg.c...|            False|           False|                 False|Embattled Alabama...|\n",
            "|nc99ccSXST0|     17.14.11|5 Ice Cream Gadge...|  CrazyRussianHacker|         28|2017-11-12T21:50:...|\"5 Ice Cream Gadg...| 817732| 23663|     778|         3432|https://i.ytimg.c...|            False|           False|                 False|Ice Cream Pint Co...|\n",
            "|jr9QtXwC9vc|     17.14.11|The Greatest Show...|    20th Century Fox|          1|2017-11-13T14:00:...|\"Trailer\"|\"Hugh J...| 826059|  3543|     119|          340|https://i.ytimg.c...|            False|           False|                 False|Inspired by the i...|\n",
            "|TUmyygCMMGA|     17.14.11|Why the rise of t...|                 Vox|         25|2017-11-13T13:45:...|\"vox.com\"|\"vox\"|\"...| 256426| 12654|    1363|         2368|https://i.ytimg.c...|            False|           False|                 False|For now, at least...|\n",
            "|9wRQljFNDW8|     17.14.11|Dion Lewis' 103-Y...|                 NFL|         17|2017-11-13T02:05:...|\"NFL\"|\"Football\"|...|  81377|   655|      25|          177|https://i.ytimg.c...|            False|           False|                 False|New England Patri...|\n",
            "|VifQlJit6A0|     17.14.11|(SPOILERS) 'Shiva...|                 amc|         24|2017-11-13T03:00:...|\"The Walking Dead...| 104578|  1576|     303|         1279|https://i.ytimg.c...|            False|           False|                 False|Shiva arrives jus...|\n",
            "|5E4ZBSInqUU|     17.14.11|Marshmello - Bloc...|          marshmello|         10|2017-11-13T17:00:...|\"marshmello\"|\"blo...| 687582|114188|    1333|         8371|https://i.ytimg.c...|            False|           False|                 False|WATCH SILENCE MUS...|\n",
            "|GgVmn66oK_A|     17.14.11|Which Countries A...|       NowThis World|         25|2017-11-12T14:00:...|\"nowthis\"|\"nowthi...| 544770|  7848|    1171|         3981|https://i.ytimg.c...|            False|           False|                 False|The world at larg...|\n",
            "|TaTleo4cOs8|     17.14.11|SHOPPING FOR NEW ...|     The king of DIY|         15|2017-11-12T18:30:...|\"shopping for new...| 207532|  7473|     246|         2120|https://i.ytimg.c...|            False|           False|                 False|Today we go shopp...|\n",
            "|kgaO45SyaO4|     17.14.11|    The New SpotMini|      BostonDynamics|         28|2017-11-13T20:09:...|\"Robots\"|\"Boston ...|  75752|  9419|      52|         1230|https://i.ytimg.c...|            False|           False|                 False|For more informat...|\n",
            "|ZAQs-ctOqXQ|     17.14.11|One Change That W...|             Cracked|         23|2017-11-12T17:00:...|\"pacific rim\"|\"pa...| 295639|  8011|     638|         1256|https://i.ytimg.c...|            False|           False|                 False|Pacific Rim was s...|\n",
            "|YVfyYrEmzgM|     17.14.11|How does your bod...|              TED-Ed|         27|2017-11-13T16:00:...|\"TED\"|\"TED-Ed\"|\"T...|  78044|  5398|      53|          385|https://i.ytimg.c...|            False|           False|                 False|Check out our Pat...|\n",
            "|eNSN6qet1kE|     17.14.11|HomeMade Electric...|         PeterSripol|         28|2017-11-13T15:30:...|\"ultralight\"|\"air...|  97007| 11963|      36|         2211|https://i.ytimg.c...|            False|           False|                 False|aaaannnd now to f...|\n",
            "|B5HORANmzHw|     17.14.11|Founding An Inbre...|             SciShow|         27|2017-11-12T22:00:...|\"SciShow\"|\"scienc...| 223871|  8421|     191|         1214|https://i.ytimg.c...|            False|           False|                 False|Thanks to 23AndMe...|\n",
            "+-----------+-------------+--------------------+--------------------+-----------+--------------------+--------------------+-------+------+--------+-------------+--------------------+-----------------+----------------+----------------------+--------------------+\n",
            "only showing top 20 rows\n",
            "\n",
            "root\n",
            " |-- video_id: string (nullable = true)\n",
            " |-- trending_date: string (nullable = true)\n",
            " |-- title: string (nullable = true)\n",
            " |-- channel_title: string (nullable = true)\n",
            " |-- category_id: string (nullable = true)\n",
            " |-- publish_time: string (nullable = true)\n",
            " |-- tags: string (nullable = true)\n",
            " |-- views: string (nullable = true)\n",
            " |-- likes: string (nullable = true)\n",
            " |-- dislikes: string (nullable = true)\n",
            " |-- comment_count: string (nullable = true)\n",
            " |-- thumbnail_link: string (nullable = true)\n",
            " |-- comments_disabled: string (nullable = true)\n",
            " |-- ratings_disabled: string (nullable = true)\n",
            " |-- video_error_or_removed: string (nullable = true)\n",
            " |-- description: string (nullable = true)\n",
            "\n"
          ]
        }
      ]
    },
    {
      "cell_type": "markdown",
      "source": [
        "#### Otra alternativa para leer desde una fuente de datos parquet en este caso"
      ],
      "metadata": {
        "id": "z0fseZtm2Ojd"
      }
    },
    {
      "cell_type": "code",
      "source": [
        "# Otra alternativa para leer desde una fuente de datos parquet en este caso\n",
        "df6 = spark.read.format('parquet').load('dataPARQUET.parquet')\n",
        "df6.printSchema()"
      ],
      "metadata": {
        "id": "GfDFjhwO2QCK",
        "colab": {
          "base_uri": "https://localhost:8080/"
        },
        "outputId": "7a034327-13fe-4177-a6ca-4871b05fa443"
      },
      "execution_count": null,
      "outputs": [
        {
          "output_type": "stream",
          "name": "stdout",
          "text": [
            "root\n",
            " |-- video_id: string (nullable = true)\n",
            " |-- trending_date: string (nullable = true)\n",
            " |-- title: string (nullable = true)\n",
            " |-- channel_title: string (nullable = true)\n",
            " |-- category_id: string (nullable = true)\n",
            " |-- publish_time: string (nullable = true)\n",
            " |-- tags: string (nullable = true)\n",
            " |-- views: string (nullable = true)\n",
            " |-- likes: string (nullable = true)\n",
            " |-- dislikes: string (nullable = true)\n",
            " |-- comment_count: string (nullable = true)\n",
            " |-- thumbnail_link: string (nullable = true)\n",
            " |-- comments_disabled: string (nullable = true)\n",
            " |-- ratings_disabled: string (nullable = true)\n",
            " |-- video_error_or_removed: string (nullable = true)\n",
            " |-- description: string (nullable = true)\n",
            "\n"
          ]
        }
      ]
    },
    {
      "cell_type": "markdown",
      "source": [
        "### Trabajo con columnas"
      ],
      "metadata": {
        "id": "cMzjqaqw4zET"
      }
    },
    {
      "cell_type": "code",
      "source": [
        "# Trabajo con columnas\n",
        "import findspark\n",
        "findspark.init()\n",
        "from pyspark.sql import SparkSession\n",
        "\n",
        "spark = SparkSession.builder.getOrCreate()\n",
        "\n",
        "df = spark.read.parquet('dataPARQUET.parquet')\n",
        "df.printSchema()"
      ],
      "metadata": {
        "id": "taQMwL6m4zcr",
        "colab": {
          "base_uri": "https://localhost:8080/"
        },
        "outputId": "fdddcc17-6aa3-421a-c01b-54d788e084fc"
      },
      "execution_count": null,
      "outputs": [
        {
          "output_type": "stream",
          "name": "stdout",
          "text": [
            "root\n",
            " |-- video_id: string (nullable = true)\n",
            " |-- trending_date: string (nullable = true)\n",
            " |-- title: string (nullable = true)\n",
            " |-- channel_title: string (nullable = true)\n",
            " |-- category_id: string (nullable = true)\n",
            " |-- publish_time: string (nullable = true)\n",
            " |-- tags: string (nullable = true)\n",
            " |-- views: string (nullable = true)\n",
            " |-- likes: string (nullable = true)\n",
            " |-- dislikes: string (nullable = true)\n",
            " |-- comment_count: string (nullable = true)\n",
            " |-- thumbnail_link: string (nullable = true)\n",
            " |-- comments_disabled: string (nullable = true)\n",
            " |-- ratings_disabled: string (nullable = true)\n",
            " |-- video_error_or_removed: string (nullable = true)\n",
            " |-- description: string (nullable = true)\n",
            "\n"
          ]
        }
      ]
    },
    {
      "cell_type": "code",
      "source": [
        "# Primera alternativa para referirnos a las columnas\n",
        "df.select('title').show()"
      ],
      "metadata": {
        "id": "Itiv-LLa7MOv",
        "colab": {
          "base_uri": "https://localhost:8080/"
        },
        "outputId": "6e4cc5df-9c57-4eea-a6c2-15884012b039"
      },
      "execution_count": null,
      "outputs": [
        {
          "output_type": "stream",
          "name": "stdout",
          "text": [
            "+--------------------+\n",
            "|               title|\n",
            "+--------------------+\n",
            "|WE WANT TO TALK A...|\n",
            "|The Trump Preside...|\n",
            "|Racist Superman |...|\n",
            "|Nickelback Lyrics...|\n",
            "|I Dare You: GOING...|\n",
            "|2 Weeks with iPho...|\n",
            "|Roy Moore & Jeff ...|\n",
            "|5 Ice Cream Gadge...|\n",
            "|The Greatest Show...|\n",
            "|Why the rise of t...|\n",
            "|Dion Lewis' 103-Y...|\n",
            "|(SPOILERS) 'Shiva...|\n",
            "|Marshmello - Bloc...|\n",
            "|Which Countries A...|\n",
            "|SHOPPING FOR NEW ...|\n",
            "|    The New SpotMini|\n",
            "|One Change That W...|\n",
            "|How does your bod...|\n",
            "|HomeMade Electric...|\n",
            "|Founding An Inbre...|\n",
            "+--------------------+\n",
            "only showing top 20 rows\n",
            "\n"
          ]
        }
      ]
    },
    {
      "cell_type": "code",
      "source": [
        "# Segunda alternativa\n",
        "from pyspark.sql.functions import col\n",
        "\n",
        "df.select(col('title')).show()"
      ],
      "metadata": {
        "id": "ZhBeWLiY7MG1",
        "colab": {
          "base_uri": "https://localhost:8080/"
        },
        "outputId": "9ecd2fc7-7c51-4d70-8a38-cadf88800c09"
      },
      "execution_count": null,
      "outputs": [
        {
          "output_type": "stream",
          "name": "stdout",
          "text": [
            "+--------------------+\n",
            "|               title|\n",
            "+--------------------+\n",
            "|WE WANT TO TALK A...|\n",
            "|The Trump Preside...|\n",
            "|Racist Superman |...|\n",
            "|Nickelback Lyrics...|\n",
            "|I Dare You: GOING...|\n",
            "|2 Weeks with iPho...|\n",
            "|Roy Moore & Jeff ...|\n",
            "|5 Ice Cream Gadge...|\n",
            "|The Greatest Show...|\n",
            "|Why the rise of t...|\n",
            "|Dion Lewis' 103-Y...|\n",
            "|(SPOILERS) 'Shiva...|\n",
            "|Marshmello - Bloc...|\n",
            "|Which Countries A...|\n",
            "|SHOPPING FOR NEW ...|\n",
            "|    The New SpotMini|\n",
            "|One Change That W...|\n",
            "|How does your bod...|\n",
            "|HomeMade Electric...|\n",
            "|Founding An Inbre...|\n",
            "+--------------------+\n",
            "only showing top 20 rows\n",
            "\n"
          ]
        }
      ]
    },
    {
      "cell_type": "markdown",
      "source": [
        "### Transformaciones, funciones, select y selectExpr"
      ],
      "metadata": {
        "id": "3ev9NTdP40P-"
      }
    },
    {
      "cell_type": "code",
      "source": [
        "# Transformaciones - funciones select y selectExpr\n",
        "import findspark\n",
        "findspark.init()\n",
        "from pyspark.sql import SparkSession\n",
        "from pyspark.sql.functions import col\n",
        "\n",
        "spark = SparkSession.builder.getOrCreate()\n",
        "\n",
        "df = spark.read.parquet('datos.parquet')\n",
        "df.printSchema()"
      ],
      "metadata": {
        "id": "i3nOYMyq40kC",
        "colab": {
          "base_uri": "https://localhost:8080/"
        },
        "outputId": "ac7fc5f2-6055-4ee5-cd17-f226815b8de6"
      },
      "execution_count": null,
      "outputs": [
        {
          "output_type": "stream",
          "name": "stdout",
          "text": [
            "root\n",
            " |-- video_id: string (nullable = true)\n",
            " |-- trending_date: string (nullable = true)\n",
            " |-- title: string (nullable = true)\n",
            " |-- channel_title: string (nullable = true)\n",
            " |-- category_id: string (nullable = true)\n",
            " |-- publish_time: timestamp (nullable = true)\n",
            " |-- tags: string (nullable = true)\n",
            " |-- views: integer (nullable = true)\n",
            " |-- likes: integer (nullable = true)\n",
            " |-- dislikes: integer (nullable = true)\n",
            " |-- comment_count: integer (nullable = true)\n",
            " |-- thumbnail_link: string (nullable = true)\n",
            " |-- comments_disabled: string (nullable = true)\n",
            " |-- ratings_disabled: string (nullable = true)\n",
            " |-- video_error_or_removed: string (nullable = true)\n",
            " |-- description: string (nullable = true)\n",
            "\n"
          ]
        }
      ]
    },
    {
      "cell_type": "markdown",
      "source": [
        "#### Con select"
      ],
      "metadata": {
        "id": "V6VSBnqU8B8C"
      }
    },
    {
      "cell_type": "code",
      "source": [
        "df.select(col('video_id')).show()"
      ],
      "metadata": {
        "id": "KFhzaZlq721d",
        "colab": {
          "base_uri": "https://localhost:8080/"
        },
        "outputId": "bb39fe74-8907-4f36-f7b7-291d7ad6029e"
      },
      "execution_count": null,
      "outputs": [
        {
          "output_type": "stream",
          "name": "stdout",
          "text": [
            "+-----------+\n",
            "|   video_id|\n",
            "+-----------+\n",
            "|2kyS6SvSYSE|\n",
            "|1ZAPwfrtAFY|\n",
            "|5qpjK5DgCt4|\n",
            "|puqaWrEC7tY|\n",
            "|d380meD0W0M|\n",
            "|gHZ1Qz0KiKM|\n",
            "|39idVpFF7NQ|\n",
            "|nc99ccSXST0|\n",
            "|jr9QtXwC9vc|\n",
            "|TUmyygCMMGA|\n",
            "|9wRQljFNDW8|\n",
            "|VifQlJit6A0|\n",
            "|5E4ZBSInqUU|\n",
            "|GgVmn66oK_A|\n",
            "|TaTleo4cOs8|\n",
            "|kgaO45SyaO4|\n",
            "|ZAQs-ctOqXQ|\n",
            "|YVfyYrEmzgM|\n",
            "|eNSN6qet1kE|\n",
            "|B5HORANmzHw|\n",
            "+-----------+\n",
            "only showing top 20 rows\n",
            "\n"
          ]
        }
      ]
    },
    {
      "cell_type": "code",
      "source": [
        "df.select('video_id', 'trending_date').show()"
      ],
      "metadata": {
        "id": "HqPXvx727mxx",
        "colab": {
          "base_uri": "https://localhost:8080/"
        },
        "outputId": "8d218fd1-b68c-4b39-e070-908a3ed4d321"
      },
      "execution_count": null,
      "outputs": [
        {
          "output_type": "stream",
          "name": "stdout",
          "text": [
            "+-----------+-------------+\n",
            "|   video_id|trending_date|\n",
            "+-----------+-------------+\n",
            "|2kyS6SvSYSE|     17.14.11|\n",
            "|1ZAPwfrtAFY|     17.14.11|\n",
            "|5qpjK5DgCt4|     17.14.11|\n",
            "|puqaWrEC7tY|     17.14.11|\n",
            "|d380meD0W0M|     17.14.11|\n",
            "|gHZ1Qz0KiKM|     17.14.11|\n",
            "|39idVpFF7NQ|     17.14.11|\n",
            "|nc99ccSXST0|     17.14.11|\n",
            "|jr9QtXwC9vc|     17.14.11|\n",
            "|TUmyygCMMGA|     17.14.11|\n",
            "|9wRQljFNDW8|     17.14.11|\n",
            "|VifQlJit6A0|     17.14.11|\n",
            "|5E4ZBSInqUU|     17.14.11|\n",
            "|GgVmn66oK_A|     17.14.11|\n",
            "|TaTleo4cOs8|     17.14.11|\n",
            "|kgaO45SyaO4|     17.14.11|\n",
            "|ZAQs-ctOqXQ|     17.14.11|\n",
            "|YVfyYrEmzgM|     17.14.11|\n",
            "|eNSN6qet1kE|     17.14.11|\n",
            "|B5HORANmzHw|     17.14.11|\n",
            "+-----------+-------------+\n",
            "only showing top 20 rows\n",
            "\n"
          ]
        }
      ]
    },
    {
      "cell_type": "code",
      "source": [
        "# Esta vía nos dará error\n",
        "df.select(\n",
        "    'likes',\n",
        "    'dislikes',\n",
        "    ('likes' - 'dislikes')\n",
        ").show()"
      ],
      "metadata": {
        "id": "wyKq9xl67mrc",
        "colab": {
          "base_uri": "https://localhost:8080/",
          "height": 200
        },
        "outputId": "50e3d636-35ad-4f62-a4f0-4d8b9e73236b"
      },
      "execution_count": null,
      "outputs": [
        {
          "output_type": "error",
          "ename": "TypeError",
          "evalue": "unsupported operand type(s) for -: 'str' and 'str'",
          "traceback": [
            "\u001b[0;31m---------------------------------------------------------------------------\u001b[0m",
            "\u001b[0;31mTypeError\u001b[0m                                 Traceback (most recent call last)",
            "\u001b[0;32m<ipython-input-8-afad96ed6b2a>\u001b[0m in \u001b[0;36m<cell line: 2>\u001b[0;34m()\u001b[0m\n\u001b[1;32m      3\u001b[0m     \u001b[0;34m'likes'\u001b[0m\u001b[0;34m,\u001b[0m\u001b[0;34m\u001b[0m\u001b[0;34m\u001b[0m\u001b[0m\n\u001b[1;32m      4\u001b[0m     \u001b[0;34m'dislikes'\u001b[0m\u001b[0;34m,\u001b[0m\u001b[0;34m\u001b[0m\u001b[0;34m\u001b[0m\u001b[0m\n\u001b[0;32m----> 5\u001b[0;31m     \u001b[0;34m(\u001b[0m\u001b[0;34m'likes'\u001b[0m \u001b[0;34m-\u001b[0m \u001b[0;34m'dislikes'\u001b[0m\u001b[0;34m)\u001b[0m\u001b[0;34m\u001b[0m\u001b[0;34m\u001b[0m\u001b[0m\n\u001b[0m\u001b[1;32m      6\u001b[0m ).show()\n",
            "\u001b[0;31mTypeError\u001b[0m: unsupported operand type(s) for -: 'str' and 'str'"
          ]
        }
      ]
    },
    {
      "cell_type": "code",
      "source": [
        "# Forma correcta\n",
        "df.select(\n",
        "    col('likes'),\n",
        "    col('dislikes'),\n",
        "    (col('likes') - col('dislikes')).alias('aceptacion')\n",
        ").show()"
      ],
      "metadata": {
        "id": "9sTFbyFy7mlL",
        "colab": {
          "base_uri": "https://localhost:8080/"
        },
        "outputId": "9b9d923b-7eb2-4e1a-f2cb-38cff7803c13"
      },
      "execution_count": null,
      "outputs": [
        {
          "output_type": "stream",
          "name": "stdout",
          "text": [
            "+------+--------+----------+\n",
            "| likes|dislikes|aceptacion|\n",
            "+------+--------+----------+\n",
            "| 57527|    2966|     54561|\n",
            "| 97185|    6146|     91039|\n",
            "|146033|    5339|    140694|\n",
            "| 10172|     666|      9506|\n",
            "|132235|    1989|    130246|\n",
            "|  9763|     511|      9252|\n",
            "| 15993|    2445|     13548|\n",
            "| 23663|     778|     22885|\n",
            "|  3543|     119|      3424|\n",
            "| 12654|    1363|     11291|\n",
            "|   655|      25|       630|\n",
            "|  1576|     303|      1273|\n",
            "|114188|    1333|    112855|\n",
            "|  7848|    1171|      6677|\n",
            "|  7473|     246|      7227|\n",
            "|  9419|      52|      9367|\n",
            "|  8011|     638|      7373|\n",
            "|  5398|      53|      5345|\n",
            "| 11963|      36|     11927|\n",
            "|  8421|     191|      8230|\n",
            "+------+--------+----------+\n",
            "only showing top 20 rows\n",
            "\n"
          ]
        }
      ]
    },
    {
      "cell_type": "markdown",
      "source": [
        "#### Con selectExpr"
      ],
      "metadata": {
        "id": "0MXbdTiD8Fcw"
      }
    },
    {
      "cell_type": "code",
      "source": [
        "# selectExpr\n",
        "df.selectExpr('likes', 'dislikes', '(likes - dislikes) as aceptacion').show()\n",
        "df.selectExpr(\"count(distinct(video_id)) as videos\").show()"
      ],
      "metadata": {
        "id": "O0R4ssbi7mcU",
        "colab": {
          "base_uri": "https://localhost:8080/"
        },
        "outputId": "fc2b5077-2500-43ec-f447-ce521a2db383"
      },
      "execution_count": null,
      "outputs": [
        {
          "output_type": "stream",
          "name": "stdout",
          "text": [
            "+------+--------+----------+\n",
            "| likes|dislikes|aceptacion|\n",
            "+------+--------+----------+\n",
            "| 57527|    2966|     54561|\n",
            "| 97185|    6146|     91039|\n",
            "|146033|    5339|    140694|\n",
            "| 10172|     666|      9506|\n",
            "|132235|    1989|    130246|\n",
            "|  9763|     511|      9252|\n",
            "| 15993|    2445|     13548|\n",
            "| 23663|     778|     22885|\n",
            "|  3543|     119|      3424|\n",
            "| 12654|    1363|     11291|\n",
            "|   655|      25|       630|\n",
            "|  1576|     303|      1273|\n",
            "|114188|    1333|    112855|\n",
            "|  7848|    1171|      6677|\n",
            "|  7473|     246|      7227|\n",
            "|  9419|      52|      9367|\n",
            "|  8011|     638|      7373|\n",
            "|  5398|      53|      5345|\n",
            "| 11963|      36|     11927|\n",
            "|  8421|     191|      8230|\n",
            "+------+--------+----------+\n",
            "only showing top 20 rows\n",
            "\n",
            "+------+\n",
            "|videos|\n",
            "+------+\n",
            "|  6837|\n",
            "+------+\n",
            "\n"
          ]
        }
      ]
    },
    {
      "cell_type": "markdown",
      "source": [
        "### Transformaciones, funciones, filter y where"
      ],
      "metadata": {
        "id": "hMn1H_5B40-i"
      }
    },
    {
      "cell_type": "code",
      "source": [
        "# Transformaciones - funciones filter y where\n",
        "import findspark\n",
        "findspark.init()\n",
        "from pyspark.sql import SparkSession\n",
        "from pyspark.sql.functions import col\n",
        "\n",
        "spark = SparkSession.builder.getOrCreate()\n",
        "\n",
        "df = spark.read.parquet('datos.parquet')\n",
        "df.show()"
      ],
      "metadata": {
        "id": "8w-rJRPa41Q5",
        "colab": {
          "base_uri": "https://localhost:8080/"
        },
        "outputId": "8eb5cc37-5866-4d23-ee57-c371e06c9ffb"
      },
      "execution_count": null,
      "outputs": [
        {
          "output_type": "stream",
          "name": "stdout",
          "text": [
            "+-----------+-------------+--------------------+--------------------+-----------+-------------------+--------------------+-------+------+--------+-------------+--------------------+-----------------+----------------+----------------------+--------------------+\n",
            "|   video_id|trending_date|               title|       channel_title|category_id|       publish_time|                tags|  views| likes|dislikes|comment_count|      thumbnail_link|comments_disabled|ratings_disabled|video_error_or_removed|         description|\n",
            "+-----------+-------------+--------------------+--------------------+-----------+-------------------+--------------------+-------+------+--------+-------------+--------------------+-----------------+----------------+----------------------+--------------------+\n",
            "|2kyS6SvSYSE|     17.14.11|WE WANT TO TALK A...|        CaseyNeistat|         22|2017-11-13 17:13:01|     SHANtell martin| 748374| 57527|    2966|        15954|https://i.ytimg.c...|            False|           False|                 False|SHANTELL'S CHANNE...|\n",
            "|1ZAPwfrtAFY|     17.14.11|The Trump Preside...|     LastWeekTonight|         24|2017-11-13 07:30:00|\"last week tonigh...|2418783| 97185|    6146|        12703|https://i.ytimg.c...|            False|           False|                 False|One year after th...|\n",
            "|5qpjK5DgCt4|     17.14.11|Racist Superman |...|        Rudy Mancuso|         23|2017-11-12 19:05:24|\"racist superman\"...|3191434|146033|    5339|         8181|https://i.ytimg.c...|            False|           False|                 False|WATCH MY PREVIOUS...|\n",
            "|puqaWrEC7tY|     17.14.11|Nickelback Lyrics...|Good Mythical Mor...|         24|2017-11-13 11:00:04|\"rhett and link\"|...| 343168| 10172|     666|         2146|https://i.ytimg.c...|            False|           False|                 False|Today we find out...|\n",
            "|d380meD0W0M|     17.14.11|I Dare You: GOING...|            nigahiga|         24|2017-11-12 18:01:41|\"ryan\"|\"higa\"|\"hi...|2095731|132235|    1989|        17518|https://i.ytimg.c...|            False|           False|                 False|I know it's been ...|\n",
            "|gHZ1Qz0KiKM|     17.14.11|2 Weeks with iPho...|            iJustine|         28|2017-11-13 19:07:23|\"ijustine\"|\"week ...| 119180|  9763|     511|         1434|https://i.ytimg.c...|            False|           False|                 False|Using the iPhone ...|\n",
            "|39idVpFF7NQ|     17.14.11|Roy Moore & Jeff ...| Saturday Night Live|         24|2017-11-12 05:37:17|\"SNL\"|\"Saturday N...|2103417| 15993|    2445|         1970|https://i.ytimg.c...|            False|           False|                 False|Embattled Alabama...|\n",
            "|nc99ccSXST0|     17.14.11|5 Ice Cream Gadge...|  CrazyRussianHacker|         28|2017-11-12 21:50:37|\"5 Ice Cream Gadg...| 817732| 23663|     778|         3432|https://i.ytimg.c...|            False|           False|                 False|Ice Cream Pint Co...|\n",
            "|jr9QtXwC9vc|     17.14.11|The Greatest Show...|    20th Century Fox|          1|2017-11-13 14:00:23|\"Trailer\"|\"Hugh J...| 826059|  3543|     119|          340|https://i.ytimg.c...|            False|           False|                 False|Inspired by the i...|\n",
            "|TUmyygCMMGA|     17.14.11|Why the rise of t...|                 Vox|         25|2017-11-13 13:45:16|\"vox.com\"|\"vox\"|\"...| 256426| 12654|    1363|         2368|https://i.ytimg.c...|            False|           False|                 False|For now, at least...|\n",
            "|9wRQljFNDW8|     17.14.11|Dion Lewis' 103-Y...|                 NFL|         17|2017-11-13 02:05:26|\"NFL\"|\"Football\"|...|  81377|   655|      25|          177|https://i.ytimg.c...|            False|           False|                 False|New England Patri...|\n",
            "|VifQlJit6A0|     17.14.11|(SPOILERS) 'Shiva...|                 amc|         24|2017-11-13 03:00:00|\"The Walking Dead...| 104578|  1576|     303|         1279|https://i.ytimg.c...|            False|           False|                 False|Shiva arrives jus...|\n",
            "|5E4ZBSInqUU|     17.14.11|Marshmello - Bloc...|          marshmello|         10|2017-11-13 17:00:00|\"marshmello\"|\"blo...| 687582|114188|    1333|         8371|https://i.ytimg.c...|            False|           False|                 False|WATCH SILENCE MUS...|\n",
            "|GgVmn66oK_A|     17.14.11|Which Countries A...|       NowThis World|         25|2017-11-12 14:00:00|\"nowthis\"|\"nowthi...| 544770|  7848|    1171|         3981|https://i.ytimg.c...|            False|           False|                 False|The world at larg...|\n",
            "|TaTleo4cOs8|     17.14.11|SHOPPING FOR NEW ...|     The king of DIY|         15|2017-11-12 18:30:01|\"shopping for new...| 207532|  7473|     246|         2120|https://i.ytimg.c...|            False|           False|                 False|Today we go shopp...|\n",
            "|kgaO45SyaO4|     17.14.11|    The New SpotMini|      BostonDynamics|         28|2017-11-13 20:09:58|\"Robots\"|\"Boston ...|  75752|  9419|      52|         1230|https://i.ytimg.c...|            False|           False|                 False|For more informat...|\n",
            "|ZAQs-ctOqXQ|     17.14.11|One Change That W...|             Cracked|         23|2017-11-12 17:00:05|\"pacific rim\"|\"pa...| 295639|  8011|     638|         1256|https://i.ytimg.c...|            False|           False|                 False|Pacific Rim was s...|\n",
            "|YVfyYrEmzgM|     17.14.11|How does your bod...|              TED-Ed|         27|2017-11-13 16:00:07|\"TED\"|\"TED-Ed\"|\"T...|  78044|  5398|      53|          385|https://i.ytimg.c...|            False|           False|                 False|Check out our Pat...|\n",
            "|eNSN6qet1kE|     17.14.11|HomeMade Electric...|         PeterSripol|         28|2017-11-13 15:30:17|\"ultralight\"|\"air...|  97007| 11963|      36|         2211|https://i.ytimg.c...|            False|           False|                 False|aaaannnd now to f...|\n",
            "|B5HORANmzHw|     17.14.11|Founding An Inbre...|             SciShow|         27|2017-11-12 22:00:01|\"SciShow\"|\"scienc...| 223871|  8421|     191|         1214|https://i.ytimg.c...|            False|           False|                 False|Thanks to 23AndMe...|\n",
            "+-----------+-------------+--------------------+--------------------+-----------+-------------------+--------------------+-------+------+--------+-------------+--------------------+-----------------+----------------+----------------------+--------------------+\n",
            "only showing top 20 rows\n",
            "\n"
          ]
        }
      ]
    },
    {
      "cell_type": "markdown",
      "source": [
        "#### Filter y where"
      ],
      "metadata": {
        "id": "GtNJIU-B8cfR"
      }
    },
    {
      "cell_type": "code",
      "source": [
        "df.filter(col('video_id') == '2kyS6SvSYSE').show()"
      ],
      "metadata": {
        "id": "NjsXUDQ_8jmq",
        "colab": {
          "base_uri": "https://localhost:8080/"
        },
        "outputId": "391f6cda-42ca-4237-8fcd-96cc36c78ef0"
      },
      "execution_count": null,
      "outputs": [
        {
          "output_type": "stream",
          "name": "stdout",
          "text": [
            "+-----------+-------------+--------------------+-------------+-----------+-------------------+---------------+-------+-----+--------+-------------+--------------------+-----------------+----------------+----------------------+--------------------+\n",
            "|   video_id|trending_date|               title|channel_title|category_id|       publish_time|           tags|  views|likes|dislikes|comment_count|      thumbnail_link|comments_disabled|ratings_disabled|video_error_or_removed|         description|\n",
            "+-----------+-------------+--------------------+-------------+-----------+-------------------+---------------+-------+-----+--------+-------------+--------------------+-----------------+----------------+----------------------+--------------------+\n",
            "|2kyS6SvSYSE|     17.14.11|WE WANT TO TALK A...| CaseyNeistat|         22|2017-11-13 17:13:01|SHANtell martin| 748374|57527|    2966|        15954|https://i.ytimg.c...|            False|           False|                 False|SHANTELL'S CHANNE...|\n",
            "|2kyS6SvSYSE|     17.15.11|WE WANT TO TALK A...| CaseyNeistat|         22|2017-11-13 17:13:01|SHANtell martin|2188590|88099|    7150|        24225|https://i.ytimg.c...|            False|           False|                 False|SHANTELL'S CHANNE...|\n",
            "|2kyS6SvSYSE|     17.16.11|WE WANT TO TALK A...| CaseyNeistat|         22|2017-11-13 17:13:01|SHANtell martin|2325233|91111|    7543|        21450|https://i.ytimg.c...|            False|           False|                 False|SHANTELL'S CHANNE...|\n",
            "|2kyS6SvSYSE|     17.17.11|WE WANT TO TALK A...| CaseyNeistat|         22|2017-11-13 17:13:01|SHANtell martin|2400741|92831|    7687|        21714|https://i.ytimg.c...|            False|           False|                 False|SHANTELL'S CHANNE...|\n",
            "|2kyS6SvSYSE|     17.18.11|WE WANT TO TALK A...| CaseyNeistat|         22|2017-11-13 17:13:01|SHANtell martin|2468267|94303|    7802|        21866|https://i.ytimg.c...|            False|           False|                 False|SHANTELL'S CHANNE...|\n",
            "|2kyS6SvSYSE|     17.19.11|WE WANT TO TALK A...| CaseyNeistat|         22|2017-11-13 17:13:01|SHANtell martin|2524854|95587|    7892|        22038|https://i.ytimg.c...|            False|           False|                 False|SHANTELL'S CHANNE...|\n",
            "|2kyS6SvSYSE|     17.20.11|WE WANT TO TALK A...| CaseyNeistat|         22|2017-11-13 17:13:01|SHANtell martin|2564903|96321|    7972|        22149|https://i.ytimg.c...|            False|           False|                 False|SHANTELL'S CHANNE...|\n",
            "+-----------+-------------+--------------------+-------------+-----------+-------------------+---------------+-------+-----+--------+-------------+--------------------+-----------------+----------------+----------------------+--------------------+\n",
            "\n"
          ]
        }
      ]
    },
    {
      "cell_type": "code",
      "source": [
        "df1 = spark.read.parquet('datos.parquet').where(col('trending_date') != '17.14.11')\n",
        "df1.show()"
      ],
      "metadata": {
        "id": "oH2sXYod8kKd",
        "colab": {
          "base_uri": "https://localhost:8080/"
        },
        "outputId": "a5173ca6-630e-4495-d543-5cbae2fc229d"
      },
      "execution_count": null,
      "outputs": [
        {
          "output_type": "stream",
          "name": "stdout",
          "text": [
            "+--------------------+--------------------+--------------------+--------------------+--------------------+-------------------+--------------------+-------+------+--------+-------------+--------------------+-----------------+----------------+----------------------+--------------------+\n",
            "|            video_id|       trending_date|               title|       channel_title|         category_id|       publish_time|                tags|  views| likes|dislikes|comment_count|      thumbnail_link|comments_disabled|ratings_disabled|video_error_or_removed|         description|\n",
            "+--------------------+--------------------+--------------------+--------------------+--------------------+-------------------+--------------------+-------+------+--------+-------------+--------------------+-----------------+----------------+----------------------+--------------------+\n",
            "|\\nCook with confi...|             recipes|              videos| and restaurant g...| dining destinations|               null|                null|   null|  null|    null|         null|                null|             null|            null|                  null|                null|\n",
            "|\\nVogue is the au...|      culture trends|     beauty coverage|              videos|     celebrity style|               null|                null|   null|  null|    null|         null|                null|             null|            null|                  null|                null|\n",
            "|\\nWIRED is where ...| WIRED explores t...|          innovation| and culture.\\n\\n...|                null|               null|                null|   null|  null|    null|         null|                null|             null|            null|                  null|                null|\n",
            "|         YvfYK0EEhK4|            17.15.11|Brent Pella - Why...|         Brent Pella|                  23|2017-11-14 15:32:51|\"spirit airlines\"...| 462490| 14132|     795|          666|https://i.ytimg.c...|            False|           False|                 False|Traveling for the...|\n",
            "|         cxMvzK2OQTw|            17.15.11|Cards Against Hum...|Cards Against Hum...|                  23|2017-11-14 16:43:11|              [none]| 295217|  4854|    1439|         1267|https://i.ytimg.c...|            False|           False|                 False|Narrated by Peter...|\n",
            "|         bAkEd8r7Nnw|            17.15.11|Slow Mo Katana Sw...|    The Slow Mo Guys|                  24|2017-11-14 18:31:20|\"slomo\"|\"slow\"|\"m...|1525400| 63995|     896|         4697|https://i.ytimg.c...|            False|           False|                 False|Has Dan ever used...|\n",
            "|         ItYOdWRo0JY|            17.15.11|Selling My iPhone...|          TechSmartt|                  28|2017-11-14 00:45:15|\"iphone x\"|\"iphon...|1836419| 28647|   17815|         7860|https://i.ytimg.c...|            False|           False|                 False|I saw the EcoATM ...|\n",
            "|         5530I_pYjbo|            17.15.11|How I Trained My ...|         JunsKitchen|                  26|2017-11-14 12:06:56|\"how\"|\"trained\"|\"...| 977285| 87615|     391|         5575|https://i.ytimg.c...|            False|           False|                 False|►EQUIPMENT I use ...|\n",
            "|         dUMH6DVYskc|            17.15.11|Ten-Year-Old's Fa...|     Attaullah Malik|                  28|2017-11-14 12:02:49|\"iPhone X\"|\"Face ...| 390964|  3687|    1273|         1224|https://i.ytimg.c...|            False|           False|                 False|We are seeing a f...|\n",
            "|         gjXrm2Q-te4|            17.15.11|Jimmy Fallon Pays...|The Tonight Show ...|                  23|2017-11-14 04:55:24|\"Jimmy Fallon\"|\"T...|1611093| 58474|     837|         3294|https://i.ytimg.c...|            False|           False|                 False|Jimmy celebrates ...|\n",
            "|         9SK1I0V6U5c|            17.15.11|Lie Detector | An...|        Anwar Jibawi|                  23|2017-11-14 18:01:03|\"lie detector\"|\"a...| 983365| 60983|     578|         3837|https://i.ytimg.c...|            False|           False|                 False|SUBSCRIBE ► https...|\n",
            "|         VsYmwBOYfW8|            17.15.11|Mean Tweets – Jim...|   Jimmy Kimmel Live|                  23|2017-11-14 08:30:01|\"jimmy\"|\"jimmy ki...|2765121| 35529|    1705|         2388|https://i.ytimg.c...|            False|           False|                 False|In honor of Jimmy...|\n",
            "|         kgaO45SyaO4|            17.15.11|    The New SpotMini|      BostonDynamics|                  28|2017-11-13 20:09:58|\"Robots\"|\"Boston ...|3701763| 56561|    2495|        11608|https://i.ytimg.c...|            False|           False|                 False|For more informat...|\n",
            "|         CtBca6H6Teg|            17.15.11|Honest Trailers -...|      Screen Junkies|                   1|2017-11-14 18:00:01|\"batman\"|\"screenj...| 829132| 25109|     316|         3428|https://i.ytimg.c...|            False|           False|                 False|Before Justice Le...|\n",
            "|         pcWKpGzhgq4|            17.15.11|Jason Momoa Shows...|The Graham Norton...|                  24|2017-11-14 12:13:35|\"Graham Norton\"|\"...| 391049|  5939|     106|          385|https://i.ytimg.c...|            False|           False|                 False|It's not a triden...|\n",
            "|         L3br0klRqF4|            17.15.11|Watch live: Sessi...|     Washington Post|                  25|2017-11-14 21:51:20|\"breaking news vi...| 137003|   580|     262|          343|https://i.ytimg.c...|            False|           False|                 False|Attorney General ...|\n",
            "|         9kF9xY74h-E|            17.15.11|Spilling Tea Abou...|         Dolan Twins|                  23|2017-11-14 21:00:47|\"Dolan Twins\"|\"Sp...| 891912|122347|     455|         7459|https://i.ytimg.c...|            False|           False|                 False|We spill TEA abou...|\n",
            "|         p2EY93WfBQk|            17.15.11|Is the Morphe 350...|         Jackie Aina|                  26|2017-11-14 21:03:47|\"morphe\"|\"morphe ...| 175539| 17130|     264|         1747|https://i.ytimg.c...|            False|           False|                 False|hi babes! the lat...|\n",
            "|         xL_qpDkF5A8|            17.15.11|American Crime St...|           TV Promos|                  24|2017-11-15 01:25:18|\"Donatella Versac...|  14565|   478|      13|           67|https://i.ytimg.c...|            False|           False|                 False|The Assassination...|\n",
            "|         eQVhAN7-IAw|            17.15.11|The Making of a S...|        Taylor Swift|                  10|2017-11-15 03:43:47|\"DIRECTV\"|\"DIRECT...| 125645| 16754|      65|         1373|https://i.ytimg.c...|            False|           False|                 False|A glimpse into Ta...|\n",
            "+--------------------+--------------------+--------------------+--------------------+--------------------+-------------------+--------------------+-------+------+--------+-------------+--------------------+-----------------+----------------+----------------------+--------------------+\n",
            "only showing top 20 rows\n",
            "\n"
          ]
        }
      ]
    },
    {
      "cell_type": "code",
      "source": [
        "df2 = spark.read.parquet('datos.parquet').where(col('likes') > 5000)"
      ],
      "metadata": {
        "id": "Ezc0rUEM8nA3"
      },
      "execution_count": null,
      "outputs": []
    },
    {
      "cell_type": "code",
      "source": [
        "df2.filter((col('trending_date') != '17.14.11') & (col('likes') > 7000)).show()"
      ],
      "metadata": {
        "id": "mAr6YLED8vvx",
        "colab": {
          "base_uri": "https://localhost:8080/"
        },
        "outputId": "2db5a83e-243f-4161-a2cd-980f01e582a5"
      },
      "execution_count": null,
      "outputs": [
        {
          "output_type": "stream",
          "name": "stdout",
          "text": [
            "+-----------+-------------+--------------------+--------------------+-----------+-------------------+--------------------+-------+------+--------+-------------+--------------------+-----------------+----------------+----------------------+--------------------+\n",
            "|   video_id|trending_date|               title|       channel_title|category_id|       publish_time|                tags|  views| likes|dislikes|comment_count|      thumbnail_link|comments_disabled|ratings_disabled|video_error_or_removed|         description|\n",
            "+-----------+-------------+--------------------+--------------------+-----------+-------------------+--------------------+-------+------+--------+-------------+--------------------+-----------------+----------------+----------------------+--------------------+\n",
            "|YvfYK0EEhK4|     17.15.11|Brent Pella - Why...|         Brent Pella|         23|2017-11-14 15:32:51|\"spirit airlines\"...| 462490| 14132|     795|          666|https://i.ytimg.c...|            False|           False|                 False|Traveling for the...|\n",
            "|bAkEd8r7Nnw|     17.15.11|Slow Mo Katana Sw...|    The Slow Mo Guys|         24|2017-11-14 18:31:20|\"slomo\"|\"slow\"|\"m...|1525400| 63995|     896|         4697|https://i.ytimg.c...|            False|           False|                 False|Has Dan ever used...|\n",
            "|ItYOdWRo0JY|     17.15.11|Selling My iPhone...|          TechSmartt|         28|2017-11-14 00:45:15|\"iphone x\"|\"iphon...|1836419| 28647|   17815|         7860|https://i.ytimg.c...|            False|           False|                 False|I saw the EcoATM ...|\n",
            "|5530I_pYjbo|     17.15.11|How I Trained My ...|         JunsKitchen|         26|2017-11-14 12:06:56|\"how\"|\"trained\"|\"...| 977285| 87615|     391|         5575|https://i.ytimg.c...|            False|           False|                 False|►EQUIPMENT I use ...|\n",
            "|gjXrm2Q-te4|     17.15.11|Jimmy Fallon Pays...|The Tonight Show ...|         23|2017-11-14 04:55:24|\"Jimmy Fallon\"|\"T...|1611093| 58474|     837|         3294|https://i.ytimg.c...|            False|           False|                 False|Jimmy celebrates ...|\n",
            "|9SK1I0V6U5c|     17.15.11|Lie Detector | An...|        Anwar Jibawi|         23|2017-11-14 18:01:03|\"lie detector\"|\"a...| 983365| 60983|     578|         3837|https://i.ytimg.c...|            False|           False|                 False|SUBSCRIBE ► https...|\n",
            "|VsYmwBOYfW8|     17.15.11|Mean Tweets – Jim...|   Jimmy Kimmel Live|         23|2017-11-14 08:30:01|\"jimmy\"|\"jimmy ki...|2765121| 35529|    1705|         2388|https://i.ytimg.c...|            False|           False|                 False|In honor of Jimmy...|\n",
            "|kgaO45SyaO4|     17.15.11|    The New SpotMini|      BostonDynamics|         28|2017-11-13 20:09:58|\"Robots\"|\"Boston ...|3701763| 56561|    2495|        11608|https://i.ytimg.c...|            False|           False|                 False|For more informat...|\n",
            "|CtBca6H6Teg|     17.15.11|Honest Trailers -...|      Screen Junkies|          1|2017-11-14 18:00:01|\"batman\"|\"screenj...| 829132| 25109|     316|         3428|https://i.ytimg.c...|            False|           False|                 False|Before Justice Le...|\n",
            "|9kF9xY74h-E|     17.15.11|Spilling Tea Abou...|         Dolan Twins|         23|2017-11-14 21:00:47|\"Dolan Twins\"|\"Sp...| 891912|122347|     455|         7459|https://i.ytimg.c...|            False|           False|                 False|We spill TEA abou...|\n",
            "|p2EY93WfBQk|     17.15.11|Is the Morphe 350...|         Jackie Aina|         26|2017-11-14 21:03:47|\"morphe\"|\"morphe ...| 175539| 17130|     264|         1747|https://i.ytimg.c...|            False|           False|                 False|hi babes! the lat...|\n",
            "|eQVhAN7-IAw|     17.15.11|The Making of a S...|        Taylor Swift|         10|2017-11-15 03:43:47|\"DIRECTV\"|\"DIRECT...| 125645| 16754|      65|         1373|https://i.ytimg.c...|            False|           False|                 False|A glimpse into Ta...|\n",
            "|2kyS6SvSYSE|     17.15.11|WE WANT TO TALK A...|        CaseyNeistat|         22|2017-11-13 17:13:01|     SHANtell martin|2188590| 88099|    7150|        24225|https://i.ytimg.c...|            False|           False|                 False|SHANTELL'S CHANNE...|\n",
            "|Y9nDagqKL7Q|     17.15.11|venting online ab...|               ProZD|          1|2017-11-13 20:47:49|\"venting online\"|...| 394709| 25188|     281|         1345|https://i.ytimg.c...|            False|           False|                 False|My Twitter: https...|\n",
            "|DbJ2s_g1oDc|     17.15.11|10 LIFE HACKS YOU...|               REACT|         24|2017-11-13 20:00:01|\"easy life hacks\"...| 863116| 20518|    1030|         4272|https://i.ytimg.c...|            False|           False|                 False|10 Awesome life h...|\n",
            "|1ZAPwfrtAFY|     17.15.11|The Trump Preside...|     LastWeekTonight|         24|2017-11-13 07:30:00|\"last week tonigh...|4632016|131784|    9892|        18284|https://i.ytimg.c...|            False|           False|                 False|One year after th...|\n",
            "|gHZ1Qz0KiKM|     17.15.11|2 Weeks with iPho...|            iJustine|         28|2017-11-13 19:07:23|\"ijustine\"|\"week ...| 758998| 19138|    2272|         2873|https://i.ytimg.c...|            False|           False|                 False|Using the iPhone ...|\n",
            "|jr9QtXwC9vc|     17.15.11|The Greatest Show...|    20th Century Fox|          1|2017-11-13 14:00:23|\"Trailer\"|\"Hugh J...|2671756| 12699|     505|         1010|https://i.ytimg.c...|            False|           False|                 False|Inspired by the i...|\n",
            "|l4bAoNAx2uo|     17.15.11|American Things E...|The Infographics ...|         27|2017-11-13 17:11:30|\"American Things ...| 419965|  9805|    1337|         5457|https://i.ytimg.c...|            False|           False|                 False|What are things t...|\n",
            "|puqaWrEC7tY|     17.15.11|Nickelback Lyrics...|Good Mythical Mor...|         24|2017-11-13 11:00:04|\"rhett and link\"|...| 772235| 15301|    1229|         3328|https://i.ytimg.c...|            False|           False|                 False|Today we find out...|\n",
            "+-----------+-------------+--------------------+--------------------+-----------+-------------------+--------------------+-------+------+--------+-------------+--------------------+-----------------+----------------+----------------------+--------------------+\n",
            "only showing top 20 rows\n",
            "\n"
          ]
        }
      ]
    },
    {
      "cell_type": "code",
      "source": [
        "df2.filter(col('trending_date') != '17.14.11').filter(col('likes') > 7000).show()"
      ],
      "metadata": {
        "id": "3GqiJ-fG8vll",
        "colab": {
          "base_uri": "https://localhost:8080/"
        },
        "outputId": "77437a47-18cb-4602-dcde-c34d5652fc3e"
      },
      "execution_count": null,
      "outputs": [
        {
          "output_type": "stream",
          "name": "stdout",
          "text": [
            "+-----------+-------------+--------------------+--------------------+-----------+-------------------+--------------------+-------+------+--------+-------------+--------------------+-----------------+----------------+----------------------+--------------------+\n",
            "|   video_id|trending_date|               title|       channel_title|category_id|       publish_time|                tags|  views| likes|dislikes|comment_count|      thumbnail_link|comments_disabled|ratings_disabled|video_error_or_removed|         description|\n",
            "+-----------+-------------+--------------------+--------------------+-----------+-------------------+--------------------+-------+------+--------+-------------+--------------------+-----------------+----------------+----------------------+--------------------+\n",
            "|YvfYK0EEhK4|     17.15.11|Brent Pella - Why...|         Brent Pella|         23|2017-11-14 15:32:51|\"spirit airlines\"...| 462490| 14132|     795|          666|https://i.ytimg.c...|            False|           False|                 False|Traveling for the...|\n",
            "|bAkEd8r7Nnw|     17.15.11|Slow Mo Katana Sw...|    The Slow Mo Guys|         24|2017-11-14 18:31:20|\"slomo\"|\"slow\"|\"m...|1525400| 63995|     896|         4697|https://i.ytimg.c...|            False|           False|                 False|Has Dan ever used...|\n",
            "|ItYOdWRo0JY|     17.15.11|Selling My iPhone...|          TechSmartt|         28|2017-11-14 00:45:15|\"iphone x\"|\"iphon...|1836419| 28647|   17815|         7860|https://i.ytimg.c...|            False|           False|                 False|I saw the EcoATM ...|\n",
            "|5530I_pYjbo|     17.15.11|How I Trained My ...|         JunsKitchen|         26|2017-11-14 12:06:56|\"how\"|\"trained\"|\"...| 977285| 87615|     391|         5575|https://i.ytimg.c...|            False|           False|                 False|►EQUIPMENT I use ...|\n",
            "|gjXrm2Q-te4|     17.15.11|Jimmy Fallon Pays...|The Tonight Show ...|         23|2017-11-14 04:55:24|\"Jimmy Fallon\"|\"T...|1611093| 58474|     837|         3294|https://i.ytimg.c...|            False|           False|                 False|Jimmy celebrates ...|\n",
            "|9SK1I0V6U5c|     17.15.11|Lie Detector | An...|        Anwar Jibawi|         23|2017-11-14 18:01:03|\"lie detector\"|\"a...| 983365| 60983|     578|         3837|https://i.ytimg.c...|            False|           False|                 False|SUBSCRIBE ► https...|\n",
            "|VsYmwBOYfW8|     17.15.11|Mean Tweets – Jim...|   Jimmy Kimmel Live|         23|2017-11-14 08:30:01|\"jimmy\"|\"jimmy ki...|2765121| 35529|    1705|         2388|https://i.ytimg.c...|            False|           False|                 False|In honor of Jimmy...|\n",
            "|kgaO45SyaO4|     17.15.11|    The New SpotMini|      BostonDynamics|         28|2017-11-13 20:09:58|\"Robots\"|\"Boston ...|3701763| 56561|    2495|        11608|https://i.ytimg.c...|            False|           False|                 False|For more informat...|\n",
            "|CtBca6H6Teg|     17.15.11|Honest Trailers -...|      Screen Junkies|          1|2017-11-14 18:00:01|\"batman\"|\"screenj...| 829132| 25109|     316|         3428|https://i.ytimg.c...|            False|           False|                 False|Before Justice Le...|\n",
            "|9kF9xY74h-E|     17.15.11|Spilling Tea Abou...|         Dolan Twins|         23|2017-11-14 21:00:47|\"Dolan Twins\"|\"Sp...| 891912|122347|     455|         7459|https://i.ytimg.c...|            False|           False|                 False|We spill TEA abou...|\n",
            "|p2EY93WfBQk|     17.15.11|Is the Morphe 350...|         Jackie Aina|         26|2017-11-14 21:03:47|\"morphe\"|\"morphe ...| 175539| 17130|     264|         1747|https://i.ytimg.c...|            False|           False|                 False|hi babes! the lat...|\n",
            "|eQVhAN7-IAw|     17.15.11|The Making of a S...|        Taylor Swift|         10|2017-11-15 03:43:47|\"DIRECTV\"|\"DIRECT...| 125645| 16754|      65|         1373|https://i.ytimg.c...|            False|           False|                 False|A glimpse into Ta...|\n",
            "|2kyS6SvSYSE|     17.15.11|WE WANT TO TALK A...|        CaseyNeistat|         22|2017-11-13 17:13:01|     SHANtell martin|2188590| 88099|    7150|        24225|https://i.ytimg.c...|            False|           False|                 False|SHANTELL'S CHANNE...|\n",
            "|Y9nDagqKL7Q|     17.15.11|venting online ab...|               ProZD|          1|2017-11-13 20:47:49|\"venting online\"|...| 394709| 25188|     281|         1345|https://i.ytimg.c...|            False|           False|                 False|My Twitter: https...|\n",
            "|DbJ2s_g1oDc|     17.15.11|10 LIFE HACKS YOU...|               REACT|         24|2017-11-13 20:00:01|\"easy life hacks\"...| 863116| 20518|    1030|         4272|https://i.ytimg.c...|            False|           False|                 False|10 Awesome life h...|\n",
            "|1ZAPwfrtAFY|     17.15.11|The Trump Preside...|     LastWeekTonight|         24|2017-11-13 07:30:00|\"last week tonigh...|4632016|131784|    9892|        18284|https://i.ytimg.c...|            False|           False|                 False|One year after th...|\n",
            "|gHZ1Qz0KiKM|     17.15.11|2 Weeks with iPho...|            iJustine|         28|2017-11-13 19:07:23|\"ijustine\"|\"week ...| 758998| 19138|    2272|         2873|https://i.ytimg.c...|            False|           False|                 False|Using the iPhone ...|\n",
            "|jr9QtXwC9vc|     17.15.11|The Greatest Show...|    20th Century Fox|          1|2017-11-13 14:00:23|\"Trailer\"|\"Hugh J...|2671756| 12699|     505|         1010|https://i.ytimg.c...|            False|           False|                 False|Inspired by the i...|\n",
            "|l4bAoNAx2uo|     17.15.11|American Things E...|The Infographics ...|         27|2017-11-13 17:11:30|\"American Things ...| 419965|  9805|    1337|         5457|https://i.ytimg.c...|            False|           False|                 False|What are things t...|\n",
            "|puqaWrEC7tY|     17.15.11|Nickelback Lyrics...|Good Mythical Mor...|         24|2017-11-13 11:00:04|\"rhett and link\"|...| 772235| 15301|    1229|         3328|https://i.ytimg.c...|            False|           False|                 False|Today we find out...|\n",
            "+-----------+-------------+--------------------+--------------------+-----------+-------------------+--------------------+-------+------+--------+-------------+--------------------+-----------------+----------------+----------------------+--------------------+\n",
            "only showing top 20 rows\n",
            "\n"
          ]
        }
      ]
    },
    {
      "cell_type": "markdown",
      "source": [
        "### Transformaciones, funciones, distinct y dropDuplicates"
      ],
      "metadata": {
        "id": "sv-Wjy7a41sK"
      }
    },
    {
      "cell_type": "code",
      "source": [
        "# Transformaciones - funciones distinct y dropDuplicates\n",
        "import findspark\n",
        "findspark.init()\n",
        "from pyspark.sql import SparkSession\n",
        "\n",
        "spark = SparkSession.builder.getOrCreate()\n",
        "\n",
        "df = spark.read.parquet('datos.parquet')\n",
        "df.show(5)"
      ],
      "metadata": {
        "id": "TB3EBcXl42JU",
        "colab": {
          "base_uri": "https://localhost:8080/"
        },
        "outputId": "f8254248-4515-4732-f3bd-91464d9e6954"
      },
      "execution_count": null,
      "outputs": [
        {
          "output_type": "stream",
          "name": "stdout",
          "text": [
            "+-----------+-------------+--------------------+--------------------+-----------+-------------------+--------------------+-------+------+--------+-------------+--------------------+-----------------+----------------+----------------------+--------------------+\n",
            "|   video_id|trending_date|               title|       channel_title|category_id|       publish_time|                tags|  views| likes|dislikes|comment_count|      thumbnail_link|comments_disabled|ratings_disabled|video_error_or_removed|         description|\n",
            "+-----------+-------------+--------------------+--------------------+-----------+-------------------+--------------------+-------+------+--------+-------------+--------------------+-----------------+----------------+----------------------+--------------------+\n",
            "|2kyS6SvSYSE|     17.14.11|WE WANT TO TALK A...|        CaseyNeistat|         22|2017-11-13 17:13:01|     SHANtell martin| 748374| 57527|    2966|        15954|https://i.ytimg.c...|            False|           False|                 False|SHANTELL'S CHANNE...|\n",
            "|1ZAPwfrtAFY|     17.14.11|The Trump Preside...|     LastWeekTonight|         24|2017-11-13 07:30:00|\"last week tonigh...|2418783| 97185|    6146|        12703|https://i.ytimg.c...|            False|           False|                 False|One year after th...|\n",
            "|5qpjK5DgCt4|     17.14.11|Racist Superman |...|        Rudy Mancuso|         23|2017-11-12 19:05:24|\"racist superman\"...|3191434|146033|    5339|         8181|https://i.ytimg.c...|            False|           False|                 False|WATCH MY PREVIOUS...|\n",
            "|puqaWrEC7tY|     17.14.11|Nickelback Lyrics...|Good Mythical Mor...|         24|2017-11-13 11:00:04|\"rhett and link\"|...| 343168| 10172|     666|         2146|https://i.ytimg.c...|            False|           False|                 False|Today we find out...|\n",
            "|d380meD0W0M|     17.14.11|I Dare You: GOING...|            nigahiga|         24|2017-11-12 18:01:41|\"ryan\"|\"higa\"|\"hi...|2095731|132235|    1989|        17518|https://i.ytimg.c...|            False|           False|                 False|I know it's been ...|\n",
            "+-----------+-------------+--------------------+--------------------+-----------+-------------------+--------------------+-------+------+--------+-------------+--------------------+-----------------+----------------+----------------------+--------------------+\n",
            "only showing top 5 rows\n",
            "\n"
          ]
        }
      ]
    },
    {
      "cell_type": "markdown",
      "source": [
        "#### distinct"
      ],
      "metadata": {
        "id": "KREUBu7_9R-8"
      }
    },
    {
      "cell_type": "code",
      "source": [
        "# distinct\n",
        "df_count_original = df.count()\n",
        "df_count_sin_duplicados = df.distinct().count()\n",
        "df_sin_duplicados = df.distinct()\n",
        "\n",
        "# Con f-strings\n",
        "print(f'El conteo del dataframe original es {df_count_original}')\n",
        "print(f'El conteo del dataframe sin duplicados es {df_count_sin_duplicados}')\n",
        "# Sin f-strings\n",
        "print('El conteo del dataframe original es {}'.format(df.count()))\n",
        "print('El conteo del dataframe sin duplicados es {}'.format(df_sin_duplicados.count()))"
      ],
      "metadata": {
        "id": "PY0YipFe9VlZ",
        "colab": {
          "base_uri": "https://localhost:8080/"
        },
        "outputId": "117af243-60dd-4711-879a-16af4839175e"
      },
      "execution_count": null,
      "outputs": [
        {
          "output_type": "stream",
          "name": "stdout",
          "text": [
            "El conteo del dataframe original es 48137\n",
            "El conteo del dataframe sin duplicados es 41428\n",
            "El conteo del dataframe original es 48137\n",
            "El conteo del dataframe sin duplicados es 41428\n"
          ]
        }
      ]
    },
    {
      "cell_type": "markdown",
      "source": [
        "#### dropDuplicates"
      ],
      "metadata": {
        "id": "Cz-eyNo89beE"
      }
    },
    {
      "cell_type": "code",
      "source": [
        "# función dropDuplicates\n",
        "dataframe = spark.createDataFrame([(1, 'azul', 567), (2, 'rojo', 487), (1, 'azul', 345), (2, 'verde', 783)]).toDF('id', 'color', 'importe')\n",
        "dataframe.show()"
      ],
      "metadata": {
        "id": "X6eMg2Iy9eXc",
        "colab": {
          "base_uri": "https://localhost:8080/"
        },
        "outputId": "ce6cf4bc-7c2f-4544-95f6-279763311f15"
      },
      "execution_count": null,
      "outputs": [
        {
          "output_type": "stream",
          "name": "stdout",
          "text": [
            "+---+-----+-------+\n",
            "| id|color|importe|\n",
            "+---+-----+-------+\n",
            "|  1| azul|    567|\n",
            "|  2| rojo|    487|\n",
            "|  1| azul|    345|\n",
            "|  2|verde|    783|\n",
            "+---+-----+-------+\n",
            "\n"
          ]
        }
      ]
    },
    {
      "cell_type": "code",
      "source": [
        "dataframe.dropDuplicates(['id', 'color']).show()"
      ],
      "metadata": {
        "id": "oU640Dp19nHX",
        "colab": {
          "base_uri": "https://localhost:8080/"
        },
        "outputId": "f549caa8-c671-4e30-c5a9-9319868b6503"
      },
      "execution_count": null,
      "outputs": [
        {
          "output_type": "stream",
          "name": "stdout",
          "text": [
            "+---+-----+-------+\n",
            "| id|color|importe|\n",
            "+---+-----+-------+\n",
            "|  1| azul|    567|\n",
            "|  2| rojo|    487|\n",
            "|  2|verde|    783|\n",
            "+---+-----+-------+\n",
            "\n"
          ]
        }
      ]
    },
    {
      "cell_type": "markdown",
      "source": [
        "### Transformaciones, funciones, sort y orderBy"
      ],
      "metadata": {
        "id": "JxtHlLfX5dDh"
      }
    },
    {
      "cell_type": "code",
      "source": [
        "# Transformaciones - funciones sort y orderBy\n",
        "import findspark\n",
        "findspark.init()\n",
        "from pyspark.sql import SparkSession\n",
        "from pyspark.sql.functions import col\n",
        "from pyspark.sql.functions import desc\n",
        "\n",
        "spark = SparkSession.builder.getOrCreate()\n",
        "\n",
        "df = (spark.read.parquet('datos.parquet')\n",
        "    .select(col('likes'), col('views'), col('video_id'), col('dislikes'))\n",
        "    .dropDuplicates(['video_id'])\n",
        ")\n",
        "\n",
        "df.show()"
      ],
      "metadata": {
        "id": "jCMT3N3X5dk8",
        "colab": {
          "base_uri": "https://localhost:8080/"
        },
        "outputId": "6b258913-b36b-44fa-e436-9bc94336ab29"
      },
      "execution_count": null,
      "outputs": [
        {
          "output_type": "stream",
          "name": "stdout",
          "text": [
            "+------+-------+--------------------+--------+\n",
            "| likes|  views|            video_id|dislikes|\n",
            "+------+-------+--------------------+--------+\n",
            "| 63995|1525400|         bAkEd8r7Nnw|     896|\n",
            "|   427|   9036|         eijd-yjXY9E|      14|\n",
            "|  4145| 318249|         npcqBt_e4k0|     110|\n",
            "|  6669| 203615|         LeWtF5y9-6Q|     136|\n",
            "|  2166| 104499|         GhcqN2FDAnA|    1066|\n",
            "| 10834| 160196|         v_CMMWCN5nQ|     162|\n",
            "| 36068| 962042|         R8WBN3fJmwM|     845|\n",
            "|   982|  36848|         oKuPJ7zF0_k|       6|\n",
            "| 26482| 713615|         B3JFSL8AA70|    2443|\n",
            "|275632|2822642|         f6Egj7ncOi8|    1444|\n",
            "| 23922| 321885|         8gE6cek7F30|     317|\n",
            "|    70|  13670|         EdkK29-TWJk|       1|\n",
            "|  1131| 120802|         8szK9FBpdPI|      92|\n",
            "| 12355| 294080|         6gFj1XJ6b5o|      80|\n",
            "|  null|   null|\\nhttp://www.Mast...|    null|\n",
            "| 12070| 233766|         wOFuVNiAJQQ|     117|\n",
            "| 21067| 210371|         PpElRBQ-yGc|     135|\n",
            "|  4609| 363194|         q11UD-6XT-8|     955|\n",
            "|   188|  31145|         IzQwbRdh5Ts|       1|\n",
            "|  2184|  74090|         IfdihPR__WI|      47|\n",
            "+------+-------+--------------------+--------+\n",
            "only showing top 20 rows\n",
            "\n"
          ]
        }
      ]
    },
    {
      "cell_type": "code",
      "source": [
        "# sort\n",
        "df.sort('likes').show()\n",
        "df.sort(desc('likes')).show()"
      ],
      "metadata": {
        "id": "yjrZArtC_Wmg",
        "colab": {
          "base_uri": "https://localhost:8080/"
        },
        "outputId": "0c02bd70-d71a-42bb-d2ef-f25dc9c28487"
      },
      "execution_count": null,
      "outputs": [
        {
          "output_type": "stream",
          "name": "stdout",
          "text": [
            "+-----+-----+--------------------+--------+\n",
            "|likes|views|            video_id|dislikes|\n",
            "+-----+-----+--------------------+--------+\n",
            "| null| null|\\nFor more videos...|    null|\n",
            "| null| null|\\nFashion Editor:...|    null|\n",
            "| null| null|\\nAccess Hollywoo...|    null|\n",
            "| null| null|\\nStill haven’t s...|    null|\n",
            "| null| null|\\nhttps://www.you...|    null|\n",
            "| null| null|Horror Outro ► ht...|    null|\n",
            "| null| null|\\nChapped lips ar...|    null|\n",
            "| null| null|\\nRoar: https://w...|    null|\n",
            "| null| null|\\nThe leading int...|    null|\n",
            "| null| null|             \\nToday|    null|\n",
            "| null| null|\\nONE STRANGE ROC...|    null|\n",
            "| null| null|\\nSNAPCHAT: fishi...|    null|\n",
            "| null| null|\\nInstagram: http...|    null|\n",
            "| null| null|\\nInstagram.com/w...|    null|\n",
            "| null| null|\\n5050 State Hwy....|    null|\n",
            "| null| null|\\nSIGN UP FOR BRA...|    null|\n",
            "| null| null|\\nJames Ambler an...|    null|\n",
            "| null| null|\\nhttp://www.Mast...|    null|\n",
            "| null| null|\\nEver After Tuto...|    null|\n",
            "| null| null|          \\nEvelin 7|    null|\n",
            "+-----+-----+--------------------+--------+\n",
            "only showing top 20 rows\n",
            "\n",
            "+-------+--------+-----------+--------+\n",
            "|  likes|   views|   video_id|dislikes|\n",
            "+-------+--------+-----------+--------+\n",
            "|3880071|39349927|7C2z4GqqS5E|   72707|\n",
            "|2055137|13945717|kTlv5_Bs8aw|   23888|\n",
            "|2050527|10695328|OK3GJ0WIQ8s|   14711|\n",
            "|1956202|10666323|p8npDG2ulKQ|   13966|\n",
            "|1735895|37736281|6ZfuNTqbHE8|   21969|\n",
            "|1634124|33523622|2Vv-BfVoq4g|   21082|\n",
            "|1572997| 7518332|kX0vO4vlJuU|    8113|\n",
            "|1437859| 5884233|D_6QmL6rExk|    6390|\n",
            "|1405355|31648454|VYOjWnS4cMY|   51547|\n",
            "|1401915| 5275672|8O_MwlZ2dEg|    6268|\n",
            "|1386616|15873034|ffxKSjUwKdU|   40714|\n",
            "|1366736|16884972|J2HytHu5VBI|   59930|\n",
            "|1290509| 6416697|2tDKp41nrw8|    4358|\n",
            "|1207457|13754992|_5d-sQ7Fh5M|  280675|\n",
            "|1167488| 8041970|oWjxSkJpxFU|  147643|\n",
            "|1149185|24782158|FlsCjmMhFmw|  483924|\n",
            "|1111592|38873543|i0p1bmr0EmE|   96407|\n",
            "|1065777|14089954|dfnCAmr569k|   47839|\n",
            "| 983693|14820746|tCXGJQYZ9JA|   44254|\n",
            "| 975715|19716689|QwievZ1Tx-8|    9118|\n",
            "+-------+--------+-----------+--------+\n",
            "only showing top 20 rows\n",
            "\n"
          ]
        }
      ]
    },
    {
      "cell_type": "code",
      "source": [
        "# función orderBy\n",
        "df.orderBy(col('views')).show()\n",
        "df.orderBy(col('views').desc()).show()"
      ],
      "metadata": {
        "id": "N2kzGxQ7_WdA",
        "colab": {
          "base_uri": "https://localhost:8080/"
        },
        "outputId": "797e1a83-6e67-460d-92b5-3eb98a39ff6e"
      },
      "execution_count": null,
      "outputs": [
        {
          "output_type": "stream",
          "name": "stdout",
          "text": [
            "+-----+-----+--------------------+--------+\n",
            "|likes|views|            video_id|dislikes|\n",
            "+-----+-----+--------------------+--------+\n",
            "| null| null|\\nIMDB - http://w...|    null|\n",
            "| null| null|\\nThis is the fir...|    null|\n",
            "| null| null|\\nAccess Hollywoo...|    null|\n",
            "| null| null|\\nStill haven’t s...|    null|\n",
            "| null| null|\\nhttps://www.you...|    null|\n",
            "| null| null|          \\nEvelin 7|    null|\n",
            "| null| null|Horror Outro ► ht...|    null|\n",
            "| null| null|\\nChapped lips ar...|    null|\n",
            "| null| null|\\nRoar: https://w...|    null|\n",
            "| null| null|\\nThe leading int...|    null|\n",
            "| null| null|             \\nToday|    null|\n",
            "| null| null|\\nONE STRANGE ROC...|    null|\n",
            "| null| null|\\nSNAPCHAT: fishi...|    null|\n",
            "| null| null|\\nInstagram: http...|    null|\n",
            "| null| null|\\nInstagram.com/w...|    null|\n",
            "| null| null|\\n5050 State Hwy....|    null|\n",
            "| null| null|\\nFor more videos...|    null|\n",
            "| null| null|\\nJames Ambler an...|    null|\n",
            "| null| null|\\nFashion Editor:...|    null|\n",
            "| null| null|\\nEver After Tuto...|    null|\n",
            "+-----+-----+--------------------+--------+\n",
            "only showing top 20 rows\n",
            "\n",
            "+-------+--------+-----------+--------+\n",
            "|  likes|   views|   video_id|dislikes|\n",
            "+-------+--------+-----------+--------+\n",
            "| 609101|48431654|-BQJo3vK8O8|   52259|\n",
            "|3880071|39349927|7C2z4GqqS5E|   72707|\n",
            "|1111592|38873543|i0p1bmr0EmE|   96407|\n",
            "|1735895|37736281|6ZfuNTqbHE8|   21969|\n",
            "|1634124|33523622|2Vv-BfVoq4g|   21082|\n",
            "|1405355|31648454|VYOjWnS4cMY|   51547|\n",
            "| 850362|27973210|u9Mv98Gr5pY|   26541|\n",
            "|1149185|24782158|FlsCjmMhFmw|  483924|\n",
            "| 641546|24421448|U9BwWKXjVaI|   16517|\n",
            "| 587326|23758250|1J76wN0TPI4|   18799|\n",
            "|      0|20921796|BhIEIO0vaBE|       0|\n",
            "| 975715|19716689|QwievZ1Tx-8|    9118|\n",
            "| 511753|18639195|rRr1qiJRsXk|   15606|\n",
            "| 754791|18195959|rRzxEiBLQCA|   65326|\n",
            "| 399200|18184886|vn9mMeWcgoM|   17473|\n",
            "| 787419|17158531|n1WpP7iowLc|   43420|\n",
            "|1366736|16884972|J2HytHu5VBI|   59930|\n",
            "|1386616|15873034|ffxKSjUwKdU|   40714|\n",
            "| 278743|15006579|yDiXQl7grPQ|   13599|\n",
            "| 983693|14820746|tCXGJQYZ9JA|   44254|\n",
            "+-------+--------+-----------+--------+\n",
            "only showing top 20 rows\n",
            "\n"
          ]
        }
      ]
    },
    {
      "cell_type": "code",
      "source": [
        "dataframe = spark.createDataFrame([(1, 'azul', 568), (2, 'rojo', 235), (1, 'azul', 456), (2, 'azul', 783)]).toDF('id', 'color', 'importe')\n",
        "dataframe.show()"
      ],
      "metadata": {
        "id": "h-9yDi_y_WXd",
        "colab": {
          "base_uri": "https://localhost:8080/"
        },
        "outputId": "9bf7f567-8ae1-43ac-85b2-45ef0f26cbaf"
      },
      "execution_count": null,
      "outputs": [
        {
          "output_type": "stream",
          "name": "stdout",
          "text": [
            "+---+-----+-------+\n",
            "| id|color|importe|\n",
            "+---+-----+-------+\n",
            "|  1| azul|    568|\n",
            "|  2| rojo|    235|\n",
            "|  1| azul|    456|\n",
            "|  2| azul|    783|\n",
            "+---+-----+-------+\n",
            "\n"
          ]
        }
      ]
    },
    {
      "cell_type": "code",
      "source": [
        "dataframe.orderBy(col('color').desc(), col('importe')).show()"
      ],
      "metadata": {
        "id": "SbI0dJKB_WSX",
        "colab": {
          "base_uri": "https://localhost:8080/"
        },
        "outputId": "7e40e087-345b-4df2-b6cc-28e01c7274e7"
      },
      "execution_count": null,
      "outputs": [
        {
          "output_type": "stream",
          "name": "stdout",
          "text": [
            "+---+-----+-------+\n",
            "| id|color|importe|\n",
            "+---+-----+-------+\n",
            "|  2| rojo|    235|\n",
            "|  1| azul|    456|\n",
            "|  1| azul|    568|\n",
            "|  2| azul|    783|\n",
            "+---+-----+-------+\n",
            "\n"
          ]
        }
      ]
    },
    {
      "cell_type": "code",
      "source": [
        "# funcion limit\n",
        "top_10 = df.orderBy(col('views').desc()).limit(10)\n",
        "top_10.show()"
      ],
      "metadata": {
        "id": "LgyMdJts_oA4",
        "colab": {
          "base_uri": "https://localhost:8080/"
        },
        "outputId": "57f68385-c02b-4243-d23a-bb5fe2f639e5"
      },
      "execution_count": null,
      "outputs": [
        {
          "output_type": "stream",
          "name": "stdout",
          "text": [
            "+-------+--------+-----------+--------+\n",
            "|  likes|   views|   video_id|dislikes|\n",
            "+-------+--------+-----------+--------+\n",
            "| 609101|48431654|-BQJo3vK8O8|   52259|\n",
            "|3880071|39349927|7C2z4GqqS5E|   72707|\n",
            "|1111592|38873543|i0p1bmr0EmE|   96407|\n",
            "|1735895|37736281|6ZfuNTqbHE8|   21969|\n",
            "|1634124|33523622|2Vv-BfVoq4g|   21082|\n",
            "|1405355|31648454|VYOjWnS4cMY|   51547|\n",
            "| 850362|27973210|u9Mv98Gr5pY|   26541|\n",
            "|1149185|24782158|FlsCjmMhFmw|  483924|\n",
            "| 641546|24421448|U9BwWKXjVaI|   16517|\n",
            "| 587326|23758250|1J76wN0TPI4|   18799|\n",
            "+-------+--------+-----------+--------+\n",
            "\n"
          ]
        }
      ]
    },
    {
      "cell_type": "markdown",
      "source": [
        "### Transformaciones, funciones, withColumn y withColumnRenamed"
      ],
      "metadata": {
        "id": "dNxdKTPc5gwW"
      }
    },
    {
      "cell_type": "code",
      "source": [
        "# Transformaciones - funciones withColumn y withColumnRenamed\n",
        "import findspark\n",
        "findspark.init()\n",
        "from pyspark.sql import SparkSession\n",
        "from pyspark.sql.functions import col\n",
        "\n",
        "spark = SparkSession.builder.getOrCreate()\n",
        "\n",
        "df = spark.read.parquet('datos.parquet')\n",
        "df.show(5)"
      ],
      "metadata": {
        "id": "O_Nsze205hCp",
        "colab": {
          "base_uri": "https://localhost:8080/"
        },
        "outputId": "a7b1dbe2-6c15-4c11-cb27-b92f7c936aef"
      },
      "execution_count": null,
      "outputs": [
        {
          "output_type": "stream",
          "name": "stdout",
          "text": [
            "+-----------+-------------+--------------------+--------------------+-----------+-------------------+--------------------+-------+------+--------+-------------+--------------------+-----------------+----------------+----------------------+--------------------+\n",
            "|   video_id|trending_date|               title|       channel_title|category_id|       publish_time|                tags|  views| likes|dislikes|comment_count|      thumbnail_link|comments_disabled|ratings_disabled|video_error_or_removed|         description|\n",
            "+-----------+-------------+--------------------+--------------------+-----------+-------------------+--------------------+-------+------+--------+-------------+--------------------+-----------------+----------------+----------------------+--------------------+\n",
            "|2kyS6SvSYSE|     17.14.11|WE WANT TO TALK A...|        CaseyNeistat|         22|2017-11-13 17:13:01|     SHANtell martin| 748374| 57527|    2966|        15954|https://i.ytimg.c...|            False|           False|                 False|SHANTELL'S CHANNE...|\n",
            "|1ZAPwfrtAFY|     17.14.11|The Trump Preside...|     LastWeekTonight|         24|2017-11-13 07:30:00|\"last week tonigh...|2418783| 97185|    6146|        12703|https://i.ytimg.c...|            False|           False|                 False|One year after th...|\n",
            "|5qpjK5DgCt4|     17.14.11|Racist Superman |...|        Rudy Mancuso|         23|2017-11-12 19:05:24|\"racist superman\"...|3191434|146033|    5339|         8181|https://i.ytimg.c...|            False|           False|                 False|WATCH MY PREVIOUS...|\n",
            "|puqaWrEC7tY|     17.14.11|Nickelback Lyrics...|Good Mythical Mor...|         24|2017-11-13 11:00:04|\"rhett and link\"|...| 343168| 10172|     666|         2146|https://i.ytimg.c...|            False|           False|                 False|Today we find out...|\n",
            "|d380meD0W0M|     17.14.11|I Dare You: GOING...|            nigahiga|         24|2017-11-12 18:01:41|\"ryan\"|\"higa\"|\"hi...|2095731|132235|    1989|        17518|https://i.ytimg.c...|            False|           False|                 False|I know it's been ...|\n",
            "+-----------+-------------+--------------------+--------------------+-----------+-------------------+--------------------+-------+------+--------+-------------+--------------------+-----------------+----------------+----------------------+--------------------+\n",
            "only showing top 5 rows\n",
            "\n"
          ]
        }
      ]
    },
    {
      "cell_type": "code",
      "source": [
        "# withColumn\n",
        "df_valoracion = df.withColumn('valoracion', col('likes') - col('dislikes'))\n",
        "df_valoracion.printSchema()"
      ],
      "metadata": {
        "id": "zdog36UZ_9on",
        "colab": {
          "base_uri": "https://localhost:8080/"
        },
        "outputId": "a32ea939-8113-4c10-8d42-95f12bad9475"
      },
      "execution_count": null,
      "outputs": [
        {
          "output_type": "stream",
          "name": "stdout",
          "text": [
            "root\n",
            " |-- video_id: string (nullable = true)\n",
            " |-- trending_date: string (nullable = true)\n",
            " |-- title: string (nullable = true)\n",
            " |-- channel_title: string (nullable = true)\n",
            " |-- category_id: string (nullable = true)\n",
            " |-- publish_time: timestamp (nullable = true)\n",
            " |-- tags: string (nullable = true)\n",
            " |-- views: integer (nullable = true)\n",
            " |-- likes: integer (nullable = true)\n",
            " |-- dislikes: integer (nullable = true)\n",
            " |-- comment_count: integer (nullable = true)\n",
            " |-- thumbnail_link: string (nullable = true)\n",
            " |-- comments_disabled: string (nullable = true)\n",
            " |-- ratings_disabled: string (nullable = true)\n",
            " |-- video_error_or_removed: string (nullable = true)\n",
            " |-- description: string (nullable = true)\n",
            " |-- valoracion: integer (nullable = true)\n",
            "\n"
          ]
        }
      ]
    },
    {
      "cell_type": "code",
      "source": [
        "df_valoracion1 = (df.withColumn('valoracion', col('likes') - col('dislikes'))\n",
        "                    .withColumn('res_div', col('valoracion') % 10)\n",
        ")\n",
        "df_valoracion1.printSchema()"
      ],
      "metadata": {
        "colab": {
          "base_uri": "https://localhost:8080/"
        },
        "id": "A8jpgMglXOD-",
        "outputId": "3efa9621-4212-452b-9e7b-557ee59679c3"
      },
      "execution_count": null,
      "outputs": [
        {
          "output_type": "stream",
          "name": "stdout",
          "text": [
            "root\n",
            " |-- video_id: string (nullable = true)\n",
            " |-- trending_date: string (nullable = true)\n",
            " |-- title: string (nullable = true)\n",
            " |-- channel_title: string (nullable = true)\n",
            " |-- category_id: string (nullable = true)\n",
            " |-- publish_time: timestamp (nullable = true)\n",
            " |-- tags: string (nullable = true)\n",
            " |-- views: integer (nullable = true)\n",
            " |-- likes: integer (nullable = true)\n",
            " |-- dislikes: integer (nullable = true)\n",
            " |-- comment_count: integer (nullable = true)\n",
            " |-- thumbnail_link: string (nullable = true)\n",
            " |-- comments_disabled: string (nullable = true)\n",
            " |-- ratings_disabled: string (nullable = true)\n",
            " |-- video_error_or_removed: string (nullable = true)\n",
            " |-- description: string (nullable = true)\n",
            " |-- valoracion: integer (nullable = true)\n",
            " |-- res_div: integer (nullable = true)\n",
            "\n"
          ]
        }
      ]
    },
    {
      "cell_type": "code",
      "source": [
        "df_valoracion1.select(col('likes'), col('dislikes'), col('valoracion'), col('res_div')).show()"
      ],
      "metadata": {
        "colab": {
          "base_uri": "https://localhost:8080/"
        },
        "id": "EW-1HVA_XOqr",
        "outputId": "2206ef4c-2624-40e6-e581-398a674e6105"
      },
      "execution_count": null,
      "outputs": [
        {
          "output_type": "stream",
          "name": "stdout",
          "text": [
            "+------+--------+----------+-------+\n",
            "| likes|dislikes|valoracion|res_div|\n",
            "+------+--------+----------+-------+\n",
            "| 57527|    2966|     54561|      1|\n",
            "| 97185|    6146|     91039|      9|\n",
            "|146033|    5339|    140694|      4|\n",
            "| 10172|     666|      9506|      6|\n",
            "|132235|    1989|    130246|      6|\n",
            "|  9763|     511|      9252|      2|\n",
            "| 15993|    2445|     13548|      8|\n",
            "| 23663|     778|     22885|      5|\n",
            "|  3543|     119|      3424|      4|\n",
            "| 12654|    1363|     11291|      1|\n",
            "|   655|      25|       630|      0|\n",
            "|  1576|     303|      1273|      3|\n",
            "|114188|    1333|    112855|      5|\n",
            "|  7848|    1171|      6677|      7|\n",
            "|  7473|     246|      7227|      7|\n",
            "|  9419|      52|      9367|      7|\n",
            "|  8011|     638|      7373|      3|\n",
            "|  5398|      53|      5345|      5|\n",
            "| 11963|      36|     11927|      7|\n",
            "|  8421|     191|      8230|      0|\n",
            "+------+--------+----------+-------+\n",
            "only showing top 20 rows\n",
            "\n"
          ]
        }
      ]
    },
    {
      "cell_type": "code",
      "source": [
        "# withColumnRenamed\n",
        "df_renombrado = df.withColumnRenamed('video_id', 'id')\n",
        "df_renombrado.printSchema()"
      ],
      "metadata": {
        "id": "QCSvjIKb_9em",
        "colab": {
          "base_uri": "https://localhost:8080/"
        },
        "outputId": "a98e2ccd-b73a-45b6-f902-166bca3f33b9"
      },
      "execution_count": null,
      "outputs": [
        {
          "output_type": "stream",
          "name": "stdout",
          "text": [
            "root\n",
            " |-- id: string (nullable = true)\n",
            " |-- trending_date: string (nullable = true)\n",
            " |-- title: string (nullable = true)\n",
            " |-- channel_title: string (nullable = true)\n",
            " |-- category_id: string (nullable = true)\n",
            " |-- publish_time: timestamp (nullable = true)\n",
            " |-- tags: string (nullable = true)\n",
            " |-- views: integer (nullable = true)\n",
            " |-- likes: integer (nullable = true)\n",
            " |-- dislikes: integer (nullable = true)\n",
            " |-- comment_count: integer (nullable = true)\n",
            " |-- thumbnail_link: string (nullable = true)\n",
            " |-- comments_disabled: string (nullable = true)\n",
            " |-- ratings_disabled: string (nullable = true)\n",
            " |-- video_error_or_removed: string (nullable = true)\n",
            " |-- description: string (nullable = true)\n",
            "\n"
          ]
        }
      ]
    },
    {
      "cell_type": "code",
      "source": [
        "df_error = df.withColumnRenamed('nombre_que_no_existe', 'otro_nombre')\n",
        "df_error.printSchema()\n",
        "# Spark no lanza un error para este caso"
      ],
      "metadata": {
        "colab": {
          "base_uri": "https://localhost:8080/"
        },
        "id": "E3pVch0hXuim",
        "outputId": "ba5cf806-416f-46e7-c83a-b8b742d5740f"
      },
      "execution_count": null,
      "outputs": [
        {
          "output_type": "stream",
          "name": "stdout",
          "text": [
            "root\n",
            " |-- video_id: string (nullable = true)\n",
            " |-- trending_date: string (nullable = true)\n",
            " |-- title: string (nullable = true)\n",
            " |-- channel_title: string (nullable = true)\n",
            " |-- category_id: string (nullable = true)\n",
            " |-- publish_time: timestamp (nullable = true)\n",
            " |-- tags: string (nullable = true)\n",
            " |-- views: integer (nullable = true)\n",
            " |-- likes: integer (nullable = true)\n",
            " |-- dislikes: integer (nullable = true)\n",
            " |-- comment_count: integer (nullable = true)\n",
            " |-- thumbnail_link: string (nullable = true)\n",
            " |-- comments_disabled: string (nullable = true)\n",
            " |-- ratings_disabled: string (nullable = true)\n",
            " |-- video_error_or_removed: string (nullable = true)\n",
            " |-- description: string (nullable = true)\n",
            "\n"
          ]
        }
      ]
    },
    {
      "cell_type": "markdown",
      "source": [
        "### Transformaciones, funciones, drop, sample, randomSplit"
      ],
      "metadata": {
        "id": "tuC-i9NC5hhl"
      }
    },
    {
      "cell_type": "code",
      "source": [
        "# Transformaciones - funciones drop, sample y randomSplit\n",
        "import findspark\n",
        "findspark.init()\n",
        "from pyspark.sql import SparkSession\n",
        "\n",
        "spark = SparkSession.builder.getOrCreate()\n",
        "\n",
        "df = spark.read.parquet('datos.parquet')\n",
        "df.show(5)\n",
        "df.printSchema()"
      ],
      "metadata": {
        "id": "fw-OpEQw5h0z",
        "colab": {
          "base_uri": "https://localhost:8080/"
        },
        "outputId": "227726ec-a12a-49d6-a724-b1705ac04f10"
      },
      "execution_count": null,
      "outputs": [
        {
          "output_type": "stream",
          "name": "stdout",
          "text": [
            "+-----------+-------------+--------------------+--------------------+-----------+-------------------+--------------------+-------+------+--------+-------------+--------------------+-----------------+----------------+----------------------+--------------------+\n",
            "|   video_id|trending_date|               title|       channel_title|category_id|       publish_time|                tags|  views| likes|dislikes|comment_count|      thumbnail_link|comments_disabled|ratings_disabled|video_error_or_removed|         description|\n",
            "+-----------+-------------+--------------------+--------------------+-----------+-------------------+--------------------+-------+------+--------+-------------+--------------------+-----------------+----------------+----------------------+--------------------+\n",
            "|2kyS6SvSYSE|     17.14.11|WE WANT TO TALK A...|        CaseyNeistat|         22|2017-11-13 17:13:01|     SHANtell martin| 748374| 57527|    2966|        15954|https://i.ytimg.c...|            False|           False|                 False|SHANTELL'S CHANNE...|\n",
            "|1ZAPwfrtAFY|     17.14.11|The Trump Preside...|     LastWeekTonight|         24|2017-11-13 07:30:00|\"last week tonigh...|2418783| 97185|    6146|        12703|https://i.ytimg.c...|            False|           False|                 False|One year after th...|\n",
            "|5qpjK5DgCt4|     17.14.11|Racist Superman |...|        Rudy Mancuso|         23|2017-11-12 19:05:24|\"racist superman\"...|3191434|146033|    5339|         8181|https://i.ytimg.c...|            False|           False|                 False|WATCH MY PREVIOUS...|\n",
            "|puqaWrEC7tY|     17.14.11|Nickelback Lyrics...|Good Mythical Mor...|         24|2017-11-13 11:00:04|\"rhett and link\"|...| 343168| 10172|     666|         2146|https://i.ytimg.c...|            False|           False|                 False|Today we find out...|\n",
            "|d380meD0W0M|     17.14.11|I Dare You: GOING...|            nigahiga|         24|2017-11-12 18:01:41|\"ryan\"|\"higa\"|\"hi...|2095731|132235|    1989|        17518|https://i.ytimg.c...|            False|           False|                 False|I know it's been ...|\n",
            "+-----------+-------------+--------------------+--------------------+-----------+-------------------+--------------------+-------+------+--------+-------------+--------------------+-----------------+----------------+----------------------+--------------------+\n",
            "only showing top 5 rows\n",
            "\n",
            "root\n",
            " |-- video_id: string (nullable = true)\n",
            " |-- trending_date: string (nullable = true)\n",
            " |-- title: string (nullable = true)\n",
            " |-- channel_title: string (nullable = true)\n",
            " |-- category_id: string (nullable = true)\n",
            " |-- publish_time: timestamp (nullable = true)\n",
            " |-- tags: string (nullable = true)\n",
            " |-- views: integer (nullable = true)\n",
            " |-- likes: integer (nullable = true)\n",
            " |-- dislikes: integer (nullable = true)\n",
            " |-- comment_count: integer (nullable = true)\n",
            " |-- thumbnail_link: string (nullable = true)\n",
            " |-- comments_disabled: string (nullable = true)\n",
            " |-- ratings_disabled: string (nullable = true)\n",
            " |-- video_error_or_removed: string (nullable = true)\n",
            " |-- description: string (nullable = true)\n",
            "\n"
          ]
        }
      ]
    },
    {
      "cell_type": "code",
      "source": [
        "# drop\n",
        "df_util = df.drop('comments_disabled')\n",
        "df_util.printSchema()"
      ],
      "metadata": {
        "id": "uY8K10hZASQF",
        "colab": {
          "base_uri": "https://localhost:8080/"
        },
        "outputId": "f2139bf5-53f0-4207-ed43-6967f5dbe6d7"
      },
      "execution_count": null,
      "outputs": [
        {
          "output_type": "stream",
          "name": "stdout",
          "text": [
            "root\n",
            " |-- video_id: string (nullable = true)\n",
            " |-- trending_date: string (nullable = true)\n",
            " |-- title: string (nullable = true)\n",
            " |-- channel_title: string (nullable = true)\n",
            " |-- category_id: string (nullable = true)\n",
            " |-- publish_time: timestamp (nullable = true)\n",
            " |-- tags: string (nullable = true)\n",
            " |-- views: integer (nullable = true)\n",
            " |-- likes: integer (nullable = true)\n",
            " |-- dislikes: integer (nullable = true)\n",
            " |-- comment_count: integer (nullable = true)\n",
            " |-- thumbnail_link: string (nullable = true)\n",
            " |-- ratings_disabled: string (nullable = true)\n",
            " |-- video_error_or_removed: string (nullable = true)\n",
            " |-- description: string (nullable = true)\n",
            "\n"
          ]
        }
      ]
    },
    {
      "cell_type": "code",
      "source": [
        "df_util = df.drop('comments_disabled', 'ratings_disabled', 'thumbnail_link')\n",
        "df_util.printSchema()"
      ],
      "metadata": {
        "colab": {
          "base_uri": "https://localhost:8080/"
        },
        "id": "bxRiuO5ScnFE",
        "outputId": "1d43b998-c183-4f52-a668-e8c1a6d3203b"
      },
      "execution_count": null,
      "outputs": [
        {
          "output_type": "stream",
          "name": "stdout",
          "text": [
            "root\n",
            " |-- video_id: string (nullable = true)\n",
            " |-- trending_date: string (nullable = true)\n",
            " |-- title: string (nullable = true)\n",
            " |-- channel_title: string (nullable = true)\n",
            " |-- category_id: string (nullable = true)\n",
            " |-- publish_time: timestamp (nullable = true)\n",
            " |-- tags: string (nullable = true)\n",
            " |-- views: integer (nullable = true)\n",
            " |-- likes: integer (nullable = true)\n",
            " |-- dislikes: integer (nullable = true)\n",
            " |-- comment_count: integer (nullable = true)\n",
            " |-- video_error_or_removed: string (nullable = true)\n",
            " |-- description: string (nullable = true)\n",
            "\n"
          ]
        }
      ]
    },
    {
      "cell_type": "code",
      "source": [
        "df_util = df.drop('comments_disabled', 'ratings_disabled', 'thumbnail_link', 'cafe')\n",
        "df_util.printSchema()"
      ],
      "metadata": {
        "colab": {
          "base_uri": "https://localhost:8080/"
        },
        "id": "odBKk6nMckrB",
        "outputId": "d8e3f75c-7e12-44f2-92c0-d7c996e87c02"
      },
      "execution_count": null,
      "outputs": [
        {
          "output_type": "stream",
          "name": "stdout",
          "text": [
            "root\n",
            " |-- video_id: string (nullable = true)\n",
            " |-- trending_date: string (nullable = true)\n",
            " |-- title: string (nullable = true)\n",
            " |-- channel_title: string (nullable = true)\n",
            " |-- category_id: string (nullable = true)\n",
            " |-- publish_time: timestamp (nullable = true)\n",
            " |-- tags: string (nullable = true)\n",
            " |-- views: integer (nullable = true)\n",
            " |-- likes: integer (nullable = true)\n",
            " |-- dislikes: integer (nullable = true)\n",
            " |-- comment_count: integer (nullable = true)\n",
            " |-- video_error_or_removed: string (nullable = true)\n",
            " |-- description: string (nullable = true)\n",
            "\n"
          ]
        }
      ]
    },
    {
      "cell_type": "code",
      "source": [
        "# sample\n",
        "df_muestra = df.sample(0.8)\n",
        "num_filas = df.count()\n",
        "num_filas_muestra = df_muestra.count()\n",
        "\n",
        "print('El 80% de filas del dataframe original es {}'.format(num_filas - (num_filas*0.2)))\n",
        "print('El numero de filas del dataframe muestra es {}'.format(num_filas_muestra))"
      ],
      "metadata": {
        "id": "IrfQL2NYATKg",
        "colab": {
          "base_uri": "https://localhost:8080/"
        },
        "outputId": "e25fa610-b0d8-470a-e88f-d71de29ea423"
      },
      "execution_count": null,
      "outputs": [
        {
          "output_type": "stream",
          "name": "stdout",
          "text": [
            "El 80% de filas del dataframe original es 38509.6\n",
            "El numero de filas del dataframe muestra es 38531\n"
          ]
        }
      ]
    },
    {
      "cell_type": "code",
      "source": [
        "df_muestra = df.sample(fraction=0.8, seed=1234)\n",
        "df_muestra.show(5)"
      ],
      "metadata": {
        "colab": {
          "base_uri": "https://localhost:8080/"
        },
        "id": "385Qwn7QdvPT",
        "outputId": "26a2ef53-7988-4c53-9aed-2c71506b0583"
      },
      "execution_count": null,
      "outputs": [
        {
          "output_type": "stream",
          "name": "stdout",
          "text": [
            "+-----------+-------------+--------------------+--------------------+-----------+-------------------+--------------------+-------+------+--------+-------------+--------------------+-----------------+----------------+----------------------+--------------------+\n",
            "|   video_id|trending_date|               title|       channel_title|category_id|       publish_time|                tags|  views| likes|dislikes|comment_count|      thumbnail_link|comments_disabled|ratings_disabled|video_error_or_removed|         description|\n",
            "+-----------+-------------+--------------------+--------------------+-----------+-------------------+--------------------+-------+------+--------+-------------+--------------------+-----------------+----------------+----------------------+--------------------+\n",
            "|2kyS6SvSYSE|     17.14.11|WE WANT TO TALK A...|        CaseyNeistat|         22|2017-11-13 17:13:01|     SHANtell martin| 748374| 57527|    2966|        15954|https://i.ytimg.c...|            False|           False|                 False|SHANTELL'S CHANNE...|\n",
            "|5qpjK5DgCt4|     17.14.11|Racist Superman |...|        Rudy Mancuso|         23|2017-11-12 19:05:24|\"racist superman\"...|3191434|146033|    5339|         8181|https://i.ytimg.c...|            False|           False|                 False|WATCH MY PREVIOUS...|\n",
            "|puqaWrEC7tY|     17.14.11|Nickelback Lyrics...|Good Mythical Mor...|         24|2017-11-13 11:00:04|\"rhett and link\"|...| 343168| 10172|     666|         2146|https://i.ytimg.c...|            False|           False|                 False|Today we find out...|\n",
            "|gHZ1Qz0KiKM|     17.14.11|2 Weeks with iPho...|            iJustine|         28|2017-11-13 19:07:23|\"ijustine\"|\"week ...| 119180|  9763|     511|         1434|https://i.ytimg.c...|            False|           False|                 False|Using the iPhone ...|\n",
            "|39idVpFF7NQ|     17.14.11|Roy Moore & Jeff ...| Saturday Night Live|         24|2017-11-12 05:37:17|\"SNL\"|\"Saturday N...|2103417| 15993|    2445|         1970|https://i.ytimg.c...|            False|           False|                 False|Embattled Alabama...|\n",
            "+-----------+-------------+--------------------+--------------------+-----------+-------------------+--------------------+-------+------+--------+-------------+--------------------+-----------------+----------------+----------------------+--------------------+\n",
            "only showing top 5 rows\n",
            "\n"
          ]
        }
      ]
    },
    {
      "cell_type": "code",
      "source": [
        "df_muestra = df.sample(withReplacement=True, fraction=0.8, seed=1234)\n",
        "df_muestra.show(5)"
      ],
      "metadata": {
        "colab": {
          "base_uri": "https://localhost:8080/"
        },
        "id": "L32ZSx5ffed7",
        "outputId": "a2279bfe-d6bf-45d3-8579-0af3a89a6002"
      },
      "execution_count": null,
      "outputs": [
        {
          "output_type": "stream",
          "name": "stdout",
          "text": [
            "+-----------+-------------+--------------------+--------------------+-----------+-------------------+--------------------+-------+------+--------+-------------+--------------------+-----------------+----------------+----------------------+--------------------+\n",
            "|   video_id|trending_date|               title|       channel_title|category_id|       publish_time|                tags|  views| likes|dislikes|comment_count|      thumbnail_link|comments_disabled|ratings_disabled|video_error_or_removed|         description|\n",
            "+-----------+-------------+--------------------+--------------------+-----------+-------------------+--------------------+-------+------+--------+-------------+--------------------+-----------------+----------------+----------------------+--------------------+\n",
            "|1ZAPwfrtAFY|     17.14.11|The Trump Preside...|     LastWeekTonight|         24|2017-11-13 07:30:00|\"last week tonigh...|2418783| 97185|    6146|        12703|https://i.ytimg.c...|            False|           False|                 False|One year after th...|\n",
            "|5qpjK5DgCt4|     17.14.11|Racist Superman |...|        Rudy Mancuso|         23|2017-11-12 19:05:24|\"racist superman\"...|3191434|146033|    5339|         8181|https://i.ytimg.c...|            False|           False|                 False|WATCH MY PREVIOUS...|\n",
            "|puqaWrEC7tY|     17.14.11|Nickelback Lyrics...|Good Mythical Mor...|         24|2017-11-13 11:00:04|\"rhett and link\"|...| 343168| 10172|     666|         2146|https://i.ytimg.c...|            False|           False|                 False|Today we find out...|\n",
            "|puqaWrEC7tY|     17.14.11|Nickelback Lyrics...|Good Mythical Mor...|         24|2017-11-13 11:00:04|\"rhett and link\"|...| 343168| 10172|     666|         2146|https://i.ytimg.c...|            False|           False|                 False|Today we find out...|\n",
            "|puqaWrEC7tY|     17.14.11|Nickelback Lyrics...|Good Mythical Mor...|         24|2017-11-13 11:00:04|\"rhett and link\"|...| 343168| 10172|     666|         2146|https://i.ytimg.c...|            False|           False|                 False|Today we find out...|\n",
            "+-----------+-------------+--------------------+--------------------+-----------+-------------------+--------------------+-------+------+--------+-------------+--------------------+-----------------+----------------+----------------------+--------------------+\n",
            "only showing top 5 rows\n",
            "\n"
          ]
        }
      ]
    },
    {
      "cell_type": "code",
      "source": [
        "# randomSplit\n",
        "# el 80% de las filas al dataframe train, y el 20% restante al dataframe test\n",
        "train, test = df.randomSplit([0.8, 0.2], seed=1234)\n",
        "train, validation, test = df.randomSplit([0.6, 0.2, 0.2], seed=1234)\n",
        "\n",
        "print(train.count())\n",
        "print(validation.count())\n",
        "print(test.count())"
      ],
      "metadata": {
        "id": "80bk12ocAS_o",
        "colab": {
          "base_uri": "https://localhost:8080/"
        },
        "outputId": "b357df34-0757-4357-906b-7aef007f81e8"
      },
      "execution_count": null,
      "outputs": [
        {
          "output_type": "stream",
          "name": "stdout",
          "text": [
            "28808\n",
            "9698\n",
            "9631\n"
          ]
        }
      ]
    },
    {
      "cell_type": "markdown",
      "source": [
        "### Trabajo con datos incorrectos faltantes"
      ],
      "metadata": {
        "id": "BXFU-VIW5r70"
      }
    },
    {
      "cell_type": "markdown",
      "source": [
        "A menudo los datos no están limpios, o están incompletos.\n",
        "Spark reconoce la necesidad de lidiar con los datos faltantes, por lo que proporciona una clase dedicada a ayudar a lidiar con este problema.\n",
        "\n",
        "Formas más habituales de tratar los datos perdidos:\n",
        "\n",
        "- Eliminar filas que tienen valores perdidos en una o más columnas\n",
        "- Llenar esos valores faltantes con valores proporcionados por el usuario"
      ],
      "metadata": {
        "id": "pOtoQlWthcon"
      }
    },
    {
      "cell_type": "code",
      "source": [
        "# Trabajo con datos incorrectos o faltantes\n",
        "import findspark\n",
        "findspark.init()\n",
        "from pyspark.sql import SparkSession\n",
        "from pyspark.sql.functions import col\n",
        "\n",
        "spark = SparkSession.builder.getOrCreate()\n",
        "\n",
        "df = spark.read.parquet('datos.parquet')\n",
        "df.show(5)\n",
        "df.count()"
      ],
      "metadata": {
        "id": "n_D1FPLK5sTo",
        "colab": {
          "base_uri": "https://localhost:8080/"
        },
        "outputId": "9c5dfde8-3ab3-4626-e79c-2a5290af86da"
      },
      "execution_count": null,
      "outputs": [
        {
          "output_type": "stream",
          "name": "stdout",
          "text": [
            "+-----------+-------------+--------------------+--------------------+-----------+-------------------+--------------------+-------+------+--------+-------------+--------------------+-----------------+----------------+----------------------+--------------------+\n",
            "|   video_id|trending_date|               title|       channel_title|category_id|       publish_time|                tags|  views| likes|dislikes|comment_count|      thumbnail_link|comments_disabled|ratings_disabled|video_error_or_removed|         description|\n",
            "+-----------+-------------+--------------------+--------------------+-----------+-------------------+--------------------+-------+------+--------+-------------+--------------------+-----------------+----------------+----------------------+--------------------+\n",
            "|2kyS6SvSYSE|     17.14.11|WE WANT TO TALK A...|        CaseyNeistat|         22|2017-11-13 17:13:01|     SHANtell martin| 748374| 57527|    2966|        15954|https://i.ytimg.c...|            False|           False|                 False|SHANTELL'S CHANNE...|\n",
            "|1ZAPwfrtAFY|     17.14.11|The Trump Preside...|     LastWeekTonight|         24|2017-11-13 07:30:00|\"last week tonigh...|2418783| 97185|    6146|        12703|https://i.ytimg.c...|            False|           False|                 False|One year after th...|\n",
            "|5qpjK5DgCt4|     17.14.11|Racist Superman |...|        Rudy Mancuso|         23|2017-11-12 19:05:24|\"racist superman\"...|3191434|146033|    5339|         8181|https://i.ytimg.c...|            False|           False|                 False|WATCH MY PREVIOUS...|\n",
            "|puqaWrEC7tY|     17.14.11|Nickelback Lyrics...|Good Mythical Mor...|         24|2017-11-13 11:00:04|\"rhett and link\"|...| 343168| 10172|     666|         2146|https://i.ytimg.c...|            False|           False|                 False|Today we find out...|\n",
            "|d380meD0W0M|     17.14.11|I Dare You: GOING...|            nigahiga|         24|2017-11-12 18:01:41|\"ryan\"|\"higa\"|\"hi...|2095731|132235|    1989|        17518|https://i.ytimg.c...|            False|           False|                 False|I know it's been ...|\n",
            "+-----------+-------------+--------------------+--------------------+-----------+-------------------+--------------------+-------+------+--------+-------------+--------------------+-----------------+----------------+----------------------+--------------------+\n",
            "only showing top 5 rows\n",
            "\n"
          ]
        },
        {
          "output_type": "execute_result",
          "data": {
            "text/plain": [
              "48137"
            ]
          },
          "metadata": {},
          "execution_count": 2
        }
      ]
    },
    {
      "cell_type": "markdown",
      "source": [
        "#### Eliminar las filas con al menos un valor faltante"
      ],
      "metadata": {
        "id": "4mPFssP9jc9n"
      }
    },
    {
      "cell_type": "code",
      "source": [
        "df.na.drop().count()"
      ],
      "metadata": {
        "id": "HLjW-ZT-AwWl",
        "colab": {
          "base_uri": "https://localhost:8080/"
        },
        "outputId": "d91d763d-0c26-420b-d1ca-8c9b2f3675ff"
      },
      "execution_count": null,
      "outputs": [
        {
          "output_type": "execute_result",
          "data": {
            "text/plain": [
              "40379"
            ]
          },
          "metadata": {},
          "execution_count": 61
        }
      ]
    },
    {
      "cell_type": "markdown",
      "source": [
        "#### Otra opción"
      ],
      "metadata": {
        "id": "PUghHyn_jqe-"
      }
    },
    {
      "cell_type": "code",
      "source": [
        "df.na.drop('any').count()"
      ],
      "metadata": {
        "id": "Q0lUE_hyAwBx",
        "colab": {
          "base_uri": "https://localhost:8080/"
        },
        "outputId": "b4081d5b-4783-4dbc-e48b-285ad5e350dd"
      },
      "execution_count": null,
      "outputs": [
        {
          "output_type": "execute_result",
          "data": {
            "text/plain": [
              "40379"
            ]
          },
          "metadata": {},
          "execution_count": 62
        }
      ]
    },
    {
      "cell_type": "markdown",
      "source": [
        "#### Otra opción"
      ],
      "metadata": {
        "id": "FprgaQEujv6F"
      }
    },
    {
      "cell_type": "code",
      "source": [
        "df.dropna().count()"
      ],
      "metadata": {
        "id": "bxxlsxBhAv5p",
        "colab": {
          "base_uri": "https://localhost:8080/"
        },
        "outputId": "ad390800-3027-4a2d-d0f7-dcf3bcb7fd27"
      },
      "execution_count": null,
      "outputs": [
        {
          "output_type": "execute_result",
          "data": {
            "text/plain": [
              "40379"
            ]
          },
          "metadata": {},
          "execution_count": 63
        }
      ]
    },
    {
      "cell_type": "markdown",
      "source": [
        "#### Con mayor control, pasar una columna"
      ],
      "metadata": {
        "id": "FtHtTtxEjw15"
      }
    },
    {
      "cell_type": "code",
      "source": [
        "df.na.drop(subset=['views']).count()"
      ],
      "metadata": {
        "id": "n532f6PmAvzJ",
        "colab": {
          "base_uri": "https://localhost:8080/"
        },
        "outputId": "cb820083-97b6-4efa-cada-d3aad97b9c35"
      },
      "execution_count": null,
      "outputs": [
        {
          "output_type": "execute_result",
          "data": {
            "text/plain": [
              "40949"
            ]
          },
          "metadata": {},
          "execution_count": 64
        }
      ]
    },
    {
      "cell_type": "markdown",
      "source": [
        "#### Con mayor control, pasar un subconjunto de columnas"
      ],
      "metadata": {
        "id": "qt7lgS89kH78"
      }
    },
    {
      "cell_type": "code",
      "source": [
        "df.na.drop(subset=['views', 'dislikes']).count()"
      ],
      "metadata": {
        "id": "Lu8ljks7AvtX",
        "colab": {
          "base_uri": "https://localhost:8080/"
        },
        "outputId": "fb68a42e-3ecd-47b1-847e-1e1cebf47128"
      },
      "execution_count": null,
      "outputs": [
        {
          "output_type": "execute_result",
          "data": {
            "text/plain": [
              "40949"
            ]
          },
          "metadata": {},
          "execution_count": 65
        }
      ]
    },
    {
      "cell_type": "code",
      "source": [
        "df.orderBy(col('views')).select(col('views'), col('likes'), col('dislikes')).show()"
      ],
      "metadata": {
        "id": "DAn7R8pAAvn2",
        "colab": {
          "base_uri": "https://localhost:8080/"
        },
        "outputId": "49c11312-fcfa-4844-c7b7-d2dd23b9c572"
      },
      "execution_count": null,
      "outputs": [
        {
          "output_type": "stream",
          "name": "stdout",
          "text": [
            "+-----+-----+--------+\n",
            "|views|likes|dislikes|\n",
            "+-----+-----+--------+\n",
            "| null| null|    null|\n",
            "| null| null|    null|\n",
            "| null| null|    null|\n",
            "| null| null|    null|\n",
            "| null| null|    null|\n",
            "| null| null|    null|\n",
            "| null| null|    null|\n",
            "| null| null|    null|\n",
            "| null| null|    null|\n",
            "| null| null|    null|\n",
            "| null| null|    null|\n",
            "| null| null|    null|\n",
            "| null| null|    null|\n",
            "| null| null|    null|\n",
            "| null| null|    null|\n",
            "| null| null|    null|\n",
            "| null| null|    null|\n",
            "| null| null|    null|\n",
            "| null| null|    null|\n",
            "| null| null|    null|\n",
            "+-----+-----+--------+\n",
            "only showing top 20 rows\n",
            "\n"
          ]
        }
      ]
    },
    {
      "cell_type": "markdown",
      "source": [
        "#### Imputando los valores null por un cero"
      ],
      "metadata": {
        "id": "KejNhrtykktx"
      }
    },
    {
      "cell_type": "code",
      "source": [
        "df.fillna(0).orderBy(col('views')).select(col('views'), col('likes'), col('dislikes')).show()"
      ],
      "metadata": {
        "id": "5cNFfGvbAvh9",
        "colab": {
          "base_uri": "https://localhost:8080/"
        },
        "outputId": "ad9550ae-e712-4539-d108-836ff6f8f878"
      },
      "execution_count": null,
      "outputs": [
        {
          "output_type": "stream",
          "name": "stdout",
          "text": [
            "+-----+-----+--------+\n",
            "|views|likes|dislikes|\n",
            "+-----+-----+--------+\n",
            "|    0|    0|       0|\n",
            "|    0|    0|       0|\n",
            "|    0|    0|       0|\n",
            "|    0|    0|       0|\n",
            "|    0|    0|       0|\n",
            "|    0|    0|       0|\n",
            "|    0|    0|       0|\n",
            "|    0|    0|       0|\n",
            "|    0|    0|       0|\n",
            "|    0|    0|       0|\n",
            "|    0|    0|       0|\n",
            "|    0|    0|       0|\n",
            "|    0|    0|       0|\n",
            "|    0|    0|       0|\n",
            "|    0|    0|       0|\n",
            "|    0|    0|       0|\n",
            "|    0|    0|       0|\n",
            "|    0|    0|       0|\n",
            "|    0|    0|       0|\n",
            "|    0|    0|       0|\n",
            "+-----+-----+--------+\n",
            "only showing top 20 rows\n",
            "\n"
          ]
        }
      ]
    },
    {
      "cell_type": "markdown",
      "source": [
        "#### Pasar una lista de columnas que se quiere imputar por 0"
      ],
      "metadata": {
        "id": "HpHdD5_gktk_"
      }
    },
    {
      "cell_type": "code",
      "source": [
        "df.fillna(0, subset=['likes', 'dislikes']).orderBy(col('views')).select(col('views'), col('likes'), col('dislikes')).show()"
      ],
      "metadata": {
        "id": "EA2OE1P8AvcT",
        "colab": {
          "base_uri": "https://localhost:8080/"
        },
        "outputId": "d8ad61e9-6494-415a-d34c-d6511539df8f"
      },
      "execution_count": null,
      "outputs": [
        {
          "output_type": "stream",
          "name": "stdout",
          "text": [
            "+-----+-----+--------+\n",
            "|views|likes|dislikes|\n",
            "+-----+-----+--------+\n",
            "| null|    0|       0|\n",
            "| null|    0|       0|\n",
            "| null|    0|       0|\n",
            "| null|    0|       0|\n",
            "| null|    0|       0|\n",
            "| null|    0|       0|\n",
            "| null|    0|       0|\n",
            "| null|    0|       0|\n",
            "| null|    0|       0|\n",
            "| null|    0|       0|\n",
            "| null|    0|       0|\n",
            "| null|    0|       0|\n",
            "| null|    0|       0|\n",
            "| null|    0|       0|\n",
            "| null|    0|       0|\n",
            "| null|    0|       0|\n",
            "| null|    0|       0|\n",
            "| null|    0|       0|\n",
            "| null|    0|       0|\n",
            "| null|    0|       0|\n",
            "+-----+-----+--------+\n",
            "only showing top 20 rows\n",
            "\n"
          ]
        }
      ]
    },
    {
      "cell_type": "markdown",
      "source": [
        "### Acciones sobre un dataframe"
      ],
      "metadata": {
        "id": "xmTSAMRa520e"
      }
    },
    {
      "cell_type": "code",
      "source": [
        "# Acciones sobre un dataframe en Spark SQL\n",
        "import findspark\n",
        "findspark.init()\n",
        "from pyspark.sql import SparkSession\n",
        "\n",
        "spark = SparkSession.builder.getOrCreate()\n",
        "\n",
        "df = spark.read.parquet('datos.parquet')"
      ],
      "metadata": {
        "id": "kVgf-HeY53b6"
      },
      "execution_count": null,
      "outputs": []
    },
    {
      "cell_type": "code",
      "source": [
        "# show\n",
        "df.show()\n",
        "df.show(5)\n",
        "df.show(5, truncate=False)"
      ],
      "metadata": {
        "id": "j1GT2zRVBMBd",
        "colab": {
          "base_uri": "https://localhost:8080/"
        },
        "outputId": "4c247e7e-0dae-4dc8-904d-ef6e842804e0"
      },
      "execution_count": null,
      "outputs": [
        {
          "output_type": "stream",
          "name": "stdout",
          "text": [
            "+-----------+-------------+--------------------+--------------------+-----------+-------------------+--------------------+-------+------+--------+-------------+--------------------+-----------------+----------------+----------------------+--------------------+\n",
            "|   video_id|trending_date|               title|       channel_title|category_id|       publish_time|                tags|  views| likes|dislikes|comment_count|      thumbnail_link|comments_disabled|ratings_disabled|video_error_or_removed|         description|\n",
            "+-----------+-------------+--------------------+--------------------+-----------+-------------------+--------------------+-------+------+--------+-------------+--------------------+-----------------+----------------+----------------------+--------------------+\n",
            "|2kyS6SvSYSE|     17.14.11|WE WANT TO TALK A...|        CaseyNeistat|         22|2017-11-13 17:13:01|     SHANtell martin| 748374| 57527|    2966|        15954|https://i.ytimg.c...|            False|           False|                 False|SHANTELL'S CHANNE...|\n",
            "|1ZAPwfrtAFY|     17.14.11|The Trump Preside...|     LastWeekTonight|         24|2017-11-13 07:30:00|\"last week tonigh...|2418783| 97185|    6146|        12703|https://i.ytimg.c...|            False|           False|                 False|One year after th...|\n",
            "|5qpjK5DgCt4|     17.14.11|Racist Superman |...|        Rudy Mancuso|         23|2017-11-12 19:05:24|\"racist superman\"...|3191434|146033|    5339|         8181|https://i.ytimg.c...|            False|           False|                 False|WATCH MY PREVIOUS...|\n",
            "|puqaWrEC7tY|     17.14.11|Nickelback Lyrics...|Good Mythical Mor...|         24|2017-11-13 11:00:04|\"rhett and link\"|...| 343168| 10172|     666|         2146|https://i.ytimg.c...|            False|           False|                 False|Today we find out...|\n",
            "|d380meD0W0M|     17.14.11|I Dare You: GOING...|            nigahiga|         24|2017-11-12 18:01:41|\"ryan\"|\"higa\"|\"hi...|2095731|132235|    1989|        17518|https://i.ytimg.c...|            False|           False|                 False|I know it's been ...|\n",
            "|gHZ1Qz0KiKM|     17.14.11|2 Weeks with iPho...|            iJustine|         28|2017-11-13 19:07:23|\"ijustine\"|\"week ...| 119180|  9763|     511|         1434|https://i.ytimg.c...|            False|           False|                 False|Using the iPhone ...|\n",
            "|39idVpFF7NQ|     17.14.11|Roy Moore & Jeff ...| Saturday Night Live|         24|2017-11-12 05:37:17|\"SNL\"|\"Saturday N...|2103417| 15993|    2445|         1970|https://i.ytimg.c...|            False|           False|                 False|Embattled Alabama...|\n",
            "|nc99ccSXST0|     17.14.11|5 Ice Cream Gadge...|  CrazyRussianHacker|         28|2017-11-12 21:50:37|\"5 Ice Cream Gadg...| 817732| 23663|     778|         3432|https://i.ytimg.c...|            False|           False|                 False|Ice Cream Pint Co...|\n",
            "|jr9QtXwC9vc|     17.14.11|The Greatest Show...|    20th Century Fox|          1|2017-11-13 14:00:23|\"Trailer\"|\"Hugh J...| 826059|  3543|     119|          340|https://i.ytimg.c...|            False|           False|                 False|Inspired by the i...|\n",
            "|TUmyygCMMGA|     17.14.11|Why the rise of t...|                 Vox|         25|2017-11-13 13:45:16|\"vox.com\"|\"vox\"|\"...| 256426| 12654|    1363|         2368|https://i.ytimg.c...|            False|           False|                 False|For now, at least...|\n",
            "|9wRQljFNDW8|     17.14.11|Dion Lewis' 103-Y...|                 NFL|         17|2017-11-13 02:05:26|\"NFL\"|\"Football\"|...|  81377|   655|      25|          177|https://i.ytimg.c...|            False|           False|                 False|New England Patri...|\n",
            "|VifQlJit6A0|     17.14.11|(SPOILERS) 'Shiva...|                 amc|         24|2017-11-13 03:00:00|\"The Walking Dead...| 104578|  1576|     303|         1279|https://i.ytimg.c...|            False|           False|                 False|Shiva arrives jus...|\n",
            "|5E4ZBSInqUU|     17.14.11|Marshmello - Bloc...|          marshmello|         10|2017-11-13 17:00:00|\"marshmello\"|\"blo...| 687582|114188|    1333|         8371|https://i.ytimg.c...|            False|           False|                 False|WATCH SILENCE MUS...|\n",
            "|GgVmn66oK_A|     17.14.11|Which Countries A...|       NowThis World|         25|2017-11-12 14:00:00|\"nowthis\"|\"nowthi...| 544770|  7848|    1171|         3981|https://i.ytimg.c...|            False|           False|                 False|The world at larg...|\n",
            "|TaTleo4cOs8|     17.14.11|SHOPPING FOR NEW ...|     The king of DIY|         15|2017-11-12 18:30:01|\"shopping for new...| 207532|  7473|     246|         2120|https://i.ytimg.c...|            False|           False|                 False|Today we go shopp...|\n",
            "|kgaO45SyaO4|     17.14.11|    The New SpotMini|      BostonDynamics|         28|2017-11-13 20:09:58|\"Robots\"|\"Boston ...|  75752|  9419|      52|         1230|https://i.ytimg.c...|            False|           False|                 False|For more informat...|\n",
            "|ZAQs-ctOqXQ|     17.14.11|One Change That W...|             Cracked|         23|2017-11-12 17:00:05|\"pacific rim\"|\"pa...| 295639|  8011|     638|         1256|https://i.ytimg.c...|            False|           False|                 False|Pacific Rim was s...|\n",
            "|YVfyYrEmzgM|     17.14.11|How does your bod...|              TED-Ed|         27|2017-11-13 16:00:07|\"TED\"|\"TED-Ed\"|\"T...|  78044|  5398|      53|          385|https://i.ytimg.c...|            False|           False|                 False|Check out our Pat...|\n",
            "|eNSN6qet1kE|     17.14.11|HomeMade Electric...|         PeterSripol|         28|2017-11-13 15:30:17|\"ultralight\"|\"air...|  97007| 11963|      36|         2211|https://i.ytimg.c...|            False|           False|                 False|aaaannnd now to f...|\n",
            "|B5HORANmzHw|     17.14.11|Founding An Inbre...|             SciShow|         27|2017-11-12 22:00:01|\"SciShow\"|\"scienc...| 223871|  8421|     191|         1214|https://i.ytimg.c...|            False|           False|                 False|Thanks to 23AndMe...|\n",
            "+-----------+-------------+--------------------+--------------------+-----------+-------------------+--------------------+-------+------+--------+-------------+--------------------+-----------------+----------------+----------------------+--------------------+\n",
            "only showing top 20 rows\n",
            "\n",
            "+-----------+-------------+--------------------+--------------------+-----------+-------------------+--------------------+-------+------+--------+-------------+--------------------+-----------------+----------------+----------------------+--------------------+\n",
            "|   video_id|trending_date|               title|       channel_title|category_id|       publish_time|                tags|  views| likes|dislikes|comment_count|      thumbnail_link|comments_disabled|ratings_disabled|video_error_or_removed|         description|\n",
            "+-----------+-------------+--------------------+--------------------+-----------+-------------------+--------------------+-------+------+--------+-------------+--------------------+-----------------+----------------+----------------------+--------------------+\n",
            "|2kyS6SvSYSE|     17.14.11|WE WANT TO TALK A...|        CaseyNeistat|         22|2017-11-13 17:13:01|     SHANtell martin| 748374| 57527|    2966|        15954|https://i.ytimg.c...|            False|           False|                 False|SHANTELL'S CHANNE...|\n",
            "|1ZAPwfrtAFY|     17.14.11|The Trump Preside...|     LastWeekTonight|         24|2017-11-13 07:30:00|\"last week tonigh...|2418783| 97185|    6146|        12703|https://i.ytimg.c...|            False|           False|                 False|One year after th...|\n",
            "|5qpjK5DgCt4|     17.14.11|Racist Superman |...|        Rudy Mancuso|         23|2017-11-12 19:05:24|\"racist superman\"...|3191434|146033|    5339|         8181|https://i.ytimg.c...|            False|           False|                 False|WATCH MY PREVIOUS...|\n",
            "|puqaWrEC7tY|     17.14.11|Nickelback Lyrics...|Good Mythical Mor...|         24|2017-11-13 11:00:04|\"rhett and link\"|...| 343168| 10172|     666|         2146|https://i.ytimg.c...|            False|           False|                 False|Today we find out...|\n",
            "|d380meD0W0M|     17.14.11|I Dare You: GOING...|            nigahiga|         24|2017-11-12 18:01:41|\"ryan\"|\"higa\"|\"hi...|2095731|132235|    1989|        17518|https://i.ytimg.c...|            False|           False|                 False|I know it's been ...|\n",
            "+-----------+-------------+--------------------+--------------------+-----------+-------------------+--------------------+-------+------+--------+-------------+--------------------+-----------------+----------------+----------------------+--------------------+\n",
            "only showing top 5 rows\n",
            "\n",
            "+-----------+-------------+--------------------------------------------------------------+---------------------+-----------+-------------------+-----------------------------------------------------------------------------------------------------------------------------------------------------------------------------------------------------------------------------------------------------------------------------------------------------------------------------------------------------------------------------------------------------------------------------------------------------------------------------------------------+-------+------+--------+-------------+----------------------------------------------+-----------------+----------------+----------------------+------------------------------------------------------------------------------------------------------------------------------------------------------------------------------------------------------------------------------------------------------------------------------------------------------------------------------------------------------------------------------------------------------------------------------------------------------------------------------------------------------------------------------------------------------------------------------------------------------------------------------------------------------------------------------------------------------------------------------------------------------------------------------------------------------------------------------------------------------------------------------------------------------------------------------------------------------------------------------------------------------------------------------------------------------------------------------------------------------------------------------------------------------------------------------------------------------------------------------------------------------------------------------------------------------------------------------------------------------------------------------------------------------------------------------------------------------------------+\n",
            "|video_id   |trending_date|title                                                         |channel_title        |category_id|publish_time       |tags                                                                                                                                                                                                                                                                                                                                                                                                                                                                                           |views  |likes |dislikes|comment_count|thumbnail_link                                |comments_disabled|ratings_disabled|video_error_or_removed|description                                                                                                                                                                                                                                                                                                                                                                                                                                                                                                                                                                                                                                                                                                                                                                                                                                                                                                                                                                                                                                                                                                                                                                                                                                                                                                                                                                                                                                                       |\n",
            "+-----------+-------------+--------------------------------------------------------------+---------------------+-----------+-------------------+-----------------------------------------------------------------------------------------------------------------------------------------------------------------------------------------------------------------------------------------------------------------------------------------------------------------------------------------------------------------------------------------------------------------------------------------------------------------------------------------------+-------+------+--------+-------------+----------------------------------------------+-----------------+----------------+----------------------+------------------------------------------------------------------------------------------------------------------------------------------------------------------------------------------------------------------------------------------------------------------------------------------------------------------------------------------------------------------------------------------------------------------------------------------------------------------------------------------------------------------------------------------------------------------------------------------------------------------------------------------------------------------------------------------------------------------------------------------------------------------------------------------------------------------------------------------------------------------------------------------------------------------------------------------------------------------------------------------------------------------------------------------------------------------------------------------------------------------------------------------------------------------------------------------------------------------------------------------------------------------------------------------------------------------------------------------------------------------------------------------------------------------------------------------------------------------+\n",
            "|2kyS6SvSYSE|17.14.11     |WE WANT TO TALK ABOUT OUR MARRIAGE                            |CaseyNeistat         |22         |2017-11-13 17:13:01|SHANtell martin                                                                                                                                                                                                                                                                                                                                                                                                                                                                                |748374 |57527 |2966    |15954        |https://i.ytimg.com/vi/2kyS6SvSYSE/default.jpg|False            |False           |False                 |SHANTELL'S CHANNEL - https://www.youtube.com/shantellmartin\\nCANDICE - https://www.lovebilly.com\\n\\nfilmed this video in 4k on this -- http://amzn.to/2sTDnRZ\\nwith this lens -- http://amzn.to/2rUJOmD\\nbig drone - http://tinyurl.com/h4ft3oy\\nOTHER GEAR ---  http://amzn.to/2o3GLX5\\nSony CAMERA http://amzn.to/2nOBmnv\\nOLD CAMERA; http://amzn.to/2o2cQBT\\nMAIN LENS; http://amzn.to/2od5gBJ\\nBIG SONY CAMERA; http://amzn.to/2nrdJRO\\nBIG Canon CAMERA; http://tinyurl.com/jn4q4vz\\nBENDY TRIPOD THING; http://tinyurl.com/gw3ylz2\\nYOU NEED THIS FOR THE BENDY TRIPOD; http://tinyurl.com/j8mzzua\\nWIDE LENS; http://tinyurl.com/jkfcm8t\\nMORE EXPENSIVE WIDE LENS; http://tinyurl.com/zrdgtou\\nSMALL CAMERA; http://tinyurl.com/hrrzhor\\nMICROPHONE; http://tinyurl.com/zefm4jy\\nOTHER MICROPHONE; http://tinyurl.com/jxgpj86\\nOLD DRONE (cheaper but still great);http://tinyurl.com/zcfmnmd\\n\\nfollow me; on http://instagram.com/caseyneistat\\non https://www.facebook.com/cneistat\\non https://twitter.com/CaseyNeistat\\n\\namazing intro song by https://soundcloud.com/discoteeth\\n\\nad disclosure.  THIS IS NOT AN AD.  not selling or promoting anything.  but samsung did produce the Shantell Video as a 'GALAXY PROJECT' which is an initiative that enables creators like Shantell and me to make projects we might otherwise not have the opportunity to make.  hope that's clear.  if not ask in the comments and i'll answer any specifics.|\n",
            "|1ZAPwfrtAFY|17.14.11     |The Trump Presidency: Last Week Tonight with John Oliver (HBO)|LastWeekTonight      |24         |2017-11-13 07:30:00|\"last week tonight trump presidency\"|\"last week tonight donald trump\"|\"john oliver trump\"|\"donald trump\"                                                                                                                                                                                                                                                                                                                                                                                       |2418783|97185 |6146    |12703        |https://i.ytimg.com/vi/1ZAPwfrtAFY/default.jpg|False            |False           |False                 |One year after the presidential election, John Oliver discusses what we've learned so far and enlists our catheter cowboy to teach Donald Trump what he hasn't.\\n\\nConnect with Last Week Tonight online...\\n\\nSubscribe to the Last Week Tonight YouTube channel for more almost news as it almost happens: www.youtube.com/user/LastWeekTonight\\n\\nFind Last Week Tonight on Facebook like your mom would: http://Facebook.com/LastWeekTonight\\n\\nFollow us on Twitter for news about jokes and jokes about news: http://Twitter.com/LastWeekTonight\\n\\nVisit our official site for all that other stuff at once: http://www.hbo.com/lastweektonight                                                                                                                                                                                                                                                                                                                                                                                                                                                                                                                                                                                                                                                                                                                                                                                                            |\n",
            "|5qpjK5DgCt4|17.14.11     |Racist Superman | Rudy Mancuso, King Bach & Lele Pons         |Rudy Mancuso         |23         |2017-11-12 19:05:24|\"racist superman\"|\"rudy\"|\"mancuso\"|\"king\"|\"bach\"|\"racist\"|\"superman\"|\"love\"|\"rudy mancuso poo bear black white official music video\"|\"iphone x by pineapple\"|\"lelepons\"|\"hannahstocking\"|\"rudymancuso\"|\"inanna\"|\"anwar\"|\"sarkis\"|\"shots\"|\"shotsstudios\"|\"alesso\"|\"anitta\"|\"brazil\"|\"Getting My Driver's License | Lele Pons\"                                                                                                                                                                   |3191434|146033|5339    |8181         |https://i.ytimg.com/vi/5qpjK5DgCt4/default.jpg|False            |False           |False                 |WATCH MY PREVIOUS VIDEO ▶ \\n\\nSUBSCRIBE ► https://www.youtube.com/channel/UC5jkXpfnBhlDjqh0ir5FsIQ?sub_confirmation=1\\n\\nTHANKS FOR WATCHING! LIKE & SUBSCRIBE FOR MORE VIDEOS!\\n-----------------------------------------------------------\\nFIND ME ON: \\nInstagram | http://instagram.com/rudymancuso\\nTwitter | http://twitter.com/rudymancuso\\nFacebook | http://facebook.com/rudymancuso\\n\\nCAST: \\nRudy Mancuso | http://youtube.com/c/rudymancuso\\nLele Pons | http://youtube.com/c/lelepons\\nKing Bach | https://youtube.com/user/BachelorsPadTv\\n\\nVideo Effects: \\nCaleb Natale | https://instagram.com/calebnatale\\n\\nPA:\\nPaulina Gregory\\n\\n\\nShots Studios Channels:\\nAlesso | https://youtube.com/c/alesso\\nAnitta | http://youtube.com/c/anitta\\nAnwar Jibawi | http://youtube.com/c/anwar\\nAwkward Puppets | http://youtube.com/c/awkwardpuppets\\nHannah Stocking | http://youtube.com/c/hannahstocking\\nInanna Sarkis | http://youtube.com/c/inanna\\nLele Pons | http://youtube.com/c/lelepons\\nMaejor | http://youtube.com/c/maejor\\nMike Tyson | http://youtube.com/c/miketyson \\nRudy Mancuso | http://youtube.com/c/rudymancuso\\nShots Studios | http://youtube.com/c/shots\\n\\n#Rudy\\n#RudyMancuso                                                                                                                                                                                                                                         |\n",
            "|puqaWrEC7tY|17.14.11     |Nickelback Lyrics: Real or Fake?                              |Good Mythical Morning|24         |2017-11-13 11:00:04|\"rhett and link\"|\"gmm\"|\"good mythical morning\"|\"rhett and link good mythical morning\"|\"good mythical morning rhett and link\"|\"mythical morning\"|\"Season 12\"|\"nickelback lyrics\"|\"nickelback lyrics real or fake\"|\"nickelback\"|\"nickelback songs\"|\"nickelback song\"|\"rhett link nickelback\"|\"gmm nickelback\"|\"lyrics (website category)\"|\"nickelback (musical group)\"|\"rock\"|\"music\"|\"lyrics\"|\"chad kroeger\"|\"canada\"|\"music (industry)\"|\"mythical\"|\"gmm challenge\"|\"comedy\"|\"funny\"|\"challenge\"|343168 |10172 |666     |2146         |https://i.ytimg.com/vi/puqaWrEC7tY/default.jpg|False            |False           |False                 |Today we find out if Link is a Nickelback amateur or a secret Nickelback devotee. GMM #1218\\nDon't miss an all new Ear Biscuits: https://goo.gl/xeZNQt\\nWatch Part 4: https://youtu.be/MhCdiiB8CQg | Watch Part 2: https://youtu.be/7qiOrNao9fg\\nWatch today's episode from the start: http://bit.ly/GMM1218\\n\\nPick up all of the official GMM merch only at https://mythical.store\\n\\nFollow Rhett & Link: \\nInstagram: https://instagram.com/rhettandlink\\nFacebook: https://facebook.com/rhettandlink\\nTwitter: https://twitter.com/rhettandlink\\nTumblr: https://rhettandlink.tumblr.com\\nSnapchat: @realrhettlink\\nWebsite: https://mythical.co/\\n\\nCheck Out Our Other Mythical Channels:\\nGood Mythical MORE: https://youtube.com/goodmythicalmore\\nRhett & Link: https://youtube.com/rhettandlink\\nThis Is Mythical: https://youtube.com/thisismythical\\nEar Biscuits: https://applepodcasts.com/earbiscuits\\n\\nWant to send us something? https://mythical.co/contact\\nHave you made a Wheel of Mythicality intro video? Submit it here: https://bit.ly/GMMWheelIntro\\n\\nIntro Animation by Digital Twigs: https://www.digitaltwigs.com\\nIntro & Outro Music by Jeff Zeigler & Sarah Schimeneck https://www.jeffzeigler.com\\nWheel of Mythicality theme: https://www.royaltyfreemusiclibrary.com/\\nAll Supplemental Music fromOpus 1 Music: https://opus1.sourceaudio.com/\\nWe use ‘The Mouse’ by Blue Microphones https://www.bluemic.com/mouse/       |\n",
            "|d380meD0W0M|17.14.11     |I Dare You: GOING BALD!?                                      |nigahiga             |24         |2017-11-12 18:01:41|\"ryan\"|\"higa\"|\"higatv\"|\"nigahiga\"|\"i dare you\"|\"idy\"|\"rhpc\"|\"dares\"|\"no truth\"|\"comments\"|\"comedy\"|\"funny\"|\"stupid\"|\"fail\"                                                                                                                                                                                                                                                                                                                                                                     |2095731|132235|1989    |17518        |https://i.ytimg.com/vi/d380meD0W0M/default.jpg|False            |False           |False                 |I know it's been a while since we did this show, but we're back with what might be the best episode yet!\\nLeave your dares in the comment section! \\n\\nOrder my book how to write good \\nhttp://higatv.com/ryan-higas-how-to-write-good-pre-order-links/\\n\\nJust Launched New Official Store\\nhttps://www.gianthugs.com/collections/ryan\\n\\nHigaTV Channel\\nhttp://www.youtube.com/higatv\\n\\nTwitter\\nhttp://www.twitter.com/therealryanhiga\\n\\nFacebook\\nhttp://www.facebook.com/higatv\\n\\nWebsite\\nhttp://www.higatv.com\\n\\nInstagram\\nhttp://www.instagram.com/notryanhiga\\n\\nSend us mail or whatever you want here!\\nPO Box 232355\\nLas Vegas, NV 89105                                                                                                                                                                                                                                                                                                                                                                                                                                                                                                                                                                                                                                                                                                                                                                                                      |\n",
            "+-----------+-------------+--------------------------------------------------------------+---------------------+-----------+-------------------+-----------------------------------------------------------------------------------------------------------------------------------------------------------------------------------------------------------------------------------------------------------------------------------------------------------------------------------------------------------------------------------------------------------------------------------------------------------------------------------------------+-------+------+--------+-------------+----------------------------------------------+-----------------+----------------+----------------------+------------------------------------------------------------------------------------------------------------------------------------------------------------------------------------------------------------------------------------------------------------------------------------------------------------------------------------------------------------------------------------------------------------------------------------------------------------------------------------------------------------------------------------------------------------------------------------------------------------------------------------------------------------------------------------------------------------------------------------------------------------------------------------------------------------------------------------------------------------------------------------------------------------------------------------------------------------------------------------------------------------------------------------------------------------------------------------------------------------------------------------------------------------------------------------------------------------------------------------------------------------------------------------------------------------------------------------------------------------------------------------------------------------------------------------------------------------------+\n",
            "only showing top 5 rows\n",
            "\n"
          ]
        }
      ]
    },
    {
      "cell_type": "code",
      "source": [
        "# take\n",
        "df.take(1)"
      ],
      "metadata": {
        "id": "WSVOFu8XBL5s",
        "colab": {
          "base_uri": "https://localhost:8080/"
        },
        "outputId": "f8a79bac-1566-4cbe-ca67-ab6054cb19b1"
      },
      "execution_count": null,
      "outputs": [
        {
          "output_type": "execute_result",
          "data": {
            "text/plain": [
              "[Row(video_id='2kyS6SvSYSE', trending_date='17.14.11', title='WE WANT TO TALK ABOUT OUR MARRIAGE', channel_title='CaseyNeistat', category_id='22', publish_time=datetime.datetime(2017, 11, 13, 17, 13, 1), tags='SHANtell martin', views=748374, likes=57527, dislikes=2966, comment_count=15954, thumbnail_link='https://i.ytimg.com/vi/2kyS6SvSYSE/default.jpg', comments_disabled='False', ratings_disabled='False', video_error_or_removed='False', description=\"SHANTELL'S CHANNEL - https://www.youtube.com/shantellmartin\\\\nCANDICE - https://www.lovebilly.com\\\\n\\\\nfilmed this video in 4k on this -- http://amzn.to/2sTDnRZ\\\\nwith this lens -- http://amzn.to/2rUJOmD\\\\nbig drone - http://tinyurl.com/h4ft3oy\\\\nOTHER GEAR ---  http://amzn.to/2o3GLX5\\\\nSony CAMERA http://amzn.to/2nOBmnv\\\\nOLD CAMERA; http://amzn.to/2o2cQBT\\\\nMAIN LENS; http://amzn.to/2od5gBJ\\\\nBIG SONY CAMERA; http://amzn.to/2nrdJRO\\\\nBIG Canon CAMERA; http://tinyurl.com/jn4q4vz\\\\nBENDY TRIPOD THING; http://tinyurl.com/gw3ylz2\\\\nYOU NEED THIS FOR THE BENDY TRIPOD; http://tinyurl.com/j8mzzua\\\\nWIDE LENS; http://tinyurl.com/jkfcm8t\\\\nMORE EXPENSIVE WIDE LENS; http://tinyurl.com/zrdgtou\\\\nSMALL CAMERA; http://tinyurl.com/hrrzhor\\\\nMICROPHONE; http://tinyurl.com/zefm4jy\\\\nOTHER MICROPHONE; http://tinyurl.com/jxgpj86\\\\nOLD DRONE (cheaper but still great);http://tinyurl.com/zcfmnmd\\\\n\\\\nfollow me; on http://instagram.com/caseyneistat\\\\non https://www.facebook.com/cneistat\\\\non https://twitter.com/CaseyNeistat\\\\n\\\\namazing intro song by https://soundcloud.com/discoteeth\\\\n\\\\nad disclosure.  THIS IS NOT AN AD.  not selling or promoting anything.  but samsung did produce the Shantell Video as a 'GALAXY PROJECT' which is an initiative that enables creators like Shantell and me to make projects we might otherwise not have the opportunity to make.  hope that's clear.  if not ask in the comments and i'll answer any specifics.\")]"
            ]
          },
          "metadata": {},
          "execution_count": 24
        }
      ]
    },
    {
      "cell_type": "code",
      "source": [
        "# head\n",
        "df.head(1)"
      ],
      "metadata": {
        "id": "UmbV0K_uBLx8",
        "colab": {
          "base_uri": "https://localhost:8080/"
        },
        "outputId": "b3700972-ca3b-4bd0-ca20-1a7f0601532a"
      },
      "execution_count": null,
      "outputs": [
        {
          "output_type": "execute_result",
          "data": {
            "text/plain": [
              "[Row(video_id='2kyS6SvSYSE', trending_date='17.14.11', title='WE WANT TO TALK ABOUT OUR MARRIAGE', channel_title='CaseyNeistat', category_id='22', publish_time=datetime.datetime(2017, 11, 13, 17, 13, 1), tags='SHANtell martin', views=748374, likes=57527, dislikes=2966, comment_count=15954, thumbnail_link='https://i.ytimg.com/vi/2kyS6SvSYSE/default.jpg', comments_disabled='False', ratings_disabled='False', video_error_or_removed='False', description=\"SHANTELL'S CHANNEL - https://www.youtube.com/shantellmartin\\\\nCANDICE - https://www.lovebilly.com\\\\n\\\\nfilmed this video in 4k on this -- http://amzn.to/2sTDnRZ\\\\nwith this lens -- http://amzn.to/2rUJOmD\\\\nbig drone - http://tinyurl.com/h4ft3oy\\\\nOTHER GEAR ---  http://amzn.to/2o3GLX5\\\\nSony CAMERA http://amzn.to/2nOBmnv\\\\nOLD CAMERA; http://amzn.to/2o2cQBT\\\\nMAIN LENS; http://amzn.to/2od5gBJ\\\\nBIG SONY CAMERA; http://amzn.to/2nrdJRO\\\\nBIG Canon CAMERA; http://tinyurl.com/jn4q4vz\\\\nBENDY TRIPOD THING; http://tinyurl.com/gw3ylz2\\\\nYOU NEED THIS FOR THE BENDY TRIPOD; http://tinyurl.com/j8mzzua\\\\nWIDE LENS; http://tinyurl.com/jkfcm8t\\\\nMORE EXPENSIVE WIDE LENS; http://tinyurl.com/zrdgtou\\\\nSMALL CAMERA; http://tinyurl.com/hrrzhor\\\\nMICROPHONE; http://tinyurl.com/zefm4jy\\\\nOTHER MICROPHONE; http://tinyurl.com/jxgpj86\\\\nOLD DRONE (cheaper but still great);http://tinyurl.com/zcfmnmd\\\\n\\\\nfollow me; on http://instagram.com/caseyneistat\\\\non https://www.facebook.com/cneistat\\\\non https://twitter.com/CaseyNeistat\\\\n\\\\namazing intro song by https://soundcloud.com/discoteeth\\\\n\\\\nad disclosure.  THIS IS NOT AN AD.  not selling or promoting anything.  but samsung did produce the Shantell Video as a 'GALAXY PROJECT' which is an initiative that enables creators like Shantell and me to make projects we might otherwise not have the opportunity to make.  hope that's clear.  if not ask in the comments and i'll answer any specifics.\")]"
            ]
          },
          "metadata": {},
          "execution_count": 25
        }
      ]
    },
    {
      "cell_type": "code",
      "source": [
        "# collect\n",
        "df.select('likes').collect()"
      ],
      "metadata": {
        "id": "IhK44_QXBLpd",
        "colab": {
          "base_uri": "https://localhost:8080/"
        },
        "outputId": "0a2690c2-156b-4770-d8dd-89a521f7737d"
      },
      "execution_count": null,
      "outputs": [
        {
          "output_type": "execute_result",
          "data": {
            "text/plain": [
              "[Row(likes=57527),\n",
              " Row(likes=97185),\n",
              " Row(likes=146033),\n",
              " Row(likes=10172),\n",
              " Row(likes=132235),\n",
              " Row(likes=9763),\n",
              " Row(likes=15993),\n",
              " Row(likes=23663),\n",
              " Row(likes=3543),\n",
              " Row(likes=12654),\n",
              " Row(likes=655),\n",
              " Row(likes=1576),\n",
              " Row(likes=114188),\n",
              " Row(likes=7848),\n",
              " Row(likes=7473),\n",
              " Row(likes=9419),\n",
              " Row(likes=8011),\n",
              " Row(likes=5398),\n",
              " Row(likes=11963),\n",
              " Row(likes=8421),\n",
              " Row(likes=9586),\n",
              " Row(likes=3585),\n",
              " Row(likes=11758),\n",
              " Row(likes=1707),\n",
              " Row(likes=4884),\n",
              " Row(likes=8676),\n",
              " Row(likes=4687),\n",
              " Row(likes=9033),\n",
              " Row(likes=156),\n",
              " Row(likes=715),\n",
              " Row(likes=4035),\n",
              " Row(likes=119),\n",
              " Row(likes=787419),\n",
              " Row(likes=3781),\n",
              " Row(likes=1661),\n",
              " Row(likes=2486),\n",
              " Row(likes=7515),\n",
              " Row(likes=1318),\n",
              " Row(likes=38397),\n",
              " Row(likes=6927),\n",
              " Row(likes=5389),\n",
              " Row(likes=308),\n",
              " Row(likes=7),\n",
              " Row(likes=15186),\n",
              " Row(likes=4451),\n",
              " Row(likes=33505),\n",
              " Row(likes=3417),\n",
              " Row(likes=2017),\n",
              " Row(likes=35),\n",
              " Row(likes=45406),\n",
              " Row(likes=99086),\n",
              " Row(likes=205),\n",
              " Row(likes=15397),\n",
              " Row(likes=None),\n",
              " Row(likes=None),\n",
              " Row(likes=None),\n",
              " Row(likes=190083),\n",
              " Row(likes=7250),\n",
              " Row(likes=16116),\n",
              " Row(likes=5734),\n",
              " Row(likes=21),\n",
              " Row(likes=89),\n",
              " Row(likes=8209),\n",
              " Row(likes=10237),\n",
              " Row(likes=52),\n",
              " Row(likes=26917),\n",
              " Row(likes=115795),\n",
              " Row(likes=493),\n",
              " Row(likes=8231),\n",
              " Row(likes=115426),\n",
              " Row(likes=120876),\n",
              " Row(likes=203),\n",
              " Row(likes=55681),\n",
              " Row(likes=1634124),\n",
              " Row(likes=2233),\n",
              " Row(likes=2978),\n",
              " Row(likes=1550),\n",
              " Row(likes=18603),\n",
              " Row(likes=2429),\n",
              " Row(likes=1896),\n",
              " Row(likes=37669),\n",
              " Row(likes=15504),\n",
              " Row(likes=355),\n",
              " Row(likes=23296),\n",
              " Row(likes=8133),\n",
              " Row(likes=2323),\n",
              " Row(likes=None),\n",
              " Row(likes=None),\n",
              " Row(likes=None),\n",
              " Row(likes=67),\n",
              " Row(likes=3571),\n",
              " Row(likes=6271),\n",
              " Row(likes=16430),\n",
              " Row(likes=439),\n",
              " Row(likes=34839),\n",
              " Row(likes=82320),\n",
              " Row(likes=438),\n",
              " Row(likes=72593),\n",
              " Row(likes=2282),\n",
              " Row(likes=98804),\n",
              " Row(likes=58967),\n",
              " Row(likes=8599),\n",
              " Row(likes=40195),\n",
              " Row(likes=16396),\n",
              " Row(likes=202676),\n",
              " Row(likes=14338),\n",
              " Row(likes=43875),\n",
              " Row(likes=22326),\n",
              " Row(likes=1731),\n",
              " Row(likes=3283),\n",
              " Row(likes=286268),\n",
              " Row(likes=307435),\n",
              " Row(likes=3305),\n",
              " Row(likes=10138),\n",
              " Row(likes=3327),\n",
              " Row(likes=5048),\n",
              " Row(likes=53572),\n",
              " Row(likes=7999),\n",
              " Row(likes=88417),\n",
              " Row(likes=52829),\n",
              " Row(likes=25115),\n",
              " Row(likes=14303),\n",
              " Row(likes=7693),\n",
              " Row(likes=25122),\n",
              " Row(likes=None),\n",
              " Row(likes=None),\n",
              " Row(likes=None),\n",
              " Row(likes=None),\n",
              " Row(likes=None),\n",
              " Row(likes=None),\n",
              " Row(likes=None),\n",
              " Row(likes=None),\n",
              " Row(likes=None),\n",
              " Row(likes=None),\n",
              " Row(likes=None),\n",
              " Row(likes=None),\n",
              " Row(likes=None),\n",
              " Row(likes=4417),\n",
              " Row(likes=5505),\n",
              " Row(likes=15247),\n",
              " Row(likes=11616),\n",
              " Row(likes=9312),\n",
              " Row(likes=9091),\n",
              " Row(likes=84426),\n",
              " Row(likes=935),\n",
              " Row(likes=11198),\n",
              " Row(likes=2926),\n",
              " Row(likes=19323),\n",
              " Row(likes=1365),\n",
              " Row(likes=32648),\n",
              " Row(likes=7683),\n",
              " Row(likes=3652),\n",
              " Row(likes=4364),\n",
              " Row(likes=11736),\n",
              " Row(likes=1345),\n",
              " Row(likes=1354),\n",
              " Row(likes=2163),\n",
              " Row(likes=443),\n",
              " Row(likes=909),\n",
              " Row(likes=4604),\n",
              " Row(likes=35765),\n",
              " Row(likes=7158),\n",
              " Row(likes=1991),\n",
              " Row(likes=5642),\n",
              " Row(likes=9210),\n",
              " Row(likes=15909),\n",
              " Row(likes=242),\n",
              " Row(likes=65854),\n",
              " Row(likes=810895),\n",
              " Row(likes=16106),\n",
              " Row(likes=11985),\n",
              " Row(likes=20159),\n",
              " Row(likes=10175),\n",
              " Row(likes=31892),\n",
              " Row(likes=49),\n",
              " Row(likes=4989),\n",
              " Row(likes=3809),\n",
              " Row(likes=5894),\n",
              " Row(likes=1170),\n",
              " Row(likes=2),\n",
              " Row(likes=5075),\n",
              " Row(likes=3959),\n",
              " Row(likes=22),\n",
              " Row(likes=10844),\n",
              " Row(likes=23338),\n",
              " Row(likes=3454),\n",
              " Row(likes=4250),\n",
              " Row(likes=681),\n",
              " Row(likes=40),\n",
              " Row(likes=569),\n",
              " Row(likes=23634),\n",
              " Row(likes=47793),\n",
              " Row(likes=420),\n",
              " Row(likes=5748),\n",
              " Row(likes=3),\n",
              " Row(likes=2707),\n",
              " Row(likes=258),\n",
              " Row(likes=1666),\n",
              " Row(likes=5723),\n",
              " Row(likes=1211),\n",
              " Row(likes=6243),\n",
              " Row(likes=121),\n",
              " Row(likes=86207),\n",
              " Row(likes=633),\n",
              " Row(likes=998),\n",
              " Row(likes=15130),\n",
              " Row(likes=426),\n",
              " Row(likes=2195),\n",
              " Row(likes=56867),\n",
              " Row(likes=67227),\n",
              " Row(likes=20289),\n",
              " Row(likes=0),\n",
              " Row(likes=4037),\n",
              " Row(likes=147),\n",
              " Row(likes=57),\n",
              " Row(likes=8388),\n",
              " Row(likes=16352),\n",
              " Row(likes=None),\n",
              " Row(likes=None),\n",
              " Row(likes=None),\n",
              " Row(likes=None),\n",
              " Row(likes=None),\n",
              " Row(likes=None),\n",
              " Row(likes=None),\n",
              " Row(likes=None),\n",
              " Row(likes=None),\n",
              " Row(likes=None),\n",
              " Row(likes=None),\n",
              " Row(likes=None),\n",
              " Row(likes=None),\n",
              " Row(likes=None),\n",
              " Row(likes=5684),\n",
              " Row(likes=29990),\n",
              " Row(likes=14132),\n",
              " Row(likes=4854),\n",
              " Row(likes=63995),\n",
              " Row(likes=28647),\n",
              " Row(likes=87615),\n",
              " Row(likes=3687),\n",
              " Row(likes=58474),\n",
              " Row(likes=60983),\n",
              " Row(likes=35529),\n",
              " Row(likes=56561),\n",
              " Row(likes=25109),\n",
              " Row(likes=5939),\n",
              " Row(likes=580),\n",
              " Row(likes=122347),\n",
              " Row(likes=17130),\n",
              " Row(likes=478),\n",
              " Row(likes=16754),\n",
              " Row(likes=88099),\n",
              " Row(likes=25188),\n",
              " Row(likes=20518),\n",
              " Row(likes=1197),\n",
              " Row(likes=131784),\n",
              " Row(likes=6310),\n",
              " Row(likes=19138),\n",
              " Row(likes=5198),\n",
              " Row(likes=12699),\n",
              " Row(likes=4553),\n",
              " Row(likes=6095),\n",
              " Row(likes=62),\n",
              " Row(likes=None),\n",
              " Row(likes=None),\n",
              " Row(likes=None),\n",
              " Row(likes=None),\n",
              " Row(likes=None),\n",
              " Row(likes=None),\n",
              " Row(likes=None),\n",
              " Row(likes=None),\n",
              " Row(likes=None),\n",
              " Row(likes=None),\n",
              " Row(likes=None),\n",
              " Row(likes=None),\n",
              " Row(likes=None),\n",
              " Row(likes=None),\n",
              " Row(likes=None),\n",
              " Row(likes=None),\n",
              " Row(likes=9805),\n",
              " Row(likes=1145),\n",
              " Row(likes=15301),\n",
              " Row(likes=10410),\n",
              " Row(likes=12229),\n",
              " Row(likes=180284),\n",
              " Row(likes=11131),\n",
              " Row(likes=975),\n",
              " Row(likes=16433),\n",
              " Row(likes=167696),\n",
              " Row(likes=1950),\n",
              " Row(likes=61),\n",
              " Row(likes=75),\n",
              " Row(likes=20721),\n",
              " Row(likes=8177),\n",
              " Row(likes=87),\n",
              " Row(likes=11162),\n",
              " Row(likes=5162),\n",
              " Row(likes=144816),\n",
              " Row(likes=1440),\n",
              " Row(likes=143),\n",
              " Row(likes=136),\n",
              " Row(likes=2279),\n",
              " Row(likes=8996),\n",
              " Row(likes=831),\n",
              " Row(likes=563),\n",
              " Row(likes=None),\n",
              " Row(likes=None),\n",
              " Row(likes=None),\n",
              " Row(likes=26813),\n",
              " Row(likes=6310),\n",
              " Row(likes=5715),\n",
              " Row(likes=7129),\n",
              " Row(likes=276),\n",
              " Row(likes=4303),\n",
              " Row(likes=5246),\n",
              " Row(likes=None),\n",
              " Row(likes=None),\n",
              " Row(likes=None),\n",
              " Row(likes=None),\n",
              " Row(likes=None),\n",
              " Row(likes=None),\n",
              " Row(likes=None),\n",
              " Row(likes=None),\n",
              " Row(likes=16612),\n",
              " Row(likes=19970),\n",
              " Row(likes=17959),\n",
              " Row(likes=10915),\n",
              " Row(likes=11576),\n",
              " Row(likes=83),\n",
              " Row(likes=398),\n",
              " Row(likes=2530),\n",
              " Row(likes=8339),\n",
              " Row(likes=9086),\n",
              " Row(likes=4719),\n",
              " Row(likes=2229),\n",
              " Row(likes=586),\n",
              " Row(likes=126),\n",
              " Row(likes=9211),\n",
              " Row(likes=6587),\n",
              " Row(likes=930),\n",
              " Row(likes=9606),\n",
              " Row(likes=4212),\n",
              " Row(likes=2265),\n",
              " Row(likes=6240),\n",
              " Row(likes=12862),\n",
              " Row(likes=33),\n",
              " Row(likes=1322),\n",
              " Row(likes=5847),\n",
              " Row(likes=23),\n",
              " Row(likes=4566),\n",
              " Row(likes=2425),\n",
              " Row(likes=217),\n",
              " Row(likes=386),\n",
              " Row(likes=9576),\n",
              " Row(likes=4293),\n",
              " Row(likes=305),\n",
              " Row(likes=18),\n",
              " Row(likes=4170),\n",
              " Row(likes=3218),\n",
              " Row(likes=840642),\n",
              " Row(likes=732),\n",
              " Row(likes=296),\n",
              " Row(likes=44513),\n",
              " Row(likes=136),\n",
              " Row(likes=2896),\n",
              " Row(likes=828),\n",
              " Row(likes=15873),\n",
              " Row(likes=37124),\n",
              " Row(likes=11),\n",
              " Row(likes=4548),\n",
              " Row(likes=4657),\n",
              " Row(likes=216319),\n",
              " Row(likes=103407),\n",
              " Row(likes=2133),\n",
              " Row(likes=47),\n",
              " Row(likes=48000),\n",
              " Row(likes=16060),\n",
              " Row(likes=None),\n",
              " Row(likes=None),\n",
              " Row(likes=None),\n",
              " Row(likes=250),\n",
              " Row(likes=408618),\n",
              " Row(likes=170),\n",
              " Row(likes=7589),\n",
              " Row(likes=6073),\n",
              " Row(likes=8409),\n",
              " Row(likes=27068),\n",
              " Row(likes=130373),\n",
              " Row(likes=10429),\n",
              " Row(likes=119348),\n",
              " Row(likes=8795),\n",
              " Row(likes=125205),\n",
              " Row(likes=73),\n",
              " Row(likes=58209),\n",
              " Row(likes=487),\n",
              " Row(likes=19783),\n",
              " Row(likes=44007),\n",
              " Row(likes=374),\n",
              " Row(likes=2556),\n",
              " Row(likes=24115),\n",
              " Row(likes=1721383),\n",
              " Row(likes=2540),\n",
              " Row(likes=36365),\n",
              " Row(likes=9052),\n",
              " Row(likes=382),\n",
              " Row(likes=7108),\n",
              " Row(likes=3085),\n",
              " Row(likes=17),\n",
              " Row(likes=102199),\n",
              " Row(likes=2332),\n",
              " Row(likes=453),\n",
              " Row(likes=9321),\n",
              " Row(likes=3128),\n",
              " Row(likes=None),\n",
              " Row(likes=None),\n",
              " Row(likes=None),\n",
              " Row(likes=None),\n",
              " Row(likes=None),\n",
              " Row(likes=48219),\n",
              " Row(likes=75023),\n",
              " Row(likes=14843),\n",
              " Row(likes=2284),\n",
              " Row(likes=17023),\n",
              " Row(likes=18992),\n",
              " Row(likes=1576),\n",
              " Row(likes=3823),\n",
              " Row(likes=101831),\n",
              " Row(likes=60500),\n",
              " Row(likes=2404),\n",
              " Row(likes=None),\n",
              " Row(likes=None),\n",
              " Row(likes=None),\n",
              " Row(likes=212004),\n",
              " Row(likes=26180),\n",
              " Row(likes=5405),\n",
              " Row(likes=55001),\n",
              " Row(likes=10801),\n",
              " Row(likes=314872),\n",
              " Row(likes=45513),\n",
              " Row(likes=9072),\n",
              " Row(likes=96850),\n",
              " Row(likes=4099),\n",
              " Row(likes=29425),\n",
              " Row(likes=53901),\n",
              " Row(likes=3330),\n",
              " Row(likes=5934),\n",
              " Row(likes=9278),\n",
              " Row(likes=5659),\n",
              " Row(likes=88072),\n",
              " Row(likes=11702),\n",
              " Row(likes=14766),\n",
              " Row(likes=1012),\n",
              " Row(likes=12261),\n",
              " Row(likes=2400),\n",
              " Row(likes=15765),\n",
              " Row(likes=1351),\n",
              " Row(likes=1561),\n",
              " Row(likes=7822),\n",
              " Row(likes=19962),\n",
              " Row(likes=3756),\n",
              " Row(likes=12347),\n",
              " Row(likes=36686),\n",
              " Row(likes=12961),\n",
              " Row(likes=4621),\n",
              " Row(likes=7803),\n",
              " Row(likes=4472),\n",
              " Row(likes=211),\n",
              " Row(likes=None),\n",
              " Row(likes=None),\n",
              " Row(likes=None),\n",
              " Row(likes=None),\n",
              " Row(likes=None),\n",
              " Row(likes=None),\n",
              " Row(likes=None),\n",
              " Row(likes=None),\n",
              " Row(likes=None),\n",
              " Row(likes=None),\n",
              " Row(likes=None),\n",
              " Row(likes=None),\n",
              " Row(likes=None),\n",
              " Row(likes=None),\n",
              " Row(likes=None),\n",
              " Row(likes=None),\n",
              " Row(likes=None),\n",
              " Row(likes=None),\n",
              " Row(likes=None),\n",
              " Row(likes=None),\n",
              " Row(likes=None),\n",
              " Row(likes=None),\n",
              " Row(likes=7800),\n",
              " Row(likes=38734),\n",
              " Row(likes=7979),\n",
              " Row(likes=477),\n",
              " Row(likes=10372),\n",
              " Row(likes=151850),\n",
              " Row(likes=24442),\n",
              " Row(likes=57470),\n",
              " Row(likes=141681),\n",
              " Row(likes=20036),\n",
              " Row(likes=17784),\n",
              " Row(likes=31832),\n",
              " Row(likes=8970),\n",
              " Row(likes=24672),\n",
              " Row(likes=93039),\n",
              " Row(likes=12633),\n",
              " Row(likes=29898),\n",
              " Row(likes=37329),\n",
              " Row(likes=13283),\n",
              " Row(likes=142740),\n",
              " Row(likes=114661),\n",
              " Row(likes=6260),\n",
              " Row(likes=2665),\n",
              " Row(likes=21334),\n",
              " Row(likes=9435),\n",
              " Row(likes=None),\n",
              " Row(likes=None),\n",
              " Row(likes=None),\n",
              " Row(likes=None),\n",
              " Row(likes=None),\n",
              " Row(likes=None),\n",
              " Row(likes=None),\n",
              " Row(likes=None),\n",
              " Row(likes=None),\n",
              " Row(likes=None),\n",
              " Row(likes=None),\n",
              " Row(likes=None),\n",
              " Row(likes=None),\n",
              " Row(likes=None),\n",
              " Row(likes=None),\n",
              " Row(likes=None),\n",
              " Row(likes=None),\n",
              " Row(likes=None),\n",
              " Row(likes=43974),\n",
              " Row(likes=3802),\n",
              " Row(likes=76806),\n",
              " Row(likes=72727),\n",
              " Row(likes=17286),\n",
              " Row(likes=85208),\n",
              " Row(likes=3557),\n",
              " Row(likes=35595),\n",
              " Row(likes=2207),\n",
              " Row(likes=77531),\n",
              " Row(likes=32186),\n",
              " Row(likes=259),\n",
              " Row(likes=2793),\n",
              " Row(likes=979),\n",
              " Row(likes=7517),\n",
              " Row(likes=660),\n",
              " Row(likes=17929),\n",
              " Row(likes=None),\n",
              " Row(likes=None),\n",
              " Row(likes=None),\n",
              " Row(likes=175),\n",
              " Row(likes=None),\n",
              " Row(likes=None),\n",
              " Row(likes=None),\n",
              " Row(likes=None),\n",
              " Row(likes=None),\n",
              " Row(likes=None),\n",
              " Row(likes=None),\n",
              " Row(likes=None),\n",
              " Row(likes=None),\n",
              " Row(likes=None),\n",
              " Row(likes=None),\n",
              " Row(likes=None),\n",
              " Row(likes=None),\n",
              " Row(likes=None),\n",
              " Row(likes=None),\n",
              " Row(likes=None),\n",
              " Row(likes=6932),\n",
              " Row(likes=9576),\n",
              " Row(likes=2325),\n",
              " Row(likes=23472),\n",
              " Row(likes=84),\n",
              " Row(likes=152975),\n",
              " Row(likes=309),\n",
              " Row(likes=28187),\n",
              " Row(likes=7),\n",
              " Row(likes=1546),\n",
              " Row(likes=91111),\n",
              " Row(likes=6305),\n",
              " Row(likes=21642),\n",
              " Row(likes=3835),\n",
              " Row(likes=5930),\n",
              " Row(likes=455),\n",
              " Row(likes=137819),\n",
              " Row(likes=20489),\n",
              " Row(likes=19),\n",
              " Row(likes=6989),\n",
              " Row(likes=11891),\n",
              " Row(likes=1935),\n",
              " Row(likes=93),\n",
              " Row(likes=2349),\n",
              " Row(likes=4369),\n",
              " Row(likes=1741),\n",
              " Row(likes=1350),\n",
              " Row(likes=252),\n",
              " Row(likes=11251),\n",
              " Row(likes=11933),\n",
              " Row(likes=5140),\n",
              " Row(likes=194199),\n",
              " Row(likes=8895),\n",
              " Row(likes=15887),\n",
              " Row(likes=17988),\n",
              " Row(likes=8451),\n",
              " Row(likes=1445),\n",
              " Row(likes=172379),\n",
              " Row(likes=12958),\n",
              " Row(likes=730),\n",
              " Row(likes=None),\n",
              " Row(likes=None),\n",
              " Row(likes=None),\n",
              " Row(likes=5447),\n",
              " Row(likes=9381),\n",
              " Row(likes=4064),\n",
              " Row(likes=1699),\n",
              " Row(likes=9045),\n",
              " Row(likes=127),\n",
              " Row(likes=147110),\n",
              " Row(likes=15482),\n",
              " Row(likes=2338),\n",
              " Row(likes=8012),\n",
              " Row(likes=2892),\n",
              " Row(likes=716),\n",
              " Row(likes=4934),\n",
              " Row(likes=54),\n",
              " Row(likes=7049),\n",
              " Row(likes=None),\n",
              " Row(likes=None),\n",
              " Row(likes=None),\n",
              " Row(likes=None),\n",
              " Row(likes=None),\n",
              " Row(likes=None),\n",
              " Row(likes=None),\n",
              " Row(likes=None),\n",
              " Row(likes=1814),\n",
              " Row(likes=27632),\n",
              " Row(likes=5855),\n",
              " Row(likes=16946),\n",
              " Row(likes=5320),\n",
              " Row(likes=145),\n",
              " Row(likes=17086),\n",
              " Row(likes=1170),\n",
              " Row(likes=21214),\n",
              " Row(likes=18425),\n",
              " Row(likes=2376),\n",
              " Row(likes=8480),\n",
              " Row(likes=19069),\n",
              " Row(likes=130),\n",
              " Row(likes=9459),\n",
              " Row(likes=143),\n",
              " Row(likes=278),\n",
              " Row(likes=318),\n",
              " Row(likes=2323),\n",
              " Row(likes=423),\n",
              " Row(likes=6345),\n",
              " Row(likes=9431),\n",
              " Row(likes=7010),\n",
              " Row(likes=1679),\n",
              " Row(likes=13613),\n",
              " Row(likes=4345),\n",
              " Row(likes=39),\n",
              " Row(likes=2581),\n",
              " Row(likes=6161),\n",
              " Row(likes=23),\n",
              " Row(likes=83),\n",
              " Row(likes=5012),\n",
              " Row(likes=9905),\n",
              " Row(likes=1801),\n",
              " Row(likes=4511),\n",
              " Row(likes=607),\n",
              " Row(likes=225),\n",
              " Row(likes=4355),\n",
              " Row(likes=154),\n",
              " Row(likes=303),\n",
              " Row(likes=46439),\n",
              " Row(likes=869304),\n",
              " Row(likes=18),\n",
              " Row(likes=4),\n",
              " Row(likes=828),\n",
              " Row(likes=2901),\n",
              " Row(likes=4720),\n",
              " Row(likes=37692),\n",
              " Row(likes=6),\n",
              " Row(likes=769),\n",
              " Row(likes=424406),\n",
              " Row(likes=16467),\n",
              " Row(likes=11),\n",
              " Row(likes=10),\n",
              " Row(likes=6369),\n",
              " Row(likes=106243),\n",
              " Row(likes=4735),\n",
              " Row(likes=280),\n",
              " Row(likes=48),\n",
              " Row(likes=48904),\n",
              " Row(likes=254),\n",
              " Row(likes=233172),\n",
              " Row(likes=182),\n",
              " Row(likes=427),\n",
              " Row(likes=7715),\n",
              " Row(likes=20),\n",
              " Row(likes=139054),\n",
              " Row(likes=1988),\n",
              " Row(likes=10497),\n",
              " Row(likes=8926),\n",
              " Row(likes=121285),\n",
              " Row(likes=77),\n",
              " Row(likes=127412),\n",
              " Row(likes=2691),\n",
              " Row(likes=27121),\n",
              " Row(likes=48511),\n",
              " Row(likes=59673),\n",
              " Row(likes=20371),\n",
              " Row(likes=19),\n",
              " Row(likes=2586),\n",
              " Row(likes=519),\n",
              " Row(likes=1788960),\n",
              " Row(likes=24412),\n",
              " Row(likes=9474),\n",
              " Row(likes=3912),\n",
              " Row(likes=2286),\n",
              " Row(likes=7782),\n",
              " Row(likes=111),\n",
              " Row(likes=2412),\n",
              " Row(likes=3124),\n",
              " Row(likes=115781),\n",
              " Row(likes=460),\n",
              " Row(likes=3869),\n",
              " Row(likes=None),\n",
              " Row(likes=None),\n",
              " Row(likes=None),\n",
              " Row(likes=None),\n",
              " Row(likes=None),\n",
              " Row(likes=17267),\n",
              " Row(likes=9725),\n",
              " Row(likes=15071),\n",
              " Row(likes=75930),\n",
              " Row(likes=57838),\n",
              " Row(likes=1581),\n",
              " Row(likes=379),\n",
              " Row(likes=20085),\n",
              " Row(likes=102726),\n",
              " Row(likes=37129),\n",
              " Row(likes=28119),\n",
              " Row(likes=386),\n",
              " Row(likes=55628),\n",
              " Row(likes=216119),\n",
              " Row(likes=65594),\n",
              " Row(likes=40775),\n",
              " Row(likes=119107),\n",
              " Row(likes=223821),\n",
              " Row(likes=39816),\n",
              " Row(likes=6729),\n",
              " Row(likes=28309),\n",
              " Row(likes=12594),\n",
              " Row(likes=None),\n",
              " Row(likes=None),\n",
              " Row(likes=None),\n",
              " Row(likes=None),\n",
              " Row(likes=135292),\n",
              " Row(likes=88541),\n",
              " Row(likes=281095),\n",
              " Row(likes=None),\n",
              " Row(likes=None),\n",
              " Row(likes=None),\n",
              " Row(likes=None),\n",
              " Row(likes=None),\n",
              " Row(likes=None),\n",
              " Row(likes=None),\n",
              " Row(likes=5666),\n",
              " Row(likes=789750),\n",
              " Row(likes=23207),\n",
              " Row(likes=14355),\n",
              " Row(likes=6593),\n",
              " Row(likes=50946),\n",
              " Row(likes=61075),\n",
              " Row(likes=31301),\n",
              " Row(likes=25840),\n",
              " Row(likes=1326),\n",
              " Row(likes=70960),\n",
              " Row(likes=5474),\n",
              " Row(likes=18816),\n",
              " Row(likes=11492),\n",
              " Row(likes=5155),\n",
              " Row(likes=18022),\n",
              " Row(likes=21013),\n",
              " Row(likes=61484),\n",
              " Row(likes=84669),\n",
              " Row(likes=29135),\n",
              " Row(likes=23939),\n",
              " Row(likes=108),\n",
              " Row(likes=32749),\n",
              " Row(likes=3849),\n",
              " Row(likes=6133),\n",
              " Row(likes=10814),\n",
              " Row(likes=135815),\n",
              " Row(likes=9821),\n",
              " Row(likes=35950),\n",
              " Row(likes=1389),\n",
              " Row(likes=8184),\n",
              " Row(likes=58902),\n",
              " Row(likes=5172),\n",
              " Row(likes=14353),\n",
              " Row(likes=None),\n",
              " Row(likes=None),\n",
              " Row(likes=None),\n",
              " Row(likes=None),\n",
              " Row(likes=None),\n",
              " Row(likes=None),\n",
              " Row(likes=None),\n",
              " Row(likes=None),\n",
              " Row(likes=None),\n",
              " Row(likes=None),\n",
              " Row(likes=None),\n",
              " Row(likes=None),\n",
              " Row(likes=None),\n",
              " Row(likes=None),\n",
              " Row(likes=None),\n",
              " Row(likes=None),\n",
              " Row(likes=None),\n",
              " Row(likes=None),\n",
              " Row(likes=5340),\n",
              " Row(likes=None),\n",
              " Row(likes=None),\n",
              " Row(likes=None),\n",
              " Row(likes=18708),\n",
              " Row(likes=98182),\n",
              " Row(likes=3657),\n",
              " Row(likes=21523),\n",
              " Row(likes=41976),\n",
              " Row(likes=151277),\n",
              " Row(likes=3871),\n",
              " Row(likes=46900),\n",
              " Row(likes=5188),\n",
              " Row(likes=2750),\n",
              " Row(likes=5023),\n",
              " Row(likes=3539),\n",
              " Row(likes=2001),\n",
              " Row(likes=1026),\n",
              " Row(likes=4468),\n",
              " Row(likes=91834),\n",
              " Row(likes=4208),\n",
              " Row(likes=314),\n",
              " Row(likes=1184),\n",
              " Row(likes=28058),\n",
              " Row(likes=38795),\n",
              " Row(likes=365),\n",
              " Row(likes=111),\n",
              " Row(likes=4237),\n",
              " Row(likes=33595),\n",
              " Row(likes=8122),\n",
              " Row(likes=30255),\n",
              " Row(likes=174),\n",
              " Row(likes=204),\n",
              " Row(likes=None),\n",
              " Row(likes=None),\n",
              " Row(likes=None),\n",
              " Row(likes=None),\n",
              " Row(likes=None),\n",
              " Row(likes=None),\n",
              " Row(likes=None),\n",
              " Row(likes=None),\n",
              " Row(likes=None),\n",
              " Row(likes=None),\n",
              " Row(likes=None),\n",
              " Row(likes=None),\n",
              " Row(likes=None),\n",
              " Row(likes=None),\n",
              " Row(likes=None),\n",
              " Row(likes=None),\n",
              " Row(likes=10327),\n",
              " Row(likes=86),\n",
              " Row(likes=370),\n",
              " Row(likes=10),\n",
              " Row(likes=25373),\n",
              " Row(likes=159600),\n",
              " Row(likes=5189),\n",
              " Row(likes=681),\n",
              " Row(likes=4287),\n",
              " Row(likes=29299),\n",
              " Row(likes=2738),\n",
              " Row(likes=7464),\n",
              " Row(likes=6282),\n",
              " Row(likes=1693),\n",
              " Row(likes=92831),\n",
              " Row(likes=22111),\n",
              " Row(likes=921),\n",
              " Row(likes=21174),\n",
              " Row(likes=142006),\n",
              " Row(likes=1623),\n",
              " Row(likes=7229),\n",
              " Row(likes=12694),\n",
              " Row(likes=5906),\n",
              " Row(likes=37),\n",
              " Row(likes=1834),\n",
              " Row(likes=1990),\n",
              " Row(likes=4544),\n",
              " Row(likes=11637),\n",
              " Row(likes=204840),\n",
              " Row(likes=5562),\n",
              " Row(likes=12392),\n",
              " Row(likes=197),\n",
              " Row(likes=10058),\n",
              " Row(likes=10718),\n",
              " Row(likes=16213),\n",
              " Row(likes=18528),\n",
              " Row(likes=14253),\n",
              " Row(likes=206),\n",
              " Row(likes=175762),\n",
              " Row(likes=1572),\n",
              " Row(likes=5591),\n",
              " Row(likes=4288),\n",
              " Row(likes=10079),\n",
              " Row(likes=2023),\n",
              " Row(likes=8593),\n",
              " Row(likes=16242),\n",
              " Row(likes=2366),\n",
              " Row(likes=149105),\n",
              " Row(likes=1932),\n",
              " Row(likes=28677),\n",
              " Row(likes=28200),\n",
              " Row(likes=17313),\n",
              " Row(likes=5954),\n",
              " Row(likes=146),\n",
              " Row(likes=21839),\n",
              " Row(likes=2448),\n",
              " Row(likes=3194),\n",
              " Row(likes=280),\n",
              " Row(likes=8575),\n",
              " Row(likes=18741),\n",
              " Row(likes=1933),\n",
              " Row(likes=6418),\n",
              " Row(likes=5682),\n",
              " Row(likes=9848),\n",
              " Row(likes=1288),\n",
              " Row(likes=58),\n",
              " Row(likes=7193),\n",
              " Row(likes=430),\n",
              " Row(likes=5065),\n",
              " Row(likes=410),\n",
              " Row(likes=92),\n",
              " Row(likes=131),\n",
              " Row(likes=2742),\n",
              " Row(likes=9519),\n",
              " Row(likes=6408),\n",
              " Row(likes=83),\n",
              " Row(likes=5190),\n",
              " Row(likes=13909),\n",
              " Row(likes=10118),\n",
              " Row(likes=3578),\n",
              " Row(likes=4603),\n",
              " Row(likes=4447),\n",
              " Row(likes=243),\n",
              " Row(likes=1941),\n",
              " Row(likes=620),\n",
              " Row(likes=39),\n",
              " Row(likes=230),\n",
              " Row(likes=4455),\n",
              " Row(likes=309),\n",
              " Row(likes=47602),\n",
              " Row(likes=20),\n",
              " Row(likes=891282),\n",
              " Row(likes=4),\n",
              " Row(likes=438470),\n",
              " Row(likes=831),\n",
              " Row(likes=2908),\n",
              " Row(likes=782),\n",
              " Row(likes=292),\n",
              " Row(likes=11),\n",
              " Row(likes=7),\n",
              " Row(likes=4836),\n",
              " Row(likes=38114),\n",
              " Row(likes=10),\n",
              " Row(likes=16805),\n",
              " Row(likes=4782),\n",
              " Row(likes=48),\n",
              " Row(likes=447),\n",
              " Row(likes=261),\n",
              " Row(likes=248909),\n",
              " Row(likes=49509),\n",
              " Row(likes=146732),\n",
              " Row(likes=6466),\n",
              " Row(likes=20),\n",
              " Row(likes=7773),\n",
              " Row(likes=2028),\n",
              " Row(likes=8985),\n",
              " Row(likes=60434),\n",
              " Row(likes=129182),\n",
              " Row(likes=86),\n",
              " Row(likes=8665),\n",
              " Row(likes=52519),\n",
              " Row(likes=76529),\n",
              " Row(likes=20780),\n",
              " Row(likes=2609),\n",
              " Row(likes=22),\n",
              " Row(likes=150015),\n",
              " Row(likes=1002549),\n",
              " Row(likes=94545),\n",
              " Row(likes=16081),\n",
              " Row(likes=89055),\n",
              " Row(likes=61135),\n",
              " ...]"
            ]
          },
          "metadata": {},
          "execution_count": 26
        }
      ]
    },
    {
      "cell_type": "markdown",
      "source": [
        "### Escritura de dataframes"
      ],
      "metadata": {
        "id": "7Kyh21M159er"
      }
    },
    {
      "cell_type": "markdown",
      "source": [
        "#### Spark SQL tiene dos clases principales para leer y escribir datos:\n",
        "\n",
        "SparkSQL tiene dos clases para manejar los Dataframes\n",
        "- DataFrameReader\n",
        "- DataFrameWriter\n",
        "\n",
        "Una instancia de la clase DataFrameWriter está disponible como variable de escritura en la clase DataFrame.\n",
        "\n",
        "El patrón común para interactuar con DataFrameWriter es:\n",
        "\n",
        "df.write.format(...).mode(...).option(...).partitionBy(...).bucketBy(...).sortBy(...).save(path)\n",
        "\n",
        "El formato predeterminado es parquet.\n",
        "\n",
        "Los métodos partitionBy, bucketBy y sortBy se utilizan para controlar la estructura de los directorios de salida en las fuentes de datos basados en archivos.\n",
        "\n",
        "Distintos modos de guardados:\n",
        "\n",
        "- append:\\\n",
        "Agrega los datos del dataframe a la lista de archivos que ya existen en la ubicación de destino especificada.\n",
        "- overwrite:\\\n",
        "Sobreescribe completamente cualquier archivo de datos que ya exista en la ubicación de destino especificada con los datos del dataframe.\n",
        "- error, errorIfExist, default:\\\n",
        "Es el modo por defecto. Si existe la ubicación de destino especificada, DataFrameWriter arrojará un error.\n",
        "- ignore:\\\n",
        "Si existe la ubicación de destino especificada, simplemente no hará nada.\n",
        "\n",
        "\n"
      ],
      "metadata": {
        "id": "zmKR7XO_7oYH"
      }
    },
    {
      "cell_type": "code",
      "source": [
        "# Escritura de DataFrames\n",
        "import findspark\n",
        "findspark.init()\n",
        "from pyspark.sql import SparkSession\n",
        "from pyspark.sql.functions import col\n",
        "\n",
        "spark = SparkSession.builder.getOrCreate()\n",
        "\n",
        "df = spark.read.parquet('datos.parquet')"
      ],
      "metadata": {
        "id": "wC0d5Ixx5-1I"
      },
      "execution_count": null,
      "outputs": []
    },
    {
      "cell_type": "code",
      "source": [
        "df1 = df.repartition(2)"
      ],
      "metadata": {
        "id": "65Hfyrx3Bhpj"
      },
      "execution_count": null,
      "outputs": []
    },
    {
      "cell_type": "code",
      "source": [
        "df1.write.format('csv').option('sep', '|').save('./output/csv')"
      ],
      "metadata": {
        "id": "_bXHdU_iBhVg"
      },
      "execution_count": null,
      "outputs": []
    },
    {
      "cell_type": "code",
      "source": [
        "df1.coalesce(1).write.format('csv').option('sep', '|').save('./output/csv1')"
      ],
      "metadata": {
        "id": "CAB9K3mjBhBF"
      },
      "execution_count": null,
      "outputs": []
    },
    {
      "cell_type": "code",
      "source": [
        "df.printSchema()"
      ],
      "metadata": {
        "id": "9T8VexbsBsRe",
        "colab": {
          "base_uri": "https://localhost:8080/"
        },
        "outputId": "68d662c1-9cab-4a0d-8712-790f00ac2a28"
      },
      "execution_count": null,
      "outputs": [
        {
          "output_type": "stream",
          "name": "stdout",
          "text": [
            "root\n",
            " |-- video_id: string (nullable = true)\n",
            " |-- trending_date: string (nullable = true)\n",
            " |-- title: string (nullable = true)\n",
            " |-- channel_title: string (nullable = true)\n",
            " |-- category_id: string (nullable = true)\n",
            " |-- publish_time: timestamp (nullable = true)\n",
            " |-- tags: string (nullable = true)\n",
            " |-- views: integer (nullable = true)\n",
            " |-- likes: integer (nullable = true)\n",
            " |-- dislikes: integer (nullable = true)\n",
            " |-- comment_count: integer (nullable = true)\n",
            " |-- thumbnail_link: string (nullable = true)\n",
            " |-- comments_disabled: string (nullable = true)\n",
            " |-- ratings_disabled: string (nullable = true)\n",
            " |-- video_error_or_removed: string (nullable = true)\n",
            " |-- description: string (nullable = true)\n",
            "\n"
          ]
        }
      ]
    },
    {
      "cell_type": "code",
      "source": [
        "df.select('comments_disabled').distinct().show()"
      ],
      "metadata": {
        "id": "1xodxMKgBg5k",
        "colab": {
          "base_uri": "https://localhost:8080/"
        },
        "outputId": "8a52fc60-1f64-42a8-fb6a-2713a3fe5174"
      },
      "execution_count": null,
      "outputs": [
        {
          "output_type": "stream",
          "name": "stdout",
          "text": [
            "+-----------------+\n",
            "|comments_disabled|\n",
            "+-----------------+\n",
            "|            False|\n",
            "|             null|\n",
            "| sports and more.|\n",
            "|          Wiz Kid|\n",
            "|             True|\n",
            "|         farfalle|\n",
            "+-----------------+\n",
            "\n"
          ]
        }
      ]
    },
    {
      "cell_type": "code",
      "source": [
        "df_limpio = df.filter(col('comments_disabled').isin('True', 'False'))"
      ],
      "metadata": {
        "id": "KVGvspOFBgyV"
      },
      "execution_count": null,
      "outputs": []
    },
    {
      "cell_type": "code",
      "source": [
        "df_limpio.write.partitionBy('comments_disabled').parquet('./output/parquet')"
      ],
      "metadata": {
        "id": "X_mjutnZBgqT"
      },
      "execution_count": null,
      "outputs": []
    },
    {
      "cell_type": "markdown",
      "source": [
        "### Lectura y escritura en AWS\n",
        "#### Leer y escribir un dataframe en un bucket de AWS S3"
      ],
      "metadata": {
        "id": "IKAJRd7E6Cvd"
      }
    },
    {
      "cell_type": "code",
      "source": [
        "# Instalar SDK java 8\n",
        "!apt-get install openjdk-8-jdk-headless -qq > /dev/null\n",
        "\n",
        "# Descargar Spark\n",
        "!wget -q https://archive.apache.org/dist/spark/spark-3.3.4/spark-3.3.4-bin-hadoop3.tgz\n",
        "\n",
        "# Descomprimir la version de Spark\n",
        "!tar xf spark-3.3.4-bin-hadoop3.tgz\n",
        "\n",
        "# Establecer las variables de entorno\n",
        "import os\n",
        "\n",
        "os.environ[\"JAVA_HOME\"] = \"/usr/lib/jvm/java-8-openjdk-amd64\"\n",
        "os.environ[\"SPARK_HOME\"] = \"/content/spark-3.3.4-bin-hadoop3\"\n",
        "\n",
        "# Descargar findspark\n",
        "!pip install -q findspark\n",
        "\n",
        "# Instalar dotenv para manejar las credenciales\n",
        "!pip install python-dotenv\n",
        "\n",
        "# Extraer las credenciales del archivo .env a un diccionario de Python\n",
        "from dotenv import dotenv_values\n",
        "\n",
        "config = dotenv_values(\".env\")\n",
        "\n",
        "# Crear la sesión de Spark con las configuraciones necesarias para conectarse a AWS S3\n",
        "import findspark\n",
        "findspark.init()\n",
        "from pyspark.sql import SparkSession\n",
        "\n",
        "spark = (SparkSession\n",
        "         .builder\n",
        "         .config(\"spark.jars.packages\", \"org.apache.hadoop:hadoop-aws:3.3.1,com.amazonaws:aws-java-sdk-bundle:1.11.469\")\n",
        "         .config(\"spark.hadoop.fs.s3a.aws.credentials.provider\", \"org.apache.hadoop.fs.s3a.SimpleAWSCredentialsProvider\")\n",
        "         .getOrCreate()\n",
        "         )\n",
        "\n",
        "# Extraer las credenciales del diccionario\n",
        "accessKeyId=config.get('ACCESS_KEY')\n",
        "secretAccessKey=config.get('SECRET_ACCESS_KEY')\n",
        "\n",
        "# Establecer las configuraciones de Hodoop necesarias\n",
        "sc = spark.sparkContext\n",
        "\n",
        "sc._jsc.hadoopConfiguration().set('fs.s3a.access.key', accessKeyId)\n",
        "sc._jsc.hadoopConfiguration().set('fs.s3a.secret.key', secretAccessKey)\n",
        "sc._jsc.hadoopConfiguration().set('fs.s3a.path.style.access', 'true')\n",
        "sc._jsc.hadoopConfiguration().set('fs.s3a.impl', 'org.apache.hadoop.fs.s3a.S3AFileSystem')\n",
        "sc._jsc.hadoopConfiguration().set('fs.s3a.endpoint', 's3.amazonaws.com')\n",
        "\n",
        "df = spark.read.parquet('s3a://NombreBucket/NombreCarpetaLectura')\n",
        "df.show()"
      ],
      "metadata": {
        "id": "NlmP8rfu6DXp"
      },
      "execution_count": null,
      "outputs": []
    },
    {
      "cell_type": "code",
      "source": [
        "# Lectura CSV\n",
        "df1 = spark.read.option('header', 'true').option('inferSchema', 'true').csv('s3a://NombreBucket/NombreCarpetaLectura')\n",
        "df1.show()"
      ],
      "metadata": {
        "id": "vOAUjZX2CGHJ"
      },
      "execution_count": null,
      "outputs": []
    },
    {
      "cell_type": "code",
      "source": [
        "# Escritura CSV\n",
        "df.write.mode('overwrite').parquet('s3a://NombreBucket/NombreCarpetaSalida')"
      ],
      "metadata": {
        "id": "VTBCz4qjCHzH"
      },
      "execution_count": null,
      "outputs": []
    },
    {
      "cell_type": "markdown",
      "source": [
        "### Lectura y escritura en Azure\n",
        "#### Leer y escribir un dataframe en un Blob de Azure"
      ],
      "metadata": {
        "id": "eZWT-39D6Dxm"
      }
    },
    {
      "cell_type": "code",
      "source": [
        "# Instalar SDK java 8\n",
        "!apt-get install openjdk-8-jdk-headless -qq > /dev/null\n",
        "\n",
        "# Descargar Spark\n",
        "!wget -q https://archive.apache.org/dist/spark/spark-3.3.4/spark-3.3.4-bin-hadoop3.tgz\n",
        "\n",
        "# Descomprimir la version de Spark\n",
        "!tar xf spark-3.3.4-bin-hadoop3.tgz\n",
        "\n",
        "# Establecer las variables de entorno\n",
        "import os\n",
        "\n",
        "os.environ[\"JAVA_HOME\"] = \"/usr/lib/jvm/java-8-openjdk-amd64\"\n",
        "os.environ[\"SPARK_HOME\"] = \"/content/spark-3.3.4-bin-hadoop3\"\n",
        "\n",
        "# Descargar findspark\n",
        "!pip install -q findspark\n",
        "\n",
        "# Extraer las credenciales desde los Secrets\n",
        "from google.colab import userdata\n",
        "\n",
        "# Clave de acceso del Blob de Azure, como variable de entorno\n",
        "account_key = userdata.get('ACCOUNT_KEY')\n",
        "\n",
        "# Crear la sesión de Spark\n",
        "import findspark\n",
        "findspark.init()\n",
        "from pyspark.sql import SparkSession\n",
        "\n",
        "spark = (SparkSession.builder\n",
        "         .config(\"spark.jars.packages\", \"org.apache.hadoop:hadoop-azure:3.3.6,com.microsoft.azure:azure-storage:8.6.6\")\n",
        "         .config(\"spark.hadoop.fs.azure.account.key.NombreCuentaAlmacenamiento.blob.core.windows.net\", account_key)\n",
        "         .config(\"spark.hadoop.fs.wasbs.impl\", \"org.apache.hadoop.fs.azure.NativeAzureFileSystem\")\n",
        "         .config(\"spark.hadoop.fs.azure\", \"org.apache.hadoop.fs.azure.NativeAzureFileSystem\")\n",
        "         .getOrCreate())"
      ],
      "metadata": {
        "id": "p3kmrtj06ECj"
      },
      "execution_count": null,
      "outputs": []
    },
    {
      "cell_type": "code",
      "source": [
        "# Lectura parquet\n",
        "df = spark.read.parquet(\"wasbs://spark-data@NombreCuentaAlmacenamiento.blob.core.windows.net/NombreCarpetaLectura\")\n",
        "df.show()"
      ],
      "metadata": {
        "id": "4jS1hq3ZCYpQ"
      },
      "execution_count": null,
      "outputs": []
    },
    {
      "cell_type": "code",
      "source": [
        "# Escritura parquet\n",
        "df.write.mode(\"overwrite\").parquet(\"wasbs://spark-data@NombreCuentaAlmacenamiento.blob.core.windows.net/NombreCarpetaSalida\")"
      ],
      "metadata": {
        "id": "Wqzd90qfCYiR"
      },
      "execution_count": null,
      "outputs": []
    },
    {
      "cell_type": "markdown",
      "source": [
        "### Lectura y escritura en GCP\n",
        "#### Leer y escribir un dataframe en un bucket de GCP"
      ],
      "metadata": {
        "id": "hiM281oK6Ejv"
      }
    },
    {
      "cell_type": "code",
      "source": [
        "# Instalar SDK java 8\n",
        "!apt-get install openjdk-8-jdk-headless -qq > /dev/null\n",
        "\n",
        "# Descargar Spark\n",
        "!wget -q https://archive.apache.org/dist/spark/spark-3.3.4/spark-3.3.4-bin-hadoop3.tgz\n",
        "\n",
        "# Descomprimir la version de Spark\n",
        "!tar xf spark-3.3.4-bin-hadoop3.tgz\n",
        "\n",
        "# Establecer las variables de entorno\n",
        "import os\n",
        "\n",
        "os.environ[\"JAVA_HOME\"] = \"/usr/lib/jvm/java-8-openjdk-amd64\"\n",
        "os.environ[\"SPARK_HOME\"] = \"/content/spark-3.3.4-bin-hadoop3\"\n",
        "\n",
        "# Descargar findspark\n",
        "!pip install -q findspark\n",
        "\n",
        "# Descargar el jar necesario para conectarse al bucket de GCP\n",
        "!wget https://repo1.maven.org/maven2/com/google/cloud/bigdataoss/gcs-connector/hadoop3-2.2.9/gcs-connector-hadoop3-2.2.9-shaded.jar\n",
        "\n",
        "# Mover el jar descargado a la carpeta de jars de Spark\n",
        "!mv gcs-connector-hadoop3-2.2.9-shaded.jar /content/spark-3.4.2-bin-hadoop3/jars\n",
        "\n",
        "# Crear la sesión de Spark\n",
        "import findspark\n",
        "findspark.init()\n",
        "from pyspark.sql import SparkSession\n",
        "\n",
        "spark = (SparkSession.builder\n",
        "         .config(\"spark.hadoop.fs.gs.impl\",\"com.google.cloud.hadoop.fs.gcs.GoogleHadoopFileSystem\")\n",
        "         .config(\"google.cloud.auth.service.account.json.keyfile\",\"/content/pyspark.json\")\n",
        "         .getOrCreate())"
      ],
      "metadata": {
        "id": "tTqsnjZA6E0o"
      },
      "execution_count": null,
      "outputs": []
    },
    {
      "cell_type": "code",
      "source": [
        "# Lectura CSV\n",
        "df1 = spark.read.option('header', 'true').csv('gs://NombreBucket/NombreCarpetaLectura')\n",
        "df1.show()"
      ],
      "metadata": {
        "id": "ygz2iQMnDA9N"
      },
      "execution_count": null,
      "outputs": []
    },
    {
      "cell_type": "code",
      "source": [
        "# Escritura CSV\n",
        "df1.write.mode('overwrite').csv('gs://NombreBucket/NombreCarpetaSalida')"
      ],
      "metadata": {
        "id": "0UFipWU9DA4E"
      },
      "execution_count": null,
      "outputs": []
    },
    {
      "cell_type": "code",
      "source": [
        "# Lectura parquet\n",
        "df = spark.read.parquet('gs://NombreBucket/NombreCarpetaLectura')\n",
        "df.show()"
      ],
      "metadata": {
        "id": "eCeqDvEb08CI"
      },
      "execution_count": null,
      "outputs": []
    },
    {
      "cell_type": "code",
      "source": [
        "# Escritura parquet\n",
        "df.write.mode('overwrite').parquet('gs://NombreBucket/NombreCarpetaSalida')"
      ],
      "metadata": {
        "id": "m9gowNIlDBG9"
      },
      "execution_count": null,
      "outputs": []
    },
    {
      "cell_type": "markdown",
      "source": [
        "### Persistencia de dataframes"
      ],
      "metadata": {
        "id": "XodAtT0L6FU-"
      }
    },
    {
      "cell_type": "code",
      "source": [
        "# Persistencia de DataFrames\n",
        "import findspark\n",
        "findspark.init()\n",
        "from pyspark.sql import SparkSession\n",
        "from pyspark.storagelevel import StorageLevel\n",
        "\n",
        "spark = SparkSession.builder.getOrCreate()\n",
        "\n",
        "df = spark.createDataFrame([(1, 'a'), (2, 'b'), (3, 'c')], ['id', 'valor'])\n",
        "df.show()"
      ],
      "metadata": {
        "id": "Q_67bz6G6FpR",
        "colab": {
          "base_uri": "https://localhost:8080/"
        },
        "outputId": "42b90319-d191-4821-edca-de43c34a3110"
      },
      "execution_count": null,
      "outputs": [
        {
          "output_type": "stream",
          "name": "stdout",
          "text": [
            "+---+-----+\n",
            "| id|valor|\n",
            "+---+-----+\n",
            "|  1|    a|\n",
            "|  2|    b|\n",
            "|  3|    c|\n",
            "+---+-----+\n",
            "\n"
          ]
        }
      ]
    },
    {
      "cell_type": "code",
      "source": [
        "df.persist()"
      ],
      "metadata": {
        "id": "LmL3gC57DZrR",
        "colab": {
          "base_uri": "https://localhost:8080/"
        },
        "outputId": "92304e97-407c-4e18-c2e7-b2fdc632d37a"
      },
      "execution_count": null,
      "outputs": [
        {
          "output_type": "execute_result",
          "data": {
            "text/plain": [
              "DataFrame[id: bigint, valor: string]"
            ]
          },
          "metadata": {},
          "execution_count": 3
        }
      ]
    },
    {
      "cell_type": "code",
      "source": [
        "df.unpersist()"
      ],
      "metadata": {
        "id": "2Yh3dg-pDZjt",
        "colab": {
          "base_uri": "https://localhost:8080/"
        },
        "outputId": "fdae1889-b411-4a64-b6b6-67ef354a3563"
      },
      "execution_count": null,
      "outputs": [
        {
          "output_type": "execute_result",
          "data": {
            "text/plain": [
              "DataFrame[id: bigint, valor: string]"
            ]
          },
          "metadata": {},
          "execution_count": 4
        }
      ]
    },
    {
      "cell_type": "code",
      "source": [
        "df.cache()"
      ],
      "metadata": {
        "id": "PtC2pUaZDZby",
        "colab": {
          "base_uri": "https://localhost:8080/"
        },
        "outputId": "f193ac87-51dd-40ac-89d8-a28b7c223b39"
      },
      "execution_count": null,
      "outputs": [
        {
          "output_type": "execute_result",
          "data": {
            "text/plain": [
              "DataFrame[id: bigint, valor: string]"
            ]
          },
          "metadata": {},
          "execution_count": 5
        }
      ]
    },
    {
      "cell_type": "code",
      "source": [
        "df.persist(StorageLevel.DISK_ONLY)"
      ],
      "metadata": {
        "id": "tCnHqTE0DZUy",
        "colab": {
          "base_uri": "https://localhost:8080/"
        },
        "outputId": "3bf48d7c-ebf1-42b5-b451-075e14909b3d"
      },
      "execution_count": null,
      "outputs": [
        {
          "output_type": "execute_result",
          "data": {
            "text/plain": [
              "DataFrame[id: bigint, valor: string]"
            ]
          },
          "metadata": {},
          "execution_count": 6
        }
      ]
    },
    {
      "cell_type": "code",
      "source": [
        "df.persist(StorageLevel.MEMORY_AND_DISK)"
      ],
      "metadata": {
        "id": "xFc_oTMYDZNu",
        "colab": {
          "base_uri": "https://localhost:8080/"
        },
        "outputId": "b7431276-01df-4748-cb25-e66835ffcdbf"
      },
      "execution_count": null,
      "outputs": [
        {
          "output_type": "execute_result",
          "data": {
            "text/plain": [
              "DataFrame[id: bigint, valor: string]"
            ]
          },
          "metadata": {},
          "execution_count": 7
        }
      ]
    },
    {
      "cell_type": "markdown",
      "source": [
        "### Ejercicios"
      ],
      "metadata": {
        "id": "Ta4D8s6X6bQf"
      }
    },
    {
      "cell_type": "markdown",
      "source": [
        "Los datos adjuntos para estos ejercicios, forman parte de la base de datos [NeurIPS 2020] Data Science for COVID-19 (DS4C) disponible en Kaggle.\\\n",
        "Estos datos, hacen referencia a los casos de contagio de covid-19 en Corea del Sur.\n",
        "\n",
        "- El archivo csv Case contiene los casos reportados y el archivo csv PatientInfo contiene la información de los pacientes.\n",
        "\n",
        "1. A partir del archivo csv Case, determinar las tres ciudades con más casos confirmados de la enfermedad.\n",
        "- La salida debe contener tres columnas: provincia, ciudad y casos confirmados.\n",
        "- El resultado debe contener exactamente los tres nombre de ciudades con más casos confirmados ya que no se admiten otros valores.\n",
        "\n",
        "2. Cree un dataframe a partir del archivo csv PatientInfo.\\\n",
        "Asegúrese de que su dataframe no contenga pacientes duplicados.\n",
        "\n",
        "  a. ¿Cuántos pacientes tienen informado por quién se contagiaron(columna infected_by)?\n",
        "  - Obtener solo los pacientes que tengan informado por quién se contagiaron.\n",
        "\n",
        "  b. A partir de la salida del inciso anterior obtener solo los pacientes femeninos.\n",
        "  - La salida no debe contener las columnas released_date y deceased_date.\n",
        "\n",
        "  c. Establezca el número de particiones del dataframe resultante del inciso anterior en dos.\n",
        "  - Escriba el dataframe resultante en un archivo parquet.\n",
        "  - La salida debe estar particionada por la provincia y el modo de escritura debe ser overwrite."
      ],
      "metadata": {
        "id": "gOijW7HDjhaG"
      }
    },
    {
      "cell_type": "code",
      "source": [
        "import findspark\n",
        "findspark.init()\n",
        "from pyspark.sql import SparkSession\n",
        "\n",
        "spark = SparkSession.builder.getOrCreate()"
      ],
      "metadata": {
        "id": "Cvh-rlMf6brM"
      },
      "execution_count": null,
      "outputs": []
    },
    {
      "cell_type": "code",
      "source": [
        "# 1.\n",
        "casos = spark.read.option('header', 'true').option('inferSchema', 'true').csv('Case.csv')\n",
        "casos.show(5)\n",
        "casos.printSchema()"
      ],
      "metadata": {
        "colab": {
          "base_uri": "https://localhost:8080/"
        },
        "id": "btQSWleWmayK",
        "outputId": "7ec93981-62d9-45a9-de1e-f7f6105013e6"
      },
      "execution_count": null,
      "outputs": [
        {
          "output_type": "stream",
          "name": "stdout",
          "text": [
            "+--------+--------+------------+-----+--------------------+---------+---------+----------+\n",
            "| case_id|province|        city|group|      infection_case|confirmed| latitude| longitude|\n",
            "+--------+--------+------------+-----+--------------------+---------+---------+----------+\n",
            "| 1000001|   Seoul|  Yongsan-gu| true|       Itaewon Clubs|      139|37.538621|126.992652|\n",
            "| 1000002|   Seoul|   Gwanak-gu| true|             Richway|      119| 37.48208|126.901384|\n",
            "| 1000003|   Seoul|     Guro-gu| true| Guro-gu Call Center|       95|37.508163|126.884387|\n",
            "| 1000004|   Seoul|Yangcheon-gu| true|Yangcheon Table T...|       43|37.546061|126.874209|\n",
            "| 1000005|   Seoul|   Dobong-gu| true|     Day Care Center|       43|37.679422|127.044374|\n",
            "+--------+--------+------------+-----+--------------------+---------+---------+----------+\n",
            "only showing top 5 rows\n",
            "\n",
            "root\n",
            " |--  case_id: integer (nullable = true)\n",
            " |-- province: string (nullable = true)\n",
            " |-- city: string (nullable = true)\n",
            " |-- group: boolean (nullable = true)\n",
            " |-- infection_case: string (nullable = true)\n",
            " |-- confirmed: integer (nullable = true)\n",
            " |-- latitude: string (nullable = true)\n",
            " |-- longitude: string (nullable = true)\n",
            "\n"
          ]
        }
      ]
    },
    {
      "cell_type": "code",
      "source": [
        "from pyspark.sql.functions import col, desc\n",
        "\n",
        "casos = casos.withColumnRenamed(' case_id', 'case_id')\n",
        "casos.printSchema()\n",
        "casos.show()"
      ],
      "metadata": {
        "colab": {
          "base_uri": "https://localhost:8080/"
        },
        "id": "7HmssROP6ljo",
        "outputId": "aa89a825-70c9-44e2-a7c5-897d824cc436"
      },
      "execution_count": null,
      "outputs": [
        {
          "output_type": "stream",
          "name": "stdout",
          "text": [
            "root\n",
            " |-- case_id: integer (nullable = true)\n",
            " |-- province: string (nullable = true)\n",
            " |-- city: string (nullable = true)\n",
            " |-- group: boolean (nullable = true)\n",
            " |-- infection_case: string (nullable = true)\n",
            " |-- confirmed: integer (nullable = true)\n",
            " |-- latitude: string (nullable = true)\n",
            " |-- longitude: string (nullable = true)\n",
            "\n",
            "+-------+--------+---------------+-----+--------------------+---------+---------+----------+\n",
            "|case_id|province|           city|group|      infection_case|confirmed| latitude| longitude|\n",
            "+-------+--------+---------------+-----+--------------------+---------+---------+----------+\n",
            "|1000001|   Seoul|     Yongsan-gu| true|       Itaewon Clubs|      139|37.538621|126.992652|\n",
            "|1000002|   Seoul|      Gwanak-gu| true|             Richway|      119| 37.48208|126.901384|\n",
            "|1000003|   Seoul|        Guro-gu| true| Guro-gu Call Center|       95|37.508163|126.884387|\n",
            "|1000004|   Seoul|   Yangcheon-gu| true|Yangcheon Table T...|       43|37.546061|126.874209|\n",
            "|1000005|   Seoul|      Dobong-gu| true|     Day Care Center|       43|37.679422|127.044374|\n",
            "|1000006|   Seoul|        Guro-gu| true|Manmin Central Ch...|       41|37.481059|126.894343|\n",
            "|1000007|   Seoul|from other city| true|SMR Newly Planted...|       36|        -|         -|\n",
            "|1000008|   Seoul|  Dongdaemun-gu| true|       Dongan Church|       17|37.592888|127.056766|\n",
            "|1000009|   Seoul|from other city| true|Coupang Logistics...|       25|        -|         -|\n",
            "|1000010|   Seoul|      Gwanak-gu| true|     Wangsung Church|       30|37.481735|126.930121|\n",
            "|1000011|   Seoul|   Eunpyeong-gu| true|Eunpyeong St. Mar...|       14| 37.63369|  126.9165|\n",
            "|1000012|   Seoul|   Seongdong-gu| true|    Seongdong-gu APT|       13| 37.55713|  127.0403|\n",
            "|1000013|   Seoul|      Jongno-gu| true|Jongno Community ...|       10| 37.57681|   127.006|\n",
            "|1000014|   Seoul|     Gangnam-gu| true|Samsung Medical C...|        7| 37.48825| 127.08559|\n",
            "|1000015|   Seoul|        Jung-gu| true|Jung-gu Fashion C...|        7|37.562405|126.984377|\n",
            "|1000016|   Seoul|   Seodaemun-gu| true|  Yeonana News Class|        5|37.558147|126.943799|\n",
            "|1000017|   Seoul|      Jongno-gu| true|Korea Campus Crus...|        7|37.594782|126.968022|\n",
            "|1000018|   Seoul|     Gangnam-gu| true|Gangnam Yeoksam-d...|        6|        -|         -|\n",
            "|1000019|   Seoul|from other city| true|Daejeon door-to-d...|        1|        -|         -|\n",
            "|1000020|   Seoul|   Geumcheon-gu| true|Geumcheon-gu rice...|        6|        -|         -|\n",
            "+-------+--------+---------------+-----+--------------------+---------+---------+----------+\n",
            "only showing top 20 rows\n",
            "\n"
          ]
        }
      ]
    },
    {
      "cell_type": "code",
      "source": [
        "casos.filter((col('city') != '-') & (col('city') != 'from other city')).orderBy(desc('confirmed')).select('province', 'city', 'confirmed').show()"
      ],
      "metadata": {
        "colab": {
          "base_uri": "https://localhost:8080/"
        },
        "id": "K2GyjjqL8VB1",
        "outputId": "c94916fd-e94e-4864-d4e3-41bcf683f6ee"
      },
      "execution_count": null,
      "outputs": [
        {
          "output_type": "stream",
          "name": "stdout",
          "text": [
            "+-----------------+------------+---------+\n",
            "|         province|        city|confirmed|\n",
            "+-----------------+------------+---------+\n",
            "|            Daegu|      Nam-gu|     4511|\n",
            "|            Daegu|Dalseong-gun|      196|\n",
            "|            Seoul|  Yongsan-gu|      139|\n",
            "|            Daegu|      Seo-gu|      124|\n",
            "|            Seoul|   Gwanak-gu|      119|\n",
            "| Gyeongsangbuk-do|Cheongdo-gun|      119|\n",
            "|Chungcheongnam-do|  Cheonan-si|      103|\n",
            "|            Daegu|Dalseong-gun|      101|\n",
            "|            Seoul|     Guro-gu|       95|\n",
            "| Gyeongsangbuk-do| Bonghwa-gun|       68|\n",
            "|      Gyeonggi-do|  Bucheon-si|       67|\n",
            "|      Gyeonggi-do| Seongnam-si|       67|\n",
            "| Gyeongsangbuk-do|Gyeongsan-si|       66|\n",
            "|      Gyeonggi-do|Uijeongbu-si|       50|\n",
            "|            Seoul|Yangcheon-gu|       43|\n",
            "|            Seoul|   Dobong-gu|       43|\n",
            "|            Seoul|     Guro-gu|       41|\n",
            "| Gyeongsangbuk-do|  Yechun-gun|       40|\n",
            "|            Busan|  Dongnae-gu|       39|\n",
            "|            Daegu|     Dong-gu|       39|\n",
            "+-----------------+------------+---------+\n",
            "only showing top 20 rows\n",
            "\n"
          ]
        }
      ]
    },
    {
      "cell_type": "code",
      "source": [
        "# 2.\n",
        "pacientes_info = spark.read.option('header', 'true').option('inferSchema', 'true').csv('PatientInfo.csv')\n",
        "pacientes_info.show(5)\n",
        "pacientes_info.printSchema()"
      ],
      "metadata": {
        "colab": {
          "base_uri": "https://localhost:8080/"
        },
        "id": "sBuFl5vBvKGi",
        "outputId": "238976ff-8177-4be6-90cf-550113863e44"
      },
      "execution_count": null,
      "outputs": [
        {
          "output_type": "stream",
          "name": "stdout",
          "text": [
            "+----------+------+---+-------+--------+-----------+--------------------+-----------+--------------+------------------+--------------+-------------+-------------+--------+\n",
            "|patient_id|   sex|age|country|province|       city|      infection_case|infected_by|contact_number|symptom_onset_date|confirmed_date|released_date|deceased_date|   state|\n",
            "+----------+------+---+-------+--------+-----------+--------------------+-----------+--------------+------------------+--------------+-------------+-------------+--------+\n",
            "|1000000001|  male|50s|  Korea|   Seoul| Gangseo-gu|     overseas inflow|       null|            75|        2020-01-22|    2020-01-23|   2020-02-05|         null|released|\n",
            "|1000000002|  male|30s|  Korea|   Seoul|Jungnang-gu|     overseas inflow|       null|            31|              null|    2020-01-30|   2020-03-02|         null|released|\n",
            "|1000000003|  male|50s|  Korea|   Seoul|  Jongno-gu|contact with patient| 2002000001|            17|              null|    2020-01-30|   2020-02-19|         null|released|\n",
            "|1000000004|  male|20s|  Korea|   Seoul|    Mapo-gu|     overseas inflow|       null|             9|        2020-01-26|    2020-01-30|   2020-02-15|         null|released|\n",
            "|1000000005|female|20s|  Korea|   Seoul|Seongbuk-gu|contact with patient| 1000000002|             2|              null|    2020-01-31|   2020-02-24|         null|released|\n",
            "+----------+------+---+-------+--------+-----------+--------------------+-----------+--------------+------------------+--------------+-------------+-------------+--------+\n",
            "only showing top 5 rows\n",
            "\n",
            "root\n",
            " |-- patient_id: long (nullable = true)\n",
            " |-- sex: string (nullable = true)\n",
            " |-- age: string (nullable = true)\n",
            " |-- country: string (nullable = true)\n",
            " |-- province: string (nullable = true)\n",
            " |-- city: string (nullable = true)\n",
            " |-- infection_case: string (nullable = true)\n",
            " |-- infected_by: string (nullable = true)\n",
            " |-- contact_number: string (nullable = true)\n",
            " |-- symptom_onset_date: string (nullable = true)\n",
            " |-- confirmed_date: string (nullable = true)\n",
            " |-- released_date: string (nullable = true)\n",
            " |-- deceased_date: string (nullable = true)\n",
            " |-- state: string (nullable = true)\n",
            "\n"
          ]
        }
      ]
    },
    {
      "cell_type": "code",
      "source": [
        "pacientes_info.select(col('patient_id')).count()"
      ],
      "metadata": {
        "id": "H0iA5Is96lda",
        "colab": {
          "base_uri": "https://localhost:8080/"
        },
        "outputId": "18c5570f-02a8-4774-b691-7a399bb306e3"
      },
      "execution_count": null,
      "outputs": [
        {
          "output_type": "execute_result",
          "data": {
            "text/plain": [
              "5165"
            ]
          },
          "metadata": {},
          "execution_count": 7
        }
      ]
    },
    {
      "cell_type": "code",
      "source": [
        "pacientes_info.select(col('patient_id')).distinct().count()"
      ],
      "metadata": {
        "id": "5x3mqPaJ6lU9",
        "colab": {
          "base_uri": "https://localhost:8080/"
        },
        "outputId": "c9f28862-49ba-4433-d984-144267fcd6db"
      },
      "execution_count": null,
      "outputs": [
        {
          "output_type": "execute_result",
          "data": {
            "text/plain": [
              "5164"
            ]
          },
          "metadata": {},
          "execution_count": 8
        }
      ]
    },
    {
      "cell_type": "code",
      "source": [
        "pacientes_info = pacientes_info.dropDuplicates(['patient_id'])\n",
        "pacientes_info.count()"
      ],
      "metadata": {
        "colab": {
          "base_uri": "https://localhost:8080/"
        },
        "id": "vO06fBxqvxw-",
        "outputId": "2a2e126f-bf3e-4f36-bb9e-c49b56657969"
      },
      "execution_count": null,
      "outputs": [
        {
          "output_type": "execute_result",
          "data": {
            "text/plain": [
              "5164"
            ]
          },
          "metadata": {},
          "execution_count": 9
        }
      ]
    },
    {
      "cell_type": "code",
      "source": [
        "# 2 a.\n",
        "from pyspark.sql.functions import count\n",
        "\n",
        "pacientes_info.select(count('infected_by').alias('conteo')).show()"
      ],
      "metadata": {
        "colab": {
          "base_uri": "https://localhost:8080/"
        },
        "id": "h9fiQOH0wFZF",
        "outputId": "396a8802-be37-46fe-8fff-1ebf85fcef6b"
      },
      "execution_count": null,
      "outputs": [
        {
          "output_type": "stream",
          "name": "stdout",
          "text": [
            "+------+\n",
            "|conteo|\n",
            "+------+\n",
            "|  1346|\n",
            "+------+\n",
            "\n"
          ]
        }
      ]
    },
    {
      "cell_type": "code",
      "source": [
        "pacientes_info_contagios = pacientes_info.na.drop(subset=['infected_by'])\n",
        "pacientes_info_contagios.count()"
      ],
      "metadata": {
        "colab": {
          "base_uri": "https://localhost:8080/"
        },
        "id": "q_2J3Zx7xbrW",
        "outputId": "5d359007-51cb-4b99-f58d-8b34308dd471"
      },
      "execution_count": null,
      "outputs": [
        {
          "output_type": "execute_result",
          "data": {
            "text/plain": [
              "1346"
            ]
          },
          "metadata": {},
          "execution_count": 11
        }
      ]
    },
    {
      "cell_type": "code",
      "source": [
        "pacientes_info_contagios.show()"
      ],
      "metadata": {
        "colab": {
          "base_uri": "https://localhost:8080/"
        },
        "id": "J03PEJAZxbb_",
        "outputId": "7634c125-861c-42df-ffee-290f6b580f77"
      },
      "execution_count": null,
      "outputs": [
        {
          "output_type": "stream",
          "name": "stdout",
          "text": [
            "+----------+------+---+-------+--------+------------+--------------------+-----------+--------------+------------------+--------------+-------------+-------------+--------+\n",
            "|patient_id|   sex|age|country|province|        city|      infection_case|infected_by|contact_number|symptom_onset_date|confirmed_date|released_date|deceased_date|   state|\n",
            "+----------+------+---+-------+--------+------------+--------------------+-----------+--------------+------------------+--------------+-------------+-------------+--------+\n",
            "|1000000003|  male|50s|  Korea|   Seoul|   Jongno-gu|contact with patient| 2002000001|            17|              null|    2020-01-30|   2020-02-19|         null|released|\n",
            "|1000000005|female|20s|  Korea|   Seoul| Seongbuk-gu|contact with patient| 1000000002|             2|              null|    2020-01-31|   2020-02-24|         null|released|\n",
            "|1000000006|female|50s|  Korea|   Seoul|   Jongno-gu|contact with patient| 1000000003|            43|              null|    2020-01-31|   2020-02-19|         null|released|\n",
            "|1000000007|  male|20s|  Korea|   Seoul|   Jongno-gu|contact with patient| 1000000003|             0|              null|    2020-01-31|   2020-02-10|         null|released|\n",
            "|1000000010|female|60s|  Korea|   Seoul| Seongbuk-gu|contact with patient| 1000000003|             6|              null|    2020-02-05|   2020-02-29|         null|released|\n",
            "|1000000013|  male|80s|  Korea|   Seoul|   Jongno-gu|contact with patient| 1000000017|           117|              null|    2020-02-16|         null|         null|deceased|\n",
            "|1000000014|female|60s|  Korea|   Seoul|   Jongno-gu|contact with patient| 1000000013|            27|        2020-02-06|    2020-02-16|   2020-03-12|         null|released|\n",
            "|1000000016|  male|70s|  Korea|   Seoul|   Jongno-gu|contact with patient| 1000000017|          null|              null|    2020-02-19|   2020-03-11|         null|released|\n",
            "|1000000017|  male|70s|  Korea|   Seoul|   Jongno-gu|contact with patient| 1000000003|          null|              null|    2020-02-20|   2020-03-01|         null|released|\n",
            "|1000000019|female|70s|  Korea|   Seoul|   Jongno-gu|contact with patient| 1000000021|          null|              null|    2020-02-20|   2020-03-08|         null|released|\n",
            "|1000000020|female|70s|  Korea|   Seoul|Seongdong-gu|    Seongdong-gu APT| 1000000015|          null|              null|    2020-02-20|         null|         null|released|\n",
            "|1000000021|  male|80s|  Korea|   Seoul|   Jongno-gu|contact with patient| 1000000016|          null|              null|    2020-02-20|   2020-03-08|         null|released|\n",
            "|1000000025|  male|60s|  Korea|   Seoul| Gangdong-gu|Eunpyeong St. Mar...| 1000000022|          null|              null|    2020-02-22|         null|         null|released|\n",
            "|1000000029|female|20s|  Korea|   Seoul|   Jongno-gu|Eunpyeong St. Mar...| 1000000028|          null|        2020-02-11|    2020-02-26|   2020-03-11|         null|released|\n",
            "|1000000033|female|50s|  Korea|   Seoul|   Songpa-gu|contact with patient| 1000000031|          null|              null|    2020-02-24|   2020-03-10|         null|released|\n",
            "|1000000034|  male|20s|  Korea|   Seoul|   Songpa-gu|contact with patient| 1000000031|          null|              null|    2020-02-24|   2020-03-17|         null|released|\n",
            "|1000000037|female|40s|  Korea|   Seoul|   Songpa-gu|contact with patient| 1000000031|          null|              null|    2020-02-25|   2020-03-11|         null|released|\n",
            "|1000000040|female|60s|  Korea|   Seoul|   Gwanak-gu|     overseas inflow| 1500000002|          null|              null|    2020-02-25|         null|         null|released|\n",
            "|1000000045|  male|40s|  Korea|   Seoul|   Songpa-gu|contact with patient| 1000000033|          null|              null|    2020-02-26|   2020-03-04|         null|released|\n",
            "|1000000046|female|20s|  Korea|   Seoul|         etc|contact with patient| 1000000041|          null|              null|    2020-02-26|   2020-03-03|         null|released|\n",
            "+----------+------+---+-------+--------+------------+--------------------+-----------+--------------+------------------+--------------+-------------+-------------+--------+\n",
            "only showing top 20 rows\n",
            "\n"
          ]
        }
      ]
    },
    {
      "cell_type": "code",
      "source": [
        "# 2 b.\n",
        "final_df = pacientes_info_contagios.filter((col('sex') == 'female') & (col('sex').isNotNull())).drop('released_date', 'deceased_date')\n",
        "final_df.show()"
      ],
      "metadata": {
        "id": "ls84o7kFyMGv",
        "colab": {
          "base_uri": "https://localhost:8080/"
        },
        "outputId": "aa99667d-7a15-4f37-f820-1fbde5882846"
      },
      "execution_count": null,
      "outputs": [
        {
          "output_type": "stream",
          "name": "stdout",
          "text": [
            "+----------+------+---+-------+--------+-------------+--------------------+-----------+--------------+------------------+--------------+--------+\n",
            "|patient_id|   sex|age|country|province|         city|      infection_case|infected_by|contact_number|symptom_onset_date|confirmed_date|   state|\n",
            "+----------+------+---+-------+--------+-------------+--------------------+-----------+--------------+------------------+--------------+--------+\n",
            "|1000000005|female|20s|  Korea|   Seoul|  Seongbuk-gu|contact with patient| 1000000002|             2|              null|    2020-01-31|released|\n",
            "|1000000006|female|50s|  Korea|   Seoul|    Jongno-gu|contact with patient| 1000000003|            43|              null|    2020-01-31|released|\n",
            "|1000000010|female|60s|  Korea|   Seoul|  Seongbuk-gu|contact with patient| 1000000003|             6|              null|    2020-02-05|released|\n",
            "|1000000014|female|60s|  Korea|   Seoul|    Jongno-gu|contact with patient| 1000000013|            27|        2020-02-06|    2020-02-16|released|\n",
            "|1000000019|female|70s|  Korea|   Seoul|    Jongno-gu|contact with patient| 1000000021|          null|              null|    2020-02-20|released|\n",
            "|1000000020|female|70s|  Korea|   Seoul| Seongdong-gu|    Seongdong-gu APT| 1000000015|          null|              null|    2020-02-20|released|\n",
            "|1000000029|female|20s|  Korea|   Seoul|    Jongno-gu|Eunpyeong St. Mar...| 1000000028|          null|        2020-02-11|    2020-02-26|released|\n",
            "|1000000033|female|50s|  Korea|   Seoul|    Songpa-gu|contact with patient| 1000000031|          null|              null|    2020-02-24|released|\n",
            "|1000000037|female|40s|  Korea|   Seoul|    Songpa-gu|contact with patient| 1000000031|          null|              null|    2020-02-25|released|\n",
            "|1000000040|female|60s|  Korea|   Seoul|    Gwanak-gu|     overseas inflow| 1500000002|          null|              null|    2020-02-25|released|\n",
            "|1000000046|female|20s|  Korea|   Seoul|          etc|contact with patient| 1000000041|          null|              null|    2020-02-26|released|\n",
            "|1000000053|female|40s|  Korea|   Seoul| Eunpyeong-gu|Eunpyeong St. Mar...| 1000000054|          null|        2020-02-25|    2020-02-27|released|\n",
            "|1000000059|female|60s|  Korea|   Seoul| Eunpyeong-gu|Eunpyeong St. Mar...| 1000000060|          null|              null|    2020-02-28|released|\n",
            "|1000000064|female|30s|  Korea|   Seoul|   Gangnam-gu|contact with patient| 1000000047|          null|        2020-02-26|    2020-02-29|released|\n",
            "|1000000067|female|20s|  Korea|   Seoul|    Songpa-gu|contact with patient| 1000000033|          null|              null|    2020-02-29|released|\n",
            "|1000000113|female|60s|  Korea|   Seoul|   Gangbuk-gu|contact with patient| 1000000111|          null|        2020-02-24|    2020-03-06|released|\n",
            "|1000000114|female|20s|  Korea|   Seoul| Yangcheon-gu|contact with patient| 1000000115|          null|              null|    2020-03-07|released|\n",
            "|1000000121|female| 0s|  Korea|   Seoul|Dongdaemun-gu|contact with patient| 1000000120|          null|        2020-03-04|    2020-03-08|released|\n",
            "|1000000126|female|30s|  Korea|   Seoul|Dongdaemun-gu|contact with patient| 1000000120|          null|        2020-03-04|    2020-03-08|released|\n",
            "|1000000129|female|60s|  Korea|   Seoul|Dongdaemun-gu|contact with patient| 1000000120|          null|              null|    2020-03-08|released|\n",
            "+----------+------+---+-------+--------+-------------+--------------------+-----------+--------------+------------------+--------------+--------+\n",
            "only showing top 20 rows\n",
            "\n"
          ]
        }
      ]
    },
    {
      "cell_type": "code",
      "source": [
        "# 2 c.\n",
        "final_df.coalesce(2).write.partitionBy('province').mode('overwrite').parquet('./data/salida')"
      ],
      "metadata": {
        "id": "0C3EUgYoyMAf"
      },
      "execution_count": null,
      "outputs": []
    },
    {
      "cell_type": "markdown",
      "metadata": {
        "id": "d93Xay9kA95I"
      },
      "source": [
        "-----------\n",
        "## Fin Notebook\n",
        "-----------"
      ]
    }
  ],
  "metadata": {
    "colab": {
      "collapsed_sections": [
        "_zJeZZqpJu73",
        "LccNQX8WMBtl",
        "Jz_8wAjF-CZL",
        "q5eOVSiKAhWl",
        "AONlSDOoxVza",
        "3HYKvYDfxkkF",
        "aMowH838zAg-",
        "NtTo8TzaIfoU",
        "pEkCgGOW1WF3",
        "fQFIkacK1q-p",
        "SGDsLACt11Cy",
        "PM5r13Xy2Jg2",
        "z0fseZtm2Ojd",
        "cMzjqaqw4zET",
        "3ev9NTdP40P-",
        "hMn1H_5B40-i",
        "sv-Wjy7a41sK",
        "JxtHlLfX5dDh",
        "dNxdKTPc5gwW",
        "tuC-i9NC5hhl",
        "BXFU-VIW5r70",
        "xmTSAMRa520e",
        "7Kyh21M159er",
        "zmKR7XO_7oYH",
        "IKAJRd7E6Cvd",
        "eZWT-39D6Dxm",
        "hiM281oK6Ejv",
        "XodAtT0L6FU-",
        "Ta4D8s6X6bQf"
      ],
      "provenance": []
    },
    "kernelspec": {
      "display_name": "Python 3",
      "name": "python3"
    },
    "language_info": {
      "name": "python"
    }
  },
  "nbformat": 4,
  "nbformat_minor": 0
}